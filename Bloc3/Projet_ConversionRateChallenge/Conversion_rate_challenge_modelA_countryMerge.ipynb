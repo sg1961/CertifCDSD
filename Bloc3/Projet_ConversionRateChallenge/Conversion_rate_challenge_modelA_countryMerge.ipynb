{
 "cells": [
  {
   "cell_type": "markdown",
   "metadata": {},
   "source": [
    "# Projet : Conversion Rate Challenge 🏆\n",
    "# Approche 1 : Traitement ensemble des pays\n",
    "# Modèles : Logistic Regression, SVM, Decision Tree Classifier, Random Forest Classifier\n"
   ]
  },
  {
   "cell_type": "markdown",
   "metadata": {},
   "source": [
    "## Import des modules"
   ]
  },
  {
   "cell_type": "code",
   "execution_count": null,
   "metadata": {
    "colab": {},
    "colab_type": "code",
    "id": "AGhdl7Bt2xZd"
   },
   "outputs": [],
   "source": [
    "import pandas as pd\n",
    "import numpy as np\n",
    "from sklearn.model_selection import train_test_split, GridSearchCV\n",
    "from sklearn.pipeline import Pipeline\n",
    "from sklearn.preprocessing import StandardScaler, OneHotEncoder\n",
    "from sklearn.compose import ColumnTransformer\n",
    "from sklearn.tree import DecisionTreeClassifier\n",
    "from sklearn.linear_model import LogisticRegression\n",
    "from sklearn.ensemble import RandomForestClassifier\n",
    "from sklearn.metrics import f1_score, confusion_matrix, accuracy_score\n",
    "from sklearn import svm"
   ]
  },
  {
   "cell_type": "markdown",
   "metadata": {
    "colab_type": "text",
    "id": "LHgro65rxKF7"
   },
   "source": [
    "## Chargement des données"
   ]
  },
  {
   "cell_type": "code",
   "execution_count": null,
   "metadata": {
    "colab": {
     "base_uri": "https://localhost:8080/",
     "height": 34
    },
    "colab_type": "code",
    "id": "W1AU8AH8u0qd",
    "outputId": "00698a97-027b-493b-a2e4-33fdcc295abb"
   },
   "outputs": [
    {
     "name": "stdout",
     "output_type": "stream",
     "text": [
      "Set with labels (our train) : (284580, 6)\n"
     ]
    }
   ],
   "source": [
    "data = pd.read_csv('./data/conversion_data_train.csv')\n",
    "print('Set with labels (our train) :', data.shape)"
   ]
  },
  {
   "cell_type": "markdown",
   "metadata": {
    "colab_type": "text",
    "id": "0XwjKBc63B1n"
   },
   "source": [
    "## Suppression outlers"
   ]
  },
  {
   "cell_type": "code",
   "execution_count": 13,
   "metadata": {},
   "outputs": [],
   "source": [
    "# suppression lignes avec age >= XX\n",
    "data = data[data[\"age\"] < 100]"
   ]
  },
  {
   "cell_type": "markdown",
   "metadata": {
    "colab_type": "text",
    "id": "70MwsoCS3QD5"
   },
   "source": [
    "## Entrainement des Modèles : Logistic Regression, SVM, Decision Tree Classifier, Random Forest Classifier"
   ]
  },
  {
   "cell_type": "code",
   "execution_count": 14,
   "metadata": {},
   "outputs": [],
   "source": [
    "def best_prob_f1score(y_prob, y_real, seuil_step) :\n",
    "    best_seuil = 0.5\n",
    "    best_y_pred = np.array([0 if p[0] > best_seuil else 1 for p in y_prob])\n",
    "    best_f1_score = f1_score(y_real, best_y_pred)\n",
    "\n",
    "    \n",
    "    for seuil in np.arange(0, 1, seuil_step) :\n",
    "        y_pred = np.array([0 if p[0] > seuil else 1 for p in y_prob])\n",
    "        seuil_f1_score = f1_score(y_real, y_pred)\n",
    "        if seuil_f1_score > best_f1_score :\n",
    "            best_seuil = seuil\n",
    "            best_f1_score = seuil_f1_score\n",
    "            best_y_pred = y_pred\n",
    "\n",
    "    return (best_seuil, best_f1_score, best_y_pred)"
   ]
  },
  {
   "cell_type": "code",
   "execution_count": 19,
   "metadata": {
    "colab": {
     "base_uri": "https://localhost:8080/",
     "height": 67
    },
    "colab_type": "code",
    "id": "W8K5DQEvvQgl",
    "outputId": "d280ebc9-4d4b-4723-b9fe-32513f898abc"
   },
   "outputs": [
    {
     "name": "stdout",
     "output_type": "stream",
     "text": [
      "\n",
      "*** Modèle : V01A : Logistic Regression\n",
      "\n",
      "\n",
      "accuracy - train 0.9861247766109115\n",
      "f1 score - train 0.7750284877095881\n",
      "\n",
      "accuracy - test 0.9853585400707475\n",
      "f1 score - test 0.7602608362102034\n",
      "\n",
      "[[192041    738]\n",
      " [  1969   4456]]\n",
      "[[82142   479]\n",
      " [  771  1982]]\n",
      "\n",
      "*** Modèle : V02A : SVM\n",
      "\n",
      "\n",
      "accuracy - train 0.9859139374711351\n",
      "f1 score - train 0.7738191197807512\n",
      "\n",
      "accuracy - test 0.9850305713683323\n",
      "f1 score - test 0.7571265678449259\n",
      "\n",
      "[[192286    493]\n",
      " [  2298   4127]]\n",
      "[[82104   517]\n",
      " [  761  1992]]\n",
      "\n",
      "*** Modèle : V03A : Decision Tree Classifier\n",
      "\n",
      "Fitting 5 folds for each of 27 candidates, totalling 135 fits\n",
      "\n",
      "accuracy - train 0.9868175337844621\n",
      "f1 score - train 0.7903225806451613\n",
      "\n",
      "accuracy - test 0.9841286574366903\n",
      "f1 score - test 0.7440015114301908\n",
      "\n",
      "[[192140    639]\n",
      " [  1897   4528]]\n",
      "[[82050   571]\n",
      " [  784  1969]]\n",
      "\n",
      "*** Modèle : V04A : Random Forest Classifier\n",
      "\n",
      "Fitting 5 folds for each of 1 candidates, totalling 5 fits\n",
      "\n",
      "accuracy - train 0.9868878134977209\n",
      "f1 score - train 0.7842748595969606\n",
      "\n",
      "accuracy - test 0.9853351137348607\n",
      "f1 score - test 0.7562305295950156\n",
      "\n",
      "[[192144    635]\n",
      " [  1940   4485]]\n",
      "[[82180   441]\n",
      " [  811  1942]]\n"
     ]
    }
   ],
   "source": [
    "# Les modèles testés\n",
    "models = ((\"V01A\", \"Logistic Regression\"),\n",
    "          (\"V02A\", \"SVM\"),\n",
    "          (\"V03A\", \"Decision Tree Classifier\"),\n",
    "          (\"V04A\", \"Random Forest Classifier\")\n",
    "        )\n",
    "\n",
    "# initialisation dataframe pour tracer le résultat des différents modèles\n",
    "df_result = pd.DataFrame(columns = [\"Version\", \"Modèle\", \"f1Score_train\", \"f1Score_test\"])\n",
    "\n",
    "\n",
    "for model in models :\n",
    "    print(\"\\n*** Modèle : \" + model[0] + \" : \" + model[1] + \"\\n\")\n",
    "\n",
    "    num_features = [\"age\", \"total_pages_visited\"]\n",
    "    cat_features = [\"source\", \"new_user\", \"country\"]\n",
    "    features_list = num_features + cat_features\n",
    "    target_variable = 'converted'\n",
    "\n",
    "    dataset = data\n",
    "    X = dataset.loc[:, features_list]\n",
    "    Y = dataset.loc[:, target_variable]\n",
    "\n",
    "    X_train, X_test, Y_train, Y_test = train_test_split(X, Y, test_size=0.3, stratify=Y ,random_state=27)\n",
    "\n",
    "    numeric_transformer = Pipeline(steps=[(\"scaler\", StandardScaler()),])\n",
    "    categorical_transformer = Pipeline(steps=[(\"encoder\", OneHotEncoder(drop=\"first\")),])\n",
    "    preprocessor = ColumnTransformer(transformers=[\n",
    "            (\"num\", numeric_transformer, num_features),\n",
    "            (\"cat\", categorical_transformer, cat_features),\n",
    "        ]\n",
    "    )\n",
    "\n",
    "    X_train = preprocessor.fit_transform(X_train)\n",
    "    X_test = preprocessor.transform(X_test)\n",
    "\n",
    "    # Logistic Regression\n",
    "    if model[0] ==  \"V01A\" :\n",
    "        classifier = LogisticRegression(penalty='l1', solver='saga', max_iter=1000)\n",
    "        classifier.fit(X_train, Y_train)\n",
    "\n",
    "    # SVM\n",
    "    if model[0] ==  \"V02A\" :\n",
    "        classifier = svm.SVC(kernel=\"poly\", probability=True, C=10, random_state=42)\n",
    "        classifier.fit(X_train, Y_train)\n",
    "\n",
    "    # Decision Tree Classifier\n",
    "    if model[0] ==  \"V03A\" :\n",
    "        # model = DecisionTreeClassifier()\n",
    "        params = {\n",
    "            'max_depth':[12, 14, 16],\n",
    "            'min_samples_split':[14,18,22],\n",
    "            'min_samples_leaf':[4,6,8]\n",
    "        }\n",
    "        gridsearch = GridSearchCV(DecisionTreeClassifier(), param_grid = params, scoring='f1', cv=5, verbose=1)\n",
    "        gridsearch.fit(X_train, Y_train)\n",
    "        classifier = gridsearch.best_estimator_\n",
    "\n",
    "\n",
    "    # Random Forest Classifier\n",
    "    if model[0] ==  \"V04A\" :\n",
    "        # model = RandomForestClassifier()\n",
    "        params={\n",
    "            'max_depth':[9],\n",
    "            'min_samples_split':[9],\n",
    "            'n_estimators':[40]\n",
    "        }\n",
    "        gridsearch = GridSearchCV(RandomForestClassifier(), param_grid = params, scoring='f1', cv=5, verbose=1)\n",
    "        gridsearch.fit(X_train, Y_train)\n",
    "        classifier = gridsearch.best_estimator_\n",
    "\n",
    "\n",
    "    # Predictions on training set\n",
    "    Y_train_pred = classifier.predict(X_train)\n",
    "    Y_train_prob = classifier.predict_proba(X_train)\n",
    "\n",
    "    # Predictions on test set\n",
    "    Y_test_pred = classifier.predict(X_test)\n",
    "    Y_test_prob = classifier.predict_proba(X_test)\n",
    "\n",
    "    (best_seuil, best_f1_score_train, best_y_pred) = best_prob_f1score(Y_train_prob, Y_train, .001)\n",
    "\n",
    "    Y_test_pred = [0 if p[0] > best_seuil else 1 for p in Y_test_prob]\n",
    "    f1_score_test = f1_score(np.array(Y_test), np.array(Y_test_pred))\n",
    "\n",
    "    print()\n",
    "    print(\"accuracy - train\", accuracy_score(np.array(Y_train), np.array(best_y_pred)))\n",
    "    print(\"f1 score - train\", best_f1_score_train)\n",
    "    print()\n",
    "    print(\"accuracy - test\", accuracy_score(np.array(Y_test), np.array(Y_test_pred)))\n",
    "    print(\"f1 score - test\", f1_score(np.array(Y_test), np.array(Y_test_pred)))\n",
    "\n",
    "    print()\n",
    "    print(confusion_matrix(np.array(Y_train), np.array(Y_train_pred)))\n",
    "    print(confusion_matrix(np.array(Y_test), np.array(Y_test_pred)))\n",
    "\n",
    "    df_result.loc[len(df_result)] = [model[0], model[1], best_f1_score_train, f1_score_test]\n"
   ]
  },
  {
   "cell_type": "code",
   "execution_count": 20,
   "metadata": {},
   "outputs": [
    {
     "data": {
      "text/html": [
       "<div>\n",
       "<style scoped>\n",
       "    .dataframe tbody tr th:only-of-type {\n",
       "        vertical-align: middle;\n",
       "    }\n",
       "\n",
       "    .dataframe tbody tr th {\n",
       "        vertical-align: top;\n",
       "    }\n",
       "\n",
       "    .dataframe thead th {\n",
       "        text-align: right;\n",
       "    }\n",
       "</style>\n",
       "<table border=\"1\" class=\"dataframe\">\n",
       "  <thead>\n",
       "    <tr style=\"text-align: right;\">\n",
       "      <th></th>\n",
       "      <th>Version</th>\n",
       "      <th>Modèle</th>\n",
       "      <th>f1Score_train</th>\n",
       "      <th>f1Score_test</th>\n",
       "    </tr>\n",
       "  </thead>\n",
       "  <tbody>\n",
       "    <tr>\n",
       "      <th>0</th>\n",
       "      <td>V01A</td>\n",
       "      <td>Logistic Regression</td>\n",
       "      <td>0.775028</td>\n",
       "      <td>0.760261</td>\n",
       "    </tr>\n",
       "    <tr>\n",
       "      <th>1</th>\n",
       "      <td>V02A</td>\n",
       "      <td>SVM</td>\n",
       "      <td>0.773819</td>\n",
       "      <td>0.757127</td>\n",
       "    </tr>\n",
       "    <tr>\n",
       "      <th>2</th>\n",
       "      <td>V03A</td>\n",
       "      <td>Decision Tree Classifier</td>\n",
       "      <td>0.790323</td>\n",
       "      <td>0.744002</td>\n",
       "    </tr>\n",
       "    <tr>\n",
       "      <th>3</th>\n",
       "      <td>V04A</td>\n",
       "      <td>Random Forest Classifier</td>\n",
       "      <td>0.784275</td>\n",
       "      <td>0.756231</td>\n",
       "    </tr>\n",
       "  </tbody>\n",
       "</table>\n",
       "</div>"
      ],
      "text/plain": [
       "  Version                    Modèle  f1Score_train  f1Score_test\n",
       "0    V01A       Logistic Regression       0.775028      0.760261\n",
       "1    V02A                       SVM       0.773819      0.757127\n",
       "2    V03A  Decision Tree Classifier       0.790323      0.744002\n",
       "3    V04A  Random Forest Classifier       0.784275      0.756231"
      ]
     },
     "execution_count": 20,
     "metadata": {},
     "output_type": "execute_result"
    }
   ],
   "source": [
    "df_result"
   ]
  }
 ],
 "metadata": {
  "colab": {
   "collapsed_sections": [],
   "name": "Projets_template.ipynb",
   "provenance": []
  },
  "kernelspec": {
   "display_name": "base",
   "language": "python",
   "name": "python3"
  },
  "language_info": {
   "codemirror_mode": {
    "name": "ipython",
    "version": 3
   },
   "file_extension": ".py",
   "mimetype": "text/x-python",
   "name": "python",
   "nbconvert_exporter": "python",
   "pygments_lexer": "ipython3",
   "version": "3.11.5"
  }
 },
 "nbformat": 4,
 "nbformat_minor": 4
}
