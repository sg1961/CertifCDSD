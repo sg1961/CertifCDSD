{
 "cells": [
  {
   "cell_type": "markdown",
   "metadata": {},
   "source": [
    "# Projet Getaround\n",
    "# Exploration, nettoyage et préparation des données\n",
    "# Production de restitutions d'analyses des impacts de mise en oeuvre de délai entre 2 locations"
   ]
  },
  {
   "cell_type": "markdown",
   "metadata": {},
   "source": [
    "## Import des modules"
   ]
  },
  {
   "cell_type": "code",
   "execution_count": 168,
   "metadata": {},
   "outputs": [],
   "source": [
    "import numpy as np\n",
    "import pandas as pd\n",
    "import plotly.express as px\n"
   ]
  },
  {
   "cell_type": "markdown",
   "metadata": {
    "vscode": {
     "languageId": "plaintext"
    }
   },
   "source": [
    "## Chargement des données"
   ]
  },
  {
   "cell_type": "code",
   "execution_count": null,
   "metadata": {},
   "outputs": [
    {
     "data": {
      "text/html": [
       "<div>\n",
       "<style scoped>\n",
       "    .dataframe tbody tr th:only-of-type {\n",
       "        vertical-align: middle;\n",
       "    }\n",
       "\n",
       "    .dataframe tbody tr th {\n",
       "        vertical-align: top;\n",
       "    }\n",
       "\n",
       "    .dataframe thead th {\n",
       "        text-align: right;\n",
       "    }\n",
       "</style>\n",
       "<table border=\"1\" class=\"dataframe\">\n",
       "  <thead>\n",
       "    <tr style=\"text-align: right;\">\n",
       "      <th></th>\n",
       "      <th>rental_id</th>\n",
       "      <th>car_id</th>\n",
       "      <th>checkin_type</th>\n",
       "      <th>state</th>\n",
       "      <th>delay_at_checkout_in_minutes</th>\n",
       "      <th>previous_ended_rental_id</th>\n",
       "      <th>time_delta_with_previous_rental_in_minutes</th>\n",
       "    </tr>\n",
       "  </thead>\n",
       "  <tbody>\n",
       "    <tr>\n",
       "      <th>14892</th>\n",
       "      <td>539499</td>\n",
       "      <td>229302</td>\n",
       "      <td>mobile</td>\n",
       "      <td>canceled</td>\n",
       "      <td>NaN</td>\n",
       "      <td>NaN</td>\n",
       "      <td>NaN</td>\n",
       "    </tr>\n",
       "    <tr>\n",
       "      <th>1617</th>\n",
       "      <td>538610</td>\n",
       "      <td>385721</td>\n",
       "      <td>connect</td>\n",
       "      <td>ended</td>\n",
       "      <td>31.0</td>\n",
       "      <td>NaN</td>\n",
       "      <td>NaN</td>\n",
       "    </tr>\n",
       "    <tr>\n",
       "      <th>5046</th>\n",
       "      <td>553236</td>\n",
       "      <td>389785</td>\n",
       "      <td>connect</td>\n",
       "      <td>ended</td>\n",
       "      <td>222.0</td>\n",
       "      <td>NaN</td>\n",
       "      <td>NaN</td>\n",
       "    </tr>\n",
       "    <tr>\n",
       "      <th>6344</th>\n",
       "      <td>544030</td>\n",
       "      <td>404771</td>\n",
       "      <td>mobile</td>\n",
       "      <td>ended</td>\n",
       "      <td>72.0</td>\n",
       "      <td>543848.0</td>\n",
       "      <td>120.0</td>\n",
       "    </tr>\n",
       "    <tr>\n",
       "      <th>1191</th>\n",
       "      <td>544634</td>\n",
       "      <td>401077</td>\n",
       "      <td>mobile</td>\n",
       "      <td>ended</td>\n",
       "      <td>124.0</td>\n",
       "      <td>NaN</td>\n",
       "      <td>NaN</td>\n",
       "    </tr>\n",
       "    <tr>\n",
       "      <th>21066</th>\n",
       "      <td>562438</td>\n",
       "      <td>255326</td>\n",
       "      <td>mobile</td>\n",
       "      <td>ended</td>\n",
       "      <td>-127.0</td>\n",
       "      <td>NaN</td>\n",
       "      <td>NaN</td>\n",
       "    </tr>\n",
       "    <tr>\n",
       "      <th>7683</th>\n",
       "      <td>513740</td>\n",
       "      <td>338940</td>\n",
       "      <td>mobile</td>\n",
       "      <td>ended</td>\n",
       "      <td>83.0</td>\n",
       "      <td>565837.0</td>\n",
       "      <td>0.0</td>\n",
       "    </tr>\n",
       "    <tr>\n",
       "      <th>10752</th>\n",
       "      <td>545073</td>\n",
       "      <td>271582</td>\n",
       "      <td>mobile</td>\n",
       "      <td>ended</td>\n",
       "      <td>7.0</td>\n",
       "      <td>NaN</td>\n",
       "      <td>NaN</td>\n",
       "    </tr>\n",
       "    <tr>\n",
       "      <th>11699</th>\n",
       "      <td>556325</td>\n",
       "      <td>396009</td>\n",
       "      <td>connect</td>\n",
       "      <td>ended</td>\n",
       "      <td>-50.0</td>\n",
       "      <td>NaN</td>\n",
       "      <td>NaN</td>\n",
       "    </tr>\n",
       "    <tr>\n",
       "      <th>15304</th>\n",
       "      <td>549186</td>\n",
       "      <td>383462</td>\n",
       "      <td>connect</td>\n",
       "      <td>ended</td>\n",
       "      <td>-87.0</td>\n",
       "      <td>NaN</td>\n",
       "      <td>NaN</td>\n",
       "    </tr>\n",
       "  </tbody>\n",
       "</table>\n",
       "</div>"
      ],
      "text/plain": [
       "       rental_id  car_id checkin_type     state  delay_at_checkout_in_minutes  \\\n",
       "14892     539499  229302       mobile  canceled                           NaN   \n",
       "1617      538610  385721      connect     ended                          31.0   \n",
       "5046      553236  389785      connect     ended                         222.0   \n",
       "6344      544030  404771       mobile     ended                          72.0   \n",
       "1191      544634  401077       mobile     ended                         124.0   \n",
       "21066     562438  255326       mobile     ended                        -127.0   \n",
       "7683      513740  338940       mobile     ended                          83.0   \n",
       "10752     545073  271582       mobile     ended                           7.0   \n",
       "11699     556325  396009      connect     ended                         -50.0   \n",
       "15304     549186  383462      connect     ended                         -87.0   \n",
       "\n",
       "       previous_ended_rental_id  time_delta_with_previous_rental_in_minutes  \n",
       "14892                       NaN                                         NaN  \n",
       "1617                        NaN                                         NaN  \n",
       "5046                        NaN                                         NaN  \n",
       "6344                   543848.0                                       120.0  \n",
       "1191                        NaN                                         NaN  \n",
       "21066                       NaN                                         NaN  \n",
       "7683                   565837.0                                         0.0  \n",
       "10752                       NaN                                         NaN  \n",
       "11699                       NaN                                         NaN  \n",
       "15304                       NaN                                         NaN  "
      ]
     },
     "metadata": {},
     "output_type": "display_data"
    },
    {
     "data": {
      "text/plain": [
       "(21310, 7)"
      ]
     },
     "metadata": {},
     "output_type": "display_data"
    },
    {
     "data": {
      "text/plain": [
       "Index(['rental_id', 'car_id', 'checkin_type', 'state',\n",
       "       'delay_at_checkout_in_minutes', 'previous_ended_rental_id',\n",
       "       'time_delta_with_previous_rental_in_minutes'],\n",
       "      dtype='object')"
      ]
     },
     "metadata": {},
     "output_type": "display_data"
    }
   ],
   "source": [
    "df = pd.read_excel(\"./data/get_around_delay_analysis.xlsx\", sheet_name=\"rentals_data\")\n",
    "\n",
    "display(df.sample(10))\n",
    "display(df.shape)\n",
    "display(df.columns)"
   ]
  },
  {
   "cell_type": "markdown",
   "metadata": {},
   "source": [
    "rental_id\t                                Identifiant unique de la location\n",
    "\n",
    "car_id                        \t            Identifiant unique de la voiture\n",
    "\n",
    "checkin_type\t                            Flux utilisé à la fois pour l’enregistrement et le départ.\n",
    "                                            (c’est-à-dire l’accès et la restitution de la voiture)\n",
    "                                            mobile = contrat de location signé sur le smartphone du propriétaire\n",
    "                                            connect = voiture équipée de la technologie Connect, ouverte par le conducteur avec son smartphone.\n",
    "                                            Remarque : les contrats papier ont été exclus des données car nous n’avons pas de données sur leur retard à la caisse et son cas d’utilisation est négligeable\n",
    "\n",
    "state\t                                    Annulée signifie que la location n’a pas eu lieu (a été annulée par le conducteur ou le propriétaire).\n",
    "\n",
    "delay_at_checkout_in_minutes\t            Différence en minutes entre l’heure de fin de location demandée par le chauffeur lors de la réservation de la voiture et l’heure réelle à laquelle le chauffeur a terminé le départ.\n",
    "                                            Les valeurs négatives signifient que le conducteur a rendu la voiture à l’avance.\n",
    "\n",
    "previous_ended_rental_id\t                id de la location précédente de la voiture terminée (NULL en l’absence de location précédente ou retard avec la location précédente supérieur à 12 heures)\n",
    "\n",
    "time_delta_with_previous_rental_in_minutes\tDifférence en minutes entre l’heure de début prévue de la location et l’heure de fin prévue de la location précédente (si inférieure à 12 heures, NULL si supérieure)"
   ]
  },
  {
   "cell_type": "markdown",
   "metadata": {},
   "source": [
    "## Nettoyage et mise en forme des données"
   ]
  },
  {
   "cell_type": "code",
   "execution_count": 170,
   "metadata": {},
   "outputs": [],
   "source": [
    "# Transformation en \"str\" des id\n",
    "df['rental_id'] = df['rental_id'].astype(str)\n",
    "df['car_id'] = df['car_id'].astype(str)\n",
    "df['previous_ended_rental_id'] = df['previous_ended_rental_id'].apply(lambda x: str(int(x)) if not pd.isna(x) else x)\n",
    "\n",
    "\n",
    "# Ajour de colonne au df\n",
    "# colonne Retard constaté sur la location précedente (quand cette location existe)\n",
    "df[\"previous_delay_at_checkout_in_minutes\"] = df[\"previous_ended_rental_id\"].apply(lambda id : id if pd.isna(id) else df[df[\"rental_id\"] == id][\"delay_at_checkout_in_minutes\"].sum())"
   ]
  },
  {
   "cell_type": "markdown",
   "metadata": {},
   "source": [
    "## Exploration des données"
   ]
  },
  {
   "cell_type": "code",
   "execution_count": 171,
   "metadata": {},
   "outputs": [
    {
     "data": {
      "text/html": [
       "<div>\n",
       "<style scoped>\n",
       "    .dataframe tbody tr th:only-of-type {\n",
       "        vertical-align: middle;\n",
       "    }\n",
       "\n",
       "    .dataframe tbody tr th {\n",
       "        vertical-align: top;\n",
       "    }\n",
       "\n",
       "    .dataframe thead th {\n",
       "        text-align: right;\n",
       "    }\n",
       "</style>\n",
       "<table border=\"1\" class=\"dataframe\">\n",
       "  <thead>\n",
       "    <tr style=\"text-align: right;\">\n",
       "      <th></th>\n",
       "      <th>rental_id</th>\n",
       "      <th>car_id</th>\n",
       "      <th>checkin_type</th>\n",
       "      <th>state</th>\n",
       "      <th>delay_at_checkout_in_minutes</th>\n",
       "      <th>previous_ended_rental_id</th>\n",
       "      <th>time_delta_with_previous_rental_in_minutes</th>\n",
       "      <th>previous_delay_at_checkout_in_minutes</th>\n",
       "    </tr>\n",
       "  </thead>\n",
       "  <tbody>\n",
       "    <tr>\n",
       "      <th>count</th>\n",
       "      <td>21310</td>\n",
       "      <td>21310</td>\n",
       "      <td>21310</td>\n",
       "      <td>21310</td>\n",
       "      <td>16346.000000</td>\n",
       "      <td>1841</td>\n",
       "      <td>1841.000000</td>\n",
       "      <td>1841.000000</td>\n",
       "    </tr>\n",
       "    <tr>\n",
       "      <th>unique</th>\n",
       "      <td>21310</td>\n",
       "      <td>8143</td>\n",
       "      <td>2</td>\n",
       "      <td>2</td>\n",
       "      <td>NaN</td>\n",
       "      <td>1788</td>\n",
       "      <td>NaN</td>\n",
       "      <td>NaN</td>\n",
       "    </tr>\n",
       "    <tr>\n",
       "      <th>top</th>\n",
       "      <td>505000</td>\n",
       "      <td>334190</td>\n",
       "      <td>mobile</td>\n",
       "      <td>ended</td>\n",
       "      <td>NaN</td>\n",
       "      <td>537243</td>\n",
       "      <td>NaN</td>\n",
       "      <td>NaN</td>\n",
       "    </tr>\n",
       "    <tr>\n",
       "      <th>freq</th>\n",
       "      <td>1</td>\n",
       "      <td>33</td>\n",
       "      <td>17003</td>\n",
       "      <td>18045</td>\n",
       "      <td>NaN</td>\n",
       "      <td>4</td>\n",
       "      <td>NaN</td>\n",
       "      <td>NaN</td>\n",
       "    </tr>\n",
       "    <tr>\n",
       "      <th>mean</th>\n",
       "      <td>NaN</td>\n",
       "      <td>NaN</td>\n",
       "      <td>NaN</td>\n",
       "      <td>NaN</td>\n",
       "      <td>59.701517</td>\n",
       "      <td>NaN</td>\n",
       "      <td>279.288430</td>\n",
       "      <td>-23.255296</td>\n",
       "    </tr>\n",
       "    <tr>\n",
       "      <th>std</th>\n",
       "      <td>NaN</td>\n",
       "      <td>NaN</td>\n",
       "      <td>NaN</td>\n",
       "      <td>NaN</td>\n",
       "      <td>1002.561635</td>\n",
       "      <td>NaN</td>\n",
       "      <td>254.594486</td>\n",
       "      <td>417.333377</td>\n",
       "    </tr>\n",
       "    <tr>\n",
       "      <th>min</th>\n",
       "      <td>NaN</td>\n",
       "      <td>NaN</td>\n",
       "      <td>NaN</td>\n",
       "      <td>NaN</td>\n",
       "      <td>-22433.000000</td>\n",
       "      <td>NaN</td>\n",
       "      <td>0.000000</td>\n",
       "      <td>-4624.000000</td>\n",
       "    </tr>\n",
       "    <tr>\n",
       "      <th>25%</th>\n",
       "      <td>NaN</td>\n",
       "      <td>NaN</td>\n",
       "      <td>NaN</td>\n",
       "      <td>NaN</td>\n",
       "      <td>-36.000000</td>\n",
       "      <td>NaN</td>\n",
       "      <td>60.000000</td>\n",
       "      <td>-49.000000</td>\n",
       "    </tr>\n",
       "    <tr>\n",
       "      <th>50%</th>\n",
       "      <td>NaN</td>\n",
       "      <td>NaN</td>\n",
       "      <td>NaN</td>\n",
       "      <td>NaN</td>\n",
       "      <td>9.000000</td>\n",
       "      <td>NaN</td>\n",
       "      <td>180.000000</td>\n",
       "      <td>0.000000</td>\n",
       "    </tr>\n",
       "    <tr>\n",
       "      <th>75%</th>\n",
       "      <td>NaN</td>\n",
       "      <td>NaN</td>\n",
       "      <td>NaN</td>\n",
       "      <td>NaN</td>\n",
       "      <td>67.000000</td>\n",
       "      <td>NaN</td>\n",
       "      <td>540.000000</td>\n",
       "      <td>39.000000</td>\n",
       "    </tr>\n",
       "    <tr>\n",
       "      <th>max</th>\n",
       "      <td>NaN</td>\n",
       "      <td>NaN</td>\n",
       "      <td>NaN</td>\n",
       "      <td>NaN</td>\n",
       "      <td>71084.000000</td>\n",
       "      <td>NaN</td>\n",
       "      <td>720.000000</td>\n",
       "      <td>12968.000000</td>\n",
       "    </tr>\n",
       "  </tbody>\n",
       "</table>\n",
       "</div>"
      ],
      "text/plain": [
       "       rental_id  car_id checkin_type  state  delay_at_checkout_in_minutes  \\\n",
       "count      21310   21310        21310  21310                  16346.000000   \n",
       "unique     21310    8143            2      2                           NaN   \n",
       "top       505000  334190       mobile  ended                           NaN   \n",
       "freq           1      33        17003  18045                           NaN   \n",
       "mean         NaN     NaN          NaN    NaN                     59.701517   \n",
       "std          NaN     NaN          NaN    NaN                   1002.561635   \n",
       "min          NaN     NaN          NaN    NaN                 -22433.000000   \n",
       "25%          NaN     NaN          NaN    NaN                    -36.000000   \n",
       "50%          NaN     NaN          NaN    NaN                      9.000000   \n",
       "75%          NaN     NaN          NaN    NaN                     67.000000   \n",
       "max          NaN     NaN          NaN    NaN                  71084.000000   \n",
       "\n",
       "       previous_ended_rental_id  time_delta_with_previous_rental_in_minutes  \\\n",
       "count                      1841                                 1841.000000   \n",
       "unique                     1788                                         NaN   \n",
       "top                      537243                                         NaN   \n",
       "freq                          4                                         NaN   \n",
       "mean                        NaN                                  279.288430   \n",
       "std                         NaN                                  254.594486   \n",
       "min                         NaN                                    0.000000   \n",
       "25%                         NaN                                   60.000000   \n",
       "50%                         NaN                                  180.000000   \n",
       "75%                         NaN                                  540.000000   \n",
       "max                         NaN                                  720.000000   \n",
       "\n",
       "        previous_delay_at_checkout_in_minutes  \n",
       "count                             1841.000000  \n",
       "unique                                    NaN  \n",
       "top                                       NaN  \n",
       "freq                                      NaN  \n",
       "mean                               -23.255296  \n",
       "std                                417.333377  \n",
       "min                              -4624.000000  \n",
       "25%                                -49.000000  \n",
       "50%                                  0.000000  \n",
       "75%                                 39.000000  \n",
       "max                              12968.000000  "
      ]
     },
     "execution_count": 171,
     "metadata": {},
     "output_type": "execute_result"
    }
   ],
   "source": [
    "df.describe(include=\"all\")"
   ]
  },
  {
   "cell_type": "code",
   "execution_count": 172,
   "metadata": {},
   "outputs": [
    {
     "data": {
      "text/plain": [
       "checkin_type\n",
       "mobile     17003\n",
       "connect     4307\n",
       "Name: count, dtype: int64"
      ]
     },
     "metadata": {},
     "output_type": "display_data"
    },
    {
     "data": {
      "application/vnd.plotly.v1+json": {
       "config": {
        "plotlyServerURL": "https://plot.ly"
       },
       "data": [
        {
         "domain": {
          "x": [
           0,
           1
          ],
          "y": [
           0,
           1
          ]
         },
         "hovertemplate": "checkin_type=%{label}<br>count=%{value}<extra></extra>",
         "labels": [
          "mobile",
          "connect"
         ],
         "legendgroup": "",
         "name": "",
         "showlegend": true,
         "type": "pie",
         "values": [
          17003,
          4307
         ]
        }
       ],
       "layout": {
        "legend": {
         "tracegroupgap": 0
        },
        "margin": {
         "t": 60
        },
        "template": {
         "data": {
          "bar": [
           {
            "error_x": {
             "color": "#2a3f5f"
            },
            "error_y": {
             "color": "#2a3f5f"
            },
            "marker": {
             "line": {
              "color": "#E5ECF6",
              "width": 0.5
             },
             "pattern": {
              "fillmode": "overlay",
              "size": 10,
              "solidity": 0.2
             }
            },
            "type": "bar"
           }
          ],
          "barpolar": [
           {
            "marker": {
             "line": {
              "color": "#E5ECF6",
              "width": 0.5
             },
             "pattern": {
              "fillmode": "overlay",
              "size": 10,
              "solidity": 0.2
             }
            },
            "type": "barpolar"
           }
          ],
          "carpet": [
           {
            "aaxis": {
             "endlinecolor": "#2a3f5f",
             "gridcolor": "white",
             "linecolor": "white",
             "minorgridcolor": "white",
             "startlinecolor": "#2a3f5f"
            },
            "baxis": {
             "endlinecolor": "#2a3f5f",
             "gridcolor": "white",
             "linecolor": "white",
             "minorgridcolor": "white",
             "startlinecolor": "#2a3f5f"
            },
            "type": "carpet"
           }
          ],
          "choropleth": [
           {
            "colorbar": {
             "outlinewidth": 0,
             "ticks": ""
            },
            "type": "choropleth"
           }
          ],
          "contour": [
           {
            "colorbar": {
             "outlinewidth": 0,
             "ticks": ""
            },
            "colorscale": [
             [
              0,
              "#0d0887"
             ],
             [
              0.1111111111111111,
              "#46039f"
             ],
             [
              0.2222222222222222,
              "#7201a8"
             ],
             [
              0.3333333333333333,
              "#9c179e"
             ],
             [
              0.4444444444444444,
              "#bd3786"
             ],
             [
              0.5555555555555556,
              "#d8576b"
             ],
             [
              0.6666666666666666,
              "#ed7953"
             ],
             [
              0.7777777777777778,
              "#fb9f3a"
             ],
             [
              0.8888888888888888,
              "#fdca26"
             ],
             [
              1,
              "#f0f921"
             ]
            ],
            "type": "contour"
           }
          ],
          "contourcarpet": [
           {
            "colorbar": {
             "outlinewidth": 0,
             "ticks": ""
            },
            "type": "contourcarpet"
           }
          ],
          "heatmap": [
           {
            "colorbar": {
             "outlinewidth": 0,
             "ticks": ""
            },
            "colorscale": [
             [
              0,
              "#0d0887"
             ],
             [
              0.1111111111111111,
              "#46039f"
             ],
             [
              0.2222222222222222,
              "#7201a8"
             ],
             [
              0.3333333333333333,
              "#9c179e"
             ],
             [
              0.4444444444444444,
              "#bd3786"
             ],
             [
              0.5555555555555556,
              "#d8576b"
             ],
             [
              0.6666666666666666,
              "#ed7953"
             ],
             [
              0.7777777777777778,
              "#fb9f3a"
             ],
             [
              0.8888888888888888,
              "#fdca26"
             ],
             [
              1,
              "#f0f921"
             ]
            ],
            "type": "heatmap"
           }
          ],
          "heatmapgl": [
           {
            "colorbar": {
             "outlinewidth": 0,
             "ticks": ""
            },
            "colorscale": [
             [
              0,
              "#0d0887"
             ],
             [
              0.1111111111111111,
              "#46039f"
             ],
             [
              0.2222222222222222,
              "#7201a8"
             ],
             [
              0.3333333333333333,
              "#9c179e"
             ],
             [
              0.4444444444444444,
              "#bd3786"
             ],
             [
              0.5555555555555556,
              "#d8576b"
             ],
             [
              0.6666666666666666,
              "#ed7953"
             ],
             [
              0.7777777777777778,
              "#fb9f3a"
             ],
             [
              0.8888888888888888,
              "#fdca26"
             ],
             [
              1,
              "#f0f921"
             ]
            ],
            "type": "heatmapgl"
           }
          ],
          "histogram": [
           {
            "marker": {
             "pattern": {
              "fillmode": "overlay",
              "size": 10,
              "solidity": 0.2
             }
            },
            "type": "histogram"
           }
          ],
          "histogram2d": [
           {
            "colorbar": {
             "outlinewidth": 0,
             "ticks": ""
            },
            "colorscale": [
             [
              0,
              "#0d0887"
             ],
             [
              0.1111111111111111,
              "#46039f"
             ],
             [
              0.2222222222222222,
              "#7201a8"
             ],
             [
              0.3333333333333333,
              "#9c179e"
             ],
             [
              0.4444444444444444,
              "#bd3786"
             ],
             [
              0.5555555555555556,
              "#d8576b"
             ],
             [
              0.6666666666666666,
              "#ed7953"
             ],
             [
              0.7777777777777778,
              "#fb9f3a"
             ],
             [
              0.8888888888888888,
              "#fdca26"
             ],
             [
              1,
              "#f0f921"
             ]
            ],
            "type": "histogram2d"
           }
          ],
          "histogram2dcontour": [
           {
            "colorbar": {
             "outlinewidth": 0,
             "ticks": ""
            },
            "colorscale": [
             [
              0,
              "#0d0887"
             ],
             [
              0.1111111111111111,
              "#46039f"
             ],
             [
              0.2222222222222222,
              "#7201a8"
             ],
             [
              0.3333333333333333,
              "#9c179e"
             ],
             [
              0.4444444444444444,
              "#bd3786"
             ],
             [
              0.5555555555555556,
              "#d8576b"
             ],
             [
              0.6666666666666666,
              "#ed7953"
             ],
             [
              0.7777777777777778,
              "#fb9f3a"
             ],
             [
              0.8888888888888888,
              "#fdca26"
             ],
             [
              1,
              "#f0f921"
             ]
            ],
            "type": "histogram2dcontour"
           }
          ],
          "mesh3d": [
           {
            "colorbar": {
             "outlinewidth": 0,
             "ticks": ""
            },
            "type": "mesh3d"
           }
          ],
          "parcoords": [
           {
            "line": {
             "colorbar": {
              "outlinewidth": 0,
              "ticks": ""
             }
            },
            "type": "parcoords"
           }
          ],
          "pie": [
           {
            "automargin": true,
            "type": "pie"
           }
          ],
          "scatter": [
           {
            "fillpattern": {
             "fillmode": "overlay",
             "size": 10,
             "solidity": 0.2
            },
            "type": "scatter"
           }
          ],
          "scatter3d": [
           {
            "line": {
             "colorbar": {
              "outlinewidth": 0,
              "ticks": ""
             }
            },
            "marker": {
             "colorbar": {
              "outlinewidth": 0,
              "ticks": ""
             }
            },
            "type": "scatter3d"
           }
          ],
          "scattercarpet": [
           {
            "marker": {
             "colorbar": {
              "outlinewidth": 0,
              "ticks": ""
             }
            },
            "type": "scattercarpet"
           }
          ],
          "scattergeo": [
           {
            "marker": {
             "colorbar": {
              "outlinewidth": 0,
              "ticks": ""
             }
            },
            "type": "scattergeo"
           }
          ],
          "scattergl": [
           {
            "marker": {
             "colorbar": {
              "outlinewidth": 0,
              "ticks": ""
             }
            },
            "type": "scattergl"
           }
          ],
          "scattermapbox": [
           {
            "marker": {
             "colorbar": {
              "outlinewidth": 0,
              "ticks": ""
             }
            },
            "type": "scattermapbox"
           }
          ],
          "scatterpolar": [
           {
            "marker": {
             "colorbar": {
              "outlinewidth": 0,
              "ticks": ""
             }
            },
            "type": "scatterpolar"
           }
          ],
          "scatterpolargl": [
           {
            "marker": {
             "colorbar": {
              "outlinewidth": 0,
              "ticks": ""
             }
            },
            "type": "scatterpolargl"
           }
          ],
          "scatterternary": [
           {
            "marker": {
             "colorbar": {
              "outlinewidth": 0,
              "ticks": ""
             }
            },
            "type": "scatterternary"
           }
          ],
          "surface": [
           {
            "colorbar": {
             "outlinewidth": 0,
             "ticks": ""
            },
            "colorscale": [
             [
              0,
              "#0d0887"
             ],
             [
              0.1111111111111111,
              "#46039f"
             ],
             [
              0.2222222222222222,
              "#7201a8"
             ],
             [
              0.3333333333333333,
              "#9c179e"
             ],
             [
              0.4444444444444444,
              "#bd3786"
             ],
             [
              0.5555555555555556,
              "#d8576b"
             ],
             [
              0.6666666666666666,
              "#ed7953"
             ],
             [
              0.7777777777777778,
              "#fb9f3a"
             ],
             [
              0.8888888888888888,
              "#fdca26"
             ],
             [
              1,
              "#f0f921"
             ]
            ],
            "type": "surface"
           }
          ],
          "table": [
           {
            "cells": {
             "fill": {
              "color": "#EBF0F8"
             },
             "line": {
              "color": "white"
             }
            },
            "header": {
             "fill": {
              "color": "#C8D4E3"
             },
             "line": {
              "color": "white"
             }
            },
            "type": "table"
           }
          ]
         },
         "layout": {
          "annotationdefaults": {
           "arrowcolor": "#2a3f5f",
           "arrowhead": 0,
           "arrowwidth": 1
          },
          "autotypenumbers": "strict",
          "coloraxis": {
           "colorbar": {
            "outlinewidth": 0,
            "ticks": ""
           }
          },
          "colorscale": {
           "diverging": [
            [
             0,
             "#8e0152"
            ],
            [
             0.1,
             "#c51b7d"
            ],
            [
             0.2,
             "#de77ae"
            ],
            [
             0.3,
             "#f1b6da"
            ],
            [
             0.4,
             "#fde0ef"
            ],
            [
             0.5,
             "#f7f7f7"
            ],
            [
             0.6,
             "#e6f5d0"
            ],
            [
             0.7,
             "#b8e186"
            ],
            [
             0.8,
             "#7fbc41"
            ],
            [
             0.9,
             "#4d9221"
            ],
            [
             1,
             "#276419"
            ]
           ],
           "sequential": [
            [
             0,
             "#0d0887"
            ],
            [
             0.1111111111111111,
             "#46039f"
            ],
            [
             0.2222222222222222,
             "#7201a8"
            ],
            [
             0.3333333333333333,
             "#9c179e"
            ],
            [
             0.4444444444444444,
             "#bd3786"
            ],
            [
             0.5555555555555556,
             "#d8576b"
            ],
            [
             0.6666666666666666,
             "#ed7953"
            ],
            [
             0.7777777777777778,
             "#fb9f3a"
            ],
            [
             0.8888888888888888,
             "#fdca26"
            ],
            [
             1,
             "#f0f921"
            ]
           ],
           "sequentialminus": [
            [
             0,
             "#0d0887"
            ],
            [
             0.1111111111111111,
             "#46039f"
            ],
            [
             0.2222222222222222,
             "#7201a8"
            ],
            [
             0.3333333333333333,
             "#9c179e"
            ],
            [
             0.4444444444444444,
             "#bd3786"
            ],
            [
             0.5555555555555556,
             "#d8576b"
            ],
            [
             0.6666666666666666,
             "#ed7953"
            ],
            [
             0.7777777777777778,
             "#fb9f3a"
            ],
            [
             0.8888888888888888,
             "#fdca26"
            ],
            [
             1,
             "#f0f921"
            ]
           ]
          },
          "colorway": [
           "#636efa",
           "#EF553B",
           "#00cc96",
           "#ab63fa",
           "#FFA15A",
           "#19d3f3",
           "#FF6692",
           "#B6E880",
           "#FF97FF",
           "#FECB52"
          ],
          "font": {
           "color": "#2a3f5f"
          },
          "geo": {
           "bgcolor": "white",
           "lakecolor": "white",
           "landcolor": "#E5ECF6",
           "showlakes": true,
           "showland": true,
           "subunitcolor": "white"
          },
          "hoverlabel": {
           "align": "left"
          },
          "hovermode": "closest",
          "mapbox": {
           "style": "light"
          },
          "paper_bgcolor": "white",
          "plot_bgcolor": "#E5ECF6",
          "polar": {
           "angularaxis": {
            "gridcolor": "white",
            "linecolor": "white",
            "ticks": ""
           },
           "bgcolor": "#E5ECF6",
           "radialaxis": {
            "gridcolor": "white",
            "linecolor": "white",
            "ticks": ""
           }
          },
          "scene": {
           "xaxis": {
            "backgroundcolor": "#E5ECF6",
            "gridcolor": "white",
            "gridwidth": 2,
            "linecolor": "white",
            "showbackground": true,
            "ticks": "",
            "zerolinecolor": "white"
           },
           "yaxis": {
            "backgroundcolor": "#E5ECF6",
            "gridcolor": "white",
            "gridwidth": 2,
            "linecolor": "white",
            "showbackground": true,
            "ticks": "",
            "zerolinecolor": "white"
           },
           "zaxis": {
            "backgroundcolor": "#E5ECF6",
            "gridcolor": "white",
            "gridwidth": 2,
            "linecolor": "white",
            "showbackground": true,
            "ticks": "",
            "zerolinecolor": "white"
           }
          },
          "shapedefaults": {
           "line": {
            "color": "#2a3f5f"
           }
          },
          "ternary": {
           "aaxis": {
            "gridcolor": "white",
            "linecolor": "white",
            "ticks": ""
           },
           "baxis": {
            "gridcolor": "white",
            "linecolor": "white",
            "ticks": ""
           },
           "bgcolor": "#E5ECF6",
           "caxis": {
            "gridcolor": "white",
            "linecolor": "white",
            "ticks": ""
           }
          },
          "title": {
           "x": 0.05
          },
          "xaxis": {
           "automargin": true,
           "gridcolor": "white",
           "linecolor": "white",
           "ticks": "",
           "title": {
            "standoff": 15
           },
           "zerolinecolor": "white",
           "zerolinewidth": 2
          },
          "yaxis": {
           "automargin": true,
           "gridcolor": "white",
           "linecolor": "white",
           "ticks": "",
           "title": {
            "standoff": 15
           },
           "zerolinecolor": "white",
           "zerolinewidth": 2
          }
         }
        }
       }
      }
     },
     "metadata": {},
     "output_type": "display_data"
    }
   ],
   "source": [
    "df_cnt = df[\"checkin_type\"].value_counts()\n",
    "display(df_cnt)\n",
    "fig = px.pie(df_cnt, values = \"count\", names=df_cnt.index)\n",
    "fig.show()"
   ]
  },
  {
   "cell_type": "code",
   "execution_count": 173,
   "metadata": {},
   "outputs": [
    {
     "data": {
      "text/plain": [
       "state\n",
       "ended       18045\n",
       "canceled     3265\n",
       "Name: count, dtype: int64"
      ]
     },
     "metadata": {},
     "output_type": "display_data"
    },
    {
     "data": {
      "application/vnd.plotly.v1+json": {
       "config": {
        "plotlyServerURL": "https://plot.ly"
       },
       "data": [
        {
         "domain": {
          "x": [
           0,
           1
          ],
          "y": [
           0,
           1
          ]
         },
         "hovertemplate": "state=%{label}<br>count=%{value}<extra></extra>",
         "labels": [
          "ended",
          "canceled"
         ],
         "legendgroup": "",
         "name": "",
         "showlegend": true,
         "type": "pie",
         "values": [
          18045,
          3265
         ]
        }
       ],
       "layout": {
        "legend": {
         "tracegroupgap": 0
        },
        "margin": {
         "t": 60
        },
        "template": {
         "data": {
          "bar": [
           {
            "error_x": {
             "color": "#2a3f5f"
            },
            "error_y": {
             "color": "#2a3f5f"
            },
            "marker": {
             "line": {
              "color": "#E5ECF6",
              "width": 0.5
             },
             "pattern": {
              "fillmode": "overlay",
              "size": 10,
              "solidity": 0.2
             }
            },
            "type": "bar"
           }
          ],
          "barpolar": [
           {
            "marker": {
             "line": {
              "color": "#E5ECF6",
              "width": 0.5
             },
             "pattern": {
              "fillmode": "overlay",
              "size": 10,
              "solidity": 0.2
             }
            },
            "type": "barpolar"
           }
          ],
          "carpet": [
           {
            "aaxis": {
             "endlinecolor": "#2a3f5f",
             "gridcolor": "white",
             "linecolor": "white",
             "minorgridcolor": "white",
             "startlinecolor": "#2a3f5f"
            },
            "baxis": {
             "endlinecolor": "#2a3f5f",
             "gridcolor": "white",
             "linecolor": "white",
             "minorgridcolor": "white",
             "startlinecolor": "#2a3f5f"
            },
            "type": "carpet"
           }
          ],
          "choropleth": [
           {
            "colorbar": {
             "outlinewidth": 0,
             "ticks": ""
            },
            "type": "choropleth"
           }
          ],
          "contour": [
           {
            "colorbar": {
             "outlinewidth": 0,
             "ticks": ""
            },
            "colorscale": [
             [
              0,
              "#0d0887"
             ],
             [
              0.1111111111111111,
              "#46039f"
             ],
             [
              0.2222222222222222,
              "#7201a8"
             ],
             [
              0.3333333333333333,
              "#9c179e"
             ],
             [
              0.4444444444444444,
              "#bd3786"
             ],
             [
              0.5555555555555556,
              "#d8576b"
             ],
             [
              0.6666666666666666,
              "#ed7953"
             ],
             [
              0.7777777777777778,
              "#fb9f3a"
             ],
             [
              0.8888888888888888,
              "#fdca26"
             ],
             [
              1,
              "#f0f921"
             ]
            ],
            "type": "contour"
           }
          ],
          "contourcarpet": [
           {
            "colorbar": {
             "outlinewidth": 0,
             "ticks": ""
            },
            "type": "contourcarpet"
           }
          ],
          "heatmap": [
           {
            "colorbar": {
             "outlinewidth": 0,
             "ticks": ""
            },
            "colorscale": [
             [
              0,
              "#0d0887"
             ],
             [
              0.1111111111111111,
              "#46039f"
             ],
             [
              0.2222222222222222,
              "#7201a8"
             ],
             [
              0.3333333333333333,
              "#9c179e"
             ],
             [
              0.4444444444444444,
              "#bd3786"
             ],
             [
              0.5555555555555556,
              "#d8576b"
             ],
             [
              0.6666666666666666,
              "#ed7953"
             ],
             [
              0.7777777777777778,
              "#fb9f3a"
             ],
             [
              0.8888888888888888,
              "#fdca26"
             ],
             [
              1,
              "#f0f921"
             ]
            ],
            "type": "heatmap"
           }
          ],
          "heatmapgl": [
           {
            "colorbar": {
             "outlinewidth": 0,
             "ticks": ""
            },
            "colorscale": [
             [
              0,
              "#0d0887"
             ],
             [
              0.1111111111111111,
              "#46039f"
             ],
             [
              0.2222222222222222,
              "#7201a8"
             ],
             [
              0.3333333333333333,
              "#9c179e"
             ],
             [
              0.4444444444444444,
              "#bd3786"
             ],
             [
              0.5555555555555556,
              "#d8576b"
             ],
             [
              0.6666666666666666,
              "#ed7953"
             ],
             [
              0.7777777777777778,
              "#fb9f3a"
             ],
             [
              0.8888888888888888,
              "#fdca26"
             ],
             [
              1,
              "#f0f921"
             ]
            ],
            "type": "heatmapgl"
           }
          ],
          "histogram": [
           {
            "marker": {
             "pattern": {
              "fillmode": "overlay",
              "size": 10,
              "solidity": 0.2
             }
            },
            "type": "histogram"
           }
          ],
          "histogram2d": [
           {
            "colorbar": {
             "outlinewidth": 0,
             "ticks": ""
            },
            "colorscale": [
             [
              0,
              "#0d0887"
             ],
             [
              0.1111111111111111,
              "#46039f"
             ],
             [
              0.2222222222222222,
              "#7201a8"
             ],
             [
              0.3333333333333333,
              "#9c179e"
             ],
             [
              0.4444444444444444,
              "#bd3786"
             ],
             [
              0.5555555555555556,
              "#d8576b"
             ],
             [
              0.6666666666666666,
              "#ed7953"
             ],
             [
              0.7777777777777778,
              "#fb9f3a"
             ],
             [
              0.8888888888888888,
              "#fdca26"
             ],
             [
              1,
              "#f0f921"
             ]
            ],
            "type": "histogram2d"
           }
          ],
          "histogram2dcontour": [
           {
            "colorbar": {
             "outlinewidth": 0,
             "ticks": ""
            },
            "colorscale": [
             [
              0,
              "#0d0887"
             ],
             [
              0.1111111111111111,
              "#46039f"
             ],
             [
              0.2222222222222222,
              "#7201a8"
             ],
             [
              0.3333333333333333,
              "#9c179e"
             ],
             [
              0.4444444444444444,
              "#bd3786"
             ],
             [
              0.5555555555555556,
              "#d8576b"
             ],
             [
              0.6666666666666666,
              "#ed7953"
             ],
             [
              0.7777777777777778,
              "#fb9f3a"
             ],
             [
              0.8888888888888888,
              "#fdca26"
             ],
             [
              1,
              "#f0f921"
             ]
            ],
            "type": "histogram2dcontour"
           }
          ],
          "mesh3d": [
           {
            "colorbar": {
             "outlinewidth": 0,
             "ticks": ""
            },
            "type": "mesh3d"
           }
          ],
          "parcoords": [
           {
            "line": {
             "colorbar": {
              "outlinewidth": 0,
              "ticks": ""
             }
            },
            "type": "parcoords"
           }
          ],
          "pie": [
           {
            "automargin": true,
            "type": "pie"
           }
          ],
          "scatter": [
           {
            "fillpattern": {
             "fillmode": "overlay",
             "size": 10,
             "solidity": 0.2
            },
            "type": "scatter"
           }
          ],
          "scatter3d": [
           {
            "line": {
             "colorbar": {
              "outlinewidth": 0,
              "ticks": ""
             }
            },
            "marker": {
             "colorbar": {
              "outlinewidth": 0,
              "ticks": ""
             }
            },
            "type": "scatter3d"
           }
          ],
          "scattercarpet": [
           {
            "marker": {
             "colorbar": {
              "outlinewidth": 0,
              "ticks": ""
             }
            },
            "type": "scattercarpet"
           }
          ],
          "scattergeo": [
           {
            "marker": {
             "colorbar": {
              "outlinewidth": 0,
              "ticks": ""
             }
            },
            "type": "scattergeo"
           }
          ],
          "scattergl": [
           {
            "marker": {
             "colorbar": {
              "outlinewidth": 0,
              "ticks": ""
             }
            },
            "type": "scattergl"
           }
          ],
          "scattermapbox": [
           {
            "marker": {
             "colorbar": {
              "outlinewidth": 0,
              "ticks": ""
             }
            },
            "type": "scattermapbox"
           }
          ],
          "scatterpolar": [
           {
            "marker": {
             "colorbar": {
              "outlinewidth": 0,
              "ticks": ""
             }
            },
            "type": "scatterpolar"
           }
          ],
          "scatterpolargl": [
           {
            "marker": {
             "colorbar": {
              "outlinewidth": 0,
              "ticks": ""
             }
            },
            "type": "scatterpolargl"
           }
          ],
          "scatterternary": [
           {
            "marker": {
             "colorbar": {
              "outlinewidth": 0,
              "ticks": ""
             }
            },
            "type": "scatterternary"
           }
          ],
          "surface": [
           {
            "colorbar": {
             "outlinewidth": 0,
             "ticks": ""
            },
            "colorscale": [
             [
              0,
              "#0d0887"
             ],
             [
              0.1111111111111111,
              "#46039f"
             ],
             [
              0.2222222222222222,
              "#7201a8"
             ],
             [
              0.3333333333333333,
              "#9c179e"
             ],
             [
              0.4444444444444444,
              "#bd3786"
             ],
             [
              0.5555555555555556,
              "#d8576b"
             ],
             [
              0.6666666666666666,
              "#ed7953"
             ],
             [
              0.7777777777777778,
              "#fb9f3a"
             ],
             [
              0.8888888888888888,
              "#fdca26"
             ],
             [
              1,
              "#f0f921"
             ]
            ],
            "type": "surface"
           }
          ],
          "table": [
           {
            "cells": {
             "fill": {
              "color": "#EBF0F8"
             },
             "line": {
              "color": "white"
             }
            },
            "header": {
             "fill": {
              "color": "#C8D4E3"
             },
             "line": {
              "color": "white"
             }
            },
            "type": "table"
           }
          ]
         },
         "layout": {
          "annotationdefaults": {
           "arrowcolor": "#2a3f5f",
           "arrowhead": 0,
           "arrowwidth": 1
          },
          "autotypenumbers": "strict",
          "coloraxis": {
           "colorbar": {
            "outlinewidth": 0,
            "ticks": ""
           }
          },
          "colorscale": {
           "diverging": [
            [
             0,
             "#8e0152"
            ],
            [
             0.1,
             "#c51b7d"
            ],
            [
             0.2,
             "#de77ae"
            ],
            [
             0.3,
             "#f1b6da"
            ],
            [
             0.4,
             "#fde0ef"
            ],
            [
             0.5,
             "#f7f7f7"
            ],
            [
             0.6,
             "#e6f5d0"
            ],
            [
             0.7,
             "#b8e186"
            ],
            [
             0.8,
             "#7fbc41"
            ],
            [
             0.9,
             "#4d9221"
            ],
            [
             1,
             "#276419"
            ]
           ],
           "sequential": [
            [
             0,
             "#0d0887"
            ],
            [
             0.1111111111111111,
             "#46039f"
            ],
            [
             0.2222222222222222,
             "#7201a8"
            ],
            [
             0.3333333333333333,
             "#9c179e"
            ],
            [
             0.4444444444444444,
             "#bd3786"
            ],
            [
             0.5555555555555556,
             "#d8576b"
            ],
            [
             0.6666666666666666,
             "#ed7953"
            ],
            [
             0.7777777777777778,
             "#fb9f3a"
            ],
            [
             0.8888888888888888,
             "#fdca26"
            ],
            [
             1,
             "#f0f921"
            ]
           ],
           "sequentialminus": [
            [
             0,
             "#0d0887"
            ],
            [
             0.1111111111111111,
             "#46039f"
            ],
            [
             0.2222222222222222,
             "#7201a8"
            ],
            [
             0.3333333333333333,
             "#9c179e"
            ],
            [
             0.4444444444444444,
             "#bd3786"
            ],
            [
             0.5555555555555556,
             "#d8576b"
            ],
            [
             0.6666666666666666,
             "#ed7953"
            ],
            [
             0.7777777777777778,
             "#fb9f3a"
            ],
            [
             0.8888888888888888,
             "#fdca26"
            ],
            [
             1,
             "#f0f921"
            ]
           ]
          },
          "colorway": [
           "#636efa",
           "#EF553B",
           "#00cc96",
           "#ab63fa",
           "#FFA15A",
           "#19d3f3",
           "#FF6692",
           "#B6E880",
           "#FF97FF",
           "#FECB52"
          ],
          "font": {
           "color": "#2a3f5f"
          },
          "geo": {
           "bgcolor": "white",
           "lakecolor": "white",
           "landcolor": "#E5ECF6",
           "showlakes": true,
           "showland": true,
           "subunitcolor": "white"
          },
          "hoverlabel": {
           "align": "left"
          },
          "hovermode": "closest",
          "mapbox": {
           "style": "light"
          },
          "paper_bgcolor": "white",
          "plot_bgcolor": "#E5ECF6",
          "polar": {
           "angularaxis": {
            "gridcolor": "white",
            "linecolor": "white",
            "ticks": ""
           },
           "bgcolor": "#E5ECF6",
           "radialaxis": {
            "gridcolor": "white",
            "linecolor": "white",
            "ticks": ""
           }
          },
          "scene": {
           "xaxis": {
            "backgroundcolor": "#E5ECF6",
            "gridcolor": "white",
            "gridwidth": 2,
            "linecolor": "white",
            "showbackground": true,
            "ticks": "",
            "zerolinecolor": "white"
           },
           "yaxis": {
            "backgroundcolor": "#E5ECF6",
            "gridcolor": "white",
            "gridwidth": 2,
            "linecolor": "white",
            "showbackground": true,
            "ticks": "",
            "zerolinecolor": "white"
           },
           "zaxis": {
            "backgroundcolor": "#E5ECF6",
            "gridcolor": "white",
            "gridwidth": 2,
            "linecolor": "white",
            "showbackground": true,
            "ticks": "",
            "zerolinecolor": "white"
           }
          },
          "shapedefaults": {
           "line": {
            "color": "#2a3f5f"
           }
          },
          "ternary": {
           "aaxis": {
            "gridcolor": "white",
            "linecolor": "white",
            "ticks": ""
           },
           "baxis": {
            "gridcolor": "white",
            "linecolor": "white",
            "ticks": ""
           },
           "bgcolor": "#E5ECF6",
           "caxis": {
            "gridcolor": "white",
            "linecolor": "white",
            "ticks": ""
           }
          },
          "title": {
           "x": 0.05
          },
          "xaxis": {
           "automargin": true,
           "gridcolor": "white",
           "linecolor": "white",
           "ticks": "",
           "title": {
            "standoff": 15
           },
           "zerolinecolor": "white",
           "zerolinewidth": 2
          },
          "yaxis": {
           "automargin": true,
           "gridcolor": "white",
           "linecolor": "white",
           "ticks": "",
           "title": {
            "standoff": 15
           },
           "zerolinecolor": "white",
           "zerolinewidth": 2
          }
         }
        }
       }
      }
     },
     "metadata": {},
     "output_type": "display_data"
    }
   ],
   "source": [
    "df_cnt = df[\"state\"].value_counts()\n",
    "display(df_cnt)\n",
    "fig = px.pie(df_cnt, values = \"count\", names=df_cnt.index)\n",
    "fig.show()"
   ]
  },
  {
   "cell_type": "code",
   "execution_count": 174,
   "metadata": {},
   "outputs": [
    {
     "data": {
      "text/plain": [
       "time_delta_with_previous_rental_in_minutes\n",
       "0.0      279\n",
       "60.0     183\n",
       "120.0    137\n",
       "720.0    130\n",
       "30.0     122\n",
       "180.0     83\n",
       "90.0      82\n",
       "660.0     72\n",
       "600.0     72\n",
       "150.0     67\n",
       "240.0     67\n",
       "690.0     65\n",
       "630.0     53\n",
       "210.0     48\n",
       "570.0     44\n",
       "480.0     42\n",
       "420.0     41\n",
       "360.0     41\n",
       "270.0     38\n",
       "300.0     38\n",
       "540.0     37\n",
       "510.0     36\n",
       "330.0     26\n",
       "450.0     23\n",
       "390.0     15\n",
       "Name: count, dtype: int64"
      ]
     },
     "metadata": {},
     "output_type": "display_data"
    },
    {
     "data": {
      "application/vnd.plotly.v1+json": {
       "config": {
        "plotlyServerURL": "https://plot.ly"
       },
       "data": [
        {
         "alignmentgroup": "True",
         "hovertemplate": "time_delta_with_previous_rental_in_minutes=%{x}<br>count=%{y}<extra></extra>",
         "legendgroup": "",
         "marker": {
          "color": "#636efa",
          "pattern": {
           "shape": ""
          }
         },
         "name": "",
         "offsetgroup": "",
         "orientation": "v",
         "showlegend": false,
         "textposition": "auto",
         "type": "bar",
         "x": [
          0,
          60,
          120,
          720,
          30,
          180,
          90,
          660,
          600,
          150,
          240,
          690,
          630,
          210,
          570,
          480,
          420,
          360,
          270,
          300,
          540,
          510,
          330,
          450,
          390
         ],
         "xaxis": "x",
         "y": [
          279,
          183,
          137,
          130,
          122,
          83,
          82,
          72,
          72,
          67,
          67,
          65,
          53,
          48,
          44,
          42,
          41,
          41,
          38,
          38,
          37,
          36,
          26,
          23,
          15
         ],
         "yaxis": "y"
        }
       ],
       "layout": {
        "barmode": "relative",
        "legend": {
         "tracegroupgap": 0
        },
        "margin": {
         "t": 60
        },
        "template": {
         "data": {
          "bar": [
           {
            "error_x": {
             "color": "#2a3f5f"
            },
            "error_y": {
             "color": "#2a3f5f"
            },
            "marker": {
             "line": {
              "color": "#E5ECF6",
              "width": 0.5
             },
             "pattern": {
              "fillmode": "overlay",
              "size": 10,
              "solidity": 0.2
             }
            },
            "type": "bar"
           }
          ],
          "barpolar": [
           {
            "marker": {
             "line": {
              "color": "#E5ECF6",
              "width": 0.5
             },
             "pattern": {
              "fillmode": "overlay",
              "size": 10,
              "solidity": 0.2
             }
            },
            "type": "barpolar"
           }
          ],
          "carpet": [
           {
            "aaxis": {
             "endlinecolor": "#2a3f5f",
             "gridcolor": "white",
             "linecolor": "white",
             "minorgridcolor": "white",
             "startlinecolor": "#2a3f5f"
            },
            "baxis": {
             "endlinecolor": "#2a3f5f",
             "gridcolor": "white",
             "linecolor": "white",
             "minorgridcolor": "white",
             "startlinecolor": "#2a3f5f"
            },
            "type": "carpet"
           }
          ],
          "choropleth": [
           {
            "colorbar": {
             "outlinewidth": 0,
             "ticks": ""
            },
            "type": "choropleth"
           }
          ],
          "contour": [
           {
            "colorbar": {
             "outlinewidth": 0,
             "ticks": ""
            },
            "colorscale": [
             [
              0,
              "#0d0887"
             ],
             [
              0.1111111111111111,
              "#46039f"
             ],
             [
              0.2222222222222222,
              "#7201a8"
             ],
             [
              0.3333333333333333,
              "#9c179e"
             ],
             [
              0.4444444444444444,
              "#bd3786"
             ],
             [
              0.5555555555555556,
              "#d8576b"
             ],
             [
              0.6666666666666666,
              "#ed7953"
             ],
             [
              0.7777777777777778,
              "#fb9f3a"
             ],
             [
              0.8888888888888888,
              "#fdca26"
             ],
             [
              1,
              "#f0f921"
             ]
            ],
            "type": "contour"
           }
          ],
          "contourcarpet": [
           {
            "colorbar": {
             "outlinewidth": 0,
             "ticks": ""
            },
            "type": "contourcarpet"
           }
          ],
          "heatmap": [
           {
            "colorbar": {
             "outlinewidth": 0,
             "ticks": ""
            },
            "colorscale": [
             [
              0,
              "#0d0887"
             ],
             [
              0.1111111111111111,
              "#46039f"
             ],
             [
              0.2222222222222222,
              "#7201a8"
             ],
             [
              0.3333333333333333,
              "#9c179e"
             ],
             [
              0.4444444444444444,
              "#bd3786"
             ],
             [
              0.5555555555555556,
              "#d8576b"
             ],
             [
              0.6666666666666666,
              "#ed7953"
             ],
             [
              0.7777777777777778,
              "#fb9f3a"
             ],
             [
              0.8888888888888888,
              "#fdca26"
             ],
             [
              1,
              "#f0f921"
             ]
            ],
            "type": "heatmap"
           }
          ],
          "heatmapgl": [
           {
            "colorbar": {
             "outlinewidth": 0,
             "ticks": ""
            },
            "colorscale": [
             [
              0,
              "#0d0887"
             ],
             [
              0.1111111111111111,
              "#46039f"
             ],
             [
              0.2222222222222222,
              "#7201a8"
             ],
             [
              0.3333333333333333,
              "#9c179e"
             ],
             [
              0.4444444444444444,
              "#bd3786"
             ],
             [
              0.5555555555555556,
              "#d8576b"
             ],
             [
              0.6666666666666666,
              "#ed7953"
             ],
             [
              0.7777777777777778,
              "#fb9f3a"
             ],
             [
              0.8888888888888888,
              "#fdca26"
             ],
             [
              1,
              "#f0f921"
             ]
            ],
            "type": "heatmapgl"
           }
          ],
          "histogram": [
           {
            "marker": {
             "pattern": {
              "fillmode": "overlay",
              "size": 10,
              "solidity": 0.2
             }
            },
            "type": "histogram"
           }
          ],
          "histogram2d": [
           {
            "colorbar": {
             "outlinewidth": 0,
             "ticks": ""
            },
            "colorscale": [
             [
              0,
              "#0d0887"
             ],
             [
              0.1111111111111111,
              "#46039f"
             ],
             [
              0.2222222222222222,
              "#7201a8"
             ],
             [
              0.3333333333333333,
              "#9c179e"
             ],
             [
              0.4444444444444444,
              "#bd3786"
             ],
             [
              0.5555555555555556,
              "#d8576b"
             ],
             [
              0.6666666666666666,
              "#ed7953"
             ],
             [
              0.7777777777777778,
              "#fb9f3a"
             ],
             [
              0.8888888888888888,
              "#fdca26"
             ],
             [
              1,
              "#f0f921"
             ]
            ],
            "type": "histogram2d"
           }
          ],
          "histogram2dcontour": [
           {
            "colorbar": {
             "outlinewidth": 0,
             "ticks": ""
            },
            "colorscale": [
             [
              0,
              "#0d0887"
             ],
             [
              0.1111111111111111,
              "#46039f"
             ],
             [
              0.2222222222222222,
              "#7201a8"
             ],
             [
              0.3333333333333333,
              "#9c179e"
             ],
             [
              0.4444444444444444,
              "#bd3786"
             ],
             [
              0.5555555555555556,
              "#d8576b"
             ],
             [
              0.6666666666666666,
              "#ed7953"
             ],
             [
              0.7777777777777778,
              "#fb9f3a"
             ],
             [
              0.8888888888888888,
              "#fdca26"
             ],
             [
              1,
              "#f0f921"
             ]
            ],
            "type": "histogram2dcontour"
           }
          ],
          "mesh3d": [
           {
            "colorbar": {
             "outlinewidth": 0,
             "ticks": ""
            },
            "type": "mesh3d"
           }
          ],
          "parcoords": [
           {
            "line": {
             "colorbar": {
              "outlinewidth": 0,
              "ticks": ""
             }
            },
            "type": "parcoords"
           }
          ],
          "pie": [
           {
            "automargin": true,
            "type": "pie"
           }
          ],
          "scatter": [
           {
            "fillpattern": {
             "fillmode": "overlay",
             "size": 10,
             "solidity": 0.2
            },
            "type": "scatter"
           }
          ],
          "scatter3d": [
           {
            "line": {
             "colorbar": {
              "outlinewidth": 0,
              "ticks": ""
             }
            },
            "marker": {
             "colorbar": {
              "outlinewidth": 0,
              "ticks": ""
             }
            },
            "type": "scatter3d"
           }
          ],
          "scattercarpet": [
           {
            "marker": {
             "colorbar": {
              "outlinewidth": 0,
              "ticks": ""
             }
            },
            "type": "scattercarpet"
           }
          ],
          "scattergeo": [
           {
            "marker": {
             "colorbar": {
              "outlinewidth": 0,
              "ticks": ""
             }
            },
            "type": "scattergeo"
           }
          ],
          "scattergl": [
           {
            "marker": {
             "colorbar": {
              "outlinewidth": 0,
              "ticks": ""
             }
            },
            "type": "scattergl"
           }
          ],
          "scattermapbox": [
           {
            "marker": {
             "colorbar": {
              "outlinewidth": 0,
              "ticks": ""
             }
            },
            "type": "scattermapbox"
           }
          ],
          "scatterpolar": [
           {
            "marker": {
             "colorbar": {
              "outlinewidth": 0,
              "ticks": ""
             }
            },
            "type": "scatterpolar"
           }
          ],
          "scatterpolargl": [
           {
            "marker": {
             "colorbar": {
              "outlinewidth": 0,
              "ticks": ""
             }
            },
            "type": "scatterpolargl"
           }
          ],
          "scatterternary": [
           {
            "marker": {
             "colorbar": {
              "outlinewidth": 0,
              "ticks": ""
             }
            },
            "type": "scatterternary"
           }
          ],
          "surface": [
           {
            "colorbar": {
             "outlinewidth": 0,
             "ticks": ""
            },
            "colorscale": [
             [
              0,
              "#0d0887"
             ],
             [
              0.1111111111111111,
              "#46039f"
             ],
             [
              0.2222222222222222,
              "#7201a8"
             ],
             [
              0.3333333333333333,
              "#9c179e"
             ],
             [
              0.4444444444444444,
              "#bd3786"
             ],
             [
              0.5555555555555556,
              "#d8576b"
             ],
             [
              0.6666666666666666,
              "#ed7953"
             ],
             [
              0.7777777777777778,
              "#fb9f3a"
             ],
             [
              0.8888888888888888,
              "#fdca26"
             ],
             [
              1,
              "#f0f921"
             ]
            ],
            "type": "surface"
           }
          ],
          "table": [
           {
            "cells": {
             "fill": {
              "color": "#EBF0F8"
             },
             "line": {
              "color": "white"
             }
            },
            "header": {
             "fill": {
              "color": "#C8D4E3"
             },
             "line": {
              "color": "white"
             }
            },
            "type": "table"
           }
          ]
         },
         "layout": {
          "annotationdefaults": {
           "arrowcolor": "#2a3f5f",
           "arrowhead": 0,
           "arrowwidth": 1
          },
          "autotypenumbers": "strict",
          "coloraxis": {
           "colorbar": {
            "outlinewidth": 0,
            "ticks": ""
           }
          },
          "colorscale": {
           "diverging": [
            [
             0,
             "#8e0152"
            ],
            [
             0.1,
             "#c51b7d"
            ],
            [
             0.2,
             "#de77ae"
            ],
            [
             0.3,
             "#f1b6da"
            ],
            [
             0.4,
             "#fde0ef"
            ],
            [
             0.5,
             "#f7f7f7"
            ],
            [
             0.6,
             "#e6f5d0"
            ],
            [
             0.7,
             "#b8e186"
            ],
            [
             0.8,
             "#7fbc41"
            ],
            [
             0.9,
             "#4d9221"
            ],
            [
             1,
             "#276419"
            ]
           ],
           "sequential": [
            [
             0,
             "#0d0887"
            ],
            [
             0.1111111111111111,
             "#46039f"
            ],
            [
             0.2222222222222222,
             "#7201a8"
            ],
            [
             0.3333333333333333,
             "#9c179e"
            ],
            [
             0.4444444444444444,
             "#bd3786"
            ],
            [
             0.5555555555555556,
             "#d8576b"
            ],
            [
             0.6666666666666666,
             "#ed7953"
            ],
            [
             0.7777777777777778,
             "#fb9f3a"
            ],
            [
             0.8888888888888888,
             "#fdca26"
            ],
            [
             1,
             "#f0f921"
            ]
           ],
           "sequentialminus": [
            [
             0,
             "#0d0887"
            ],
            [
             0.1111111111111111,
             "#46039f"
            ],
            [
             0.2222222222222222,
             "#7201a8"
            ],
            [
             0.3333333333333333,
             "#9c179e"
            ],
            [
             0.4444444444444444,
             "#bd3786"
            ],
            [
             0.5555555555555556,
             "#d8576b"
            ],
            [
             0.6666666666666666,
             "#ed7953"
            ],
            [
             0.7777777777777778,
             "#fb9f3a"
            ],
            [
             0.8888888888888888,
             "#fdca26"
            ],
            [
             1,
             "#f0f921"
            ]
           ]
          },
          "colorway": [
           "#636efa",
           "#EF553B",
           "#00cc96",
           "#ab63fa",
           "#FFA15A",
           "#19d3f3",
           "#FF6692",
           "#B6E880",
           "#FF97FF",
           "#FECB52"
          ],
          "font": {
           "color": "#2a3f5f"
          },
          "geo": {
           "bgcolor": "white",
           "lakecolor": "white",
           "landcolor": "#E5ECF6",
           "showlakes": true,
           "showland": true,
           "subunitcolor": "white"
          },
          "hoverlabel": {
           "align": "left"
          },
          "hovermode": "closest",
          "mapbox": {
           "style": "light"
          },
          "paper_bgcolor": "white",
          "plot_bgcolor": "#E5ECF6",
          "polar": {
           "angularaxis": {
            "gridcolor": "white",
            "linecolor": "white",
            "ticks": ""
           },
           "bgcolor": "#E5ECF6",
           "radialaxis": {
            "gridcolor": "white",
            "linecolor": "white",
            "ticks": ""
           }
          },
          "scene": {
           "xaxis": {
            "backgroundcolor": "#E5ECF6",
            "gridcolor": "white",
            "gridwidth": 2,
            "linecolor": "white",
            "showbackground": true,
            "ticks": "",
            "zerolinecolor": "white"
           },
           "yaxis": {
            "backgroundcolor": "#E5ECF6",
            "gridcolor": "white",
            "gridwidth": 2,
            "linecolor": "white",
            "showbackground": true,
            "ticks": "",
            "zerolinecolor": "white"
           },
           "zaxis": {
            "backgroundcolor": "#E5ECF6",
            "gridcolor": "white",
            "gridwidth": 2,
            "linecolor": "white",
            "showbackground": true,
            "ticks": "",
            "zerolinecolor": "white"
           }
          },
          "shapedefaults": {
           "line": {
            "color": "#2a3f5f"
           }
          },
          "ternary": {
           "aaxis": {
            "gridcolor": "white",
            "linecolor": "white",
            "ticks": ""
           },
           "baxis": {
            "gridcolor": "white",
            "linecolor": "white",
            "ticks": ""
           },
           "bgcolor": "#E5ECF6",
           "caxis": {
            "gridcolor": "white",
            "linecolor": "white",
            "ticks": ""
           }
          },
          "title": {
           "x": 0.05
          },
          "xaxis": {
           "automargin": true,
           "gridcolor": "white",
           "linecolor": "white",
           "ticks": "",
           "title": {
            "standoff": 15
           },
           "zerolinecolor": "white",
           "zerolinewidth": 2
          },
          "yaxis": {
           "automargin": true,
           "gridcolor": "white",
           "linecolor": "white",
           "ticks": "",
           "title": {
            "standoff": 15
           },
           "zerolinecolor": "white",
           "zerolinewidth": 2
          }
         }
        },
        "xaxis": {
         "anchor": "y",
         "domain": [
          0,
          1
         ],
         "title": {
          "text": "time_delta_with_previous_rental_in_minutes"
         }
        },
        "yaxis": {
         "anchor": "x",
         "domain": [
          0,
          1
         ],
         "title": {
          "text": "count"
         }
        }
       }
      }
     },
     "metadata": {},
     "output_type": "display_data"
    }
   ],
   "source": [
    "# Distribution des diff. entre fin de locations et location suivante\n",
    "\n",
    "df_cnt = df[\"time_delta_with_previous_rental_in_minutes\"].value_counts()\n",
    "display(df_cnt)\n",
    "fig = px.bar(df_cnt, y = \"count\", x=df_cnt.index, labels=df_cnt.index)\n",
    "fig.show()"
   ]
  },
  {
   "cell_type": "code",
   "execution_count": 175,
   "metadata": {},
   "outputs": [
    {
     "data": {
      "application/vnd.plotly.v1+json": {
       "config": {
        "plotlyServerURL": "https://plot.ly"
       },
       "data": [
        {
         "alignmentgroup": "True",
         "bingroup": "x",
         "hovertemplate": "delay_at_checkout_in_minutes=%{x}<br>count=%{y}<extra></extra>",
         "legendgroup": "",
         "marker": {
          "color": "#636efa",
          "pattern": {
           "shape": ""
          }
         },
         "name": "",
         "offsetgroup": "",
         "orientation": "v",
         "showlegend": false,
         "type": "histogram",
         "x": [
          70,
          23,
          214,
          15,
          66,
          215,
          58,
          35,
          22,
          52,
          15,
          130,
          29,
          44,
          31,
          79,
          30,
          33,
          44,
          37,
          24,
          40,
          137,
          249,
          23,
          9,
          68,
          38,
          74,
          271,
          205,
          18,
          48,
          266,
          36,
          80,
          2,
          8,
          134,
          13,
          85,
          66,
          32,
          41,
          3,
          216,
          28,
          93,
          9,
          210,
          12,
          90,
          11,
          146,
          13,
          52,
          125,
          165,
          83,
          69,
          156,
          12,
          50,
          183,
          9,
          64,
          23,
          14,
          5,
          300,
          12,
          48,
          670,
          64,
          2,
          24,
          55,
          75,
          337,
          39,
          56,
          31,
          233,
          50,
          108,
          56,
          74,
          7,
          302,
          93,
          20,
          20,
          69,
          163,
          10,
          16,
          92,
          7,
          30,
          261,
          84,
          85,
          10,
          423,
          500,
          1,
          266,
          145,
          8,
          74,
          126,
          15,
          195,
          201,
          21,
          225,
          381,
          22,
          144,
          69,
          19,
          10,
          54,
          3,
          201,
          167,
          20,
          82,
          37,
          40,
          211,
          97,
          16,
          536,
          159,
          34,
          203,
          275,
          11,
          91,
          23,
          4,
          23,
          6,
          322,
          31,
          63,
          10,
          40,
          20,
          5,
          7,
          24,
          170,
          1,
          11,
          37,
          358,
          17,
          161,
          146,
          19,
          58,
          21,
          181,
          14,
          8,
          77,
          59,
          98,
          23,
          14,
          7,
          55,
          101,
          47,
          21,
          15,
          122,
          67,
          173,
          20,
          72,
          3,
          102,
          27,
          2,
          89,
          18,
          44,
          21,
          52,
          84,
          65,
          10,
          173,
          7,
          108,
          73,
          73,
          129,
          15,
          30,
          33,
          25,
          27,
          99,
          4,
          90,
          20,
          10,
          69,
          335,
          403,
          1,
          136,
          62,
          41,
          45,
          436,
          42,
          15,
          7,
          181,
          14,
          7,
          162,
          1,
          300,
          9,
          22,
          28,
          106,
          3,
          10,
          14,
          9,
          38,
          6,
          82,
          107,
          49,
          32,
          142,
          44,
          48,
          58,
          25,
          66,
          243,
          16,
          349,
          28,
          27,
          41,
          59,
          100,
          22,
          101,
          21,
          30,
          58,
          43,
          90,
          67,
          76,
          14,
          21,
          12,
          28,
          110,
          42,
          89,
          694,
          183,
          119,
          22,
          42,
          6,
          9,
          6,
          16,
          7,
          28,
          14,
          248,
          203,
          33,
          33,
          26,
          4,
          26,
          110,
          62,
          159,
          98,
          379,
          69,
          610,
          3,
          102,
          28,
          81,
          3,
          8,
          614,
          4,
          28,
          5,
          69,
          3,
          113,
          47,
          78,
          147,
          458,
          166,
          160,
          20,
          12,
          15,
          21,
          7,
          3,
          35,
          31,
          32,
          130,
          12,
          14,
          224,
          57,
          628,
          661,
          113,
          69,
          67,
          19,
          18,
          21,
          74,
          15,
          35,
          4,
          54,
          61,
          147,
          25,
          117,
          170,
          64,
          23,
          20,
          5,
          28,
          17,
          51,
          88,
          146,
          2,
          179,
          108,
          13,
          19,
          41,
          28,
          35,
          532,
          30,
          2,
          31,
          243,
          42,
          34,
          6,
          320,
          4,
          12,
          42,
          9,
          25,
          10,
          2,
          96,
          9,
          87,
          7,
          26,
          8,
          58,
          104,
          15,
          208,
          1,
          89,
          10,
          182,
          6,
          370,
          126,
          73,
          8,
          44,
          124,
          8,
          78,
          49,
          97,
          245,
          20,
          76,
          48,
          31,
          62,
          60,
          203,
          35,
          62,
          4,
          21,
          351,
          4,
          322,
          57,
          38,
          38,
          25,
          151,
          28,
          16,
          29,
          3,
          385,
          11,
          16,
          11,
          719,
          66,
          235,
          48,
          186,
          38,
          58,
          41,
          28,
          38,
          22,
          7,
          88,
          273,
          54,
          33,
          485,
          454,
          8,
          217,
          67,
          101,
          43,
          128,
          72,
          108,
          131,
          71,
          225,
          377,
          6,
          8,
          2,
          2,
          4,
          12,
          51,
          19,
          13,
          41,
          12,
          240,
          7,
          27,
          6,
          343,
          54,
          8,
          8,
          69,
          10,
          2,
          446,
          259,
          5,
          3,
          27,
          60,
          92,
          124,
          51,
          102,
          16,
          56,
          28,
          11,
          2,
          280,
          50,
          50,
          14,
          41,
          194,
          424,
          106,
          1,
          99,
          51,
          194,
          236,
          6,
          130,
          7,
          55,
          254,
          302,
          15,
          28,
          14,
          274,
          7,
          42,
          69,
          116,
          64,
          23,
          102,
          78,
          6,
          72,
          12,
          49,
          14,
          5,
          103,
          13,
          40,
          29,
          20,
          153,
          92,
          8,
          12,
          55,
          76,
          77,
          5,
          6,
          23,
          39,
          79,
          73,
          29,
          18,
          205,
          96,
          64,
          407,
          327,
          13,
          205,
          20,
          4,
          103,
          36,
          422,
          4,
          312,
          122,
          13,
          594,
          20,
          33,
          37,
          58,
          126,
          5,
          85,
          9,
          101,
          6,
          26,
          31,
          82,
          37,
          72,
          262,
          89,
          13,
          11,
          167,
          4,
          16,
          19,
          146,
          352,
          71,
          22,
          136,
          78,
          49,
          15,
          26,
          187,
          27,
          131,
          65,
          14,
          96,
          137,
          15,
          128,
          209,
          63,
          1,
          7,
          74,
          5,
          128,
          11,
          508,
          346,
          69,
          14,
          137,
          144,
          22,
          588,
          88,
          9,
          121,
          109,
          26,
          34,
          95,
          31,
          175,
          258,
          28,
          17,
          14,
          37,
          67,
          42,
          86,
          88,
          89,
          18,
          96,
          166,
          228,
          48,
          14,
          7,
          29,
          9,
          31,
          38,
          9,
          40,
          5,
          518,
          115,
          21,
          18,
          148,
          4,
          155,
          139,
          47,
          91,
          227,
          11,
          251,
          180,
          90,
          273,
          2,
          5,
          34,
          79,
          68,
          468,
          172,
          57,
          136,
          14,
          37,
          14,
          98,
          36,
          86,
          3,
          650,
          35,
          155,
          28,
          65,
          240,
          203,
          179,
          26,
          157,
          203,
          173,
          191,
          78,
          74,
          27,
          93,
          17,
          26,
          69,
          89,
          144,
          6,
          63,
          22,
          64,
          608,
          3,
          7,
          527,
          25,
          51,
          323,
          13,
          88,
          26,
          59,
          8,
          99,
          99,
          34,
          30,
          164,
          5,
          37,
          456,
          71,
          1,
          24,
          39,
          37,
          60,
          21,
          54,
          33,
          31,
          157,
          52,
          86,
          255,
          21,
          188,
          32,
          84,
          141,
          4,
          67,
          11,
          5,
          36,
          17,
          47,
          7,
          3,
          241,
          133,
          17,
          127,
          42,
          72,
          24,
          5,
          152,
          6,
          107,
          29,
          80,
          51,
          5,
          1,
          10,
          64,
          295,
          9,
          4,
          250,
          84,
          104,
          33,
          76,
          47,
          67,
          134,
          27,
          114,
          19,
          70,
          68,
          36,
          691,
          113,
          126,
          4,
          47,
          172,
          105,
          6,
          146,
          19,
          11,
          105,
          43,
          29,
          18,
          289,
          683,
          9,
          72,
          59,
          11,
          77,
          262,
          223,
          162,
          56,
          550,
          12,
          130,
          54,
          62,
          69,
          10,
          27,
          1,
          201,
          53,
          9,
          76,
          148,
          11,
          544,
          100,
          56,
          15,
          161,
          20,
          39,
          294,
          24,
          50,
          334,
          92,
          424,
          18,
          38,
          4,
          131,
          22,
          233,
          32,
          4,
          165,
          45,
          69,
          5,
          45,
          72,
          6,
          1,
          10,
          9,
          25,
          185,
          51,
          12,
          25,
          27,
          68,
          328,
          5,
          23,
          74,
          109,
          11,
          41,
          158,
          62,
          353,
          12,
          7,
          5,
          64,
          161,
          82,
          207,
          15,
          16,
          116,
          153,
          114,
          71,
          27,
          104,
          101,
          2,
          15,
          18,
          182,
          28,
          116,
          37,
          358,
          32,
          31,
          37,
          103,
          86,
          57,
          3,
          142,
          208,
          247,
          233,
          71,
          13,
          424,
          8,
          9,
          43,
          129,
          46,
          9,
          172,
          568,
          11,
          46,
          9,
          21,
          168,
          111,
          26,
          91,
          176,
          16,
          13,
          13,
          65,
          89,
          271,
          22,
          35,
          7,
          2,
          58,
          28,
          16,
          42,
          51,
          55,
          14,
          29,
          14,
          62,
          70,
          5,
          5,
          110,
          137,
          88,
          123,
          30,
          4,
          5,
          112,
          297,
          66,
          34,
          24,
          339,
          171,
          215,
          2,
          148,
          83,
          82,
          711,
          27,
          279,
          27,
          23,
          6,
          109,
          10,
          34,
          130,
          123,
          461,
          2,
          70,
          43,
          11,
          16,
          99,
          91,
          1,
          307,
          58,
          20,
          25,
          97,
          54,
          412,
          186,
          350,
          106,
          28,
          3,
          19,
          12,
          131,
          16,
          155,
          54,
          221,
          62,
          189,
          15,
          17,
          51,
          480,
          12,
          70,
          39,
          23,
          133,
          155,
          14,
          11,
          86,
          196,
          23,
          5,
          431,
          32,
          48,
          376,
          9,
          183,
          30,
          148,
          21,
          98,
          19,
          16,
          23,
          18,
          5,
          233,
          25,
          127,
          111,
          16,
          83,
          26,
          89,
          319,
          200,
          34,
          24,
          439,
          79,
          10,
          5,
          17,
          48,
          31,
          23,
          5,
          13,
          122,
          19,
          165,
          42,
          111,
          26,
          620,
          73,
          670,
          7,
          83,
          50,
          21,
          48,
          59,
          10,
          126,
          18,
          242,
          211,
          60,
          407,
          9,
          145,
          226,
          3,
          6,
          17,
          26,
          132,
          48,
          136,
          7,
          165,
          48,
          147,
          574,
          2,
          11,
          491,
          22,
          50,
          49,
          5,
          142,
          12,
          24,
          18,
          82,
          2,
          81,
          185,
          2,
          28,
          22,
          53,
          82,
          32,
          5,
          50,
          13,
          82,
          3,
          10,
          8,
          65,
          91,
          228,
          52,
          4,
          77,
          1,
          73,
          271,
          12,
          150,
          16,
          305,
          204,
          154,
          53,
          29,
          110,
          105,
          17,
          38,
          226,
          14,
          116,
          59,
          115,
          7,
          27,
          123,
          319,
          39,
          8,
          9,
          145,
          15,
          8,
          5,
          6,
          87,
          114,
          283,
          61,
          99,
          15,
          11,
          91,
          131,
          95,
          77,
          322,
          25,
          36,
          10,
          83,
          307,
          59,
          122,
          97,
          87,
          8,
          16,
          169,
          36,
          8,
          36,
          70,
          180,
          91,
          12,
          19,
          32,
          3,
          21,
          37,
          34,
          78,
          7,
          18,
          51,
          6,
          3,
          13,
          646,
          57,
          266,
          1,
          8,
          287,
          109,
          8,
          72,
          38,
          19,
          8,
          124,
          128,
          118,
          139,
          17,
          231,
          40,
          5,
          70,
          322,
          110,
          56,
          53,
          263,
          2,
          347,
          3,
          213,
          33,
          396,
          9,
          74,
          171,
          4,
          48,
          50,
          142,
          98,
          68,
          121,
          116,
          4,
          21,
          320,
          46,
          45,
          15,
          6,
          13,
          80,
          55,
          702,
          3,
          84,
          8,
          44,
          36,
          28,
          2,
          3,
          7,
          26,
          29,
          135,
          485,
          152,
          36,
          267,
          36,
          39,
          17,
          10,
          308,
          111,
          32,
          40,
          171,
          248,
          27,
          9,
          35,
          39,
          27,
          149,
          71,
          39,
          306,
          5,
          55,
          6,
          10,
          33,
          19,
          371,
          76,
          93,
          14,
          75,
          19,
          16,
          7,
          37,
          26,
          18,
          39,
          29,
          20,
          489,
          4,
          668,
          21,
          32,
          43,
          198,
          193,
          11,
          36,
          618,
          186,
          105,
          62,
          92,
          64,
          147,
          19,
          275,
          214,
          4,
          47,
          81,
          64,
          2,
          2,
          4,
          108,
          156,
          3,
          56,
          107,
          10,
          176,
          66,
          5,
          333,
          9,
          45,
          362,
          32,
          6,
          102,
          20,
          117,
          63,
          15,
          70,
          25,
          32,
          129,
          143,
          22,
          115,
          384,
          20,
          7,
          88,
          92,
          27,
          68,
          212,
          6,
          153,
          49,
          2,
          7,
          16,
          116,
          3,
          3,
          83,
          113,
          442,
          102,
          112,
          36,
          83,
          62,
          1,
          11,
          16,
          49,
          1,
          20,
          12,
          41,
          493,
          556,
          1,
          12,
          160,
          530,
          35,
          73,
          101,
          38,
          49,
          497,
          27,
          40,
          67,
          21,
          58,
          12,
          89,
          75,
          14,
          8,
          15,
          102,
          300,
          148,
          1,
          101,
          54,
          4,
          53,
          3,
          4,
          127,
          48,
          84,
          29,
          277,
          92,
          2,
          151,
          74,
          91,
          2,
          60,
          28,
          53,
          9,
          113,
          30,
          9,
          33,
          2,
          18,
          173,
          19,
          51,
          81,
          37,
          128,
          34,
          37,
          59,
          37,
          86,
          77,
          17,
          3,
          56,
          34,
          16,
          7,
          335,
          4,
          112,
          10,
          108,
          13,
          55,
          3,
          7,
          190,
          102,
          13,
          18,
          43,
          56,
          39,
          86,
          20,
          125,
          241,
          148,
          1,
          53,
          1,
          4,
          11,
          13,
          10,
          32,
          17,
          704,
          9,
          179,
          52,
          18,
          6,
          85,
          63,
          55,
          38,
          206,
          7,
          235,
          30,
          25,
          23,
          209,
          4,
          87,
          97,
          63,
          5,
          26,
          122,
          43,
          24,
          31,
          59,
          252,
          297,
          336,
          164,
          71,
          11,
          227,
          27,
          179,
          42,
          43,
          379,
          15,
          72,
          30,
          83,
          13,
          402,
          373,
          20,
          188,
          73,
          16,
          14,
          2,
          16,
          38,
          31,
          125,
          75,
          56,
          55,
          25,
          48,
          1,
          224,
          105,
          51,
          16,
          694,
          246,
          197,
          94,
          3,
          8,
          134,
          55,
          12,
          395,
          8,
          2,
          1,
          71,
          439,
          13,
          320,
          24,
          127,
          14,
          155,
          119,
          100,
          19,
          120,
          69,
          195,
          39,
          97,
          456,
          62,
          154,
          146,
          249,
          5,
          63,
          48,
          21,
          121,
          244,
          23,
          27,
          11,
          120,
          28,
          5,
          89,
          65,
          93,
          142,
          8,
          4,
          441,
          46,
          7,
          30,
          127,
          16,
          100,
          56,
          121,
          54,
          500,
          8,
          30,
          17,
          8,
          147,
          37,
          95,
          182,
          11,
          108,
          20,
          32,
          364,
          24,
          29,
          52,
          36,
          15,
          4,
          101,
          10,
          79,
          5,
          30,
          16,
          26,
          17,
          6,
          4,
          28,
          110,
          109,
          182,
          19,
          19,
          15,
          5,
          131,
          54,
          68,
          52,
          41,
          3,
          2,
          158,
          339,
          14,
          5,
          71,
          29,
          416,
          114,
          21,
          26,
          4,
          265,
          23,
          7,
          55,
          174,
          17,
          13,
          42,
          133,
          54,
          33,
          362,
          22,
          38,
          4,
          101,
          42,
          323,
          183,
          6,
          17,
          62,
          6,
          9,
          30,
          9,
          50,
          3,
          12,
          23,
          232,
          43,
          33,
          286,
          621,
          8,
          6,
          14,
          22,
          2,
          7,
          52,
          13,
          58,
          50,
          14,
          10,
          10,
          78,
          138,
          349,
          118,
          3,
          6,
          8,
          53,
          93,
          36,
          118,
          133,
          167,
          5,
          70,
          30,
          4,
          393,
          4,
          41,
          5,
          68,
          28,
          10,
          42,
          108,
          21,
          158,
          16,
          621,
          12,
          131,
          174,
          38,
          467,
          69,
          21,
          50,
          45,
          316,
          26,
          1,
          87,
          30,
          558,
          72,
          67,
          64,
          83,
          468,
          19,
          7,
          68,
          176,
          211,
          406,
          66,
          52,
          92,
          5,
          72,
          37,
          26,
          20,
          91,
          35,
          193,
          16,
          24,
          2,
          305,
          252,
          113,
          326,
          88,
          49,
          215,
          315,
          32,
          36,
          6,
          4,
          71,
          443,
          17,
          4,
          4,
          51,
          39,
          32,
          25,
          105,
          2,
          51,
          43,
          35,
          93,
          180,
          114,
          5,
          38,
          23,
          22,
          60,
          238,
          697,
          3,
          43,
          1,
          2,
          83,
          201,
          72,
          7,
          29,
          156,
          10,
          33,
          13,
          66,
          6,
          46,
          140,
          111,
          4,
          549,
          23,
          316,
          232,
          132,
          7,
          152,
          41,
          129,
          130,
          17,
          41,
          122,
          11,
          17,
          5,
          39,
          30,
          58,
          11,
          51,
          101,
          76,
          119,
          62,
          48,
          112,
          38,
          67,
          12,
          91,
          7,
          46,
          61,
          104,
          53,
          49,
          254,
          26,
          16,
          15,
          7,
          64,
          226,
          21,
          99,
          32,
          59,
          101,
          134,
          5,
          38,
          21,
          46,
          9,
          12,
          178,
          225,
          72,
          29,
          81,
          7,
          56,
          52,
          135,
          106,
          43,
          6,
          72,
          21,
          250,
          116,
          97,
          54,
          67,
          41,
          76,
          37,
          21,
          286,
          131,
          19,
          12,
          49,
          1,
          11,
          17,
          52,
          128,
          15,
          11,
          36,
          146,
          466,
          31,
          67,
          119,
          77,
          176,
          59,
          194,
          272,
          43,
          4,
          46,
          428,
          152,
          10,
          18,
          25,
          45,
          252,
          352,
          158,
          128,
          11,
          7,
          5,
          49,
          4,
          16,
          63,
          11,
          21,
          62,
          49,
          125,
          12,
          55,
          91,
          39,
          41,
          241,
          84,
          78,
          70,
          48,
          16,
          13,
          681,
          18,
          36,
          19,
          2,
          24,
          191,
          14,
          43,
          498,
          191,
          70,
          63,
          205,
          35,
          94,
          45,
          2,
          278,
          9,
          157,
          21,
          2,
          74,
          33,
          51,
          90,
          17,
          320,
          98,
          119,
          461,
          222,
          93,
          69,
          225,
          7,
          51,
          378,
          1,
          258,
          20,
          535,
          2,
          19,
          30,
          154,
          252,
          24,
          45,
          125,
          25,
          91,
          79,
          38,
          24,
          119,
          221,
          1,
          292,
          3,
          15,
          8,
          11,
          229,
          30,
          64,
          76,
          15,
          33,
          142,
          293,
          43,
          44,
          14,
          661,
          251,
          358,
          3,
          36,
          4,
          55,
          5,
          39,
          126,
          17,
          63,
          2,
          29,
          11,
          372,
          167,
          37,
          63,
          30,
          186,
          30,
          8,
          54,
          10,
          140,
          69,
          66,
          186,
          31,
          139,
          307,
          6,
          17,
          224,
          154,
          80,
          25,
          36,
          4,
          4,
          327,
          40,
          93,
          57,
          339,
          97,
          223,
          45,
          124,
          10,
          53,
          38,
          27,
          6,
          39,
          3,
          117,
          3,
          53,
          48,
          68,
          364,
          10,
          63,
          77,
          36,
          2,
          79,
          21,
          5,
          9,
          100,
          24,
          28,
          62,
          207,
          4,
          27,
          44,
          34,
          82,
          83,
          76,
          12,
          10,
          70,
          73,
          2,
          18,
          18,
          102,
          42,
          266,
          240,
          14,
          113,
          42,
          4,
          164,
          29,
          7,
          465,
          87,
          264,
          8,
          52,
          30,
          43,
          25,
          70,
          57,
          64,
          21,
          393,
          29,
          14,
          9,
          61,
          77,
          12,
          14,
          213,
          138,
          96,
          103,
          92,
          17,
          234,
          9,
          13,
          98,
          12,
          29,
          6,
          27,
          6,
          21,
          42,
          90,
          163,
          50,
          1,
          61,
          85,
          39,
          69,
          249,
          44,
          122,
          185,
          137,
          27,
          62,
          195,
          138,
          9,
          134,
          4,
          61,
          101,
          75,
          133,
          127,
          281,
          44,
          15,
          255,
          15,
          69,
          700,
          27,
          20,
          4,
          192,
          151,
          172,
          118,
          22,
          1,
          217,
          354,
          223,
          76,
          15,
          1,
          11,
          52,
          3,
          14,
          7,
          1,
          19,
          254,
          62,
          125,
          55,
          58,
          78,
          252,
          22,
          8,
          82,
          316,
          204,
          28,
          25,
          5,
          116,
          100,
          68,
          8,
          122,
          243,
          289,
          6,
          34,
          163,
          74,
          25,
          8,
          24,
          35,
          90,
          13,
          51,
          208,
          17,
          147,
          108,
          34,
          12,
          80,
          4,
          4,
          9,
          294,
          38,
          63,
          528,
          40,
          149,
          77,
          3,
          15,
          36,
          1,
          124,
          331,
          28,
          264,
          17,
          23,
          5,
          91,
          81,
          84,
          80,
          41,
          29,
          93,
          4,
          1,
          52,
          47,
          139,
          46,
          13,
          94,
          155,
          16,
          57,
          39,
          16,
          164,
          87,
          62,
          7,
          9,
          262,
          36,
          2,
          19,
          222,
          45,
          134,
          525,
          74,
          22,
          4,
          151,
          36,
          474,
          5,
          3,
          148,
          16,
          185,
          18,
          77,
          24,
          70,
          64,
          47,
          44,
          37,
          219,
          37,
          45,
          338,
          32,
          100,
          27,
          37,
          16,
          35,
          83,
          128,
          69,
          48,
          50,
          21,
          50,
          674,
          33,
          141,
          65,
          127,
          191,
          14,
          42,
          251,
          15,
          7,
          21,
          62,
          2,
          35,
          88,
          26,
          163,
          1,
          536,
          75,
          205,
          19,
          12,
          79,
          10,
          8,
          137,
          27,
          7,
          30,
          53,
          66,
          44,
          35,
          152,
          69,
          116,
          422,
          18,
          34,
          5,
          25,
          208,
          37,
          48,
          73,
          18,
          21,
          75,
          45,
          11,
          27,
          26,
          23,
          53,
          41,
          266,
          44,
          5,
          1,
          27,
          51,
          44,
          13,
          8,
          39,
          9,
          101,
          123,
          217,
          283,
          44,
          277,
          6,
          35,
          296,
          65,
          79,
          81,
          37,
          105,
          437,
          24,
          22,
          82,
          127,
          99,
          69,
          17,
          91,
          59,
          55,
          13,
          21,
          72,
          77,
          16,
          301,
          247,
          1,
          287,
          33,
          240,
          87,
          31,
          74,
          117,
          243,
          4,
          4,
          51,
          39,
          46,
          38,
          10,
          250,
          9,
          33,
          29,
          5,
          452,
          13,
          112,
          55,
          25,
          29,
          54,
          13,
          15,
          23,
          45,
          33,
          12,
          28,
          57,
          27,
          94,
          36,
          121,
          105,
          112,
          29,
          15,
          86,
          4,
          70,
          244,
          6,
          299,
          8,
          53,
          8,
          4,
          204,
          12,
          34,
          113,
          86,
          130,
          27,
          71,
          39,
          75,
          451,
          71,
          33,
          80,
          2,
          29,
          9,
          95,
          104,
          5,
          310,
          10,
          72,
          147,
          28,
          32,
          536,
          53,
          51,
          29,
          28,
          53,
          6,
          27,
          305,
          96,
          37,
          14,
          112,
          2,
          35,
          205,
          123,
          18,
          62,
          2,
          411,
          36,
          40,
          111,
          106,
          229,
          5,
          59,
          75,
          113,
          43,
          6,
          6,
          33,
          53,
          83,
          94,
          79,
          42,
          84,
          81,
          41,
          245,
          19,
          116,
          42,
          11,
          68,
          146,
          440,
          71,
          21,
          13,
          5,
          38,
          65,
          13,
          106,
          50,
          281,
          45,
          165,
          28,
          62,
          14,
          35,
          6,
          29,
          63,
          26,
          322,
          122,
          74,
          113,
          202,
          113,
          113,
          25,
          312,
          38,
          2,
          120,
          719,
          80,
          705,
          115,
          31,
          73,
          617,
          385,
          43,
          46,
          62,
          1,
          10,
          34,
          93,
          2,
          9,
          48,
          435,
          7,
          41,
          8,
          156,
          198,
          136,
          7,
          34,
          7,
          11,
          151,
          92,
          66,
          93,
          8,
          10,
          529,
          53,
          188,
          20,
          459,
          76,
          63,
          153,
          4,
          16,
          5,
          61,
          22,
          4,
          214,
          23,
          34,
          20,
          15,
          191,
          163,
          14,
          14,
          12,
          5,
          104,
          35,
          97,
          14,
          8,
          159,
          54,
          15,
          141,
          210,
          33,
          153,
          107,
          14,
          50,
          19,
          12,
          100,
          17,
          26,
          60,
          60,
          199,
          50,
          61,
          36,
          6,
          687,
          20,
          4,
          7,
          78,
          1,
          35,
          36,
          114,
          11,
          85,
          82,
          31,
          26,
          105,
          85,
          215,
          567,
          97,
          218,
          79,
          146,
          4,
          3,
          225,
          3,
          137,
          7,
          1,
          38,
          18,
          23,
          3,
          9,
          4,
          34,
          117,
          64,
          53,
          122,
          8,
          78,
          44,
          51,
          47,
          69,
          5,
          38,
          4,
          58,
          105,
          9,
          126,
          124,
          46,
          31,
          14,
          392,
          197,
          33,
          271,
          2,
          61,
          33,
          51,
          29,
          165,
          39,
          18,
          218,
          39,
          222,
          10,
          263,
          29,
          32,
          1,
          67,
          323,
          3,
          179,
          34,
          182,
          60,
          117,
          61,
          111,
          85,
          39,
          90,
          24,
          126,
          19,
          204,
          544,
          36,
          91,
          194,
          50,
          12,
          226,
          170,
          133,
          39,
          199,
          32,
          95,
          55,
          48,
          24,
          92,
          32,
          160,
          53,
          144,
          457,
          88,
          161,
          22,
          1,
          18,
          7,
          7,
          37,
          22,
          190,
          143,
          47,
          106,
          33,
          80,
          82,
          34,
          62,
          41,
          298,
          3,
          149,
          5,
          39,
          87,
          183,
          94,
          115,
          33,
          37,
          18,
          297,
          101,
          72,
          1,
          23,
          47,
          126,
          1,
          28,
          30,
          469,
          104,
          31,
          24,
          69,
          1,
          25,
          81,
          107,
          27,
          52,
          405,
          4,
          5,
          11,
          75,
          90,
          30,
          72,
          61,
          515,
          183,
          21,
          161,
          3,
          4,
          41,
          165,
          28,
          56,
          85,
          143,
          120,
          66,
          28,
          138,
          279,
          113,
          6,
          10,
          78,
          52,
          52,
          10,
          25,
          57,
          34,
          13,
          131,
          27,
          47,
          585,
          181,
          16,
          84,
          33,
          8,
          2,
          95,
          4,
          49,
          53,
          15,
          30,
          91,
          15,
          21,
          72,
          47,
          31,
          51,
          30,
          318,
          75,
          97,
          31,
          22,
          148,
          72,
          39,
          121,
          41,
          43,
          18,
          27,
          66,
          140,
          149,
          55,
          63,
          19,
          34,
          69,
          537,
          23,
          148,
          55,
          117,
          80,
          17,
          68,
          15,
          55,
          15,
          28,
          8,
          458,
          432,
          14,
          37,
          8,
          332,
          84,
          265,
          108,
          41,
          3,
          11,
          40,
          146,
          9,
          162,
          45,
          12,
          2,
          50,
          8,
          12,
          97,
          141,
          37,
          252,
          7,
          86,
          31,
          9,
          41,
          301,
          301,
          1,
          3,
          120,
          70,
          108,
          11,
          73,
          98,
          60,
          76,
          121,
          22,
          192,
          349,
          12,
          83,
          93,
          85,
          17,
          13,
          53,
          378,
          9,
          90,
          28,
          1,
          185,
          7,
          5,
          43,
          19,
          236,
          311,
          22,
          18,
          44,
          59,
          10,
          82,
          85,
          76,
          42,
          6,
          159,
          7,
          124,
          101,
          30,
          96,
          59,
          165,
          71,
          200,
          19,
          142,
          447,
          60,
          251,
          69,
          70,
          40,
          52,
          3,
          4,
          1,
          223,
          22,
          30,
          154,
          4,
          91,
          13,
          2,
          11,
          7,
          8,
          70,
          43,
          118,
          6,
          86,
          78,
          24,
          42,
          702,
          85,
          165,
          128,
          19,
          3,
          83,
          168,
          36,
          42,
          227,
          283,
          125,
          38,
          179,
          20,
          39,
          100,
          95,
          19,
          77,
          13,
          318,
          6,
          145,
          20,
          27,
          64,
          22,
          139,
          323,
          210,
          29,
          2,
          86,
          8,
          351,
          35,
          16,
          62,
          166,
          90,
          606,
          79,
          142,
          95,
          17,
          108,
          86,
          352,
          32,
          137,
          5,
          158,
          10,
          215,
          18,
          10,
          12,
          45,
          64,
          2,
          33,
          8,
          9,
          95,
          46,
          33,
          233,
          4,
          38,
          37,
          2,
          274,
          10,
          180,
          194,
          145,
          98,
          28,
          74,
          65,
          42,
          7,
          171,
          56,
          75,
          693,
          8,
          26,
          7,
          89,
          83,
          47,
          81,
          11,
          2,
          61,
          304,
          161,
          63,
          9,
          221,
          176,
          106,
          8,
          395,
          70,
          161,
          40,
          136,
          37,
          64,
          396,
          186,
          190,
          9,
          44,
          13,
          161,
          51,
          30,
          52,
          100,
          499,
          5,
          365,
          62,
          23,
          39,
          153,
          23,
          40,
          52,
          45,
          176,
          168,
          121,
          72,
          21,
          71,
          1,
          33,
          80,
          15,
          26,
          188,
          9,
          234,
          2,
          32,
          12,
          91,
          543,
          29,
          611,
          73,
          45,
          136,
          56,
          61,
          176,
          3,
          54,
          505,
          231,
          9,
          2,
          382,
          36,
          68,
          268,
          41,
          40,
          235,
          67,
          9,
          67,
          17,
          48,
          6,
          59,
          10,
          30,
          9,
          183,
          161,
          163,
          67,
          77,
          47,
          15,
          72,
          24,
          101,
          99,
          23,
          100,
          57,
          88,
          64,
          4,
          227,
          132,
          45,
          26,
          29,
          21,
          19,
          16,
          6,
          14,
          43,
          13,
          31,
          9,
          56,
          195,
          116,
          13,
          22,
          17,
          20,
          335,
          10,
          115,
          50,
          73,
          27,
          68,
          47,
          93,
          26,
          15,
          67,
          14,
          40,
          22,
          30,
          39,
          355,
          40,
          70,
          651,
          415,
          22,
          3,
          19,
          18,
          2,
          330,
          426,
          33,
          21,
          358,
          22,
          7,
          40,
          62,
          59,
          235,
          61,
          202,
          109,
          26,
          697,
          33,
          40,
          64,
          13,
          66,
          221,
          120,
          61,
          3,
          141,
          248,
          127,
          35,
          24,
          31,
          61,
          25,
          124,
          102,
          28,
          7,
          39,
          70,
          403,
          97,
          271,
          202,
          2,
          243,
          429,
          397,
          39,
          13,
          119,
          20,
          6,
          78,
          14,
          76,
          104,
          159,
          51,
          156,
          46,
          36,
          18,
          24,
          13,
          26,
          87,
          34,
          70,
          129,
          21,
          29,
          62,
          17,
          27,
          63,
          196,
          147,
          119,
          27,
          1,
          2,
          71,
          65,
          161,
          387,
          75,
          85,
          86,
          238,
          3,
          11,
          4,
          30,
          124,
          313,
          3,
          49,
          20,
          11,
          7,
          105,
          52,
          69,
          16,
          27,
          209,
          105,
          37,
          46,
          184,
          44,
          30,
          4,
          67,
          40,
          122,
          172,
          270,
          35,
          73,
          114,
          3,
          123,
          14,
          18,
          18,
          285,
          76,
          38,
          97,
          7,
          6,
          8,
          12,
          100,
          265,
          47,
          66,
          148,
          79,
          153,
          559,
          164,
          87,
          33,
          24,
          113,
          48,
          1,
          5,
          6,
          16,
          87,
          25,
          7,
          453,
          230,
          96,
          69,
          23,
          8,
          150,
          50,
          17,
          104,
          30,
          23,
          357,
          131,
          359,
          10,
          26,
          12,
          37,
          14,
          230,
          5,
          76,
          3,
          34,
          106,
          70,
          50,
          54,
          66,
          91,
          10,
          16,
          27,
          30,
          50,
          119,
          287,
          176,
          16,
          58,
          111,
          42,
          201,
          29,
          15,
          30,
          22,
          13,
          38,
          87,
          84,
          95,
          18,
          59,
          44,
          2,
          9,
          7,
          310,
          153,
          6,
          9,
          17,
          19,
          20,
          156,
          67,
          49,
          547,
          55,
          113,
          5,
          5,
          87,
          416,
          2,
          52,
          25,
          85,
          137,
          46,
          5,
          19,
          52,
          426,
          14,
          70,
          19,
          29,
          22,
          20,
          40,
          1,
          50,
          277,
          89,
          1,
          34,
          25,
          244,
          6,
          402,
          86,
          81,
          21,
          26,
          1,
          38,
          477,
          18,
          30,
          11,
          8,
          30,
          15,
          94,
          74,
          105,
          30,
          221,
          267,
          483,
          137,
          54,
          28,
          15,
          241,
          142,
          24,
          213,
          9,
          17,
          191,
          21,
          46,
          20,
          3,
          86,
          11,
          40,
          81,
          123,
          138,
          132,
          35,
          24,
          16,
          10,
          19,
          33,
          92,
          65,
          67,
          32,
          42,
          19,
          64,
          119,
          112,
          196,
          32,
          28,
          85,
          40,
          84,
          228,
          285,
          64,
          26,
          64,
          6,
          4,
          16,
          42,
          251,
          56,
          50,
          8,
          142,
          309,
          37,
          34,
          21,
          98,
          419,
          24,
          25,
          81,
          179,
          656,
          11,
          63,
          58,
          8,
          31,
          184,
          34,
          32,
          101,
          101,
          25,
          10,
          118,
          102,
          5,
          74,
          5,
          197,
          53,
          63,
          4,
          94,
          80,
          58,
          245,
          8,
          15,
          28,
          10,
          359,
          485,
          77,
          42,
          12,
          7,
          142,
          11,
          63,
          29,
          476,
          6,
          9,
          201,
          303,
          49,
          39,
          136,
          20,
          675,
          17,
          142,
          43,
          12,
          125,
          4,
          1,
          57,
          56,
          19,
          40,
          17,
          109,
          108,
          117,
          40,
          269,
          9,
          90,
          200,
          80,
          153,
          281,
          41,
          63,
          6,
          17,
          208,
          8,
          73,
          59,
          40,
          130,
          83,
          24,
          252,
          21,
          108,
          69,
          5,
          198,
          31,
          109,
          78,
          231,
          2,
          26,
          5,
          470,
          113,
          2,
          83,
          20,
          10,
          9,
          14,
          119,
          251,
          162,
          26,
          160,
          173,
          7,
          111,
          380,
          113,
          70,
          261,
          8,
          61,
          54,
          328,
          243,
          12,
          329,
          303,
          218,
          3,
          31,
          60,
          197,
          1,
          4,
          6,
          13,
          320,
          130,
          26,
          52,
          122,
          28,
          19,
          15,
          298,
          253,
          198,
          46,
          99,
          160,
          16,
          70,
          53,
          95,
          533,
          63,
          20,
          25,
          50,
          11,
          75,
          30,
          68,
          274,
          48,
          166,
          185,
          3,
          61,
          12,
          93,
          31,
          164,
          461,
          24,
          122,
          231,
          11,
          5,
          9,
          2,
          21,
          36,
          176,
          20,
          3,
          11,
          394,
          37,
          6,
          13,
          13,
          26,
          15,
          403,
          50,
          77,
          27,
          6,
          21,
          8,
          34,
          32,
          69,
          97,
          11,
          83,
          342,
          8,
          44,
          20,
          17,
          27,
          380,
          102,
          132,
          10,
          32,
          211,
          534,
          26,
          1,
          142,
          54,
          194,
          8,
          8,
          138,
          30,
          5,
          56,
          83,
          139,
          39,
          5,
          9,
          134,
          38,
          160,
          57,
          25,
          14,
          440,
          57,
          20,
          169,
          256,
          82,
          449,
          20,
          147,
          68,
          20,
          41,
          44,
          346,
          36,
          261,
          32,
          12,
          13,
          29,
          7,
          22,
          41,
          176,
          465,
          22,
          313,
          9,
          17,
          25,
          634,
          64,
          98,
          17,
          259,
          3,
          4,
          181,
          651,
          23,
          3,
          32,
          93,
          21,
          20,
          301,
          7,
          129,
          6,
          95,
          28,
          31,
          132,
          4,
          137,
          255,
          216,
          46,
          129,
          87,
          16,
          282,
          68,
          208,
          181,
          27,
          10,
          108,
          24,
          60,
          31,
          19,
          46,
          4,
          66,
          99,
          27,
          40,
          75,
          149,
          198,
          18,
          10,
          16,
          86,
          33,
          72,
          21,
          4,
          28,
          123,
          9,
          2,
          191,
          19,
          34,
          192,
          106,
          39,
          165,
          17,
          123,
          67,
          81,
          4,
          111,
          47,
          178,
          200,
          42,
          75,
          260,
          6,
          82,
          82,
          17,
          5,
          14,
          134,
          11,
          7,
          62,
          71,
          61,
          28,
          219,
          4,
          44,
          374,
          9,
          23,
          530,
          318,
          29,
          247,
          264,
          54,
          8,
          24,
          186,
          60,
          3,
          73,
          420,
          54,
          29,
          37,
          12,
          651,
          30,
          572,
          156,
          38,
          8,
          42,
          8,
          27,
          309,
          12,
          37,
          414,
          4,
          3,
          40,
          105,
          120,
          103,
          7,
          14,
          13,
          485,
          68,
          12,
          46,
          64,
          346,
          79,
          102,
          5,
          41,
          263,
          27,
          2,
          95,
          610,
          35,
          58,
          234,
          64,
          37,
          183,
          19,
          220,
          11,
          63,
          3,
          6,
          252,
          20,
          22,
          30,
          41,
          58,
          131,
          35,
          584,
          228,
          238,
          4,
          15,
          71,
          515,
          23,
          25,
          90,
          85,
          43,
          565,
          3,
          124,
          50,
          5,
          48,
          39,
          121,
          75,
          62,
          4,
          76,
          62,
          30,
          140,
          61,
          7,
          217,
          12,
          53,
          2,
          84,
          161,
          52,
          10,
          4,
          54,
          10,
          21,
          11,
          264,
          52,
          248,
          58,
          68,
          90,
          40,
          48,
          22,
          72,
          9,
          51,
          125,
          34,
          43,
          75,
          22,
          76,
          8,
          364,
          11,
          264,
          55,
          18,
          260,
          11,
          2,
          75,
          547,
          20,
          25,
          13,
          42,
          33,
          153,
          152,
          26,
          121,
          16,
          23,
          101,
          12,
          60,
          137,
          102,
          45,
          13,
          30,
          74,
          10,
          45,
          3,
          6,
          94,
          7,
          21,
          86,
          11,
          32,
          32,
          130,
          26,
          143,
          117,
          71,
          217,
          6,
          32,
          30,
          26,
          139,
          189,
          99,
          3,
          268,
          57,
          2,
          25,
          33,
          277,
          27,
          281,
          54,
          10,
          94,
          39,
          133,
          51,
          41,
          169,
          70,
          31,
          5,
          69,
          9,
          23,
          19,
          55,
          58,
          39,
          118,
          9,
          585,
          357,
          470,
          38,
          32,
          228,
          117,
          29,
          100,
          4,
          61,
          5,
          299,
          43,
          39,
          89,
          6,
          17,
          11,
          3,
          12,
          32,
          97,
          66,
          434,
          14,
          12,
          64,
          87,
          29,
          59,
          23,
          111,
          56,
          142,
          21,
          3,
          115,
          15,
          11,
          12,
          17,
          28,
          76,
          31,
          105,
          73,
          70,
          94,
          57,
          209,
          12,
          17,
          6,
          145,
          35,
          26,
          14,
          45,
          7,
          30,
          16,
          412,
          74,
          24,
          136,
          106,
          126,
          3,
          28,
          93,
          15,
          87,
          124,
          11,
          40,
          81,
          45,
          213,
          240,
          10,
          134,
          7,
          13,
          13,
          5,
          47,
          31,
          109,
          23,
          104,
          32,
          11,
          41,
          40,
          32,
          550,
          96,
          103,
          12,
          6,
          167,
          43,
          188,
          32,
          28,
          81,
          46,
          161,
          22,
          36,
          50,
          21,
          90,
          145,
          50,
          39,
          9,
          19,
          18,
          75,
          2,
          15,
          36,
          20,
          51,
          151,
          13,
          22,
          7,
          17,
          100,
          119,
          56,
          49,
          38,
          3,
          41,
          13,
          167,
          23,
          10,
          303,
          2,
          109,
          78,
          45,
          28,
          5,
          24,
          33,
          42,
          82,
          37,
          9,
          16,
          85,
          53,
          38,
          1,
          285,
          356,
          43,
          154,
          4,
          64,
          9,
          129,
          114,
          138,
          7,
          170,
          121,
          85,
          12,
          60,
          54,
          153,
          192,
          9,
          14,
          12,
          133,
          107,
          279,
          52,
          10,
          148,
          24,
          17,
          118,
          3,
          24,
          7,
          60,
          177,
          2,
          50,
          398,
          46,
          196,
          264,
          5,
          49,
          72,
          29,
          139,
          24,
          102,
          31,
          61,
          113,
          39,
          90,
          18,
          161,
          7,
          20,
          58,
          193,
          20,
          17,
          94,
          92,
          38,
          2,
          38,
          69,
          2,
          25,
          18,
          16,
          41,
          64,
          72,
          4,
          2,
          40,
          354,
          244,
          39,
          82,
          7,
          10,
          108,
          167,
          1,
          39,
          351,
          63,
          43,
          94,
          87,
          17,
          31,
          133,
          69,
          51,
          69,
          7,
          61,
          14,
          95,
          12,
          5,
          625,
          38,
          18,
          10,
          6,
          36,
          121,
          148,
          99,
          107,
          14,
          7,
          24,
          31,
          41,
          25,
          67,
          15,
          58,
          25,
          8,
          142,
          193,
          148,
          44,
          30,
          452,
          70,
          19,
          74,
          32,
          3,
          79,
          7,
          6,
          20,
          202,
          175,
          68,
          110,
          208,
          19,
          240,
          16,
          597,
          66,
          30,
          393,
          681,
          52,
          21,
          7,
          41,
          37,
          13,
          62,
          25,
          61,
          1,
          70,
          39,
          90,
          60,
          254,
          33,
          133,
          648,
          409,
          37,
          2,
          87,
          55,
          3,
          17,
          94,
          1,
          6,
          1,
          102,
          6,
          25,
          60,
          31,
          15,
          28,
          99,
          10,
          6,
          75,
          52,
          140,
          34,
          119,
          245,
          1,
          130,
          38,
          46,
          330,
          8,
          26,
          97,
          229,
          3,
          19,
          16,
          98,
          47,
          425,
          685,
          168,
          4,
          17,
          142,
          27,
          50,
          22,
          62,
          59,
          51,
          183,
          196,
          541,
          62,
          173,
          63,
          64,
          287,
          7,
          187,
          378,
          183,
          446,
          7,
          88,
          18,
          205,
          35,
          140,
          152,
          146,
          66,
          2,
          3,
          16,
          22,
          2,
          23,
          8,
          56,
          33,
          64,
          16,
          157,
          25,
          11,
          51,
          56,
          290,
          22,
          570,
          77,
          67,
          117,
          14,
          18,
          341,
          76,
          14,
          299,
          405,
          5,
          15,
          24,
          259,
          58,
          150,
          52,
          80,
          26,
          2,
          94,
          8,
          22,
          84,
          23,
          50,
          150,
          33,
          26,
          27,
          60,
          102,
          106,
          103,
          170,
          24,
          57,
          11,
          3,
          185,
          4,
          13,
          10,
          53,
          9,
          116,
          5,
          101,
          74,
          16,
          149,
          6,
          19,
          2,
          42,
          35,
          108,
          5,
          33,
          53,
          8,
          14,
          256,
          58,
          3,
          74,
          100,
          99,
          53,
          221,
          99,
          505,
          45,
          207,
          6,
          240,
          11,
          13,
          41,
          135,
          162,
          61,
          25,
          87,
          9,
          251,
          42,
          47,
          55,
          64,
          33,
          15,
          143,
          324,
          132,
          13,
          32,
          129,
          135,
          16,
          5,
          116,
          96,
          492,
          17,
          43,
          101,
          10,
          13,
          51,
          13,
          65,
          64,
          236,
          540,
          665,
          21,
          132,
          10,
          118,
          3,
          28,
          42,
          256,
          177,
          92,
          164,
          8,
          82,
          706,
          34,
          89,
          73,
          147,
          44,
          78,
          225,
          14,
          149,
          99,
          54,
          6,
          18,
          82,
          56,
          43,
          11,
          303,
          100,
          228,
          169,
          186,
          65,
          9,
          67,
          52,
          197,
          102,
          267,
          7,
          27,
          24,
          42,
          29,
          9,
          90,
          37,
          62,
          8,
          33,
          219,
          207,
          33,
          32,
          93,
          109,
          43,
          133,
          85,
          4,
          37,
          10,
          11,
          10,
          38,
          155,
          82,
          94,
          53,
          31,
          24,
          220,
          13,
          37,
          4,
          83,
          78,
          106,
          54,
          82,
          119,
          107,
          2,
          8,
          132,
          27,
          3,
          41,
          2,
          246,
          458,
          38,
          143,
          178,
          22,
          37,
          298,
          422,
          64,
          254,
          6,
          14,
          2,
          15,
          42,
          30,
          37,
          33,
          133,
          304,
          4,
          4,
          27,
          2,
          31,
          6,
          1,
          10,
          145,
          17,
          55,
          122,
          21,
          28,
          100,
          110,
          164,
          91,
          9,
          6,
          295,
          16,
          46,
          35,
          153,
          231,
          41,
          36,
          218,
          18,
          487,
          61,
          86,
          260,
          591,
          95,
          20,
          192,
          63,
          513,
          1,
          19,
          30,
          62,
          8,
          64,
          265,
          398,
          41,
          5,
          6,
          84,
          7,
          79,
          19,
          236,
          9,
          34,
          4,
          57,
          131,
          12,
          119,
          58,
          12,
          1,
          31,
          549,
          8,
          120,
          72,
          10,
          59,
          388,
          112,
          120,
          105,
          25,
          465,
          1,
          40,
          11,
          75,
          61,
          8,
          126,
          126,
          48,
          1,
          211,
          17,
          87,
          92,
          45,
          3,
          212,
          34,
          3,
          36,
          74,
          220,
          76,
          68,
          125,
          34,
          43,
          61,
          92,
          10,
          9,
          25,
          91,
          530,
          684,
          404,
          487,
          64,
          6,
          125,
          51,
          2,
          62,
          33,
          39,
          55,
          71,
          4,
          28,
          34,
          35,
          27,
          127,
          5,
          103,
          31,
          133,
          38,
          27,
          48,
          8,
          391,
          69,
          19,
          9,
          35,
          6,
          124,
          44,
          13,
          55,
          55,
          59,
          206,
          57,
          7,
          2,
          241,
          12,
          42,
          5,
          9,
          243,
          629,
          5,
          183,
          54,
          47,
          95,
          69,
          35,
          33,
          40,
          26,
          92,
          9,
          12,
          532,
          16,
          112,
          596,
          14,
          14,
          37,
          48,
          104,
          52,
          17,
          8,
          79,
          97,
          9,
          172,
          21,
          41,
          62,
          21,
          15,
          100,
          21,
          24,
          204,
          13,
          70,
          16,
          10,
          108,
          69,
          68,
          8,
          20,
          9,
          115,
          49,
          54,
          60,
          16,
          77,
          124,
          80,
          9,
          65,
          105,
          4,
          85,
          99,
          7,
          7,
          16,
          29,
          2,
          24,
          42,
          62,
          11,
          73,
          41,
          5,
          162,
          94,
          28,
          35,
          166,
          101,
          77,
          44,
          41,
          38,
          122,
          370,
          75,
          11,
          63,
          27,
          245,
          4,
          64,
          30,
          262,
          45,
          154,
          43,
          8,
          62,
          23,
          28,
          131,
          25,
          23,
          2,
          39,
          210,
          26,
          73,
          68,
          301,
          2,
          157,
          91,
          266,
          144,
          32,
          22,
          24,
          11,
          146,
          158,
          5,
          56,
          17,
          55,
          51,
          85,
          129,
          4,
          12,
          25,
          26,
          51,
          6,
          3,
          13,
          8,
          4,
          5,
          2,
          128,
          307,
          61,
          11,
          46,
          12,
          12,
          14,
          45,
          5,
          116,
          278,
          135,
          9,
          185,
          22,
          10,
          10,
          2,
          44,
          184,
          80,
          77,
          154,
          74,
          49,
          10,
          20,
          4,
          75,
          79,
          20,
          56,
          65,
          5,
          60,
          13,
          36,
          7,
          34,
          417,
          7,
          9,
          15,
          8,
          13,
          132,
          28,
          19,
          23,
          114,
          17,
          26,
          374,
          58,
          21,
          19,
          121,
          7,
          133,
          136,
          21,
          118,
          48,
          78,
          275,
          62,
          12,
          89,
          22,
          115,
          7,
          23,
          133,
          6,
          3,
          73,
          189,
          2,
          29,
          99,
          285,
          242,
          60,
          3,
          39,
          31,
          234,
          5,
          60,
          82,
          82,
          40,
          11,
          22,
          204,
          214,
          13,
          24,
          16,
          16,
          79,
          211,
          170,
          241,
          204,
          32,
          13,
          46,
          101,
          57,
          283,
          53,
          90,
          37,
          706,
          27,
          45,
          47,
          25,
          77,
          2,
          50,
          218,
          279,
          45,
          56,
          10,
          80,
          9,
          577,
          22,
          4,
          15,
          66,
          31,
          74,
          90,
          26,
          43,
          38,
          11,
          157,
          10,
          121,
          559,
          24,
          72,
          207,
          188,
          308,
          9,
          6,
          99,
          183,
          98,
          103,
          47,
          44,
          31,
          201,
          188,
          80,
          54,
          173,
          75,
          28,
          158,
          31,
          45,
          8,
          252,
          41,
          78,
          71,
          30,
          26,
          136,
          3,
          5,
          106,
          46,
          105,
          9,
          209,
          63,
          11,
          180,
          16,
          48,
          72,
          58,
          32,
          6,
          44,
          164,
          109,
          4,
          296,
          256,
          114,
          6,
          23,
          180,
          4,
          45,
          68,
          193,
          162,
          20,
          189,
          524,
          54,
          51,
          79,
          25,
          2,
          23,
          91,
          186,
          4,
          477,
          19,
          42,
          19,
          16,
          26,
          2,
          63,
          10,
          12,
          32,
          20,
          74,
          40,
          7,
          122,
          84,
          33,
          267,
          224,
          370,
          7,
          384,
          39,
          65,
          2,
          14,
          21,
          8,
          38,
          33,
          40,
          134,
          88,
          17,
          287,
          1,
          103,
          27,
          42,
          28,
          94,
          15,
          51,
          35,
          54,
          74,
          471,
          62,
          66,
          48,
          6,
          113,
          5,
          11,
          44,
          5,
          14,
          191,
          48,
          186,
          21,
          28,
          210,
          118,
          33,
          6,
          81,
          34,
          4,
          29,
          70,
          136,
          81,
          10,
          139,
          156,
          81,
          25,
          6,
          659,
          31,
          37,
          654,
          26,
          13,
          357,
          49,
          21,
          120,
          15,
          40,
          38,
          23,
          90,
          17,
          57,
          19,
          191,
          193,
          23,
          61,
          134,
          17,
          5,
          12,
          1,
          251,
          42,
          93,
          72,
          53,
          180,
          60,
          18,
          559,
          12,
          27,
          59,
          125,
          52,
          20,
          4,
          35,
          144,
          11,
          17,
          9,
          10,
          125,
          264,
          469,
          7,
          329,
          60,
          9,
          190,
          152,
          24,
          37,
          113,
          8,
          20,
          3,
          22,
          45,
          36,
          74,
          105,
          34,
          7,
          30,
          53,
          31,
          93,
          32,
          210,
          107,
          172,
          82,
          22,
          136,
          74,
          69,
          14,
          32,
          19,
          73,
          22,
          48,
          240,
          40,
          68,
          33,
          47,
          58,
          76,
          60,
          122,
          54,
          17,
          81,
          47,
          151,
          23,
          38,
          70,
          242,
          94,
          35,
          108,
          59,
          38,
          23,
          151,
          79,
          10,
          9,
          35,
          18,
          77,
          91,
          352,
          295,
          55,
          247,
          241,
          5,
          144,
          10,
          4,
          124,
          115,
          9,
          11,
          538,
          456,
          32,
          189,
          287,
          23,
          247,
          22,
          225,
          132,
          20,
          62,
          44,
          13,
          83,
          18,
          97,
          39,
          180,
          283,
          116,
          79,
          12,
          7,
          8,
          50,
          374,
          15,
          134,
          41,
          395,
          257,
          32,
          36,
          45,
          28,
          640,
          255,
          126,
          6,
          117,
          404,
          27,
          3,
          159,
          17,
          99,
          26,
          103,
          35,
          268,
          70,
          42,
          70,
          60,
          12,
          441,
          125,
          45,
          22,
          119,
          28,
          27,
          110,
          372,
          39,
          17,
          17,
          94,
          2,
          76,
          89,
          426,
          89,
          26,
          4,
          79,
          168,
          9,
          1,
          42,
          15,
          15,
          80,
          92,
          17,
          17,
          78,
          161,
          13,
          21,
          1,
          41,
          296,
          3,
          133,
          85,
          26,
          78,
          10,
          63,
          21,
          66,
          203,
          24,
          50,
          74,
          18,
          5,
          20,
          31,
          116,
          24,
          90,
          18,
          26,
          244,
          48,
          175,
          7,
          11,
          83,
          8,
          2,
          37,
          278,
          56,
          65,
          103,
          686,
          10,
          31,
          15,
          20,
          194,
          4,
          9,
          2,
          59,
          10,
          252,
          86,
          386,
          153,
          18,
          169,
          73,
          49,
          41,
          29,
          1,
          226,
          97,
          571,
          120,
          12,
          78,
          13,
          50,
          37,
          7,
          120,
          22,
          16,
          83,
          408,
          5,
          6,
          155,
          7,
          5,
          96,
          49,
          9,
          90,
          57,
          28,
          61,
          22,
          117,
          38,
          139,
          6,
          18,
          125,
          26,
          206,
          143,
          26,
          22,
          34,
          84,
          76,
          6,
          117,
          67,
          19,
          13,
          164,
          31,
          68,
          3,
          1,
          54,
          460,
          116,
          10,
          31,
          187,
          52,
          78,
          55,
          50,
          39,
          15,
          166,
          21,
          256,
          59,
          47,
          40,
          86,
          39,
          14,
          53,
          11,
          112,
          433,
          177,
          18,
          415,
          62,
          35,
          13,
          96,
          86,
          60,
          118,
          65,
          10,
          10,
          13,
          8,
          121,
          9,
          91,
          68,
          6,
          67,
          19,
          330,
          7,
          81,
          128,
          13,
          54,
          147,
          7,
          67,
          14,
          22,
          18,
          76,
          30,
          8,
          45,
          121,
          68,
          155,
          31,
          710,
          1,
          29,
          263,
          156,
          13,
          65,
          76,
          37,
          98,
          97,
          494,
          84,
          172,
          8,
          51,
          95,
          16,
          28,
          86,
          196,
          21,
          3,
          55,
          20,
          20,
          18,
          22,
          7,
          16,
          19,
          9,
          144,
          16,
          263,
          10,
          17,
          49,
          36,
          109,
          157,
          34,
          22,
          50,
          105,
          17,
          4,
          28,
          12,
          127,
          68,
          184,
          6,
          143,
          127,
          33,
          14,
          60,
          12,
          21,
          129,
          64,
          195,
          2,
          22,
          8,
          280,
          199,
          17,
          96,
          52,
          2,
          52,
          46,
          363,
          60,
          65,
          15,
          406,
          48,
          29,
          54,
          58,
          48,
          17,
          526,
          1,
          129,
          64,
          299,
          36,
          350,
          94,
          42,
          40,
          33,
          259,
          15,
          20,
          132,
          38,
          62,
          7,
          52,
          2,
          7,
          18,
          35,
          136,
          155,
          74,
          23,
          92,
          31,
          7,
          7,
          54,
          317,
          98,
          46,
          32,
          24,
          397,
          45,
          8,
          93,
          53,
          124,
          57,
          18,
          32,
          24,
          145,
          34,
          60,
          74,
          6,
          50,
          19,
          19,
          13,
          101,
          211,
          43,
          9,
          210,
          358,
          75,
          16,
          14,
          31,
          84,
          1,
          57,
          153,
          65,
          37,
          157,
          85,
          75,
          106,
          3,
          51,
          433,
          4,
          12,
          46,
          109,
          121,
          141,
          112,
          33,
          383,
          79,
          12,
          31,
          18,
          2,
          55,
          64,
          2,
          12,
          118,
          25,
          6,
          27,
          50,
          30,
          436,
          34,
          85,
          36,
          60,
          17,
          9,
          270,
          85,
          123,
          85,
          96,
          123,
          99,
          82,
          18,
          106,
          96,
          87,
          2,
          55,
          84,
          88,
          3,
          26,
          24,
          4,
          17,
          297,
          86,
          49,
          46,
          1,
          68,
          16,
          24,
          64,
          3,
          33,
          87,
          35,
          46,
          31,
          110,
          73,
          19,
          46,
          175,
          44,
          21,
          101,
          517,
          55,
          1,
          37,
          39,
          296,
          125,
          6,
          67,
          85,
          3,
          20,
          40,
          121,
          3,
          9,
          7,
          9,
          104,
          35,
          105,
          116,
          38,
          2,
          61,
          22,
          434,
          57,
          4,
          64,
          270,
          29,
          12,
          96,
          370,
          539,
          71,
          5,
          65,
          38,
          33,
          47,
          79,
          155,
          1,
          7,
          22,
          107,
          19,
          9,
          110,
          89,
          16,
          8,
          58,
          9,
          171,
          49,
          142,
          37,
          2,
          16,
          69,
          156,
          140,
          24,
          23,
          7,
          453,
          190,
          44,
          604,
          16,
          46,
          461,
          9,
          59,
          58,
          44,
          11,
          55,
          213,
          153,
          3,
          708,
          69,
          20,
          11,
          9,
          59,
          7,
          18,
          28,
          7,
          50,
          6,
          13,
          34,
          3,
          87,
          191,
          14,
          175,
          63,
          272,
          110,
          104,
          89,
          25,
          56,
          29,
          179,
          43,
          209,
          72,
          1,
          16,
          199,
          2,
          567,
          296,
          95,
          28,
          67,
          65,
          93,
          29,
          76,
          3,
          317,
          102,
          14,
          38,
          273,
          367,
          13,
          116,
          386,
          69,
          15,
          9,
          4,
          195,
          203,
          191,
          73,
          79,
          3,
          14,
          36,
          144,
          5,
          45,
          6,
          12,
          4,
          12,
          18,
          68,
          73,
          196,
          3,
          21,
          11,
          47,
          163,
          44,
          23,
          577,
          39,
          2,
          4,
          410,
          55,
          463,
          70,
          9,
          53,
          10,
          20,
          158,
          36,
          38,
          26,
          67,
          15,
          41,
          58,
          683,
          82,
          114,
          135,
          29,
          16,
          61,
          182,
          43,
          140,
          27,
          49,
          7,
          156,
          154,
          90,
          267,
          104,
          88,
          66,
          93,
          31,
          79,
          291,
          9,
          111,
          18,
          16,
          278,
          40,
          2,
          373,
          13,
          3,
          40,
          47,
          58,
          130,
          75,
          10,
          134,
          205,
          8,
          17,
          314,
          28,
          16,
          141,
          19,
          24,
          88,
          18,
          42,
          19,
          14,
          10,
          19,
          56,
          31,
          19,
          183,
          12,
          158,
          102,
          21,
          9,
          342,
          21,
          94,
          6,
          5,
          9,
          20,
          204,
          21,
          43,
          3,
          65,
          86,
          1,
          238,
          6,
          80,
          17,
          143,
          123,
          31,
          258,
          164,
          41,
          4,
          63,
          133,
          3,
          10,
          75,
          20,
          3,
          23,
          80,
          39,
          34,
          38,
          29,
          320,
          140,
          108,
          77,
          125,
          50,
          126,
          12,
          4,
          27,
          229,
          224,
          7,
          243,
          12,
          32,
          101,
          76,
          20,
          92,
          17,
          7,
          104,
          31,
          39,
          290,
          42,
          280,
          16,
          30,
          22,
          34,
          5,
          26,
          38,
          42,
          40,
          6,
          28,
          140,
          23,
          21,
          17,
          7,
          43,
          164,
          566,
          30,
          1,
          18,
          77,
          2,
          8,
          310,
          97,
          25,
          7,
          32,
          67,
          4,
          3,
          123,
          107,
          23,
          335,
          111,
          7,
          8,
          55,
          53,
          174,
          37,
          101,
          44,
          3,
          68,
          326,
          45,
          160,
          50,
          14,
          1,
          32,
          44,
          22,
          76,
          284,
          45,
          103,
          36,
          40,
          8,
          2,
          256,
          130,
          218,
          38,
          8,
          69,
          67,
          170,
          188,
          20,
          164,
          23,
          100,
          19,
          88,
          18,
          17,
          63,
          55,
          62,
          124,
          163,
          152,
          32,
          5,
          45,
          50,
          78,
          49,
          184,
          130,
          104,
          148,
          171,
          22,
          13,
          86,
          74,
          9,
          9,
          25,
          17,
          19,
          11,
          36,
          75,
          18,
          37,
          69,
          4,
          42,
          10,
          3,
          107,
          55,
          51,
          39,
          33,
          175,
          334,
          222,
          167,
          6,
          105,
          27,
          60,
          159,
          20,
          83,
          549,
          338,
          90,
          46,
          179,
          8,
          73,
          21,
          382,
          2,
          26,
          11,
          3,
          545,
          144,
          136,
          7,
          47,
          85,
          59,
          25,
          41,
          235,
          34,
          12,
          11,
          187,
          242,
          50,
          45,
          23,
          3,
          4,
          330,
          26,
          47,
          46,
          31,
          56,
          19,
          79,
          181,
          18,
          80,
          252,
          70,
          58,
          341,
          157,
          10,
          2,
          19,
          17,
          57,
          174,
          66,
          17,
          118,
          31,
          116,
          7,
          101,
          10,
          3,
          5,
          11,
          5,
          40,
          653,
          70,
          58,
          116,
          12,
          16,
          20,
          3,
          90,
          126,
          16,
          83,
          187,
          86,
          64,
          19,
          177,
          4,
          8,
          4,
          23,
          4,
          26,
          81,
          27,
          77,
          108,
          16,
          6,
          9,
          6,
          17,
          36,
          140,
          2,
          169,
          20,
          4,
          2,
          67,
          82,
          16,
          316,
          647,
          45,
          379,
          58,
          69,
          105,
          95,
          58,
          11,
          7,
          93,
          29,
          432,
          36,
          52,
          5,
          27,
          239,
          85,
          185,
          47,
          44,
          77,
          4,
          42,
          55,
          11,
          4,
          2,
          63,
          64,
          86,
          124,
          25,
          48,
          21,
          120,
          141,
          131,
          229,
          97,
          95,
          13,
          237,
          147,
          91,
          151,
          6,
          32,
          142,
          28,
          15,
          18,
          15,
          60,
          387,
          47,
          44,
          55,
          1,
          5,
          79,
          450,
          256,
          4,
          12,
          24,
          31,
          15,
          6,
          680,
          41,
          105,
          25,
          8,
          29,
          49,
          35,
          44,
          703,
          101,
          13,
          26,
          35,
          10,
          22,
          242,
          173,
          32,
          4,
          2,
          77,
          10,
          20,
          143,
          3,
          92,
          99,
          37,
          45,
          94,
          90,
          7,
          49,
          40,
          38,
          258,
          209,
          19,
          6,
          299,
          104,
          82,
          3,
          14,
          66,
          21,
          31,
          20,
          23,
          88,
          57,
          50,
          76,
          56,
          11,
          11,
          91,
          25,
          94,
          111,
          29,
          320,
          30,
          279,
          64,
          19,
          8,
          668,
          45,
          47,
          12,
          45,
          72,
          95,
          19,
          110,
          72,
          44,
          61,
          171,
          123,
          141,
          88,
          16,
          11,
          34,
          18,
          239,
          88,
          65,
          1,
          213,
          60,
          188,
          19,
          11,
          83,
          2,
          16,
          17,
          49,
          101,
          75,
          119,
          157,
          106,
          104,
          198,
          84,
          576,
          538,
          30,
          23,
          18,
          75,
          47,
          35,
          28,
          6,
          10,
          122,
          28,
          177,
          72,
          2,
          92,
          12,
          44,
          97,
          82,
          116,
          15,
          96,
          346,
          245,
          114,
          59,
          39,
          146,
          174,
          17,
          127,
          15,
          1,
          45,
          127,
          2,
          43,
          23,
          8,
          101,
          596,
          193,
          177,
          8,
          44,
          30,
          134,
          15,
          25,
          21,
          408,
          78,
          90,
          5,
          92,
          148,
          6,
          15,
          117,
          52,
          26,
          86,
          99,
          4,
          130,
          694,
          25,
          41,
          15,
          41,
          12,
          43,
          69,
          39,
          6,
          5,
          53,
          121,
          4,
          261,
          463,
          136,
          6,
          13,
          18,
          48,
          93,
          9,
          42,
          14,
          264,
          145,
          50,
          138,
          285,
          50,
          41,
          13,
          146,
          302,
          16,
          32,
          6,
          28,
          7,
          185,
          137,
          24,
          2,
          22,
          86,
          21,
          24,
          406,
          6,
          19,
          43,
          79,
          140,
          214,
          113,
          9,
          20,
          42,
          51,
          263,
          83,
          19,
          65,
          2,
          2,
          31,
          13,
          65,
          82,
          60,
          2,
          48,
          54,
          3,
          5,
          149,
          19,
          38,
          7,
          237,
          17,
          82,
          7,
          46,
          124,
          18,
          86,
          74,
          193,
          144,
          27,
          71,
          29,
          9,
          13,
          6,
          363,
          265,
          17,
          68,
          114,
          73,
          116,
          75,
          12,
          5,
          113,
          74,
          16,
          7,
          4,
          100,
          41,
          152,
          220,
          7,
          4,
          69,
          419,
          109,
          236,
          2,
          24,
          32,
          133,
          35,
          88,
          55,
          26,
          93,
          24,
          171,
          137,
          25,
          269,
          89,
          48,
          170,
          121,
          35,
          67,
          44,
          84,
          33,
          177,
          8,
          26,
          220,
          205,
          110,
          479,
          110,
          41,
          52,
          71,
          34,
          26,
          82,
          17,
          107,
          242,
          35,
          80,
          101,
          395,
          9,
          103,
          264,
          35,
          19,
          5,
          44,
          38,
          83,
          13,
          27,
          103,
          29,
          26,
          24,
          127,
          23,
          157,
          82,
          6,
          2,
          163,
          6,
          133,
          249,
          64,
          12,
          21,
          38,
          120,
          22,
          49,
          28,
          98,
          13,
          8,
          19,
          58,
          17,
          1,
          12,
          13,
          20,
          31,
          382,
          60,
          355,
          96,
          85,
          9,
          417,
          5,
          18,
          26,
          72,
          60,
          2,
          17,
          4,
          150,
          52,
          3,
          218,
          11,
          8,
          268,
          61,
          2,
          37,
          6,
          35,
          72,
          31,
          6,
          113,
          20,
          36,
          2,
          69,
          23,
          197,
          3,
          42,
          9,
          64,
          20,
          6,
          62,
          43,
          94,
          56,
          18,
          19,
          23,
          287,
          20,
          169,
          161,
          106,
          6,
          26,
          245,
          315,
          125,
          106,
          16,
          111,
          69,
          102,
          9,
          25,
          183,
          616,
          172,
          22,
          36,
          2,
          58,
          515,
          1,
          81,
          8,
          124,
          27,
          173,
          88,
          156,
          167,
          61,
          5,
          96,
          22,
          25,
          297,
          113,
          55,
          35,
          111,
          92,
          5,
          31,
          44,
          23,
          57,
          207,
          4,
          19,
          335,
          6,
          3,
          15,
          381,
          205,
          39,
          86,
          54,
          97,
          146,
          1,
          470,
          10,
          15,
          5,
          11,
          250,
          85,
          242,
          225,
          6,
          64,
          106,
          28,
          18,
          183,
          62,
          6,
          137,
          93,
          96,
          336,
          20,
          55,
          14,
          36,
          208,
          40,
          162,
          72,
          47,
          13,
          51,
          53,
          12,
          80,
          41,
          46,
          40,
          6,
          43,
          104,
          10,
          23,
          8,
          61,
          49,
          23,
          65,
          34,
          48,
          26,
          33,
          6,
          34,
          45,
          322,
          22,
          41,
          10,
          4,
          132,
          16,
          51,
          337,
          44,
          85,
          22,
          564,
          50,
          105,
          12,
          28,
          23,
          26,
          46,
          23,
          93,
          185,
          119,
          36,
          81,
          69,
          123,
          64,
          55,
          55,
          345,
          55,
          77,
          122,
          55,
          33,
          9,
          65,
          188,
          17,
          12,
          18,
          105,
          206,
          11,
          36,
          93,
          1,
          3,
          52,
          18,
          332,
          38,
          75,
          13,
          9,
          34,
          39,
          54,
          283,
          6,
          39,
          101,
          40,
          23,
          69,
          24,
          126,
          4,
          8,
          612,
          8,
          26,
          249,
          18,
          53,
          25,
          53,
          106,
          15,
          26,
          154,
          81,
          2,
          62,
          32,
          14,
          280,
          15,
          81,
          21,
          25,
          68,
          63,
          205,
          100,
          365,
          10,
          135,
          155,
          3,
          73,
          69,
          339,
          24,
          28,
          28,
          3,
          98,
          102,
          13,
          19,
          17,
          26,
          72,
          105,
          37,
          111,
          30,
          4,
          10,
          6,
          509,
          157,
          25,
          421,
          181,
          29,
          4,
          68,
          191,
          86,
          172,
          96,
          1,
          8,
          35,
          125,
          615,
          63,
          22,
          6,
          69,
          152,
          15,
          11,
          276,
          141,
          149,
          66,
          21,
          427,
          94,
          23,
          73,
          13,
          6,
          333,
          32,
          31,
          288,
          69,
          5,
          28,
          8,
          66,
          12,
          1,
          38,
          421,
          150,
          13,
          246,
          295,
          471,
          32,
          24,
          14,
          4,
          103,
          7,
          51,
          125,
          27,
          258,
          127,
          28,
          49,
          26,
          77,
          212,
          84,
          28,
          20,
          45,
          10,
          5,
          194,
          437,
          12,
          11,
          36,
          308,
          123,
          38,
          73,
          1,
          136,
          63,
          33,
          96,
          66,
          1,
          15,
          14,
          7,
          120,
          12,
          9,
          358,
          50,
          20,
          434,
          15,
          29,
          1,
          48,
          288,
          15,
          233,
          51,
          9,
          129,
          107,
          57,
          72,
          67,
          29,
          13,
          93,
          124,
          15,
          46,
          236,
          11,
          15,
          44,
          8,
          22,
          21,
          397,
          21,
          3,
          22,
          522,
          131,
          42,
          277,
          119,
          3,
          308,
          49,
          91,
          41,
          191,
          48,
          98,
          536,
          10,
          4,
          12,
          25,
          36,
          58,
          96,
          118,
          46,
          86,
          106,
          41,
          373,
          254,
          233,
          12,
          25,
          296,
          16,
          39,
          12,
          145,
          21,
          200,
          93,
          21,
          78,
          131,
          4,
          63,
          29,
          15,
          59,
          52,
          107,
          39,
          192,
          35,
          190,
          542,
          118,
          351,
          5,
          19,
          11,
          3,
          40,
          139,
          26,
          35,
          499,
          52,
          5,
          81,
          52,
          255,
          54,
          156,
          46,
          11,
          4,
          39,
          40,
          128,
          35,
          42,
          43,
          2,
          2,
          77,
          21,
          31,
          210,
          39,
          61,
          19,
          572,
          78,
          12,
          6,
          7,
          27,
          96,
          201,
          104,
          25,
          153,
          41,
          75,
          20,
          44,
          89,
          5,
          16,
          51,
          4,
          80,
          22,
          17,
          24,
          138,
          63,
          42,
          279,
          166,
          24,
          32,
          8,
          100,
          49,
          10,
          78,
          63,
          79,
          74,
          288,
          229,
          4,
          37,
          14,
          13,
          8,
          65,
          149,
          67,
          11,
          22,
          150,
          62,
          152,
          84,
          9,
          35,
          21,
          3,
          25,
          1,
          15,
          14,
          157,
          156,
          64,
          96,
          193,
          505,
          116,
          16,
          76,
          30,
          101,
          219,
          274,
          144,
          162,
          148,
          13,
          595,
          207,
          195,
          91,
          29,
          65,
          53,
          27,
          72,
          35,
          235,
          15,
          486,
          66,
          22,
          36,
          357,
          39,
          470,
          448,
          57,
          92,
          91,
          48,
          235,
          138,
          147,
          525,
          144,
          24,
          92,
          13,
          38,
          93,
          6,
          18,
          49,
          14,
          31,
          183,
          38,
          636,
          334,
          22,
          240,
          154,
          6,
          318,
          30,
          44,
          6,
          221,
          158,
          85,
          89,
          3,
          12,
          13,
          241,
          24,
          96,
          9,
          173,
          232,
          101,
          91,
          250,
          4,
          13,
          535,
          148,
          44,
          39,
          117,
          8,
          134,
          206,
          18,
          9,
          208,
          27,
          130,
          200,
          285,
          260,
          20,
          53,
          8,
          49,
          9,
          58,
          3,
          49,
          23,
          4,
          94,
          28,
          15,
          22,
          114,
          94,
          70,
          327,
          9,
          25,
          98,
          57,
          70,
          8,
          150,
          17,
          76,
          76,
          124,
          4,
          101,
          13,
          28,
          8,
          25,
          59,
          64,
          79,
          22,
          63,
          7,
          10,
          5,
          259,
          238,
          12,
          54,
          8,
          41,
          48,
          2,
          75,
          35,
          26,
          21,
          18,
          14,
          10,
          74,
          49,
          38,
          188,
          41,
          23,
          4,
          30,
          18,
          17,
          63,
          60,
          45,
          110,
          128,
          66,
          126,
          10,
          382,
          1,
          161,
          21,
          103,
          31,
          31,
          117,
          16,
          13,
          704,
          21,
          106,
          154,
          27,
          43,
          24,
          5,
          70,
          41,
          1,
          17,
          32,
          473,
          17,
          61,
          11,
          7,
          25,
          119,
          5,
          58,
          188,
          206,
          23,
          20,
          70,
          142,
          20,
          48,
          25,
          4,
          57,
          324,
          9,
          10,
          54,
          67,
          143,
          84,
          20,
          11,
          139,
          62,
          7,
          56,
          9,
          148,
          9,
          61,
          275,
          127,
          4,
          4,
          181,
          80,
          116,
          42,
          58,
          80,
          57,
          79,
          52,
          16,
          153,
          17,
          64,
          1,
          176,
          62,
          76,
          15,
          641,
          44,
          155,
          64,
          257,
          68,
          360,
          40,
          14,
          118,
          91,
          99,
          90,
          8,
          179,
          57,
          99,
          47,
          33,
          5,
          76,
          32,
          13,
          115,
          28,
          262,
          136,
          2,
          101,
          82,
          70,
          355,
          186,
          8,
          189,
          14,
          68,
          211,
          8,
          30,
          75,
          39,
          110,
          58,
          10,
          114,
          52,
          19,
          6,
          65,
          445,
          2,
          97,
          55,
          651,
          515,
          2,
          98,
          105,
          4,
          52,
          38,
          49,
          39,
          147,
          18,
          212,
          9,
          134,
          174,
          150,
          16,
          67,
          179,
          49,
          32,
          403,
          361,
          21,
          6,
          56,
          486,
          19,
          3,
          441,
          23,
          32,
          78,
          42,
          62,
          6,
          65,
          52,
          153,
          46,
          37,
          310,
          12,
          17,
          65,
          42,
          27,
          121,
          24,
          93,
          240,
          114,
          48,
          142,
          40,
          105,
          42,
          34,
          12,
          265,
          79,
          76,
          118,
          117,
          199,
          485,
          22,
          42,
          48,
          36,
          80,
          67,
          10,
          64,
          13,
          11,
          7,
          231,
          51,
          148,
          10,
          102,
          64,
          11,
          203,
          28,
          16,
          40,
          255,
          4,
          17,
          227,
          193,
          84,
          343,
          249,
          37,
          258,
          81,
          15,
          132,
          262,
          11,
          8,
          183,
          50,
          46,
          4,
          78,
          41,
          80,
          56,
          11,
          533,
          13,
          262,
          231,
          6,
          32,
          53,
          11,
          130,
          527,
          47,
          1,
          6,
          129,
          51,
          135,
          64,
          31,
          150,
          61,
          4,
          173,
          142,
          13,
          56,
          13,
          601,
          60,
          560,
          52,
          87,
          15,
          43,
          4,
          9,
          8,
          6,
          43,
          119,
          34,
          9,
          5,
          70,
          3,
          81,
          23,
          30,
          129,
          97,
          13,
          102,
          15,
          14,
          138,
          71,
          22,
          56,
          179,
          117,
          132,
          63,
          70,
          14,
          14,
          28,
          20,
          6,
          6,
          700,
          106,
          33,
          27,
          39,
          64,
          245,
          50,
          7,
          13,
          17,
          12,
          2,
          25,
          54,
          56,
          1,
          99,
          176,
          10,
          75,
          18,
          124,
          4,
          8,
          338,
          168,
          99,
          51,
          103,
          21,
          280,
          24,
          43,
          130,
          346,
          36,
          235,
          219,
          39,
          38,
          8,
          6,
          42,
          1,
          28,
          22,
          53,
          12,
          43,
          338,
          14,
          54,
          13,
          32,
          82,
          93,
          85,
          2,
          24,
          10,
          43,
          187,
          14,
          225,
          137,
          56,
          635,
          107,
          78,
          257,
          13,
          12,
          165,
          10,
          59,
          5,
          11,
          89,
          10,
          184,
          2,
          173,
          75,
          13,
          10,
          43,
          192,
          7,
          4,
          107,
          98,
          466,
          432,
          71,
          315,
          425,
          13,
          121,
          110,
          8,
          66,
          16,
          9,
          52,
          7,
          134,
          40,
          18,
          223,
          81,
          37,
          22,
          84,
          8,
          34,
          13,
          64,
          308,
          17,
          79,
          402,
          40,
          183,
          265,
          25,
          63,
          368,
          51,
          50,
          175,
          46,
          108,
          28,
          351,
          54,
          2,
          2,
          132,
          34,
          136,
          39,
          112,
          69,
          27,
          1,
          16,
          59,
          286,
          8,
          264,
          31,
          68,
          217,
          90,
          79,
          559,
          669,
          27,
          24,
          133,
          9,
          4,
          16,
          14,
          26,
          157,
          84,
          172,
          11,
          148,
          630,
          30,
          541,
          21,
          110,
          16,
          15,
          73,
          641,
          43,
          58,
          81,
          1,
          8,
          128,
          306,
          31,
          102,
          62,
          147,
          125,
          124,
          91,
          5,
          62,
          84,
          46,
          57,
          17,
          121,
          97,
          83,
          1,
          76,
          169,
          100,
          191,
          61,
          505,
          14,
          10,
          38,
          25,
          43,
          116,
          39,
          10,
          50,
          403,
          11,
          105,
          11,
          14,
          6,
          352,
          114,
          251,
          1,
          72,
          251,
          43,
          52,
          103,
          36,
          17,
          7,
          24,
          151,
          3,
          17,
          49,
          232,
          8,
          215,
          44,
          24,
          7,
          265,
          30,
          34,
          44,
          72,
          10,
          21,
          72,
          19,
          61,
          41,
          30,
          87,
          91,
          4,
          28,
          150,
          97,
          31,
          411,
          21,
          105,
          68,
          5,
          191,
          90,
          77,
          136,
          127,
          57,
          35,
          141,
          22,
          45,
          73,
          9,
          209,
          198,
          29,
          90,
          8,
          2,
          34,
          480,
          6,
          3,
          320,
          421,
          77,
          198,
          27,
          450,
          42,
          17,
          38,
          1,
          57,
          48,
          47,
          6,
          93,
          151,
          7,
          107,
          115,
          54,
          3,
          11,
          51,
          10,
          281,
          25,
          87,
          150,
          29,
          31,
          51,
          73,
          335,
          49,
          66,
          217,
          7,
          79,
          9,
          88,
          18,
          70,
          84,
          13,
          24,
          90,
          487,
          15,
          150,
          48,
          51,
          103,
          172,
          2,
          398,
          48,
          129,
          18,
          12,
          45,
          64,
          2,
          25,
          100,
          10,
          9,
          187,
          39,
          252,
          95,
          35,
          48,
          12,
          24,
          87,
          23,
          16,
          18,
          94,
          10,
          18,
          10,
          6,
          8,
          95,
          68,
          15,
          197,
          24,
          56,
          36,
          53,
          188,
          72,
          164,
          107,
          10,
          290,
          11,
          75,
          57,
          217,
          15,
          68,
          116,
          85,
          15,
          184,
          551,
          62,
          7,
          7,
          11,
          24,
          164,
          82,
          39,
          50,
          145,
          17,
          1,
          155,
          23,
          73,
          116,
          37,
          217,
          3,
          66,
          16,
          60,
          8,
          1,
          209,
          93,
          19,
          232,
          10,
          172,
          17,
          40,
          174,
          249,
          284,
          2,
          17,
          126,
          339,
          12,
          40,
          72,
          158,
          41,
          74,
          141,
          112,
          18,
          7,
          57,
          34,
          2,
          19,
          111,
          13,
          180,
          694,
          24,
          118,
          15,
          2,
          81,
          18,
          106,
          206,
          98,
          28,
          342,
          36,
          55,
          109,
          64,
          4,
          55,
          158,
          44,
          69,
          454,
          112,
          95,
          130,
          23,
          24,
          23,
          81,
          16,
          96,
          102,
          564,
          44,
          187,
          255,
          124,
          46,
          99,
          64,
          74,
          18,
          39,
          15,
          9,
          198,
          57,
          142,
          38,
          5,
          89,
          10,
          158,
          121,
          70,
          52,
          12,
          64,
          3,
          29,
          41,
          277,
          7,
          29,
          54,
          33,
          24,
          61,
          134,
          13,
          63,
          3,
          23,
          6,
          87,
          362,
          56,
          1,
          131,
          17,
          156,
          169,
          58,
          10,
          5,
          24,
          111,
          75,
          12,
          125,
          15,
          68,
          12,
          230,
          9,
          3,
          32,
          7,
          2,
          90,
          52,
          549,
          68,
          180,
          72,
          144,
          35
         ],
         "xaxis": "x",
         "yaxis": "y"
        }
       ],
       "layout": {
        "barmode": "relative",
        "legend": {
         "tracegroupgap": 0
        },
        "margin": {
         "t": 60
        },
        "template": {
         "data": {
          "bar": [
           {
            "error_x": {
             "color": "#2a3f5f"
            },
            "error_y": {
             "color": "#2a3f5f"
            },
            "marker": {
             "line": {
              "color": "#E5ECF6",
              "width": 0.5
             },
             "pattern": {
              "fillmode": "overlay",
              "size": 10,
              "solidity": 0.2
             }
            },
            "type": "bar"
           }
          ],
          "barpolar": [
           {
            "marker": {
             "line": {
              "color": "#E5ECF6",
              "width": 0.5
             },
             "pattern": {
              "fillmode": "overlay",
              "size": 10,
              "solidity": 0.2
             }
            },
            "type": "barpolar"
           }
          ],
          "carpet": [
           {
            "aaxis": {
             "endlinecolor": "#2a3f5f",
             "gridcolor": "white",
             "linecolor": "white",
             "minorgridcolor": "white",
             "startlinecolor": "#2a3f5f"
            },
            "baxis": {
             "endlinecolor": "#2a3f5f",
             "gridcolor": "white",
             "linecolor": "white",
             "minorgridcolor": "white",
             "startlinecolor": "#2a3f5f"
            },
            "type": "carpet"
           }
          ],
          "choropleth": [
           {
            "colorbar": {
             "outlinewidth": 0,
             "ticks": ""
            },
            "type": "choropleth"
           }
          ],
          "contour": [
           {
            "colorbar": {
             "outlinewidth": 0,
             "ticks": ""
            },
            "colorscale": [
             [
              0,
              "#0d0887"
             ],
             [
              0.1111111111111111,
              "#46039f"
             ],
             [
              0.2222222222222222,
              "#7201a8"
             ],
             [
              0.3333333333333333,
              "#9c179e"
             ],
             [
              0.4444444444444444,
              "#bd3786"
             ],
             [
              0.5555555555555556,
              "#d8576b"
             ],
             [
              0.6666666666666666,
              "#ed7953"
             ],
             [
              0.7777777777777778,
              "#fb9f3a"
             ],
             [
              0.8888888888888888,
              "#fdca26"
             ],
             [
              1,
              "#f0f921"
             ]
            ],
            "type": "contour"
           }
          ],
          "contourcarpet": [
           {
            "colorbar": {
             "outlinewidth": 0,
             "ticks": ""
            },
            "type": "contourcarpet"
           }
          ],
          "heatmap": [
           {
            "colorbar": {
             "outlinewidth": 0,
             "ticks": ""
            },
            "colorscale": [
             [
              0,
              "#0d0887"
             ],
             [
              0.1111111111111111,
              "#46039f"
             ],
             [
              0.2222222222222222,
              "#7201a8"
             ],
             [
              0.3333333333333333,
              "#9c179e"
             ],
             [
              0.4444444444444444,
              "#bd3786"
             ],
             [
              0.5555555555555556,
              "#d8576b"
             ],
             [
              0.6666666666666666,
              "#ed7953"
             ],
             [
              0.7777777777777778,
              "#fb9f3a"
             ],
             [
              0.8888888888888888,
              "#fdca26"
             ],
             [
              1,
              "#f0f921"
             ]
            ],
            "type": "heatmap"
           }
          ],
          "heatmapgl": [
           {
            "colorbar": {
             "outlinewidth": 0,
             "ticks": ""
            },
            "colorscale": [
             [
              0,
              "#0d0887"
             ],
             [
              0.1111111111111111,
              "#46039f"
             ],
             [
              0.2222222222222222,
              "#7201a8"
             ],
             [
              0.3333333333333333,
              "#9c179e"
             ],
             [
              0.4444444444444444,
              "#bd3786"
             ],
             [
              0.5555555555555556,
              "#d8576b"
             ],
             [
              0.6666666666666666,
              "#ed7953"
             ],
             [
              0.7777777777777778,
              "#fb9f3a"
             ],
             [
              0.8888888888888888,
              "#fdca26"
             ],
             [
              1,
              "#f0f921"
             ]
            ],
            "type": "heatmapgl"
           }
          ],
          "histogram": [
           {
            "marker": {
             "pattern": {
              "fillmode": "overlay",
              "size": 10,
              "solidity": 0.2
             }
            },
            "type": "histogram"
           }
          ],
          "histogram2d": [
           {
            "colorbar": {
             "outlinewidth": 0,
             "ticks": ""
            },
            "colorscale": [
             [
              0,
              "#0d0887"
             ],
             [
              0.1111111111111111,
              "#46039f"
             ],
             [
              0.2222222222222222,
              "#7201a8"
             ],
             [
              0.3333333333333333,
              "#9c179e"
             ],
             [
              0.4444444444444444,
              "#bd3786"
             ],
             [
              0.5555555555555556,
              "#d8576b"
             ],
             [
              0.6666666666666666,
              "#ed7953"
             ],
             [
              0.7777777777777778,
              "#fb9f3a"
             ],
             [
              0.8888888888888888,
              "#fdca26"
             ],
             [
              1,
              "#f0f921"
             ]
            ],
            "type": "histogram2d"
           }
          ],
          "histogram2dcontour": [
           {
            "colorbar": {
             "outlinewidth": 0,
             "ticks": ""
            },
            "colorscale": [
             [
              0,
              "#0d0887"
             ],
             [
              0.1111111111111111,
              "#46039f"
             ],
             [
              0.2222222222222222,
              "#7201a8"
             ],
             [
              0.3333333333333333,
              "#9c179e"
             ],
             [
              0.4444444444444444,
              "#bd3786"
             ],
             [
              0.5555555555555556,
              "#d8576b"
             ],
             [
              0.6666666666666666,
              "#ed7953"
             ],
             [
              0.7777777777777778,
              "#fb9f3a"
             ],
             [
              0.8888888888888888,
              "#fdca26"
             ],
             [
              1,
              "#f0f921"
             ]
            ],
            "type": "histogram2dcontour"
           }
          ],
          "mesh3d": [
           {
            "colorbar": {
             "outlinewidth": 0,
             "ticks": ""
            },
            "type": "mesh3d"
           }
          ],
          "parcoords": [
           {
            "line": {
             "colorbar": {
              "outlinewidth": 0,
              "ticks": ""
             }
            },
            "type": "parcoords"
           }
          ],
          "pie": [
           {
            "automargin": true,
            "type": "pie"
           }
          ],
          "scatter": [
           {
            "fillpattern": {
             "fillmode": "overlay",
             "size": 10,
             "solidity": 0.2
            },
            "type": "scatter"
           }
          ],
          "scatter3d": [
           {
            "line": {
             "colorbar": {
              "outlinewidth": 0,
              "ticks": ""
             }
            },
            "marker": {
             "colorbar": {
              "outlinewidth": 0,
              "ticks": ""
             }
            },
            "type": "scatter3d"
           }
          ],
          "scattercarpet": [
           {
            "marker": {
             "colorbar": {
              "outlinewidth": 0,
              "ticks": ""
             }
            },
            "type": "scattercarpet"
           }
          ],
          "scattergeo": [
           {
            "marker": {
             "colorbar": {
              "outlinewidth": 0,
              "ticks": ""
             }
            },
            "type": "scattergeo"
           }
          ],
          "scattergl": [
           {
            "marker": {
             "colorbar": {
              "outlinewidth": 0,
              "ticks": ""
             }
            },
            "type": "scattergl"
           }
          ],
          "scattermapbox": [
           {
            "marker": {
             "colorbar": {
              "outlinewidth": 0,
              "ticks": ""
             }
            },
            "type": "scattermapbox"
           }
          ],
          "scatterpolar": [
           {
            "marker": {
             "colorbar": {
              "outlinewidth": 0,
              "ticks": ""
             }
            },
            "type": "scatterpolar"
           }
          ],
          "scatterpolargl": [
           {
            "marker": {
             "colorbar": {
              "outlinewidth": 0,
              "ticks": ""
             }
            },
            "type": "scatterpolargl"
           }
          ],
          "scatterternary": [
           {
            "marker": {
             "colorbar": {
              "outlinewidth": 0,
              "ticks": ""
             }
            },
            "type": "scatterternary"
           }
          ],
          "surface": [
           {
            "colorbar": {
             "outlinewidth": 0,
             "ticks": ""
            },
            "colorscale": [
             [
              0,
              "#0d0887"
             ],
             [
              0.1111111111111111,
              "#46039f"
             ],
             [
              0.2222222222222222,
              "#7201a8"
             ],
             [
              0.3333333333333333,
              "#9c179e"
             ],
             [
              0.4444444444444444,
              "#bd3786"
             ],
             [
              0.5555555555555556,
              "#d8576b"
             ],
             [
              0.6666666666666666,
              "#ed7953"
             ],
             [
              0.7777777777777778,
              "#fb9f3a"
             ],
             [
              0.8888888888888888,
              "#fdca26"
             ],
             [
              1,
              "#f0f921"
             ]
            ],
            "type": "surface"
           }
          ],
          "table": [
           {
            "cells": {
             "fill": {
              "color": "#EBF0F8"
             },
             "line": {
              "color": "white"
             }
            },
            "header": {
             "fill": {
              "color": "#C8D4E3"
             },
             "line": {
              "color": "white"
             }
            },
            "type": "table"
           }
          ]
         },
         "layout": {
          "annotationdefaults": {
           "arrowcolor": "#2a3f5f",
           "arrowhead": 0,
           "arrowwidth": 1
          },
          "autotypenumbers": "strict",
          "coloraxis": {
           "colorbar": {
            "outlinewidth": 0,
            "ticks": ""
           }
          },
          "colorscale": {
           "diverging": [
            [
             0,
             "#8e0152"
            ],
            [
             0.1,
             "#c51b7d"
            ],
            [
             0.2,
             "#de77ae"
            ],
            [
             0.3,
             "#f1b6da"
            ],
            [
             0.4,
             "#fde0ef"
            ],
            [
             0.5,
             "#f7f7f7"
            ],
            [
             0.6,
             "#e6f5d0"
            ],
            [
             0.7,
             "#b8e186"
            ],
            [
             0.8,
             "#7fbc41"
            ],
            [
             0.9,
             "#4d9221"
            ],
            [
             1,
             "#276419"
            ]
           ],
           "sequential": [
            [
             0,
             "#0d0887"
            ],
            [
             0.1111111111111111,
             "#46039f"
            ],
            [
             0.2222222222222222,
             "#7201a8"
            ],
            [
             0.3333333333333333,
             "#9c179e"
            ],
            [
             0.4444444444444444,
             "#bd3786"
            ],
            [
             0.5555555555555556,
             "#d8576b"
            ],
            [
             0.6666666666666666,
             "#ed7953"
            ],
            [
             0.7777777777777778,
             "#fb9f3a"
            ],
            [
             0.8888888888888888,
             "#fdca26"
            ],
            [
             1,
             "#f0f921"
            ]
           ],
           "sequentialminus": [
            [
             0,
             "#0d0887"
            ],
            [
             0.1111111111111111,
             "#46039f"
            ],
            [
             0.2222222222222222,
             "#7201a8"
            ],
            [
             0.3333333333333333,
             "#9c179e"
            ],
            [
             0.4444444444444444,
             "#bd3786"
            ],
            [
             0.5555555555555556,
             "#d8576b"
            ],
            [
             0.6666666666666666,
             "#ed7953"
            ],
            [
             0.7777777777777778,
             "#fb9f3a"
            ],
            [
             0.8888888888888888,
             "#fdca26"
            ],
            [
             1,
             "#f0f921"
            ]
           ]
          },
          "colorway": [
           "#636efa",
           "#EF553B",
           "#00cc96",
           "#ab63fa",
           "#FFA15A",
           "#19d3f3",
           "#FF6692",
           "#B6E880",
           "#FF97FF",
           "#FECB52"
          ],
          "font": {
           "color": "#2a3f5f"
          },
          "geo": {
           "bgcolor": "white",
           "lakecolor": "white",
           "landcolor": "#E5ECF6",
           "showlakes": true,
           "showland": true,
           "subunitcolor": "white"
          },
          "hoverlabel": {
           "align": "left"
          },
          "hovermode": "closest",
          "mapbox": {
           "style": "light"
          },
          "paper_bgcolor": "white",
          "plot_bgcolor": "#E5ECF6",
          "polar": {
           "angularaxis": {
            "gridcolor": "white",
            "linecolor": "white",
            "ticks": ""
           },
           "bgcolor": "#E5ECF6",
           "radialaxis": {
            "gridcolor": "white",
            "linecolor": "white",
            "ticks": ""
           }
          },
          "scene": {
           "xaxis": {
            "backgroundcolor": "#E5ECF6",
            "gridcolor": "white",
            "gridwidth": 2,
            "linecolor": "white",
            "showbackground": true,
            "ticks": "",
            "zerolinecolor": "white"
           },
           "yaxis": {
            "backgroundcolor": "#E5ECF6",
            "gridcolor": "white",
            "gridwidth": 2,
            "linecolor": "white",
            "showbackground": true,
            "ticks": "",
            "zerolinecolor": "white"
           },
           "zaxis": {
            "backgroundcolor": "#E5ECF6",
            "gridcolor": "white",
            "gridwidth": 2,
            "linecolor": "white",
            "showbackground": true,
            "ticks": "",
            "zerolinecolor": "white"
           }
          },
          "shapedefaults": {
           "line": {
            "color": "#2a3f5f"
           }
          },
          "ternary": {
           "aaxis": {
            "gridcolor": "white",
            "linecolor": "white",
            "ticks": ""
           },
           "baxis": {
            "gridcolor": "white",
            "linecolor": "white",
            "ticks": ""
           },
           "bgcolor": "#E5ECF6",
           "caxis": {
            "gridcolor": "white",
            "linecolor": "white",
            "ticks": ""
           }
          },
          "title": {
           "x": 0.05
          },
          "xaxis": {
           "automargin": true,
           "gridcolor": "white",
           "linecolor": "white",
           "ticks": "",
           "title": {
            "standoff": 15
           },
           "zerolinecolor": "white",
           "zerolinewidth": 2
          },
          "yaxis": {
           "automargin": true,
           "gridcolor": "white",
           "linecolor": "white",
           "ticks": "",
           "title": {
            "standoff": 15
           },
           "zerolinecolor": "white",
           "zerolinewidth": 2
          }
         }
        },
        "xaxis": {
         "anchor": "y",
         "domain": [
          0,
          1
         ],
         "title": {
          "text": "delay_at_checkout_in_minutes"
         }
        },
        "yaxis": {
         "anchor": "x",
         "domain": [
          0,
          1
         ],
         "title": {
          "text": "count"
         }
        }
       }
      }
     },
     "metadata": {},
     "output_type": "display_data"
    }
   ],
   "source": [
    "# Distribution hors :\n",
    "#           Avances\n",
    "#           Retards > 12h\n",
    "\n",
    "df_disp = df[(df[\"delay_at_checkout_in_minutes\"] > 0) & (df[\"delay_at_checkout_in_minutes\"] <= 720)]\n",
    "fig = px.histogram(df_disp, x=\"delay_at_checkout_in_minutes\")\n",
    "fig.show()"
   ]
  },
  {
   "cell_type": "markdown",
   "metadata": {},
   "source": [
    "## Analyse d'impacts en fonction de seuil retenu\n"
   ]
  },
  {
   "cell_type": "code",
   "execution_count": 176,
   "metadata": {},
   "outputs": [],
   "source": [
    "# création de dataframe : impacts en fct de seuil\n",
    "# Seuils de 0 à 12h par tranche de 30mn\n",
    "df_impacts_seuil = pd.DataFrame()\n",
    "\n",
    "df_impacts_seuil[\"seuil\"] = [s for s in range(0, 6*60+1, 30)]\n",
    "\n",
    "list_locs_impactee = []\n",
    "list_retards = [] \n",
    "\n",
    "for seuil in df_impacts_seuil[\"seuil\"] :\n",
    "\n",
    "    nb_locs_impactee = ((df[\"time_delta_with_previous_rental_in_minutes\"] < seuil)).sum()\n",
    "    list_locs_impactee.append(nb_locs_impactee)\n",
    "    \n",
    "    nb_retards = ((df[\"previous_delay_at_checkout_in_minutes\"] > seuil)).sum()\n",
    "    list_retards.append(nb_retards)\n",
    "\n",
    "\n",
    "df_impacts_seuil[\"locs_impactee\"] = list_locs_impactee\n",
    "df_impacts_seuil[\"locs_retards\"] = list_retards"
   ]
  },
  {
   "cell_type": "code",
   "execution_count": 177,
   "metadata": {},
   "outputs": [
    {
     "data": {
      "text/html": [
       "<div>\n",
       "<style scoped>\n",
       "    .dataframe tbody tr th:only-of-type {\n",
       "        vertical-align: middle;\n",
       "    }\n",
       "\n",
       "    .dataframe tbody tr th {\n",
       "        vertical-align: top;\n",
       "    }\n",
       "\n",
       "    .dataframe thead th {\n",
       "        text-align: right;\n",
       "    }\n",
       "</style>\n",
       "<table border=\"1\" class=\"dataframe\">\n",
       "  <thead>\n",
       "    <tr style=\"text-align: right;\">\n",
       "      <th></th>\n",
       "      <th>seuil</th>\n",
       "      <th>locs_impactee</th>\n",
       "      <th>locs_retards</th>\n",
       "    </tr>\n",
       "  </thead>\n",
       "  <tbody>\n",
       "    <tr>\n",
       "      <th>0</th>\n",
       "      <td>0</td>\n",
       "      <td>0</td>\n",
       "      <td>873</td>\n",
       "    </tr>\n",
       "    <tr>\n",
       "      <th>1</th>\n",
       "      <td>30</td>\n",
       "      <td>279</td>\n",
       "      <td>509</td>\n",
       "    </tr>\n",
       "    <tr>\n",
       "      <th>2</th>\n",
       "      <td>60</td>\n",
       "      <td>401</td>\n",
       "      <td>339</td>\n",
       "    </tr>\n",
       "    <tr>\n",
       "      <th>3</th>\n",
       "      <td>90</td>\n",
       "      <td>584</td>\n",
       "      <td>216</td>\n",
       "    </tr>\n",
       "    <tr>\n",
       "      <th>4</th>\n",
       "      <td>120</td>\n",
       "      <td>666</td>\n",
       "      <td>156</td>\n",
       "    </tr>\n",
       "    <tr>\n",
       "      <th>5</th>\n",
       "      <td>150</td>\n",
       "      <td>803</td>\n",
       "      <td>115</td>\n",
       "    </tr>\n",
       "    <tr>\n",
       "      <th>6</th>\n",
       "      <td>180</td>\n",
       "      <td>870</td>\n",
       "      <td>91</td>\n",
       "    </tr>\n",
       "    <tr>\n",
       "      <th>7</th>\n",
       "      <td>210</td>\n",
       "      <td>953</td>\n",
       "      <td>76</td>\n",
       "    </tr>\n",
       "    <tr>\n",
       "      <th>8</th>\n",
       "      <td>240</td>\n",
       "      <td>1001</td>\n",
       "      <td>71</td>\n",
       "    </tr>\n",
       "    <tr>\n",
       "      <th>9</th>\n",
       "      <td>270</td>\n",
       "      <td>1068</td>\n",
       "      <td>52</td>\n",
       "    </tr>\n",
       "    <tr>\n",
       "      <th>10</th>\n",
       "      <td>300</td>\n",
       "      <td>1106</td>\n",
       "      <td>44</td>\n",
       "    </tr>\n",
       "    <tr>\n",
       "      <th>11</th>\n",
       "      <td>330</td>\n",
       "      <td>1144</td>\n",
       "      <td>37</td>\n",
       "    </tr>\n",
       "    <tr>\n",
       "      <th>12</th>\n",
       "      <td>360</td>\n",
       "      <td>1170</td>\n",
       "      <td>34</td>\n",
       "    </tr>\n",
       "  </tbody>\n",
       "</table>\n",
       "</div>"
      ],
      "text/plain": [
       "    seuil  locs_impactee  locs_retards\n",
       "0       0              0           873\n",
       "1      30            279           509\n",
       "2      60            401           339\n",
       "3      90            584           216\n",
       "4     120            666           156\n",
       "5     150            803           115\n",
       "6     180            870            91\n",
       "7     210            953            76\n",
       "8     240           1001            71\n",
       "9     270           1068            52\n",
       "10    300           1106            44\n",
       "11    330           1144            37\n",
       "12    360           1170            34"
      ]
     },
     "execution_count": 177,
     "metadata": {},
     "output_type": "execute_result"
    }
   ],
   "source": [
    "df_impacts_seuil"
   ]
  },
  {
   "cell_type": "code",
   "execution_count": null,
   "metadata": {},
   "outputs": [
    {
     "data": {
      "application/vnd.plotly.v1+json": {
       "config": {
        "plotlyServerURL": "https://plot.ly"
       },
       "data": [
        {
         "hovertemplate": "variable=locs_impactee<br>seuil=%{x}<br>value=%{y}<extra></extra>",
         "legendgroup": "locs_impactee",
         "line": {
          "color": "#636efa",
          "dash": "solid"
         },
         "marker": {
          "symbol": "circle"
         },
         "mode": "lines",
         "name": "locs_impactee",
         "orientation": "v",
         "showlegend": true,
         "type": "scatter",
         "x": [
          0,
          30,
          60,
          90,
          120,
          150,
          180,
          210,
          240,
          270,
          300,
          330,
          360
         ],
         "xaxis": "x",
         "y": [
          0,
          279,
          401,
          584,
          666,
          803,
          870,
          953,
          1001,
          1068,
          1106,
          1144,
          1170
         ],
         "yaxis": "y"
        },
        {
         "hovertemplate": "variable=locs_retards<br>seuil=%{x}<br>value=%{y}<extra></extra>",
         "legendgroup": "locs_retards",
         "line": {
          "color": "#EF553B",
          "dash": "solid"
         },
         "marker": {
          "symbol": "circle"
         },
         "mode": "lines",
         "name": "locs_retards",
         "orientation": "v",
         "showlegend": true,
         "type": "scatter",
         "x": [
          0,
          30,
          60,
          90,
          120,
          150,
          180,
          210,
          240,
          270,
          300,
          330,
          360
         ],
         "xaxis": "x",
         "y": [
          873,
          509,
          339,
          216,
          156,
          115,
          91,
          76,
          71,
          52,
          44,
          37,
          34
         ],
         "yaxis": "y"
        }
       ],
       "layout": {
        "legend": {
         "title": {
          "text": "variable"
         },
         "tracegroupgap": 0
        },
        "template": {
         "data": {
          "bar": [
           {
            "error_x": {
             "color": "#2a3f5f"
            },
            "error_y": {
             "color": "#2a3f5f"
            },
            "marker": {
             "line": {
              "color": "#E5ECF6",
              "width": 0.5
             },
             "pattern": {
              "fillmode": "overlay",
              "size": 10,
              "solidity": 0.2
             }
            },
            "type": "bar"
           }
          ],
          "barpolar": [
           {
            "marker": {
             "line": {
              "color": "#E5ECF6",
              "width": 0.5
             },
             "pattern": {
              "fillmode": "overlay",
              "size": 10,
              "solidity": 0.2
             }
            },
            "type": "barpolar"
           }
          ],
          "carpet": [
           {
            "aaxis": {
             "endlinecolor": "#2a3f5f",
             "gridcolor": "white",
             "linecolor": "white",
             "minorgridcolor": "white",
             "startlinecolor": "#2a3f5f"
            },
            "baxis": {
             "endlinecolor": "#2a3f5f",
             "gridcolor": "white",
             "linecolor": "white",
             "minorgridcolor": "white",
             "startlinecolor": "#2a3f5f"
            },
            "type": "carpet"
           }
          ],
          "choropleth": [
           {
            "colorbar": {
             "outlinewidth": 0,
             "ticks": ""
            },
            "type": "choropleth"
           }
          ],
          "contour": [
           {
            "colorbar": {
             "outlinewidth": 0,
             "ticks": ""
            },
            "colorscale": [
             [
              0,
              "#0d0887"
             ],
             [
              0.1111111111111111,
              "#46039f"
             ],
             [
              0.2222222222222222,
              "#7201a8"
             ],
             [
              0.3333333333333333,
              "#9c179e"
             ],
             [
              0.4444444444444444,
              "#bd3786"
             ],
             [
              0.5555555555555556,
              "#d8576b"
             ],
             [
              0.6666666666666666,
              "#ed7953"
             ],
             [
              0.7777777777777778,
              "#fb9f3a"
             ],
             [
              0.8888888888888888,
              "#fdca26"
             ],
             [
              1,
              "#f0f921"
             ]
            ],
            "type": "contour"
           }
          ],
          "contourcarpet": [
           {
            "colorbar": {
             "outlinewidth": 0,
             "ticks": ""
            },
            "type": "contourcarpet"
           }
          ],
          "heatmap": [
           {
            "colorbar": {
             "outlinewidth": 0,
             "ticks": ""
            },
            "colorscale": [
             [
              0,
              "#0d0887"
             ],
             [
              0.1111111111111111,
              "#46039f"
             ],
             [
              0.2222222222222222,
              "#7201a8"
             ],
             [
              0.3333333333333333,
              "#9c179e"
             ],
             [
              0.4444444444444444,
              "#bd3786"
             ],
             [
              0.5555555555555556,
              "#d8576b"
             ],
             [
              0.6666666666666666,
              "#ed7953"
             ],
             [
              0.7777777777777778,
              "#fb9f3a"
             ],
             [
              0.8888888888888888,
              "#fdca26"
             ],
             [
              1,
              "#f0f921"
             ]
            ],
            "type": "heatmap"
           }
          ],
          "heatmapgl": [
           {
            "colorbar": {
             "outlinewidth": 0,
             "ticks": ""
            },
            "colorscale": [
             [
              0,
              "#0d0887"
             ],
             [
              0.1111111111111111,
              "#46039f"
             ],
             [
              0.2222222222222222,
              "#7201a8"
             ],
             [
              0.3333333333333333,
              "#9c179e"
             ],
             [
              0.4444444444444444,
              "#bd3786"
             ],
             [
              0.5555555555555556,
              "#d8576b"
             ],
             [
              0.6666666666666666,
              "#ed7953"
             ],
             [
              0.7777777777777778,
              "#fb9f3a"
             ],
             [
              0.8888888888888888,
              "#fdca26"
             ],
             [
              1,
              "#f0f921"
             ]
            ],
            "type": "heatmapgl"
           }
          ],
          "histogram": [
           {
            "marker": {
             "pattern": {
              "fillmode": "overlay",
              "size": 10,
              "solidity": 0.2
             }
            },
            "type": "histogram"
           }
          ],
          "histogram2d": [
           {
            "colorbar": {
             "outlinewidth": 0,
             "ticks": ""
            },
            "colorscale": [
             [
              0,
              "#0d0887"
             ],
             [
              0.1111111111111111,
              "#46039f"
             ],
             [
              0.2222222222222222,
              "#7201a8"
             ],
             [
              0.3333333333333333,
              "#9c179e"
             ],
             [
              0.4444444444444444,
              "#bd3786"
             ],
             [
              0.5555555555555556,
              "#d8576b"
             ],
             [
              0.6666666666666666,
              "#ed7953"
             ],
             [
              0.7777777777777778,
              "#fb9f3a"
             ],
             [
              0.8888888888888888,
              "#fdca26"
             ],
             [
              1,
              "#f0f921"
             ]
            ],
            "type": "histogram2d"
           }
          ],
          "histogram2dcontour": [
           {
            "colorbar": {
             "outlinewidth": 0,
             "ticks": ""
            },
            "colorscale": [
             [
              0,
              "#0d0887"
             ],
             [
              0.1111111111111111,
              "#46039f"
             ],
             [
              0.2222222222222222,
              "#7201a8"
             ],
             [
              0.3333333333333333,
              "#9c179e"
             ],
             [
              0.4444444444444444,
              "#bd3786"
             ],
             [
              0.5555555555555556,
              "#d8576b"
             ],
             [
              0.6666666666666666,
              "#ed7953"
             ],
             [
              0.7777777777777778,
              "#fb9f3a"
             ],
             [
              0.8888888888888888,
              "#fdca26"
             ],
             [
              1,
              "#f0f921"
             ]
            ],
            "type": "histogram2dcontour"
           }
          ],
          "mesh3d": [
           {
            "colorbar": {
             "outlinewidth": 0,
             "ticks": ""
            },
            "type": "mesh3d"
           }
          ],
          "parcoords": [
           {
            "line": {
             "colorbar": {
              "outlinewidth": 0,
              "ticks": ""
             }
            },
            "type": "parcoords"
           }
          ],
          "pie": [
           {
            "automargin": true,
            "type": "pie"
           }
          ],
          "scatter": [
           {
            "fillpattern": {
             "fillmode": "overlay",
             "size": 10,
             "solidity": 0.2
            },
            "type": "scatter"
           }
          ],
          "scatter3d": [
           {
            "line": {
             "colorbar": {
              "outlinewidth": 0,
              "ticks": ""
             }
            },
            "marker": {
             "colorbar": {
              "outlinewidth": 0,
              "ticks": ""
             }
            },
            "type": "scatter3d"
           }
          ],
          "scattercarpet": [
           {
            "marker": {
             "colorbar": {
              "outlinewidth": 0,
              "ticks": ""
             }
            },
            "type": "scattercarpet"
           }
          ],
          "scattergeo": [
           {
            "marker": {
             "colorbar": {
              "outlinewidth": 0,
              "ticks": ""
             }
            },
            "type": "scattergeo"
           }
          ],
          "scattergl": [
           {
            "marker": {
             "colorbar": {
              "outlinewidth": 0,
              "ticks": ""
             }
            },
            "type": "scattergl"
           }
          ],
          "scattermapbox": [
           {
            "marker": {
             "colorbar": {
              "outlinewidth": 0,
              "ticks": ""
             }
            },
            "type": "scattermapbox"
           }
          ],
          "scatterpolar": [
           {
            "marker": {
             "colorbar": {
              "outlinewidth": 0,
              "ticks": ""
             }
            },
            "type": "scatterpolar"
           }
          ],
          "scatterpolargl": [
           {
            "marker": {
             "colorbar": {
              "outlinewidth": 0,
              "ticks": ""
             }
            },
            "type": "scatterpolargl"
           }
          ],
          "scatterternary": [
           {
            "marker": {
             "colorbar": {
              "outlinewidth": 0,
              "ticks": ""
             }
            },
            "type": "scatterternary"
           }
          ],
          "surface": [
           {
            "colorbar": {
             "outlinewidth": 0,
             "ticks": ""
            },
            "colorscale": [
             [
              0,
              "#0d0887"
             ],
             [
              0.1111111111111111,
              "#46039f"
             ],
             [
              0.2222222222222222,
              "#7201a8"
             ],
             [
              0.3333333333333333,
              "#9c179e"
             ],
             [
              0.4444444444444444,
              "#bd3786"
             ],
             [
              0.5555555555555556,
              "#d8576b"
             ],
             [
              0.6666666666666666,
              "#ed7953"
             ],
             [
              0.7777777777777778,
              "#fb9f3a"
             ],
             [
              0.8888888888888888,
              "#fdca26"
             ],
             [
              1,
              "#f0f921"
             ]
            ],
            "type": "surface"
           }
          ],
          "table": [
           {
            "cells": {
             "fill": {
              "color": "#EBF0F8"
             },
             "line": {
              "color": "white"
             }
            },
            "header": {
             "fill": {
              "color": "#C8D4E3"
             },
             "line": {
              "color": "white"
             }
            },
            "type": "table"
           }
          ]
         },
         "layout": {
          "annotationdefaults": {
           "arrowcolor": "#2a3f5f",
           "arrowhead": 0,
           "arrowwidth": 1
          },
          "autotypenumbers": "strict",
          "coloraxis": {
           "colorbar": {
            "outlinewidth": 0,
            "ticks": ""
           }
          },
          "colorscale": {
           "diverging": [
            [
             0,
             "#8e0152"
            ],
            [
             0.1,
             "#c51b7d"
            ],
            [
             0.2,
             "#de77ae"
            ],
            [
             0.3,
             "#f1b6da"
            ],
            [
             0.4,
             "#fde0ef"
            ],
            [
             0.5,
             "#f7f7f7"
            ],
            [
             0.6,
             "#e6f5d0"
            ],
            [
             0.7,
             "#b8e186"
            ],
            [
             0.8,
             "#7fbc41"
            ],
            [
             0.9,
             "#4d9221"
            ],
            [
             1,
             "#276419"
            ]
           ],
           "sequential": [
            [
             0,
             "#0d0887"
            ],
            [
             0.1111111111111111,
             "#46039f"
            ],
            [
             0.2222222222222222,
             "#7201a8"
            ],
            [
             0.3333333333333333,
             "#9c179e"
            ],
            [
             0.4444444444444444,
             "#bd3786"
            ],
            [
             0.5555555555555556,
             "#d8576b"
            ],
            [
             0.6666666666666666,
             "#ed7953"
            ],
            [
             0.7777777777777778,
             "#fb9f3a"
            ],
            [
             0.8888888888888888,
             "#fdca26"
            ],
            [
             1,
             "#f0f921"
            ]
           ],
           "sequentialminus": [
            [
             0,
             "#0d0887"
            ],
            [
             0.1111111111111111,
             "#46039f"
            ],
            [
             0.2222222222222222,
             "#7201a8"
            ],
            [
             0.3333333333333333,
             "#9c179e"
            ],
            [
             0.4444444444444444,
             "#bd3786"
            ],
            [
             0.5555555555555556,
             "#d8576b"
            ],
            [
             0.6666666666666666,
             "#ed7953"
            ],
            [
             0.7777777777777778,
             "#fb9f3a"
            ],
            [
             0.8888888888888888,
             "#fdca26"
            ],
            [
             1,
             "#f0f921"
            ]
           ]
          },
          "colorway": [
           "#636efa",
           "#EF553B",
           "#00cc96",
           "#ab63fa",
           "#FFA15A",
           "#19d3f3",
           "#FF6692",
           "#B6E880",
           "#FF97FF",
           "#FECB52"
          ],
          "font": {
           "color": "#2a3f5f"
          },
          "geo": {
           "bgcolor": "white",
           "lakecolor": "white",
           "landcolor": "#E5ECF6",
           "showlakes": true,
           "showland": true,
           "subunitcolor": "white"
          },
          "hoverlabel": {
           "align": "left"
          },
          "hovermode": "closest",
          "mapbox": {
           "style": "light"
          },
          "paper_bgcolor": "white",
          "plot_bgcolor": "#E5ECF6",
          "polar": {
           "angularaxis": {
            "gridcolor": "white",
            "linecolor": "white",
            "ticks": ""
           },
           "bgcolor": "#E5ECF6",
           "radialaxis": {
            "gridcolor": "white",
            "linecolor": "white",
            "ticks": ""
           }
          },
          "scene": {
           "xaxis": {
            "backgroundcolor": "#E5ECF6",
            "gridcolor": "white",
            "gridwidth": 2,
            "linecolor": "white",
            "showbackground": true,
            "ticks": "",
            "zerolinecolor": "white"
           },
           "yaxis": {
            "backgroundcolor": "#E5ECF6",
            "gridcolor": "white",
            "gridwidth": 2,
            "linecolor": "white",
            "showbackground": true,
            "ticks": "",
            "zerolinecolor": "white"
           },
           "zaxis": {
            "backgroundcolor": "#E5ECF6",
            "gridcolor": "white",
            "gridwidth": 2,
            "linecolor": "white",
            "showbackground": true,
            "ticks": "",
            "zerolinecolor": "white"
           }
          },
          "shapedefaults": {
           "line": {
            "color": "#2a3f5f"
           }
          },
          "ternary": {
           "aaxis": {
            "gridcolor": "white",
            "linecolor": "white",
            "ticks": ""
           },
           "baxis": {
            "gridcolor": "white",
            "linecolor": "white",
            "ticks": ""
           },
           "bgcolor": "#E5ECF6",
           "caxis": {
            "gridcolor": "white",
            "linecolor": "white",
            "ticks": ""
           }
          },
          "title": {
           "x": 0.05
          },
          "xaxis": {
           "automargin": true,
           "gridcolor": "white",
           "linecolor": "white",
           "ticks": "",
           "title": {
            "standoff": 15
           },
           "zerolinecolor": "white",
           "zerolinewidth": 2
          },
          "yaxis": {
           "automargin": true,
           "gridcolor": "white",
           "linecolor": "white",
           "ticks": "",
           "title": {
            "standoff": 15
           },
           "zerolinecolor": "white",
           "zerolinewidth": 2
          }
         }
        },
        "title": {
         "text": "cheking_type = tous"
        },
        "xaxis": {
         "anchor": "y",
         "domain": [
          0,
          1
         ],
         "title": {
          "text": "seuil"
         }
        },
        "yaxis": {
         "anchor": "x",
         "domain": [
          0,
          1
         ],
         "title": {
          "text": "value"
         }
        }
       }
      }
     },
     "metadata": {},
     "output_type": "display_data"
    }
   ],
   "source": [
    "# En fct de chaque seuil, potentiellement : le nombre de locations impactées et les retards couverts  \n",
    "\n",
    "fig = px.line(df_impacts_seuil, y = [\"locs_impactee\", \"locs_retards\"], x=\"seuil\", labels=df_cnt.index, title=\"cheking_type = tous\")\n",
    "fig.show()"
   ]
  },
  {
   "cell_type": "markdown",
   "metadata": {},
   "source": [
    "## Analyse d'impacts en fonction de seuil retenu (canal = connect)"
   ]
  },
  {
   "cell_type": "code",
   "execution_count": 182,
   "metadata": {},
   "outputs": [
    {
     "data": {
      "application/vnd.plotly.v1+json": {
       "config": {
        "plotlyServerURL": "https://plot.ly"
       },
       "data": [
        {
         "hovertemplate": "variable=locs_impactee<br>seuil=%{x}<br>value=%{y}<extra></extra>",
         "legendgroup": "locs_impactee",
         "line": {
          "color": "#636efa",
          "dash": "solid"
         },
         "marker": {
          "symbol": "circle"
         },
         "mode": "lines",
         "name": "locs_impactee",
         "orientation": "v",
         "showlegend": true,
         "type": "scatter",
         "x": [
          0,
          30,
          60,
          90,
          120,
          150,
          180,
          210,
          240,
          270,
          300,
          330,
          360
         ],
         "xaxis": "x",
         "y": [
          0,
          131,
          181,
          260,
          295,
          345,
          372,
          409,
          430,
          465,
          478,
          489,
          500
         ],
         "yaxis": "y"
        },
        {
         "hovertemplate": "variable=locs_retards<br>seuil=%{x}<br>value=%{y}<extra></extra>",
         "legendgroup": "locs_retards",
         "line": {
          "color": "#EF553B",
          "dash": "solid"
         },
         "marker": {
          "symbol": "circle"
         },
         "mode": "lines",
         "name": "locs_retards",
         "orientation": "v",
         "showlegend": true,
         "type": "scatter",
         "x": [
          0,
          30,
          60,
          90,
          120,
          150,
          180,
          210,
          240,
          270,
          300,
          330,
          360
         ],
         "xaxis": "x",
         "y": [
          304,
          170,
          107,
          71,
          48,
          36,
          24,
          19,
          16,
          8,
          7,
          7,
          5
         ],
         "yaxis": "y"
        }
       ],
       "layout": {
        "legend": {
         "title": {
          "text": "variable"
         },
         "tracegroupgap": 0
        },
        "template": {
         "data": {
          "bar": [
           {
            "error_x": {
             "color": "#2a3f5f"
            },
            "error_y": {
             "color": "#2a3f5f"
            },
            "marker": {
             "line": {
              "color": "#E5ECF6",
              "width": 0.5
             },
             "pattern": {
              "fillmode": "overlay",
              "size": 10,
              "solidity": 0.2
             }
            },
            "type": "bar"
           }
          ],
          "barpolar": [
           {
            "marker": {
             "line": {
              "color": "#E5ECF6",
              "width": 0.5
             },
             "pattern": {
              "fillmode": "overlay",
              "size": 10,
              "solidity": 0.2
             }
            },
            "type": "barpolar"
           }
          ],
          "carpet": [
           {
            "aaxis": {
             "endlinecolor": "#2a3f5f",
             "gridcolor": "white",
             "linecolor": "white",
             "minorgridcolor": "white",
             "startlinecolor": "#2a3f5f"
            },
            "baxis": {
             "endlinecolor": "#2a3f5f",
             "gridcolor": "white",
             "linecolor": "white",
             "minorgridcolor": "white",
             "startlinecolor": "#2a3f5f"
            },
            "type": "carpet"
           }
          ],
          "choropleth": [
           {
            "colorbar": {
             "outlinewidth": 0,
             "ticks": ""
            },
            "type": "choropleth"
           }
          ],
          "contour": [
           {
            "colorbar": {
             "outlinewidth": 0,
             "ticks": ""
            },
            "colorscale": [
             [
              0,
              "#0d0887"
             ],
             [
              0.1111111111111111,
              "#46039f"
             ],
             [
              0.2222222222222222,
              "#7201a8"
             ],
             [
              0.3333333333333333,
              "#9c179e"
             ],
             [
              0.4444444444444444,
              "#bd3786"
             ],
             [
              0.5555555555555556,
              "#d8576b"
             ],
             [
              0.6666666666666666,
              "#ed7953"
             ],
             [
              0.7777777777777778,
              "#fb9f3a"
             ],
             [
              0.8888888888888888,
              "#fdca26"
             ],
             [
              1,
              "#f0f921"
             ]
            ],
            "type": "contour"
           }
          ],
          "contourcarpet": [
           {
            "colorbar": {
             "outlinewidth": 0,
             "ticks": ""
            },
            "type": "contourcarpet"
           }
          ],
          "heatmap": [
           {
            "colorbar": {
             "outlinewidth": 0,
             "ticks": ""
            },
            "colorscale": [
             [
              0,
              "#0d0887"
             ],
             [
              0.1111111111111111,
              "#46039f"
             ],
             [
              0.2222222222222222,
              "#7201a8"
             ],
             [
              0.3333333333333333,
              "#9c179e"
             ],
             [
              0.4444444444444444,
              "#bd3786"
             ],
             [
              0.5555555555555556,
              "#d8576b"
             ],
             [
              0.6666666666666666,
              "#ed7953"
             ],
             [
              0.7777777777777778,
              "#fb9f3a"
             ],
             [
              0.8888888888888888,
              "#fdca26"
             ],
             [
              1,
              "#f0f921"
             ]
            ],
            "type": "heatmap"
           }
          ],
          "heatmapgl": [
           {
            "colorbar": {
             "outlinewidth": 0,
             "ticks": ""
            },
            "colorscale": [
             [
              0,
              "#0d0887"
             ],
             [
              0.1111111111111111,
              "#46039f"
             ],
             [
              0.2222222222222222,
              "#7201a8"
             ],
             [
              0.3333333333333333,
              "#9c179e"
             ],
             [
              0.4444444444444444,
              "#bd3786"
             ],
             [
              0.5555555555555556,
              "#d8576b"
             ],
             [
              0.6666666666666666,
              "#ed7953"
             ],
             [
              0.7777777777777778,
              "#fb9f3a"
             ],
             [
              0.8888888888888888,
              "#fdca26"
             ],
             [
              1,
              "#f0f921"
             ]
            ],
            "type": "heatmapgl"
           }
          ],
          "histogram": [
           {
            "marker": {
             "pattern": {
              "fillmode": "overlay",
              "size": 10,
              "solidity": 0.2
             }
            },
            "type": "histogram"
           }
          ],
          "histogram2d": [
           {
            "colorbar": {
             "outlinewidth": 0,
             "ticks": ""
            },
            "colorscale": [
             [
              0,
              "#0d0887"
             ],
             [
              0.1111111111111111,
              "#46039f"
             ],
             [
              0.2222222222222222,
              "#7201a8"
             ],
             [
              0.3333333333333333,
              "#9c179e"
             ],
             [
              0.4444444444444444,
              "#bd3786"
             ],
             [
              0.5555555555555556,
              "#d8576b"
             ],
             [
              0.6666666666666666,
              "#ed7953"
             ],
             [
              0.7777777777777778,
              "#fb9f3a"
             ],
             [
              0.8888888888888888,
              "#fdca26"
             ],
             [
              1,
              "#f0f921"
             ]
            ],
            "type": "histogram2d"
           }
          ],
          "histogram2dcontour": [
           {
            "colorbar": {
             "outlinewidth": 0,
             "ticks": ""
            },
            "colorscale": [
             [
              0,
              "#0d0887"
             ],
             [
              0.1111111111111111,
              "#46039f"
             ],
             [
              0.2222222222222222,
              "#7201a8"
             ],
             [
              0.3333333333333333,
              "#9c179e"
             ],
             [
              0.4444444444444444,
              "#bd3786"
             ],
             [
              0.5555555555555556,
              "#d8576b"
             ],
             [
              0.6666666666666666,
              "#ed7953"
             ],
             [
              0.7777777777777778,
              "#fb9f3a"
             ],
             [
              0.8888888888888888,
              "#fdca26"
             ],
             [
              1,
              "#f0f921"
             ]
            ],
            "type": "histogram2dcontour"
           }
          ],
          "mesh3d": [
           {
            "colorbar": {
             "outlinewidth": 0,
             "ticks": ""
            },
            "type": "mesh3d"
           }
          ],
          "parcoords": [
           {
            "line": {
             "colorbar": {
              "outlinewidth": 0,
              "ticks": ""
             }
            },
            "type": "parcoords"
           }
          ],
          "pie": [
           {
            "automargin": true,
            "type": "pie"
           }
          ],
          "scatter": [
           {
            "fillpattern": {
             "fillmode": "overlay",
             "size": 10,
             "solidity": 0.2
            },
            "type": "scatter"
           }
          ],
          "scatter3d": [
           {
            "line": {
             "colorbar": {
              "outlinewidth": 0,
              "ticks": ""
             }
            },
            "marker": {
             "colorbar": {
              "outlinewidth": 0,
              "ticks": ""
             }
            },
            "type": "scatter3d"
           }
          ],
          "scattercarpet": [
           {
            "marker": {
             "colorbar": {
              "outlinewidth": 0,
              "ticks": ""
             }
            },
            "type": "scattercarpet"
           }
          ],
          "scattergeo": [
           {
            "marker": {
             "colorbar": {
              "outlinewidth": 0,
              "ticks": ""
             }
            },
            "type": "scattergeo"
           }
          ],
          "scattergl": [
           {
            "marker": {
             "colorbar": {
              "outlinewidth": 0,
              "ticks": ""
             }
            },
            "type": "scattergl"
           }
          ],
          "scattermapbox": [
           {
            "marker": {
             "colorbar": {
              "outlinewidth": 0,
              "ticks": ""
             }
            },
            "type": "scattermapbox"
           }
          ],
          "scatterpolar": [
           {
            "marker": {
             "colorbar": {
              "outlinewidth": 0,
              "ticks": ""
             }
            },
            "type": "scatterpolar"
           }
          ],
          "scatterpolargl": [
           {
            "marker": {
             "colorbar": {
              "outlinewidth": 0,
              "ticks": ""
             }
            },
            "type": "scatterpolargl"
           }
          ],
          "scatterternary": [
           {
            "marker": {
             "colorbar": {
              "outlinewidth": 0,
              "ticks": ""
             }
            },
            "type": "scatterternary"
           }
          ],
          "surface": [
           {
            "colorbar": {
             "outlinewidth": 0,
             "ticks": ""
            },
            "colorscale": [
             [
              0,
              "#0d0887"
             ],
             [
              0.1111111111111111,
              "#46039f"
             ],
             [
              0.2222222222222222,
              "#7201a8"
             ],
             [
              0.3333333333333333,
              "#9c179e"
             ],
             [
              0.4444444444444444,
              "#bd3786"
             ],
             [
              0.5555555555555556,
              "#d8576b"
             ],
             [
              0.6666666666666666,
              "#ed7953"
             ],
             [
              0.7777777777777778,
              "#fb9f3a"
             ],
             [
              0.8888888888888888,
              "#fdca26"
             ],
             [
              1,
              "#f0f921"
             ]
            ],
            "type": "surface"
           }
          ],
          "table": [
           {
            "cells": {
             "fill": {
              "color": "#EBF0F8"
             },
             "line": {
              "color": "white"
             }
            },
            "header": {
             "fill": {
              "color": "#C8D4E3"
             },
             "line": {
              "color": "white"
             }
            },
            "type": "table"
           }
          ]
         },
         "layout": {
          "annotationdefaults": {
           "arrowcolor": "#2a3f5f",
           "arrowhead": 0,
           "arrowwidth": 1
          },
          "autotypenumbers": "strict",
          "coloraxis": {
           "colorbar": {
            "outlinewidth": 0,
            "ticks": ""
           }
          },
          "colorscale": {
           "diverging": [
            [
             0,
             "#8e0152"
            ],
            [
             0.1,
             "#c51b7d"
            ],
            [
             0.2,
             "#de77ae"
            ],
            [
             0.3,
             "#f1b6da"
            ],
            [
             0.4,
             "#fde0ef"
            ],
            [
             0.5,
             "#f7f7f7"
            ],
            [
             0.6,
             "#e6f5d0"
            ],
            [
             0.7,
             "#b8e186"
            ],
            [
             0.8,
             "#7fbc41"
            ],
            [
             0.9,
             "#4d9221"
            ],
            [
             1,
             "#276419"
            ]
           ],
           "sequential": [
            [
             0,
             "#0d0887"
            ],
            [
             0.1111111111111111,
             "#46039f"
            ],
            [
             0.2222222222222222,
             "#7201a8"
            ],
            [
             0.3333333333333333,
             "#9c179e"
            ],
            [
             0.4444444444444444,
             "#bd3786"
            ],
            [
             0.5555555555555556,
             "#d8576b"
            ],
            [
             0.6666666666666666,
             "#ed7953"
            ],
            [
             0.7777777777777778,
             "#fb9f3a"
            ],
            [
             0.8888888888888888,
             "#fdca26"
            ],
            [
             1,
             "#f0f921"
            ]
           ],
           "sequentialminus": [
            [
             0,
             "#0d0887"
            ],
            [
             0.1111111111111111,
             "#46039f"
            ],
            [
             0.2222222222222222,
             "#7201a8"
            ],
            [
             0.3333333333333333,
             "#9c179e"
            ],
            [
             0.4444444444444444,
             "#bd3786"
            ],
            [
             0.5555555555555556,
             "#d8576b"
            ],
            [
             0.6666666666666666,
             "#ed7953"
            ],
            [
             0.7777777777777778,
             "#fb9f3a"
            ],
            [
             0.8888888888888888,
             "#fdca26"
            ],
            [
             1,
             "#f0f921"
            ]
           ]
          },
          "colorway": [
           "#636efa",
           "#EF553B",
           "#00cc96",
           "#ab63fa",
           "#FFA15A",
           "#19d3f3",
           "#FF6692",
           "#B6E880",
           "#FF97FF",
           "#FECB52"
          ],
          "font": {
           "color": "#2a3f5f"
          },
          "geo": {
           "bgcolor": "white",
           "lakecolor": "white",
           "landcolor": "#E5ECF6",
           "showlakes": true,
           "showland": true,
           "subunitcolor": "white"
          },
          "hoverlabel": {
           "align": "left"
          },
          "hovermode": "closest",
          "mapbox": {
           "style": "light"
          },
          "paper_bgcolor": "white",
          "plot_bgcolor": "#E5ECF6",
          "polar": {
           "angularaxis": {
            "gridcolor": "white",
            "linecolor": "white",
            "ticks": ""
           },
           "bgcolor": "#E5ECF6",
           "radialaxis": {
            "gridcolor": "white",
            "linecolor": "white",
            "ticks": ""
           }
          },
          "scene": {
           "xaxis": {
            "backgroundcolor": "#E5ECF6",
            "gridcolor": "white",
            "gridwidth": 2,
            "linecolor": "white",
            "showbackground": true,
            "ticks": "",
            "zerolinecolor": "white"
           },
           "yaxis": {
            "backgroundcolor": "#E5ECF6",
            "gridcolor": "white",
            "gridwidth": 2,
            "linecolor": "white",
            "showbackground": true,
            "ticks": "",
            "zerolinecolor": "white"
           },
           "zaxis": {
            "backgroundcolor": "#E5ECF6",
            "gridcolor": "white",
            "gridwidth": 2,
            "linecolor": "white",
            "showbackground": true,
            "ticks": "",
            "zerolinecolor": "white"
           }
          },
          "shapedefaults": {
           "line": {
            "color": "#2a3f5f"
           }
          },
          "ternary": {
           "aaxis": {
            "gridcolor": "white",
            "linecolor": "white",
            "ticks": ""
           },
           "baxis": {
            "gridcolor": "white",
            "linecolor": "white",
            "ticks": ""
           },
           "bgcolor": "#E5ECF6",
           "caxis": {
            "gridcolor": "white",
            "linecolor": "white",
            "ticks": ""
           }
          },
          "title": {
           "x": 0.05
          },
          "xaxis": {
           "automargin": true,
           "gridcolor": "white",
           "linecolor": "white",
           "ticks": "",
           "title": {
            "standoff": 15
           },
           "zerolinecolor": "white",
           "zerolinewidth": 2
          },
          "yaxis": {
           "automargin": true,
           "gridcolor": "white",
           "linecolor": "white",
           "ticks": "",
           "title": {
            "standoff": 15
           },
           "zerolinecolor": "white",
           "zerolinewidth": 2
          }
         }
        },
        "title": {
         "text": "cheking_type = connect"
        },
        "xaxis": {
         "anchor": "y",
         "domain": [
          0,
          1
         ],
         "title": {
          "text": "seuil"
         }
        },
        "yaxis": {
         "anchor": "x",
         "domain": [
          0,
          1
         ],
         "title": {
          "text": "value"
         }
        }
       }
      }
     },
     "metadata": {},
     "output_type": "display_data"
    }
   ],
   "source": [
    "# création de dataframe : impacts en fct de seuil\n",
    "# Seuils de 0 à 12h par tranche de 30mn\n",
    "df_impacts_seuil = pd.DataFrame()\n",
    "\n",
    "df_impacts_seuil[\"seuil\"] = [s for s in range(0, 6*60+1, 30)]\n",
    "\n",
    "list_locs_impactee = []\n",
    "list_retards = [] \n",
    "\n",
    "for seuil in df_impacts_seuil[\"seuil\"] :\n",
    "\n",
    "    nb_locs_impactee = ((df[\"checkin_type\"] == \"connect\") & (df[\"time_delta_with_previous_rental_in_minutes\"] < seuil)).sum()\n",
    "    list_locs_impactee.append(nb_locs_impactee)\n",
    "    \n",
    "    nb_retards = ((df[\"checkin_type\"] == \"connect\") & (df[\"previous_delay_at_checkout_in_minutes\"] > seuil)).sum()\n",
    "    list_retards.append(nb_retards)\n",
    "\n",
    "\n",
    "df_impacts_seuil[\"locs_impactee\"] = list_locs_impactee\n",
    "df_impacts_seuil[\"locs_retards\"] = list_retards\n",
    "\n",
    "fig = px.line(df_impacts_seuil, y = [\"locs_impactee\", \"locs_retards\"], x=\"seuil\", labels=df_cnt.index, title=\"cheking_type = connect\")\n",
    "fig.show()"
   ]
  },
  {
   "cell_type": "code",
   "execution_count": 181,
   "metadata": {},
   "outputs": [
    {
     "data": {
      "application/vnd.plotly.v1+json": {
       "config": {
        "plotlyServerURL": "https://plot.ly"
       },
       "data": [
        {
         "hovertemplate": "variable=locs_impactee<br>seuil=%{x}<br>value=%{y}<extra></extra>",
         "legendgroup": "locs_impactee",
         "line": {
          "color": "#636efa",
          "dash": "solid"
         },
         "marker": {
          "symbol": "circle"
         },
         "mode": "lines",
         "name": "locs_impactee",
         "orientation": "v",
         "showlegend": true,
         "type": "scatter",
         "x": [
          0,
          30,
          60,
          90,
          120,
          150,
          180,
          210,
          240,
          270,
          300,
          330,
          360
         ],
         "xaxis": "x",
         "y": [
          0,
          148,
          220,
          324,
          371,
          458,
          498,
          544,
          571,
          603,
          628,
          655,
          670
         ],
         "yaxis": "y"
        },
        {
         "hovertemplate": "variable=locs_retards<br>seuil=%{x}<br>value=%{y}<extra></extra>",
         "legendgroup": "locs_retards",
         "line": {
          "color": "#EF553B",
          "dash": "solid"
         },
         "marker": {
          "symbol": "circle"
         },
         "mode": "lines",
         "name": "locs_retards",
         "orientation": "v",
         "showlegend": true,
         "type": "scatter",
         "x": [
          0,
          30,
          60,
          90,
          120,
          150,
          180,
          210,
          240,
          270,
          300,
          330,
          360
         ],
         "xaxis": "x",
         "y": [
          569,
          339,
          232,
          145,
          108,
          79,
          67,
          57,
          55,
          44,
          37,
          30,
          29
         ],
         "yaxis": "y"
        }
       ],
       "layout": {
        "legend": {
         "title": {
          "text": "variable"
         },
         "tracegroupgap": 0
        },
        "template": {
         "data": {
          "bar": [
           {
            "error_x": {
             "color": "#2a3f5f"
            },
            "error_y": {
             "color": "#2a3f5f"
            },
            "marker": {
             "line": {
              "color": "#E5ECF6",
              "width": 0.5
             },
             "pattern": {
              "fillmode": "overlay",
              "size": 10,
              "solidity": 0.2
             }
            },
            "type": "bar"
           }
          ],
          "barpolar": [
           {
            "marker": {
             "line": {
              "color": "#E5ECF6",
              "width": 0.5
             },
             "pattern": {
              "fillmode": "overlay",
              "size": 10,
              "solidity": 0.2
             }
            },
            "type": "barpolar"
           }
          ],
          "carpet": [
           {
            "aaxis": {
             "endlinecolor": "#2a3f5f",
             "gridcolor": "white",
             "linecolor": "white",
             "minorgridcolor": "white",
             "startlinecolor": "#2a3f5f"
            },
            "baxis": {
             "endlinecolor": "#2a3f5f",
             "gridcolor": "white",
             "linecolor": "white",
             "minorgridcolor": "white",
             "startlinecolor": "#2a3f5f"
            },
            "type": "carpet"
           }
          ],
          "choropleth": [
           {
            "colorbar": {
             "outlinewidth": 0,
             "ticks": ""
            },
            "type": "choropleth"
           }
          ],
          "contour": [
           {
            "colorbar": {
             "outlinewidth": 0,
             "ticks": ""
            },
            "colorscale": [
             [
              0,
              "#0d0887"
             ],
             [
              0.1111111111111111,
              "#46039f"
             ],
             [
              0.2222222222222222,
              "#7201a8"
             ],
             [
              0.3333333333333333,
              "#9c179e"
             ],
             [
              0.4444444444444444,
              "#bd3786"
             ],
             [
              0.5555555555555556,
              "#d8576b"
             ],
             [
              0.6666666666666666,
              "#ed7953"
             ],
             [
              0.7777777777777778,
              "#fb9f3a"
             ],
             [
              0.8888888888888888,
              "#fdca26"
             ],
             [
              1,
              "#f0f921"
             ]
            ],
            "type": "contour"
           }
          ],
          "contourcarpet": [
           {
            "colorbar": {
             "outlinewidth": 0,
             "ticks": ""
            },
            "type": "contourcarpet"
           }
          ],
          "heatmap": [
           {
            "colorbar": {
             "outlinewidth": 0,
             "ticks": ""
            },
            "colorscale": [
             [
              0,
              "#0d0887"
             ],
             [
              0.1111111111111111,
              "#46039f"
             ],
             [
              0.2222222222222222,
              "#7201a8"
             ],
             [
              0.3333333333333333,
              "#9c179e"
             ],
             [
              0.4444444444444444,
              "#bd3786"
             ],
             [
              0.5555555555555556,
              "#d8576b"
             ],
             [
              0.6666666666666666,
              "#ed7953"
             ],
             [
              0.7777777777777778,
              "#fb9f3a"
             ],
             [
              0.8888888888888888,
              "#fdca26"
             ],
             [
              1,
              "#f0f921"
             ]
            ],
            "type": "heatmap"
           }
          ],
          "heatmapgl": [
           {
            "colorbar": {
             "outlinewidth": 0,
             "ticks": ""
            },
            "colorscale": [
             [
              0,
              "#0d0887"
             ],
             [
              0.1111111111111111,
              "#46039f"
             ],
             [
              0.2222222222222222,
              "#7201a8"
             ],
             [
              0.3333333333333333,
              "#9c179e"
             ],
             [
              0.4444444444444444,
              "#bd3786"
             ],
             [
              0.5555555555555556,
              "#d8576b"
             ],
             [
              0.6666666666666666,
              "#ed7953"
             ],
             [
              0.7777777777777778,
              "#fb9f3a"
             ],
             [
              0.8888888888888888,
              "#fdca26"
             ],
             [
              1,
              "#f0f921"
             ]
            ],
            "type": "heatmapgl"
           }
          ],
          "histogram": [
           {
            "marker": {
             "pattern": {
              "fillmode": "overlay",
              "size": 10,
              "solidity": 0.2
             }
            },
            "type": "histogram"
           }
          ],
          "histogram2d": [
           {
            "colorbar": {
             "outlinewidth": 0,
             "ticks": ""
            },
            "colorscale": [
             [
              0,
              "#0d0887"
             ],
             [
              0.1111111111111111,
              "#46039f"
             ],
             [
              0.2222222222222222,
              "#7201a8"
             ],
             [
              0.3333333333333333,
              "#9c179e"
             ],
             [
              0.4444444444444444,
              "#bd3786"
             ],
             [
              0.5555555555555556,
              "#d8576b"
             ],
             [
              0.6666666666666666,
              "#ed7953"
             ],
             [
              0.7777777777777778,
              "#fb9f3a"
             ],
             [
              0.8888888888888888,
              "#fdca26"
             ],
             [
              1,
              "#f0f921"
             ]
            ],
            "type": "histogram2d"
           }
          ],
          "histogram2dcontour": [
           {
            "colorbar": {
             "outlinewidth": 0,
             "ticks": ""
            },
            "colorscale": [
             [
              0,
              "#0d0887"
             ],
             [
              0.1111111111111111,
              "#46039f"
             ],
             [
              0.2222222222222222,
              "#7201a8"
             ],
             [
              0.3333333333333333,
              "#9c179e"
             ],
             [
              0.4444444444444444,
              "#bd3786"
             ],
             [
              0.5555555555555556,
              "#d8576b"
             ],
             [
              0.6666666666666666,
              "#ed7953"
             ],
             [
              0.7777777777777778,
              "#fb9f3a"
             ],
             [
              0.8888888888888888,
              "#fdca26"
             ],
             [
              1,
              "#f0f921"
             ]
            ],
            "type": "histogram2dcontour"
           }
          ],
          "mesh3d": [
           {
            "colorbar": {
             "outlinewidth": 0,
             "ticks": ""
            },
            "type": "mesh3d"
           }
          ],
          "parcoords": [
           {
            "line": {
             "colorbar": {
              "outlinewidth": 0,
              "ticks": ""
             }
            },
            "type": "parcoords"
           }
          ],
          "pie": [
           {
            "automargin": true,
            "type": "pie"
           }
          ],
          "scatter": [
           {
            "fillpattern": {
             "fillmode": "overlay",
             "size": 10,
             "solidity": 0.2
            },
            "type": "scatter"
           }
          ],
          "scatter3d": [
           {
            "line": {
             "colorbar": {
              "outlinewidth": 0,
              "ticks": ""
             }
            },
            "marker": {
             "colorbar": {
              "outlinewidth": 0,
              "ticks": ""
             }
            },
            "type": "scatter3d"
           }
          ],
          "scattercarpet": [
           {
            "marker": {
             "colorbar": {
              "outlinewidth": 0,
              "ticks": ""
             }
            },
            "type": "scattercarpet"
           }
          ],
          "scattergeo": [
           {
            "marker": {
             "colorbar": {
              "outlinewidth": 0,
              "ticks": ""
             }
            },
            "type": "scattergeo"
           }
          ],
          "scattergl": [
           {
            "marker": {
             "colorbar": {
              "outlinewidth": 0,
              "ticks": ""
             }
            },
            "type": "scattergl"
           }
          ],
          "scattermapbox": [
           {
            "marker": {
             "colorbar": {
              "outlinewidth": 0,
              "ticks": ""
             }
            },
            "type": "scattermapbox"
           }
          ],
          "scatterpolar": [
           {
            "marker": {
             "colorbar": {
              "outlinewidth": 0,
              "ticks": ""
             }
            },
            "type": "scatterpolar"
           }
          ],
          "scatterpolargl": [
           {
            "marker": {
             "colorbar": {
              "outlinewidth": 0,
              "ticks": ""
             }
            },
            "type": "scatterpolargl"
           }
          ],
          "scatterternary": [
           {
            "marker": {
             "colorbar": {
              "outlinewidth": 0,
              "ticks": ""
             }
            },
            "type": "scatterternary"
           }
          ],
          "surface": [
           {
            "colorbar": {
             "outlinewidth": 0,
             "ticks": ""
            },
            "colorscale": [
             [
              0,
              "#0d0887"
             ],
             [
              0.1111111111111111,
              "#46039f"
             ],
             [
              0.2222222222222222,
              "#7201a8"
             ],
             [
              0.3333333333333333,
              "#9c179e"
             ],
             [
              0.4444444444444444,
              "#bd3786"
             ],
             [
              0.5555555555555556,
              "#d8576b"
             ],
             [
              0.6666666666666666,
              "#ed7953"
             ],
             [
              0.7777777777777778,
              "#fb9f3a"
             ],
             [
              0.8888888888888888,
              "#fdca26"
             ],
             [
              1,
              "#f0f921"
             ]
            ],
            "type": "surface"
           }
          ],
          "table": [
           {
            "cells": {
             "fill": {
              "color": "#EBF0F8"
             },
             "line": {
              "color": "white"
             }
            },
            "header": {
             "fill": {
              "color": "#C8D4E3"
             },
             "line": {
              "color": "white"
             }
            },
            "type": "table"
           }
          ]
         },
         "layout": {
          "annotationdefaults": {
           "arrowcolor": "#2a3f5f",
           "arrowhead": 0,
           "arrowwidth": 1
          },
          "autotypenumbers": "strict",
          "coloraxis": {
           "colorbar": {
            "outlinewidth": 0,
            "ticks": ""
           }
          },
          "colorscale": {
           "diverging": [
            [
             0,
             "#8e0152"
            ],
            [
             0.1,
             "#c51b7d"
            ],
            [
             0.2,
             "#de77ae"
            ],
            [
             0.3,
             "#f1b6da"
            ],
            [
             0.4,
             "#fde0ef"
            ],
            [
             0.5,
             "#f7f7f7"
            ],
            [
             0.6,
             "#e6f5d0"
            ],
            [
             0.7,
             "#b8e186"
            ],
            [
             0.8,
             "#7fbc41"
            ],
            [
             0.9,
             "#4d9221"
            ],
            [
             1,
             "#276419"
            ]
           ],
           "sequential": [
            [
             0,
             "#0d0887"
            ],
            [
             0.1111111111111111,
             "#46039f"
            ],
            [
             0.2222222222222222,
             "#7201a8"
            ],
            [
             0.3333333333333333,
             "#9c179e"
            ],
            [
             0.4444444444444444,
             "#bd3786"
            ],
            [
             0.5555555555555556,
             "#d8576b"
            ],
            [
             0.6666666666666666,
             "#ed7953"
            ],
            [
             0.7777777777777778,
             "#fb9f3a"
            ],
            [
             0.8888888888888888,
             "#fdca26"
            ],
            [
             1,
             "#f0f921"
            ]
           ],
           "sequentialminus": [
            [
             0,
             "#0d0887"
            ],
            [
             0.1111111111111111,
             "#46039f"
            ],
            [
             0.2222222222222222,
             "#7201a8"
            ],
            [
             0.3333333333333333,
             "#9c179e"
            ],
            [
             0.4444444444444444,
             "#bd3786"
            ],
            [
             0.5555555555555556,
             "#d8576b"
            ],
            [
             0.6666666666666666,
             "#ed7953"
            ],
            [
             0.7777777777777778,
             "#fb9f3a"
            ],
            [
             0.8888888888888888,
             "#fdca26"
            ],
            [
             1,
             "#f0f921"
            ]
           ]
          },
          "colorway": [
           "#636efa",
           "#EF553B",
           "#00cc96",
           "#ab63fa",
           "#FFA15A",
           "#19d3f3",
           "#FF6692",
           "#B6E880",
           "#FF97FF",
           "#FECB52"
          ],
          "font": {
           "color": "#2a3f5f"
          },
          "geo": {
           "bgcolor": "white",
           "lakecolor": "white",
           "landcolor": "#E5ECF6",
           "showlakes": true,
           "showland": true,
           "subunitcolor": "white"
          },
          "hoverlabel": {
           "align": "left"
          },
          "hovermode": "closest",
          "mapbox": {
           "style": "light"
          },
          "paper_bgcolor": "white",
          "plot_bgcolor": "#E5ECF6",
          "polar": {
           "angularaxis": {
            "gridcolor": "white",
            "linecolor": "white",
            "ticks": ""
           },
           "bgcolor": "#E5ECF6",
           "radialaxis": {
            "gridcolor": "white",
            "linecolor": "white",
            "ticks": ""
           }
          },
          "scene": {
           "xaxis": {
            "backgroundcolor": "#E5ECF6",
            "gridcolor": "white",
            "gridwidth": 2,
            "linecolor": "white",
            "showbackground": true,
            "ticks": "",
            "zerolinecolor": "white"
           },
           "yaxis": {
            "backgroundcolor": "#E5ECF6",
            "gridcolor": "white",
            "gridwidth": 2,
            "linecolor": "white",
            "showbackground": true,
            "ticks": "",
            "zerolinecolor": "white"
           },
           "zaxis": {
            "backgroundcolor": "#E5ECF6",
            "gridcolor": "white",
            "gridwidth": 2,
            "linecolor": "white",
            "showbackground": true,
            "ticks": "",
            "zerolinecolor": "white"
           }
          },
          "shapedefaults": {
           "line": {
            "color": "#2a3f5f"
           }
          },
          "ternary": {
           "aaxis": {
            "gridcolor": "white",
            "linecolor": "white",
            "ticks": ""
           },
           "baxis": {
            "gridcolor": "white",
            "linecolor": "white",
            "ticks": ""
           },
           "bgcolor": "#E5ECF6",
           "caxis": {
            "gridcolor": "white",
            "linecolor": "white",
            "ticks": ""
           }
          },
          "title": {
           "x": 0.05
          },
          "xaxis": {
           "automargin": true,
           "gridcolor": "white",
           "linecolor": "white",
           "ticks": "",
           "title": {
            "standoff": 15
           },
           "zerolinecolor": "white",
           "zerolinewidth": 2
          },
          "yaxis": {
           "automargin": true,
           "gridcolor": "white",
           "linecolor": "white",
           "ticks": "",
           "title": {
            "standoff": 15
           },
           "zerolinecolor": "white",
           "zerolinewidth": 2
          }
         }
        },
        "title": {
         "text": "cheking_type = mobile"
        },
        "xaxis": {
         "anchor": "y",
         "domain": [
          0,
          1
         ],
         "title": {
          "text": "seuil"
         }
        },
        "yaxis": {
         "anchor": "x",
         "domain": [
          0,
          1
         ],
         "title": {
          "text": "value"
         }
        }
       }
      }
     },
     "metadata": {},
     "output_type": "display_data"
    }
   ],
   "source": [
    "# création de dataframe : impacts en fct de seuil\n",
    "# Seuils de 0 à 12h par tranche de 30mn\n",
    "df_impacts_seuil = pd.DataFrame()\n",
    "\n",
    "df_impacts_seuil[\"seuil\"] = [s for s in range(0, 6*60+1, 30)]\n",
    "\n",
    "list_locs_impactee = []\n",
    "list_retards = [] \n",
    "\n",
    "for seuil in df_impacts_seuil[\"seuil\"] :\n",
    "\n",
    "    nb_locs_impactee = ((df[\"checkin_type\"] == \"mobile\") & (df[\"time_delta_with_previous_rental_in_minutes\"] < seuil)).sum()\n",
    "    list_locs_impactee.append(nb_locs_impactee)\n",
    "    \n",
    "    nb_retards = ((df[\"checkin_type\"] == \"mobile\") & (df[\"previous_delay_at_checkout_in_minutes\"] > seuil)).sum()\n",
    "    list_retards.append(nb_retards)\n",
    "\n",
    "\n",
    "df_impacts_seuil[\"locs_impactee\"] = list_locs_impactee\n",
    "df_impacts_seuil[\"locs_retards\"] = list_retards\n",
    "\n",
    "fig = px.line(df_impacts_seuil, y = [\"locs_impactee\", \"locs_retards\"], x=\"seuil\", labels=df_cnt.index, title=\"cheking_type = mobile\")\n",
    "fig.show()"
   ]
  },
  {
   "cell_type": "code",
   "execution_count": 3,
   "metadata": {},
   "outputs": [
    {
     "name": "stdout",
     "output_type": "stream",
     "text": [
      "5.24.1\n"
     ]
    }
   ],
   "source": [
    "import plotly as px\n",
    "print(px.__version__)"
   ]
  }
 ],
 "metadata": {
  "kernelspec": {
   "display_name": "base",
   "language": "python",
   "name": "python3"
  },
  "language_info": {
   "codemirror_mode": {
    "name": "ipython",
    "version": 3
   },
   "file_extension": ".py",
   "mimetype": "text/x-python",
   "name": "python",
   "nbconvert_exporter": "python",
   "pygments_lexer": "ipython3",
   "version": "3.11.5"
  }
 },
 "nbformat": 4,
 "nbformat_minor": 4
}
