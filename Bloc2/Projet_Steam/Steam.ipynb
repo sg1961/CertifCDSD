{
 "cells": [
  {
   "cell_type": "markdown",
   "metadata": {
    "application/vnd.databricks.v1+cell": {
     "cellMetadata": {},
     "inputWidgets": {},
     "nuid": "9a63cff3-3b4b-4f0d-b62a-fab5faef6fc6",
     "showTitle": false,
     "tableResultSettingsMap": {},
     "title": ""
    },
    "jupyter": {
     "outputs_hidden": true
    }
   },
   "source": [
    "# Projet Steam\n",
    "## Flattening a nested schema"
   ]
  },
  {
   "cell_type": "code",
   "execution_count": 0,
   "metadata": {
    "application/vnd.databricks.v1+cell": {
     "cellMetadata": {
      "byteLimit": 2048000,
      "rowLimit": 10000
     },
     "inputWidgets": {},
     "nuid": "f1531336-eb00-4fe2-af3d-279c4be9b76f",
     "showTitle": false,
     "tableResultSettingsMap": {},
     "title": ""
    }
   },
   "outputs": [],
   "source": [
    "items_exploded_path = \"s3://full-stack-bigdata-datasets/Big_Data/Project_Steam/steam_game_output.json\"\n",
    "\n",
    "initial_df = spark.read.json(items_exploded_path)"
   ]
  },
  {
   "cell_type": "markdown",
   "metadata": {
    "application/vnd.databricks.v1+cell": {
     "cellMetadata": {},
     "inputWidgets": {},
     "nuid": "70d577b0-a11e-4576-946f-4d2d578e93ea",
     "showTitle": false,
     "tableResultSettingsMap": {},
     "title": ""
    }
   },
   "source": [
    "Count the rows in the DataFrame"
   ]
  },
  {
   "cell_type": "code",
   "execution_count": 0,
   "metadata": {
    "application/vnd.databricks.v1+cell": {
     "cellMetadata": {
      "byteLimit": 2048000,
      "rowLimit": 10000
     },
     "inputWidgets": {},
     "nuid": "057900e2-ba18-4656-b927-f99976411288",
     "showTitle": false,
     "tableResultSettingsMap": {},
     "title": ""
    }
   },
   "outputs": [
    {
     "output_type": "stream",
     "name": "stdout",
     "output_type": "stream",
     "text": [
      "Out[2]: 55691"
     ]
    }
   ],
   "source": [
    "initial_df.count()"
   ]
  },
  {
   "cell_type": "code",
   "execution_count": 0,
   "metadata": {
    "application/vnd.databricks.v1+cell": {
     "cellMetadata": {
      "byteLimit": 2048000,
      "rowLimit": 10000
     },
     "inputWidgets": {},
     "nuid": "16697038-5490-443a-b132-3405004f9e5e",
     "showTitle": false,
     "tableResultSettingsMap": {},
     "title": ""
    }
   },
   "outputs": [
    {
     "output_type": "stream",
     "name": "stdout",
     "output_type": "stream",
     "text": [
      "Out[3]: ['data', 'id']"
     ]
    }
   ],
   "source": [
    "initial_df.columns"
   ]
  },
  {
   "cell_type": "markdown",
   "metadata": {
    "application/vnd.databricks.v1+cell": {
     "cellMetadata": {},
     "inputWidgets": {},
     "nuid": "f1f2eeae-9eef-498a-a877-6d4392801285",
     "showTitle": false,
     "tableResultSettingsMap": {},
     "title": ""
    }
   },
   "source": [
    "The schema of the DataFrame"
   ]
  },
  {
   "cell_type": "code",
   "execution_count": 0,
   "metadata": {
    "application/vnd.databricks.v1+cell": {
     "cellMetadata": {
      "byteLimit": 2048000,
      "rowLimit": 10000
     },
     "inputWidgets": {},
     "nuid": "5ce988b8-ea74-44a5-9915-c93a69045353",
     "showTitle": false,
     "tableResultSettingsMap": {},
     "title": ""
    }
   },
   "outputs": [
    {
     "output_type": "stream",
     "name": "stdout",
     "output_type": "stream",
     "text": [
      "root\n |-- data: struct (nullable = true)\n |    |-- appid: long (nullable = true)\n |    |-- categories: array (nullable = true)\n |    |    |-- element: string (containsNull = true)\n |    |-- ccu: long (nullable = true)\n |    |-- developer: string (nullable = true)\n |    |-- discount: string (nullable = true)\n |    |-- genre: string (nullable = true)\n |    |-- header_image: string (nullable = true)\n |    |-- initialprice: string (nullable = true)\n |    |-- languages: string (nullable = true)\n |    |-- name: string (nullable = true)\n |    |-- negative: long (nullable = true)\n |    |-- owners: string (nullable = true)\n |    |-- platforms: struct (nullable = true)\n |    |    |-- linux: boolean (nullable = true)\n |    |    |-- mac: boolean (nullable = true)\n |    |    |-- windows: boolean (nullable = true)\n |    |-- positive: long (nullable = true)\n |    |-- price: string (nullable = true)\n |    |-- publisher: string (nullable = true)\n |    |-- release_date: string (nullable = true)\n |    |-- required_age: string (nullable = true)\n |    |-- short_description: string (nullable = true)\n |    |-- tags: struct (nullable = true)\n |    |    |-- 1980s: long (nullable = true)\n |    |    |-- 1990's: long (nullable = true)\n |    |    |-- 2.5D: long (nullable = true)\n |    |    |-- 2D: long (nullable = true)\n |    |    |-- 2D Fighter: long (nullable = true)\n |    |    |-- 2D Platformer: long (nullable = true)\n |    |    |-- 360 Video: long (nullable = true)\n |    |    |-- 3D: long (nullable = true)\n |    |    |-- 3D Fighter: long (nullable = true)\n |    |    |-- 3D Platformer: long (nullable = true)\n |    |    |-- 3D Vision: long (nullable = true)\n |    |    |-- 4 Player Local: long (nullable = true)\n |    |    |-- 4X: long (nullable = true)\n |    |    |-- 6DOF: long (nullable = true)\n |    |    |-- 8-bit Music: long (nullable = true)\n |    |    |-- ATV: long (nullable = true)\n |    |    |-- Abstract: long (nullable = true)\n |    |    |-- Action: long (nullable = true)\n |    |    |-- Action RPG: long (nullable = true)\n |    |    |-- Action RTS: long (nullable = true)\n |    |    |-- Action Roguelike: long (nullable = true)\n |    |    |-- Action-Adventure: long (nullable = true)\n |    |    |-- Addictive: long (nullable = true)\n |    |    |-- Adventure: long (nullable = true)\n |    |    |-- Agriculture: long (nullable = true)\n |    |    |-- Aliens: long (nullable = true)\n |    |    |-- Alternate History: long (nullable = true)\n |    |    |-- Ambient: long (nullable = true)\n |    |    |-- America: long (nullable = true)\n |    |    |-- Animation & Modeling: long (nullable = true)\n |    |    |-- Anime: long (nullable = true)\n |    |    |-- Arcade: long (nullable = true)\n |    |    |-- Archery: long (nullable = true)\n |    |    |-- Arena Shooter: long (nullable = true)\n |    |    |-- Artificial Intelligence: long (nullable = true)\n |    |    |-- Assassin: long (nullable = true)\n |    |    |-- Asymmetric VR: long (nullable = true)\n |    |    |-- Asynchronous Multiplayer: long (nullable = true)\n |    |    |-- Atmospheric: long (nullable = true)\n |    |    |-- Audio Production: long (nullable = true)\n |    |    |-- Auto Battler: long (nullable = true)\n |    |    |-- Automation: long (nullable = true)\n |    |    |-- Automobile Sim: long (nullable = true)\n |    |    |-- BMX: long (nullable = true)\n |    |    |-- Base-Building: long (nullable = true)\n |    |    |-- Baseball: long (nullable = true)\n |    |    |-- Based On A Novel: long (nullable = true)\n |    |    |-- Basketball: long (nullable = true)\n |    |    |-- Battle Royale: long (nullable = true)\n |    |    |-- Beat 'em up: long (nullable = true)\n |    |    |-- Beautiful: long (nullable = true)\n |    |    |-- Benchmark: long (nullable = true)\n |    |    |-- Bikes: long (nullable = true)\n |    |    |-- Blood: long (nullable = true)\n |    |    |-- Board Game: long (nullable = true)\n |    |    |-- Boss Rush: long (nullable = true)\n |    |    |-- Bowling: long (nullable = true)\n |    |    |-- Boxing: long (nullable = true)\n |    |    |-- Building: long (nullable = true)\n |    |    |-- Bullet Hell: long (nullable = true)\n |    |    |-- Bullet Time: long (nullable = true)\n |    |    |-- CRPG: long (nullable = true)\n |    |    |-- Capitalism: long (nullable = true)\n |    |    |-- Card Battler: long (nullable = true)\n |    |    |-- Card Game: long (nullable = true)\n |    |    |-- Cartoon: long (nullable = true)\n |    |    |-- Cartoony: long (nullable = true)\n |    |    |-- Casual: long (nullable = true)\n |    |    |-- Cats: long (nullable = true)\n |    |    |-- Character Action Game: long (nullable = true)\n |    |    |-- Character Customization: long (nullable = true)\n |    |    |-- Chess: long (nullable = true)\n |    |    |-- Choices Matter: long (nullable = true)\n |    |    |-- Choose Your Own Adventure: long (nullable = true)\n |    |    |-- Cinematic: long (nullable = true)\n |    |    |-- City Builder: long (nullable = true)\n |    |    |-- Class-Based: long (nullable = true)\n |    |    |-- Classic: long (nullable = true)\n |    |    |-- Clicker: long (nullable = true)\n |    |    |-- Co-op: long (nullable = true)\n |    |    |-- Co-op Campaign: long (nullable = true)\n |    |    |-- Coding: long (nullable = true)\n |    |    |-- Cold War: long (nullable = true)\n |    |    |-- Collectathon: long (nullable = true)\n |    |    |-- Colony Sim: long (nullable = true)\n |    |    |-- Colorful: long (nullable = true)\n |    |    |-- Combat: long (nullable = true)\n |    |    |-- Combat Racing: long (nullable = true)\n |    |    |-- Comedy: long (nullable = true)\n |    |    |-- Comic Book: long (nullable = true)\n |    |    |-- Competitive: long (nullable = true)\n |    |    |-- Conspiracy: long (nullable = true)\n |    |    |-- Controller: long (nullable = true)\n |    |    |-- Conversation: long (nullable = true)\n |    |    |-- Cooking: long (nullable = true)\n |    |    |-- Cozy: long (nullable = true)\n |    |    |-- Crafting: long (nullable = true)\n |    |    |-- Creature Collector: long (nullable = true)\n |    |    |-- Cricket: long (nullable = true)\n |    |    |-- Crime: long (nullable = true)\n |    |    |-- Crowdfunded: long (nullable = true)\n |    |    |-- Cult Classic: long (nullable = true)\n |    |    |-- Cute: long (nullable = true)\n |    |    |-- Cyberpunk: long (nullable = true)\n |    |    |-- Cycling: long (nullable = true)\n |    |    |-- Dark: long (nullable = true)\n |    |    |-- Dark Comedy: long (nullable = true)\n |    |    |-- Dark Fantasy: long (nullable = true)\n |    |    |-- Dark Humor: long (nullable = true)\n |    |    |-- Dating Sim: long (nullable = true)\n |    |    |-- Deckbuilding: long (nullable = true)\n |    |    |-- Demons: long (nullable = true)\n |    |    |-- Design & Illustration: long (nullable = true)\n |    |    |-- Destruction: long (nullable = true)\n |    |    |-- Detective: long (nullable = true)\n |    |    |-- Difficult: long (nullable = true)\n |    |    |-- Dinosaurs: long (nullable = true)\n |    |    |-- Diplomacy: long (nullable = true)\n |    |    |-- Documentary: long (nullable = true)\n |    |    |-- Dog: long (nullable = true)\n |    |    |-- Dragons: long (nullable = true)\n |    |    |-- Drama: long (nullable = true)\n |    |    |-- Driving: long (nullable = true)\n |    |    |-- Dungeon Crawler: long (nullable = true)\n |    |    |-- Dungeons & Dragons: long (nullable = true)\n |    |    |-- Dynamic Narration: long (nullable = true)\n |    |    |-- Dystopian : long (nullable = true)\n |    |    |-- Early Access: long (nullable = true)\n |    |    |-- Economy: long (nullable = true)\n |    |    |-- Education: long (nullable = true)\n |    |    |-- Electronic: long (nullable = true)\n |    |    |-- Electronic Music: long (nullable = true)\n |    |    |-- Emotional: long (nullable = true)\n |    |    |-- Epic: long (nullable = true)\n |    |    |-- Episodic: long (nullable = true)\n |    |    |-- Escape Room: long (nullable = true)\n |    |    |-- Experience: long (nullable = true)\n |    |    |-- Experimental: long (nullable = true)\n |    |    |-- Exploration: long (nullable = true)\n |    |    |-- FMV: long (nullable = true)\n |    |    |-- FPS: long (nullable = true)\n |    |    |-- Faith: long (nullable = true)\n |    |    |-- Family Friendly: long (nullable = true)\n |    |    |-- Fantasy: long (nullable = true)\n |    |    |-- Farming: long (nullable = true)\n |    |    |-- Farming Sim: long (nullable = true)\n |    |    |-- Fast-Paced: long (nullable = true)\n |    |    |-- Feature Film: long (nullable = true)\n |    |    |-- Female Protagonist: long (nullable = true)\n |    |    |-- Fighting: long (nullable = true)\n |    |    |-- First-Person: long (nullable = true)\n |    |    |-- Fishing: long (nullable = true)\n |    |    |-- Flight: long (nullable = true)\n |    |    |-- Football: long (nullable = true)\n |    |    |-- Foreign: long (nullable = true)\n |    |    |-- Free to Play: long (nullable = true)\n |    |    |-- Funny: long (nullable = true)\n |    |    |-- Futuristic: long (nullable = true)\n |    |    |-- Gambling: long (nullable = true)\n |    |    |-- Game Development: long (nullable = true)\n |    |    |-- GameMaker: long (nullable = true)\n |    |    |-- Games Workshop: long (nullable = true)\n |    |    |-- Gaming: long (nullable = true)\n |    |    |-- God Game: long (nullable = true)\n |    |    |-- Golf: long (nullable = true)\n |    |    |-- Gore: long (nullable = true)\n |    |    |-- Gothic: long (nullable = true)\n |    |    |-- Grand Strategy: long (nullable = true)\n |    |    |-- Great Soundtrack: long (nullable = true)\n |    |    |-- Grid-Based Movement: long (nullable = true)\n |    |    |-- Gun Customization: long (nullable = true)\n |    |    |-- Hack and Slash: long (nullable = true)\n |    |    |-- Hacking: long (nullable = true)\n |    |    |-- Hand-drawn: long (nullable = true)\n |    |    |-- Hardware: long (nullable = true)\n |    |    |-- Heist: long (nullable = true)\n |    |    |-- Hentai: long (nullable = true)\n |    |    |-- Hero Shooter: long (nullable = true)\n |    |    |-- Hex Grid: long (nullable = true)\n |    |    |-- Hidden Object: long (nullable = true)\n |    |    |-- Historical: long (nullable = true)\n |    |    |-- Hockey: long (nullable = true)\n |    |    |-- Horror: long (nullable = true)\n |    |    |-- Horses: long (nullable = true)\n |    |    |-- Hunting: long (nullable = true)\n |    |    |-- Idler: long (nullable = true)\n |    |    |-- Illuminati: long (nullable = true)\n |    |    |-- Immersive: long (nullable = true)\n |    |    |-- Immersive Sim: long (nullable = true)\n |    |    |-- Indie: long (nullable = true)\n |    |    |-- Instrumental Music: long (nullable = true)\n |    |    |-- Intentionally Awkward Controls: long (nullable = true)\n |    |    |-- Interactive Fiction: long (nullable = true)\n |    |    |-- Inventory Management: long (nullable = true)\n |    |    |-- Investigation: long (nullable = true)\n |    |    |-- Isometric: long (nullable = true)\n |    |    |-- JRPG: long (nullable = true)\n |    |    |-- Jet: long (nullable = true)\n |    |    |-- Job Simulator: long (nullable = true)\n |    |    |-- Jump Scare: long (nullable = true)\n |    |    |-- Kickstarter: long (nullable = true)\n |    |    |-- LEGO: long (nullable = true)\n |    |    |-- LGBTQ+: long (nullable = true)\n |    |    |-- Lemmings: long (nullable = true)\n |    |    |-- Level Editor: long (nullable = true)\n |    |    |-- Life Sim: long (nullable = true)\n |    |    |-- Linear: long (nullable = true)\n |    |    |-- Local Co-Op: long (nullable = true)\n |    |    |-- Local Multiplayer: long (nullable = true)\n |    |    |-- Logic: long (nullable = true)\n |    |    |-- Loot: long (nullable = true)\n |    |    |-- Looter Shooter: long (nullable = true)\n |    |    |-- Lore-Rich: long (nullable = true)\n |    |    |-- Lovecraftian: long (nullable = true)\n |    |    |-- MMORPG: long (nullable = true)\n |    |    |-- MOBA: long (nullable = true)\n |    |    |-- Magic: long (nullable = true)\n |    |    |-- Mahjong: long (nullable = true)\n |    |    |-- Management: long (nullable = true)\n |    |    |-- Mars: long (nullable = true)\n |    |    |-- Martial Arts: long (nullable = true)\n |    |    |-- Massively Multiplayer: long (nullable = true)\n |    |    |-- Masterpiece: long (nullable = true)\n |    |    |-- Match 3: long (nullable = true)\n |    |    |-- Mature: long (nullable = true)\n |    |    |-- Mechs: long (nullable = true)\n |    |    |-- Medical Sim: long (nullable = true)\n |    |    |-- Medieval: long (nullable = true)\n |    |    |-- Memes: long (nullable = true)\n |    |    |-- Metroidvania: long (nullable = true)\n |    |    |-- Military: long (nullable = true)\n |    |    |-- Mini Golf: long (nullable = true)\n |    |    |-- Minigames: long (nullable = true)\n |    |    |-- Minimalist: long (nullable = true)\n |    |    |-- Mining: long (nullable = true)\n |    |    |-- Mod: long (nullable = true)\n |    |    |-- Moddable: long (nullable = true)\n |    |    |-- Modern: long (nullable = true)\n |    |    |-- Motocross: long (nullable = true)\n |    |    |-- Motorbike: long (nullable = true)\n |    |    |-- Mouse only: long (nullable = true)\n |    |    |-- Movie: long (nullable = true)\n |    |    |-- Multiplayer: long (nullable = true)\n |    |    |-- Multiple Endings: long (nullable = true)\n |    |    |-- Music: long (nullable = true)\n |    |    |-- Music-Based Procedural Generation: long (nullable = true)\n |    |    |-- Musou: long (nullable = true)\n |    |    |-- Mystery: long (nullable = true)\n |    |    |-- Mystery Dungeon: long (nullable = true)\n |    |    |-- Mythology: long (nullable = true)\n |    |    |-- NSFW: long (nullable = true)\n |    |    |-- Narration: long (nullable = true)\n |    |    |-- Narrative: long (nullable = true)\n |    |    |-- Nature: long (nullable = true)\n |    |    |-- Naval: long (nullable = true)\n |    |    |-- Naval Combat: long (nullable = true)\n |    |    |-- Ninja: long (nullable = true)\n |    |    |-- Noir: long (nullable = true)\n |    |    |-- Nonlinear: long (nullable = true)\n |    |    |-- Nostalgia: long (nullable = true)\n |    |    |-- Nudity: long (nullable = true)\n |    |    |-- Offroad: long (nullable = true)\n |    |    |-- Old School: long (nullable = true)\n |    |    |-- On-Rails Shooter: long (nullable = true)\n |    |    |-- Online Co-Op: long (nullable = true)\n |    |    |-- Open World: long (nullable = true)\n |    |    |-- Open World Survival Craft: long (nullable = true)\n |    |    |-- Otome: long (nullable = true)\n |    |    |-- Outbreak Sim: long (nullable = true)\n |    |    |-- Parkour: long (nullable = true)\n |    |    |-- Parody : long (nullable = true)\n |    |    |-- Party: long (nullable = true)\n |    |    |-- Party Game: long (nullable = true)\n |    |    |-- Party-Based RPG: long (nullable = true)\n |    |    |-- Perma Death: long (nullable = true)\n |    |    |-- Philosophical: long (nullable = true)\n |    |    |-- Photo Editing: long (nullable = true)\n |    |    |-- Physics: long (nullable = true)\n |    |    |-- Pinball: long (nullable = true)\n |    |    |-- Pirates: long (nullable = true)\n |    |    |-- Pixel Graphics: long (nullable = true)\n |    |    |-- Platformer: long (nullable = true)\n |    |    |-- Point & Click: long (nullable = true)\n |    |    |-- Political: long (nullable = true)\n |    |    |-- Political Sim: long (nullable = true)\n |    |    |-- Politics: long (nullable = true)\n |    |    |-- Pool: long (nullable = true)\n |    |    |-- Post-apocalyptic: long (nullable = true)\n |    |    |-- Precision Platformer: long (nullable = true)\n |    |    |-- Procedural Generation: long (nullable = true)\n |    |    |-- Programming: long (nullable = true)\n |    |    |-- Psychedelic: long (nullable = true)\n |    |    |-- Psychological: long (nullable = true)\n |    |    |-- Psychological Horror: long (nullable = true)\n |    |    |-- Puzzle: long (nullable = true)\n |    |    |-- Puzzle-Platformer: long (nullable = true)\n |    |    |-- PvE: long (nullable = true)\n |    |    |-- PvP: long (nullable = true)\n |    |    |-- Quick-Time Events: long (nullable = true)\n |    |    |-- RPG: long (nullable = true)\n |    |    |-- RPGMaker: long (nullable = true)\n |    |    |-- RTS: long (nullable = true)\n |    |    |-- Racing: long (nullable = true)\n |    |    |-- Real Time Tactics: long (nullable = true)\n |    |    |-- Real-Time: long (nullable = true)\n |    |    |-- Real-Time with Pause: long (nullable = true)\n |    |    |-- Realistic: long (nullable = true)\n |    |    |-- Reboot: long (nullable = true)\n |    |    |-- Relaxing: long (nullable = true)\n |    |    |-- Remake: long (nullable = true)\n |    |    |-- Replay Value: long (nullable = true)\n |    |    |-- Resource Management: long (nullable = true)\n |    |    |-- Retro: long (nullable = true)\n |    |    |-- Rhythm: long (nullable = true)\n |    |    |-- Robots: long (nullable = true)\n |    |    |-- Rock Music: long (nullable = true)\n |    |    |-- Rogue-like: long (nullable = true)\n |    |    |-- Rogue-lite: long (nullable = true)\n |    |    |-- Roguelike Deckbuilder: long (nullable = true)\n |    |    |-- Roguevania: long (nullable = true)\n |    |    |-- Romance: long (nullable = true)\n |    |    |-- Rome: long (nullable = true)\n |    |    |-- Rugby: long (nullable = true)\n |    |    |-- Runner: long (nullable = true)\n |    |    |-- Sailing: long (nullable = true)\n |    |    |-- Sandbox: long (nullable = true)\n |    |    |-- Satire: long (nullable = true)\n |    |    |-- Sci-fi: long (nullable = true)\n |    |    |-- Science: long (nullable = true)\n |    |    |-- Score Attack: long (nullable = true)\n |    |    |-- Sequel: long (nullable = true)\n |    |    |-- Sexual Content: long (nullable = true)\n |    |    |-- Shoot 'Em Up: long (nullable = true)\n |    |    |-- Shooter: long (nullable = true)\n |    |    |-- Shop Keeper: long (nullable = true)\n |    |    |-- Short: long (nullable = true)\n |    |    |-- Side Scroller: long (nullable = true)\n |    |    |-- Silent Protagonist: long (nullable = true)\n |    |    |-- Simulation: long (nullable = true)\n |    |    |-- Singleplayer: long (nullable = true)\n |    |    |-- Skateboarding: long (nullable = true)\n |    |    |-- Skating: long (nullable = true)\n |    |    |-- Skiing: long (nullable = true)\n |    |    |-- Sniper: long (nullable = true)\n |    |    |-- Snooker: long (nullable = true)\n |    |    |-- Snow: long (nullable = true)\n |    |    |-- Snowboarding: long (nullable = true)\n |    |    |-- Soccer: long (nullable = true)\n |    |    |-- Social Deduction: long (nullable = true)\n |    |    |-- Software: long (nullable = true)\n |    |    |-- Software Training: long (nullable = true)\n |    |    |-- Sokoban: long (nullable = true)\n |    |    |-- Solitaire: long (nullable = true)\n |    |    |-- Souls-like: long (nullable = true)\n |    |    |-- Soundtrack: long (nullable = true)\n |    |    |-- Space: long (nullable = true)\n |    |    |-- Space Sim: long (nullable = true)\n |    |    |-- Spaceships: long (nullable = true)\n |    |    |-- Spectacle fighter: long (nullable = true)\n |    |    |-- Spelling: long (nullable = true)\n |    |    |-- Split Screen: long (nullable = true)\n |    |    |-- Sports: long (nullable = true)\n |    |    |-- Stealth: long (nullable = true)\n |    |    |-- Steam Machine: long (nullable = true)\n |    |    |-- Steampunk: long (nullable = true)\n |    |    |-- Story Rich: long (nullable = true)\n |    |    |-- Strategy: long (nullable = true)\n |    |    |-- Strategy RPG: long (nullable = true)\n |    |    |-- Stylized: long (nullable = true)\n |    |    |-- Submarine: long (nullable = true)\n |    |    |-- Superhero: long (nullable = true)\n |    |    |-- Supernatural: long (nullable = true)\n |    |    |-- Surreal: long (nullable = true)\n |    |    |-- Survival: long (nullable = true)\n |    |    |-- Survival Horror: long (nullable = true)\n |    |    |-- Swordplay: long (nullable = true)\n |    |    |-- Tabletop: long (nullable = true)\n |    |    |-- Tactical: long (nullable = true)\n |    |    |-- Tactical RPG: long (nullable = true)\n |    |    |-- Tanks: long (nullable = true)\n |    |    |-- Team-Based: long (nullable = true)\n |    |    |-- Tennis: long (nullable = true)\n |    |    |-- Text-Based: long (nullable = true)\n |    |    |-- Third Person: long (nullable = true)\n |    |    |-- Third-Person Shooter: long (nullable = true)\n |    |    |-- Thriller: long (nullable = true)\n |    |    |-- Tile-Matching: long (nullable = true)\n |    |    |-- Time Attack: long (nullable = true)\n |    |    |-- Time Management: long (nullable = true)\n |    |    |-- Time Manipulation: long (nullable = true)\n |    |    |-- Time Travel: long (nullable = true)\n |    |    |-- Top-Down: long (nullable = true)\n |    |    |-- Top-Down Shooter: long (nullable = true)\n |    |    |-- Touch-Friendly: long (nullable = true)\n |    |    |-- Tower Defense: long (nullable = true)\n |    |    |-- TrackIR: long (nullable = true)\n |    |    |-- Trading: long (nullable = true)\n |    |    |-- Trading Card Game: long (nullable = true)\n |    |    |-- Traditional Roguelike: long (nullable = true)\n |    |    |-- Trains: long (nullable = true)\n |    |    |-- Transhumanism: long (nullable = true)\n |    |    |-- Transportation: long (nullable = true)\n |    |    |-- Trivia: long (nullable = true)\n |    |    |-- Turn-Based: long (nullable = true)\n |    |    |-- Turn-Based Combat: long (nullable = true)\n |    |    |-- Turn-Based Strategy: long (nullable = true)\n |    |    |-- Turn-Based Tactics: long (nullable = true)\n |    |    |-- Tutorial: long (nullable = true)\n |    |    |-- Twin Stick Shooter: long (nullable = true)\n |    |    |-- Typing: long (nullable = true)\n |    |    |-- Underground: long (nullable = true)\n |    |    |-- Underwater: long (nullable = true)\n |    |    |-- Unforgiving: long (nullable = true)\n |    |    |-- Utilities: long (nullable = true)\n |    |    |-- VR: long (nullable = true)\n |    |    |-- VR Only: long (nullable = true)\n |    |    |-- Vampire: long (nullable = true)\n |    |    |-- Vehicular Combat: long (nullable = true)\n |    |    |-- Video Production: long (nullable = true)\n |    |    |-- Vikings: long (nullable = true)\n |    |    |-- Villain Protagonist: long (nullable = true)\n |    |    |-- Violent: long (nullable = true)\n |    |    |-- Visual Novel: long (nullable = true)\n |    |    |-- Voice Control: long (nullable = true)\n |    |    |-- Volleyball: long (nullable = true)\n |    |    |-- Voxel: long (nullable = true)\n |    |    |-- Walking Simulator: long (nullable = true)\n |    |    |-- War: long (nullable = true)\n |    |    |-- Wargame: long (nullable = true)\n |    |    |-- Warhammer 40K: long (nullable = true)\n |    |    |-- Web Publishing: long (nullable = true)\n |    |    |-- Well-Written: long (nullable = true)\n |    |    |-- Werewolves: long (nullable = true)\n |    |    |-- Western: long (nullable = true)\n |    |    |-- Wholesome: long (nullable = true)\n |    |    |-- Word Game: long (nullable = true)\n |    |    |-- World War I: long (nullable = true)\n |    |    |-- World War II: long (nullable = true)\n |    |    |-- Wrestling: long (nullable = true)\n |    |    |-- Zombies: long (nullable = true)\n |    |    |-- e-sports: long (nullable = true)\n |    |-- type: string (nullable = true)\n |    |-- website: string (nullable = true)\n |-- id: string (nullable = true)\n\n"
     ]
    }
   ],
   "source": [
    "initial_df.printSchema()"
   ]
  },
  {
   "cell_type": "markdown",
   "metadata": {
    "application/vnd.databricks.v1+cell": {
     "cellMetadata": {},
     "inputWidgets": {},
     "nuid": "06a4c1c5-8572-4f02-8f35-a623abf3658b",
     "showTitle": false,
     "tableResultSettingsMap": {},
     "title": ""
    }
   },
   "source": [
    "### Working with the schema"
   ]
  },
  {
   "cell_type": "code",
   "execution_count": 0,
   "metadata": {
    "application/vnd.databricks.v1+cell": {
     "cellMetadata": {
      "byteLimit": 2048000,
      "rowLimit": 10000
     },
     "inputWidgets": {},
     "nuid": "9a26fc7b-e558-4556-94f3-f101dd0b8e30",
     "showTitle": false,
     "tableResultSettingsMap": {},
     "title": ""
    }
   },
   "outputs": [
    {
     "output_type": "stream",
     "name": "stdout",
     "output_type": "stream",
     "text": [
      "Out[5]: {'type': 'struct',\n 'fields': [{'name': 'data',\n   'type': {'type': 'struct',\n    'fields': [{'name': 'appid',\n      'type': 'long',\n      'nullable': True,\n      'metadata': {}},\n     {'name': 'categories',\n      'type': {'type': 'array', 'elementType': 'string', 'containsNull': True},\n      'nullable': True,\n      'metadata': {}},\n     {'name': 'ccu', 'type': 'long', 'nullable': True, 'metadata': {}},\n     {'name': 'developer', 'type': 'string', 'nullable': True, 'metadata': {}},\n     {'name': 'discount', 'type': 'string', 'nullable': True, 'metadata': {}},\n     {'name': 'genre', 'type': 'string', 'nullable': True, 'metadata': {}},\n     {'name': 'header_image',\n      'type': 'string',\n      'nullable': True,\n      'metadata': {}},\n     {'name': 'initialprice',\n      'type': 'string',\n      'nullable': True,\n      'metadata': {}},\n     {'name': 'languages', 'type': 'string', 'nullable': True, 'metadata': {}},\n     {'name': 'name', 'type': 'string', 'nullable': True, 'metadata': {}},\n     {'name': 'negative', 'type': 'long', 'nullable': True, 'metadata': {}},\n     {'name': 'owners', 'type': 'string', 'nullable': True, 'metadata': {}},\n     {'name': 'platforms',\n      'type': {'type': 'struct',\n       'fields': [{'name': 'linux',\n         'type': 'boolean',\n         'nullable': True,\n         'metadata': {}},\n        {'name': 'mac', 'type': 'boolean', 'nullable': True, 'metadata': {}},\n        {'name': 'windows',\n         'type': 'boolean',\n         'nullable': True,\n         'metadata': {}}]},\n      'nullable': True,\n      'metadata': {}},\n     {'name': 'positive', 'type': 'long', 'nullable': True, 'metadata': {}},\n     {'name': 'price', 'type': 'string', 'nullable': True, 'metadata': {}},\n     {'name': 'publisher', 'type': 'string', 'nullable': True, 'metadata': {}},\n     {'name': 'release_date',\n      'type': 'string',\n      'nullable': True,\n      'metadata': {}},\n     {'name': 'required_age',\n      'type': 'string',\n      'nullable': True,\n      'metadata': {}},\n     {'name': 'short_description',\n      'type': 'string',\n      'nullable': True,\n      'metadata': {}},\n     {'name': 'tags',\n      'type': {'type': 'struct',\n       'fields': [{'name': '1980s',\n         'type': 'long',\n         'nullable': True,\n         'metadata': {}},\n        {'name': \"1990's\", 'type': 'long', 'nullable': True, 'metadata': {}},\n        {'name': '2.5D', 'type': 'long', 'nullable': True, 'metadata': {}},\n        {'name': '2D', 'type': 'long', 'nullable': True, 'metadata': {}},\n        {'name': '2D Fighter',\n         'type': 'long',\n         'nullable': True,\n         'metadata': {}},\n        {'name': '2D Platformer',\n         'type': 'long',\n         'nullable': True,\n         'metadata': {}},\n        {'name': '360 Video',\n         'type': 'long',\n         'nullable': True,\n         'metadata': {}},\n        {'name': '3D', 'type': 'long', 'nullable': True, 'metadata': {}},\n        {'name': '3D Fighter',\n         'type': 'long',\n         'nullable': True,\n         'metadata': {}},\n        {'name': '3D Platformer',\n         'type': 'long',\n         'nullable': True,\n         'metadata': {}},\n        {'name': '3D Vision',\n         'type': 'long',\n         'nullable': True,\n         'metadata': {}},\n        {'name': '4 Player Local',\n         'type': 'long',\n         'nullable': True,\n         'metadata': {}},\n        {'name': '4X', 'type': 'long', 'nullable': True, 'metadata': {}},\n        {'name': '6DOF', 'type': 'long', 'nullable': True, 'metadata': {}},\n        {'name': '8-bit Music',\n         'type': 'long',\n         'nullable': True,\n         'metadata': {}},\n        {'name': 'ATV', 'type': 'long', 'nullable': True, 'metadata': {}},\n        {'name': 'Abstract', 'type': 'long', 'nullable': True, 'metadata': {}},\n        {'name': 'Action', 'type': 'long', 'nullable': True, 'metadata': {}},\n        {'name': 'Action RPG',\n         'type': 'long',\n         'nullable': True,\n         'metadata': {}},\n        {'name': 'Action RTS',\n         'type': 'long',\n         'nullable': True,\n         'metadata': {}},\n        {'name': 'Action Roguelike',\n         'type': 'long',\n         'nullable': True,\n         'metadata': {}},\n        {'name': 'Action-Adventure',\n         'type': 'long',\n         'nullable': True,\n         'metadata': {}},\n        {'name': 'Addictive',\n         'type': 'long',\n         'nullable': True,\n         'metadata': {}},\n        {'name': 'Adventure',\n         'type': 'long',\n         'nullable': True,\n         'metadata': {}},\n        {'name': 'Agriculture',\n         'type': 'long',\n         'nullable': True,\n         'metadata': {}},\n        {'name': 'Aliens', 'type': 'long', 'nullable': True, 'metadata': {}},\n        {'name': 'Alternate History',\n         'type': 'long',\n         'nullable': True,\n         'metadata': {}},\n        {'name': 'Ambient', 'type': 'long', 'nullable': True, 'metadata': {}},\n        {'name': 'America', 'type': 'long', 'nullable': True, 'metadata': {}},\n        {'name': 'Animation & Modeling',\n         'type': 'long',\n         'nullable': True,\n         'metadata': {}},\n        {'name': 'Anime', 'type': 'long', 'nullable': True, 'metadata': {}},\n        {'name': 'Arcade', 'type': 'long', 'nullable': True, 'metadata': {}},\n        {'name': 'Archery', 'type': 'long', 'nullable': True, 'metadata': {}},\n        {'name': 'Arena Shooter',\n         'type': 'long',\n         'nullable': True,\n         'metadata': {}},\n        {'name': 'Artificial Intelligence',\n         'type': 'long',\n         'nullable': True,\n         'metadata': {}},\n        {'name': 'Assassin', 'type': 'long', 'nullable': True, 'metadata': {}},\n        {'name': 'Asymmetric VR',\n         'type': 'long',\n         'nullable': True,\n         'metadata': {}},\n        {'name': 'Asynchronous Multiplayer',\n         'type': 'long',\n         'nullable': True,\n         'metadata': {}},\n        {'name': 'Atmospheric',\n         'type': 'long',\n         'nullable': True,\n         'metadata': {}},\n        {'name': 'Audio Production',\n         'type': 'long',\n         'nullable': True,\n         'metadata': {}},\n        {'name': 'Auto Battler',\n         'type': 'long',\n         'nullable': True,\n         'metadata': {}},\n        {'name': 'Automation',\n         'type': 'long',\n         'nullable': True,\n         'metadata': {}},\n        {'name': 'Automobile Sim',\n         'type': 'long',\n         'nullable': True,\n         'metadata': {}},\n        {'name': 'BMX', 'type': 'long', 'nullable': True, 'metadata': {}},\n        {'name': 'Base-Building',\n         'type': 'long',\n         'nullable': True,\n         'metadata': {}},\n        {'name': 'Baseball', 'type': 'long', 'nullable': True, 'metadata': {}},\n        {'name': 'Based On A Novel',\n         'type': 'long',\n         'nullable': True,\n         'metadata': {}},\n        {'name': 'Basketball',\n         'type': 'long',\n         'nullable': True,\n         'metadata': {}},\n        {'name': 'Battle Royale',\n         'type': 'long',\n         'nullable': True,\n         'metadata': {}},\n        {'name': \"Beat 'em up\",\n         'type': 'long',\n         'nullable': True,\n         'metadata': {}},\n        {'name': 'Beautiful',\n         'type': 'long',\n         'nullable': True,\n         'metadata': {}},\n        {'name': 'Benchmark',\n         'type': 'long',\n         'nullable': True,\n         'metadata': {}},\n        {'name': 'Bikes', 'type': 'long', 'nullable': True, 'metadata': {}},\n        {'name': 'Blood', 'type': 'long', 'nullable': True, 'metadata': {}},\n        {'name': 'Board Game',\n         'type': 'long',\n         'nullable': True,\n         'metadata': {}},\n        {'name': 'Boss Rush',\n         'type': 'long',\n         'nullable': True,\n         'metadata': {}},\n        {'name': 'Bowling', 'type': 'long', 'nullable': True, 'metadata': {}},\n        {'name': 'Boxing', 'type': 'long', 'nullable': True, 'metadata': {}},\n        {'name': 'Building', 'type': 'long', 'nullable': True, 'metadata': {}},\n        {'name': 'Bullet Hell',\n         'type': 'long',\n         'nullable': True,\n         'metadata': {}},\n        {'name': 'Bullet Time',\n         'type': 'long',\n         'nullable': True,\n         'metadata': {}},\n        {'name': 'CRPG', 'type': 'long', 'nullable': True, 'metadata': {}},\n        {'name': 'Capitalism',\n         'type': 'long',\n         'nullable': True,\n         'metadata': {}},\n        {'name': 'Card Battler',\n         'type': 'long',\n         'nullable': True,\n         'metadata': {}},\n        {'name': 'Card Game',\n         'type': 'long',\n         'nullable': True,\n         'metadata': {}},\n        {'name': 'Cartoon', 'type': 'long', 'nullable': True, 'metadata': {}},\n        {'name': 'Cartoony', 'type': 'long', 'nullable': True, 'metadata': {}},\n        {'name': 'Casual', 'type': 'long', 'nullable': True, 'metadata': {}},\n        {'name': 'Cats', 'type': 'long', 'nullable': True, 'metadata': {}},\n        {'name': 'Character Action Game',\n         'type': 'long',\n         'nullable': True,\n         'metadata': {}},\n        {'name': 'Character Customization',\n         'type': 'long',\n         'nullable': True,\n         'metadata': {}},\n        {'name': 'Chess', 'type': 'long', 'nullable': True, 'metadata': {}},\n        {'name': 'Choices Matter',\n         'type': 'long',\n         'nullable': True,\n         'metadata': {}},\n        {'name': 'Choose Your Own Adventure',\n         'type': 'long',\n         'nullable': True,\n         'metadata': {}},\n        {'name': 'Cinematic',\n         'type': 'long',\n         'nullable': True,\n         'metadata': {}},\n        {'name': 'City Builder',\n         'type': 'long',\n         'nullable': True,\n         'metadata': {}},\n        {'name': 'Class-Based',\n         'type': 'long',\n         'nullable': True,\n         'metadata': {}},\n        {'name': 'Classic', 'type': 'long', 'nullable': True, 'metadata': {}},\n        {'name': 'Clicker', 'type': 'long', 'nullable': True, 'metadata': {}},\n        {'name': 'Co-op', 'type': 'long', 'nullable': True, 'metadata': {}},\n        {'name': 'Co-op Campaign',\n         'type': 'long',\n         'nullable': True,\n         'metadata': {}},\n        {'name': 'Coding', 'type': 'long', 'nullable': True, 'metadata': {}},\n        {'name': 'Cold War', 'type': 'long', 'nullable': True, 'metadata': {}},\n        {'name': 'Collectathon',\n         'type': 'long',\n         'nullable': True,\n         'metadata': {}},\n        {'name': 'Colony Sim',\n         'type': 'long',\n         'nullable': True,\n         'metadata': {}},\n        {'name': 'Colorful', 'type': 'long', 'nullable': True, 'metadata': {}},\n        {'name': 'Combat', 'type': 'long', 'nullable': True, 'metadata': {}},\n        {'name': 'Combat Racing',\n         'type': 'long',\n         'nullable': True,\n         'metadata': {}},\n        {'name': 'Comedy', 'type': 'long', 'nullable': True, 'metadata': {}},\n        {'name': 'Comic Book',\n         'type': 'long',\n         'nullable': True,\n         'metadata': {}},\n        {'name': 'Competitive',\n         'type': 'long',\n         'nullable': True,\n         'metadata': {}},\n        {'name': 'Conspiracy',\n         'type': 'long',\n         'nullable': True,\n         'metadata': {}},\n        {'name': 'Controller',\n         'type': 'long',\n         'nullable': True,\n         'metadata': {}},\n        {'name': 'Conversation',\n         'type': 'long',\n         'nullable': True,\n         'metadata': {}},\n        {'name': 'Cooking', 'type': 'long', 'nullable': True, 'metadata': {}},\n        {'name': 'Cozy', 'type': 'long', 'nullable': True, 'metadata': {}},\n        {'name': 'Crafting', 'type': 'long', 'nullable': True, 'metadata': {}},\n        {'name': 'Creature Collector',\n         'type': 'long',\n         'nullable': True,\n         'metadata': {}},\n        {'name': 'Cricket', 'type': 'long', 'nullable': True, 'metadata': {}},\n        {'name': 'Crime', 'type': 'long', 'nullable': True, 'metadata': {}},\n        {'name': 'Crowdfunded',\n         'type': 'long',\n         'nullable': True,\n         'metadata': {}},\n        {'name': 'Cult Classic',\n         'type': 'long',\n         'nullable': True,\n         'metadata': {}},\n        {'name': 'Cute', 'type': 'long', 'nullable': True, 'metadata': {}},\n        {'name': 'Cyberpunk',\n         'type': 'long',\n         'nullable': True,\n         'metadata': {}},\n        {'name': 'Cycling', 'type': 'long', 'nullable': True, 'metadata': {}},\n        {'name': 'Dark', 'type': 'long', 'nullable': True, 'metadata': {}},\n        {'name': 'Dark Comedy',\n         'type': 'long',\n         'nullable': True,\n         'metadata': {}},\n        {'name': 'Dark Fantasy',\n         'type': 'long',\n         'nullable': True,\n         'metadata': {}},\n        {'name': 'Dark Humor',\n         'type': 'long',\n         'nullable': True,\n         'metadata': {}},\n        {'name': 'Dating Sim',\n         'type': 'long',\n         'nullable': True,\n         'metadata': {}},\n        {'name': 'Deckbuilding',\n         'type': 'long',\n         'nullable': True,\n         'metadata': {}},\n        {'name': 'Demons', 'type': 'long', 'nullable': True, 'metadata': {}},\n        {'name': 'Design & Illustration',\n         'type': 'long',\n         'nullable': True,\n         'metadata': {}},\n        {'name': 'Destruction',\n         'type': 'long',\n         'nullable': True,\n         'metadata': {}},\n        {'name': 'Detective',\n         'type': 'long',\n         'nullable': True,\n         'metadata': {}},\n        {'name': 'Difficult',\n         'type': 'long',\n         'nullable': True,\n         'metadata': {}},\n        {'name': 'Dinosaurs',\n         'type': 'long',\n         'nullable': True,\n         'metadata': {}},\n        {'name': 'Diplomacy',\n         'type': 'long',\n         'nullable': True,\n         'metadata': {}},\n        {'name': 'Documentary',\n         'type': 'long',\n         'nullable': True,\n         'metadata': {}},\n        {'name': 'Dog', 'type': 'long', 'nullable': True, 'metadata': {}},\n        {'name': 'Dragons', 'type': 'long', 'nullable': True, 'metadata': {}},\n        {'name': 'Drama', 'type': 'long', 'nullable': True, 'metadata': {}},\n        {'name': 'Driving', 'type': 'long', 'nullable': True, 'metadata': {}},\n        {'name': 'Dungeon Crawler',\n         'type': 'long',\n         'nullable': True,\n         'metadata': {}},\n        {'name': 'Dungeons & Dragons',\n         'type': 'long',\n         'nullable': True,\n         'metadata': {}},\n        {'name': 'Dynamic Narration',\n         'type': 'long',\n         'nullable': True,\n         'metadata': {}},\n        {'name': 'Dystopian ',\n         'type': 'long',\n         'nullable': True,\n         'metadata': {}},\n        {'name': 'Early Access',\n         'type': 'long',\n         'nullable': True,\n         'metadata': {}},\n        {'name': 'Economy', 'type': 'long', 'nullable': True, 'metadata': {}},\n        {'name': 'Education',\n         'type': 'long',\n         'nullable': True,\n         'metadata': {}},\n        {'name': 'Electronic',\n         'type': 'long',\n         'nullable': True,\n         'metadata': {}},\n        {'name': 'Electronic Music',\n         'type': 'long',\n         'nullable': True,\n         'metadata': {}},\n        {'name': 'Emotional',\n         'type': 'long',\n         'nullable': True,\n         'metadata': {}},\n        {'name': 'Epic', 'type': 'long', 'nullable': True, 'metadata': {}},\n        {'name': 'Episodic', 'type': 'long', 'nullable': True, 'metadata': {}},\n        {'name': 'Escape Room',\n         'type': 'long',\n         'nullable': True,\n         'metadata': {}},\n        {'name': 'Experience',\n         'type': 'long',\n         'nullable': True,\n         'metadata': {}},\n        {'name': 'Experimental',\n         'type': 'long',\n         'nullable': True,\n         'metadata': {}},\n        {'name': 'Exploration',\n         'type': 'long',\n         'nullable': True,\n         'metadata': {}},\n        {'name': 'FMV', 'type': 'long', 'nullable': True, 'metadata': {}},\n        {'name': 'FPS', 'type': 'long', 'nullable': True, 'metadata': {}},\n        {'name': 'Faith', 'type': 'long', 'nullable': True, 'metadata': {}},\n        {'name': 'Family Friendly',\n         'type': 'long',\n         'nullable': True,\n         'metadata': {}},\n        {'name': 'Fantasy', 'type': 'long', 'nullable': True, 'metadata': {}},\n        {'name': 'Farming', 'type': 'long', 'nullable': True, 'metadata': {}},\n        {'name': 'Farming Sim',\n         'type': 'long',\n         'nullable': True,\n         'metadata': {}},\n        {'name': 'Fast-Paced',\n         'type': 'long',\n         'nullable': True,\n         'metadata': {}},\n        {'name': 'Feature Film',\n         'type': 'long',\n         'nullable': True,\n         'metadata': {}},\n        {'name': 'Female Protagonist',\n         'type': 'long',\n         'nullable': True,\n         'metadata': {}},\n        {'name': 'Fighting', 'type': 'long', 'nullable': True, 'metadata': {}},\n        {'name': 'First-Person',\n         'type': 'long',\n         'nullable': True,\n         'metadata': {}},\n        {'name': 'Fishing', 'type': 'long', 'nullable': True, 'metadata': {}},\n        {'name': 'Flight', 'type': 'long', 'nullable': True, 'metadata': {}},\n        {'name': 'Football', 'type': 'long', 'nullable': True, 'metadata': {}},\n        {'name': 'Foreign', 'type': 'long', 'nullable': True, 'metadata': {}},\n        {'name': 'Free to Play',\n         'type': 'long',\n         'nullable': True,\n         'metadata': {}},\n        {'name': 'Funny', 'type': 'long', 'nullable': True, 'metadata': {}},\n        {'name': 'Futuristic',\n         'type': 'long',\n         'nullable': True,\n         'metadata': {}},\n        {'name': 'Gambling', 'type': 'long', 'nullable': True, 'metadata': {}},\n        {'name': 'Game Development',\n         'type': 'long',\n         'nullable': True,\n         'metadata': {}},\n        {'name': 'GameMaker',\n         'type': 'long',\n         'nullable': True,\n         'metadata': {}},\n        {'name': 'Games Workshop',\n         'type': 'long',\n         'nullable': True,\n         'metadata': {}},\n        {'name': 'Gaming', 'type': 'long', 'nullable': True, 'metadata': {}},\n        {'name': 'God Game', 'type': 'long', 'nullable': True, 'metadata': {}},\n        {'name': 'Golf', 'type': 'long', 'nullable': True, 'metadata': {}},\n        {'name': 'Gore', 'type': 'long', 'nullable': True, 'metadata': {}},\n        {'name': 'Gothic', 'type': 'long', 'nullable': True, 'metadata': {}},\n        {'name': 'Grand Strategy',\n         'type': 'long',\n         'nullable': True,\n         'metadata': {}},\n        {'name': 'Great Soundtrack',\n         'type': 'long',\n         'nullable': True,\n         'metadata': {}},\n        {'name': 'Grid-Based Movement',\n         'type': 'long',\n         'nullable': True,\n         'metadata': {}},\n        {'name': 'Gun Customization',\n         'type': 'long',\n         'nullable': True,\n         'metadata': {}},\n        {'name': 'Hack and Slash',\n         'type': 'long',\n         'nullable': True,\n         'metadata': {}},\n        {'name': 'Hacking', 'type': 'long', 'nullable': True, 'metadata': {}},\n        {'name': 'Hand-drawn',\n         'type': 'long',\n         'nullable': True,\n         'metadata': {}},\n        {'name': 'Hardware', 'type': 'long', 'nullable': True, 'metadata': {}},\n        {'name': 'Heist', 'type': 'long', 'nullable': True, 'metadata': {}},\n        {'name': 'Hentai', 'type': 'long', 'nullable': True, 'metadata': {}},\n        {'name': 'Hero Shooter',\n         'type': 'long',\n         'nullable': True,\n         'metadata': {}},\n        {'name': 'Hex Grid', 'type': 'long', 'nullable': True, 'metadata': {}},\n        {'name': 'Hidden Object',\n         'type': 'long',\n         'nullable': True,\n         'metadata': {}},\n        {'name': 'Historical',\n         'type': 'long',\n         'nullable': True,\n         'metadata': {}},\n        {'name': 'Hockey', 'type': 'long', 'nullable': True, 'metadata': {}},\n        {'name': 'Horror', 'type': 'long', 'nullable': True, 'metadata': {}},\n        {'name': 'Horses', 'type': 'long', 'nullable': True, 'metadata': {}},\n        {'name': 'Hunting', 'type': 'long', 'nullable': True, 'metadata': {}},\n        {'name': 'Idler', 'type': 'long', 'nullable': True, 'metadata': {}},\n        {'name': 'Illuminati',\n         'type': 'long',\n         'nullable': True,\n         'metadata': {}},\n        {'name': 'Immersive',\n         'type': 'long',\n         'nullable': True,\n         'metadata': {}},\n        {'name': 'Immersive Sim',\n         'type': 'long',\n         'nullable': True,\n         'metadata': {}},\n        {'name': 'Indie', 'type': 'long', 'nullable': True, 'metadata': {}},\n        {'name': 'Instrumental Music',\n         'type': 'long',\n         'nullable': True,\n         'metadata': {}},\n        {'name': 'Intentionally Awkward Controls',\n         'type': 'long',\n         'nullable': True,\n         'metadata': {}},\n        {'name': 'Interactive Fiction',\n         'type': 'long',\n         'nullable': True,\n         'metadata': {}},\n        {'name': 'Inventory Management',\n         'type': 'long',\n         'nullable': True,\n         'metadata': {}},\n        {'name': 'Investigation',\n         'type': 'long',\n         'nullable': True,\n         'metadata': {}},\n        {'name': 'Isometric',\n         'type': 'long',\n         'nullable': True,\n         'metadata': {}},\n        {'name': 'JRPG', 'type': 'long', 'nullable': True, 'metadata': {}},\n        {'name': 'Jet', 'type': 'long', 'nullable': True, 'metadata': {}},\n        {'name': 'Job Simulator',\n         'type': 'long',\n         'nullable': True,\n         'metadata': {}},\n        {'name': 'Jump Scare',\n         'type': 'long',\n         'nullable': True,\n         'metadata': {}},\n        {'name': 'Kickstarter',\n         'type': 'long',\n         'nullable': True,\n         'metadata': {}},\n        {'name': 'LEGO', 'type': 'long', 'nullable': True, 'metadata': {}},\n        {'name': 'LGBTQ+', 'type': 'long', 'nullable': True, 'metadata': {}},\n        {'name': 'Lemmings', 'type': 'long', 'nullable': True, 'metadata': {}},\n        {'name': 'Level Editor',\n         'type': 'long',\n         'nullable': True,\n         'metadata': {}},\n        {'name': 'Life Sim', 'type': 'long', 'nullable': True, 'metadata': {}},\n        {'name': 'Linear', 'type': 'long', 'nullable': True, 'metadata': {}},\n        {'name': 'Local Co-Op',\n         'type': 'long',\n         'nullable': True,\n         'metadata': {}},\n        {'name': 'Local Multiplayer',\n         'type': 'long',\n         'nullable': True,\n         'metadata': {}},\n        {'name': 'Logic', 'type': 'long', 'nullable': True, 'metadata': {}},\n        {'name': 'Loot', 'type': 'long', 'nullable': True, 'metadata': {}},\n        {'name': 'Looter Shooter',\n         'type': 'long',\n         'nullable': True,\n         'metadata': {}},\n        {'name': 'Lore-Rich',\n         'type': 'long',\n         'nullable': True,\n         'metadata': {}},\n        {'name': 'Lovecraftian',\n         'type': 'long',\n         'nullable': True,\n         'metadata': {}},\n        {'name': 'MMORPG', 'type': 'long', 'nullable': True, 'metadata': {}},\n        {'name': 'MOBA', 'type': 'long', 'nullable': True, 'metadata': {}},\n        {'name': 'Magic', 'type': 'long', 'nullable': True, 'metadata': {}},\n        {'name': 'Mahjong', 'type': 'long', 'nullable': True, 'metadata': {}},\n        {'name': 'Management',\n         'type': 'long',\n         'nullable': True,\n         'metadata': {}},\n        {'name': 'Mars', 'type': 'long', 'nullable': True, 'metadata': {}},\n        {'name': 'Martial Arts',\n         'type': 'long',\n         'nullable': True,\n         'metadata': {}},\n        {'name': 'Massively Multiplayer',\n         'type': 'long',\n         'nullable': True,\n         'metadata': {}},\n        {'name': 'Masterpiece',\n         'type': 'long',\n         'nullable': True,\n         'metadata': {}},\n        {'name': 'Match 3', 'type': 'long', 'nullable': True, 'metadata': {}},\n        {'name': 'Mature', 'type': 'long', 'nullable': True, 'metadata': {}},\n        {'name': 'Mechs', 'type': 'long', 'nullable': True, 'metadata': {}},\n        {'name': 'Medical Sim',\n         'type': 'long',\n         'nullable': True,\n         'metadata': {}},\n        {'name': 'Medieval', 'type': 'long', 'nullable': True, 'metadata': {}},\n        {'name': 'Memes', 'type': 'long', 'nullable': True, 'metadata': {}},\n        {'name': 'Metroidvania',\n         'type': 'long',\n         'nullable': True,\n         'metadata': {}},\n        {'name': 'Military', 'type': 'long', 'nullable': True, 'metadata': {}},\n        {'name': 'Mini Golf',\n         'type': 'long',\n         'nullable': True,\n         'metadata': {}},\n        {'name': 'Minigames',\n         'type': 'long',\n         'nullable': True,\n         'metadata': {}},\n        {'name': 'Minimalist',\n         'type': 'long',\n         'nullable': True,\n         'metadata': {}},\n        {'name': 'Mining', 'type': 'long', 'nullable': True, 'metadata': {}},\n        {'name': 'Mod', 'type': 'long', 'nullable': True, 'metadata': {}},\n        {'name': 'Moddable', 'type': 'long', 'nullable': True, 'metadata': {}},\n        {'name': 'Modern', 'type': 'long', 'nullable': True, 'metadata': {}},\n        {'name': 'Motocross',\n         'type': 'long',\n         'nullable': True,\n         'metadata': {}},\n        {'name': 'Motorbike',\n         'type': 'long',\n         'nullable': True,\n         'metadata': {}},\n        {'name': 'Mouse only',\n         'type': 'long',\n         'nullable': True,\n         'metadata': {}},\n        {'name': 'Movie', 'type': 'long', 'nullable': True, 'metadata': {}},\n        {'name': 'Multiplayer',\n         'type': 'long',\n         'nullable': True,\n         'metadata': {}},\n        {'name': 'Multiple Endings',\n         'type': 'long',\n         'nullable': True,\n         'metadata': {}},\n        {'name': 'Music', 'type': 'long', 'nullable': True, 'metadata': {}},\n        {'name': 'Music-Based Procedural Generation',\n         'type': 'long',\n         'nullable': True,\n         'metadata': {}},\n        {'name': 'Musou', 'type': 'long', 'nullable': True, 'metadata': {}},\n        {'name': 'Mystery', 'type': 'long', 'nullable': True, 'metadata': {}},\n        {'name': 'Mystery Dungeon',\n         'type': 'long',\n         'nullable': True,\n         'metadata': {}},\n        {'name': 'Mythology',\n         'type': 'long',\n         'nullable': True,\n         'metadata': {}},\n        {'name': 'NSFW', 'type': 'long', 'nullable': True, 'metadata': {}},\n        {'name': 'Narration',\n         'type': 'long',\n         'nullable': True,\n         'metadata': {}},\n        {'name': 'Narrative',\n         'type': 'long',\n         'nullable': True,\n         'metadata': {}},\n        {'name': 'Nature', 'type': 'long', 'nullable': True, 'metadata': {}},\n        {'name': 'Naval', 'type': 'long', 'nullable': True, 'metadata': {}},\n        {'name': 'Naval Combat',\n         'type': 'long',\n         'nullable': True,\n         'metadata': {}},\n        {'name': 'Ninja', 'type': 'long', 'nullable': True, 'metadata': {}},\n        {'name': 'Noir', 'type': 'long', 'nullable': True, 'metadata': {}},\n        {'name': 'Nonlinear',\n         'type': 'long',\n         'nullable': True,\n         'metadata': {}},\n        {'name': 'Nostalgia',\n         'type': 'long',\n         'nullable': True,\n         'metadata': {}},\n        {'name': 'Nudity', 'type': 'long', 'nullable': True, 'metadata': {}},\n        {'name': 'Offroad', 'type': 'long', 'nullable': True, 'metadata': {}},\n        {'name': 'Old School',\n         'type': 'long',\n         'nullable': True,\n         'metadata': {}},\n        {'name': 'On-Rails Shooter',\n         'type': 'long',\n         'nullable': True,\n         'metadata': {}},\n        {'name': 'Online Co-Op',\n         'type': 'long',\n         'nullable': True,\n         'metadata': {}},\n        {'name': 'Open World',\n         'type': 'long',\n         'nullable': True,\n         'metadata': {}},\n        {'name': 'Open World Survival Craft',\n         'type': 'long',\n         'nullable': True,\n         'metadata': {}},\n        {'name': 'Otome', 'type': 'long', 'nullable': True, 'metadata': {}},\n        {'name': 'Outbreak Sim',\n         'type': 'long',\n         'nullable': True,\n         'metadata': {}},\n        {'name': 'Parkour', 'type': 'long', 'nullable': True, 'metadata': {}},\n        {'name': 'Parody ', 'type': 'long', 'nullable': True, 'metadata': {}},\n        {'name': 'Party', 'type': 'long', 'nullable': True, 'metadata': {}},\n        {'name': 'Party Game',\n         'type': 'long',\n         'nullable': True,\n         'metadata': {}},\n        {'name': 'Party-Based RPG',\n         'type': 'long',\n         'nullable': True,\n         'metadata': {}},\n        {'name': 'Perma Death',\n         'type': 'long',\n         'nullable': True,\n         'metadata': {}},\n        {'name': 'Philosophical',\n         'type': 'long',\n         'nullable': True,\n         'metadata': {}},\n        {'name': 'Photo Editing',\n         'type': 'long',\n         'nullable': True,\n         'metadata': {}},\n        {'name': 'Physics', 'type': 'long', 'nullable': True, 'metadata': {}},\n        {'name': 'Pinball', 'type': 'long', 'nullable': True, 'metadata': {}},\n        {'name': 'Pirates', 'type': 'long', 'nullable': True, 'metadata': {}},\n        {'name': 'Pixel Graphics',\n         'type': 'long',\n         'nullable': True,\n         'metadata': {}},\n        {'name': 'Platformer',\n         'type': 'long',\n         'nullable': True,\n         'metadata': {}},\n        {'name': 'Point & Click',\n         'type': 'long',\n         'nullable': True,\n         'metadata': {}},\n        {'name': 'Political',\n         'type': 'long',\n         'nullable': True,\n         'metadata': {}},\n        {'name': 'Political Sim',\n         'type': 'long',\n         'nullable': True,\n         'metadata': {}},\n        {'name': 'Politics', 'type': 'long', 'nullable': True, 'metadata': {}},\n        {'name': 'Pool', 'type': 'long', 'nullable': True, 'metadata': {}},\n        {'name': 'Post-apocalyptic',\n         'type': 'long',\n         'nullable': True,\n         'metadata': {}},\n        {'name': 'Precision Platformer',\n         'type': 'long',\n         'nullable': True,\n         'metadata': {}},\n        {'name': 'Procedural Generation',\n         'type': 'long',\n         'nullable': True,\n         'metadata': {}},\n        {'name': 'Programming',\n         'type': 'long',\n         'nullable': True,\n         'metadata': {}},\n        {'name': 'Psychedelic',\n         'type': 'long',\n         'nullable': True,\n         'metadata': {}},\n        {'name': 'Psychological',\n         'type': 'long',\n         'nullable': True,\n         'metadata': {}},\n        {'name': 'Psychological Horror',\n         'type': 'long',\n         'nullable': True,\n         'metadata': {}},\n        {'name': 'Puzzle', 'type': 'long', 'nullable': True, 'metadata': {}},\n        {'name': 'Puzzle-Platformer',\n         'type': 'long',\n         'nullable': True,\n         'metadata': {}},\n        {'name': 'PvE', 'type': 'long', 'nullable': True, 'metadata': {}},\n        {'name': 'PvP', 'type': 'long', 'nullable': True, 'metadata': {}},\n        {'name': 'Quick-Time Events',\n         'type': 'long',\n         'nullable': True,\n         'metadata': {}},\n        {'name': 'RPG', 'type': 'long', 'nullable': True, 'metadata': {}},\n        {'name': 'RPGMaker', 'type': 'long', 'nullable': True, 'metadata': {}},\n        {'name': 'RTS', 'type': 'long', 'nullable': True, 'metadata': {}},\n        {'name': 'Racing', 'type': 'long', 'nullable': True, 'metadata': {}},\n        {'name': 'Real Time Tactics',\n         'type': 'long',\n         'nullable': True,\n         'metadata': {}},\n        {'name': 'Real-Time',\n         'type': 'long',\n         'nullable': True,\n         'metadata': {}},\n        {'name': 'Real-Time with Pause',\n         'type': 'long',\n         'nullable': True,\n         'metadata': {}},\n        {'name': 'Realistic',\n         'type': 'long',\n         'nullable': True,\n         'metadata': {}},\n        {'name': 'Reboot', 'type': 'long', 'nullable': True, 'metadata': {}},\n        {'name': 'Relaxing', 'type': 'long', 'nullable': True, 'metadata': {}},\n        {'name': 'Remake', 'type': 'long', 'nullable': True, 'metadata': {}},\n        {'name': 'Replay Value',\n         'type': 'long',\n         'nullable': True,\n         'metadata': {}},\n        {'name': 'Resource Management',\n         'type': 'long',\n         'nullable': True,\n         'metadata': {}},\n        {'name': 'Retro', 'type': 'long', 'nullable': True, 'metadata': {}},\n        {'name': 'Rhythm', 'type': 'long', 'nullable': True, 'metadata': {}},\n        {'name': 'Robots', 'type': 'long', 'nullable': True, 'metadata': {}},\n        {'name': 'Rock Music',\n         'type': 'long',\n         'nullable': True,\n         'metadata': {}},\n        {'name': 'Rogue-like',\n         'type': 'long',\n         'nullable': True,\n         'metadata': {}},\n        {'name': 'Rogue-lite',\n         'type': 'long',\n         'nullable': True,\n         'metadata': {}},\n        {'name': 'Roguelike Deckbuilder',\n         'type': 'long',\n         'nullable': True,\n         'metadata': {}},\n        {'name': 'Roguevania',\n         'type': 'long',\n         'nullable': True,\n         'metadata': {}},\n        {'name': 'Romance', 'type': 'long', 'nullable': True, 'metadata': {}},\n        {'name': 'Rome', 'type': 'long', 'nullable': True, 'metadata': {}},\n        {'name': 'Rugby', 'type': 'long', 'nullable': True, 'metadata': {}},\n        {'name': 'Runner', 'type': 'long', 'nullable': True, 'metadata': {}},\n        {'name': 'Sailing', 'type': 'long', 'nullable': True, 'metadata': {}},\n        {'name': 'Sandbox', 'type': 'long', 'nullable': True, 'metadata': {}},\n        {'name': 'Satire', 'type': 'long', 'nullable': True, 'metadata': {}},\n        {'name': 'Sci-fi', 'type': 'long', 'nullable': True, 'metadata': {}},\n        {'name': 'Science', 'type': 'long', 'nullable': True, 'metadata': {}},\n        {'name': 'Score Attack',\n         'type': 'long',\n         'nullable': True,\n         'metadata': {}},\n        {'name': 'Sequel', 'type': 'long', 'nullable': True, 'metadata': {}},\n        {'name': 'Sexual Content',\n         'type': 'long',\n         'nullable': True,\n         'metadata': {}},\n        {'name': \"Shoot 'Em Up\",\n         'type': 'long',\n         'nullable': True,\n         'metadata': {}},\n        {'name': 'Shooter', 'type': 'long', 'nullable': True, 'metadata': {}},\n        {'name': 'Shop Keeper',\n         'type': 'long',\n         'nullable': True,\n         'metadata': {}},\n        {'name': 'Short', 'type': 'long', 'nullable': True, 'metadata': {}},\n        {'name': 'Side Scroller',\n         'type': 'long',\n         'nullable': True,\n         'metadata': {}},\n        {'name': 'Silent Protagonist',\n         'type': 'long',\n         'nullable': True,\n         'metadata': {}},\n        {'name': 'Simulation',\n         'type': 'long',\n         'nullable': True,\n         'metadata': {}},\n        {'name': 'Singleplayer',\n         'type': 'long',\n         'nullable': True,\n         'metadata': {}},\n        {'name': 'Skateboarding',\n         'type': 'long',\n         'nullable': True,\n         'metadata': {}},\n        {'name': 'Skating', 'type': 'long', 'nullable': True, 'metadata': {}},\n        {'name': 'Skiing', 'type': 'long', 'nullable': True, 'metadata': {}},\n        {'name': 'Sniper', 'type': 'long', 'nullable': True, 'metadata': {}},\n        {'name': 'Snooker', 'type': 'long', 'nullable': True, 'metadata': {}},\n        {'name': 'Snow', 'type': 'long', 'nullable': True, 'metadata': {}},\n        {'name': 'Snowboarding',\n         'type': 'long',\n         'nullable': True,\n         'metadata': {}},\n        {'name': 'Soccer', 'type': 'long', 'nullable': True, 'metadata': {}},\n        {'name': 'Social Deduction',\n         'type': 'long',\n         'nullable': True,\n         'metadata': {}},\n        {'name': 'Software', 'type': 'long', 'nullable': True, 'metadata': {}},\n        {'name': 'Software Training',\n         'type': 'long',\n         'nullable': True,\n         'metadata': {}},\n        {'name': 'Sokoban', 'type': 'long', 'nullable': True, 'metadata': {}},\n        {'name': 'Solitaire',\n         'type': 'long',\n         'nullable': True,\n         'metadata': {}},\n        {'name': 'Souls-like',\n         'type': 'long',\n         'nullable': True,\n         'metadata': {}},\n        {'name': 'Soundtrack',\n         'type': 'long',\n         'nullable': True,\n         'metadata': {}},\n        {'name': 'Space', 'type': 'long', 'nullable': True, 'metadata': {}},\n        {'name': 'Space Sim',\n         'type': 'long',\n         'nullable': True,\n         'metadata': {}},\n        {'name': 'Spaceships',\n         'type': 'long',\n         'nullable': True,\n         'metadata': {}},\n        {'name': 'Spectacle fighter',\n         'type': 'long',\n         'nullable': True,\n         'metadata': {}},\n        {'name': 'Spelling', 'type': 'long', 'nullable': True, 'metadata': {}},\n        {'name': 'Split Screen',\n         'type': 'long',\n         'nullable': True,\n         'metadata': {}},\n        {'name': 'Sports', 'type': 'long', 'nullable': True, 'metadata': {}},\n        {'name': 'Stealth', 'type': 'long', 'nullable': True, 'metadata': {}},\n        {'name': 'Steam Machine',\n         'type': 'long',\n         'nullable': True,\n         'metadata': {}},\n        {'name': 'Steampunk',\n         'type': 'long',\n         'nullable': True,\n         'metadata': {}},\n        {'name': 'Story Rich',\n         'type': 'long',\n         'nullable': True,\n         'metadata': {}},\n        {'name': 'Strategy', 'type': 'long', 'nullable': True, 'metadata': {}},\n        {'name': 'Strategy RPG',\n         'type': 'long',\n         'nullable': True,\n         'metadata': {}},\n        {'name': 'Stylized', 'type': 'long', 'nullable': True, 'metadata': {}},\n        {'name': 'Submarine',\n         'type': 'long',\n         'nullable': True,\n         'metadata': {}},\n        {'name': 'Superhero',\n         'type': 'long',\n         'nullable': True,\n         'metadata': {}},\n        {'name': 'Supernatural',\n         'type': 'long',\n         'nullable': True,\n         'metadata': {}},\n        {'name': 'Surreal', 'type': 'long', 'nullable': True, 'metadata': {}},\n        {'name': 'Survival', 'type': 'long', 'nullable': True, 'metadata': {}},\n        {'name': 'Survival Horror',\n         'type': 'long',\n         'nullable': True,\n         'metadata': {}},\n        {'name': 'Swordplay',\n         'type': 'long',\n         'nullable': True,\n         'metadata': {}},\n        {'name': 'Tabletop', 'type': 'long', 'nullable': True, 'metadata': {}},\n        {'name': 'Tactical', 'type': 'long', 'nullable': True, 'metadata': {}},\n        {'name': 'Tactical RPG',\n         'type': 'long',\n         'nullable': True,\n         'metadata': {}},\n        {'name': 'Tanks', 'type': 'long', 'nullable': True, 'metadata': {}},\n        {'name': 'Team-Based',\n         'type': 'long',\n         'nullable': True,\n         'metadata': {}},\n        {'name': 'Tennis', 'type': 'long', 'nullable': True, 'metadata': {}},\n        {'name': 'Text-Based',\n         'type': 'long',\n         'nullable': True,\n         'metadata': {}},\n        {'name': 'Third Person',\n         'type': 'long',\n         'nullable': True,\n         'metadata': {}},\n        {'name': 'Third-Person Shooter',\n         'type': 'long',\n         'nullable': True,\n         'metadata': {}},\n        {'name': 'Thriller', 'type': 'long', 'nullable': True, 'metadata': {}},\n        {'name': 'Tile-Matching',\n         'type': 'long',\n         'nullable': True,\n         'metadata': {}},\n        {'name': 'Time Attack',\n         'type': 'long',\n         'nullable': True,\n         'metadata': {}},\n        {'name': 'Time Management',\n         'type': 'long',\n         'nullable': True,\n         'metadata': {}},\n        {'name': 'Time Manipulation',\n         'type': 'long',\n         'nullable': True,\n         'metadata': {}},\n        {'name': 'Time Travel',\n         'type': 'long',\n         'nullable': True,\n         'metadata': {}},\n        {'name': 'Top-Down', 'type': 'long', 'nullable': True, 'metadata': {}},\n        {'name': 'Top-Down Shooter',\n         'type': 'long',\n         'nullable': True,\n         'metadata': {}},\n        {'name': 'Touch-Friendly',\n         'type': 'long',\n         'nullable': True,\n         'metadata': {}},\n        {'name': 'Tower Defense',\n         'type': 'long',\n         'nullable': True,\n         'metadata': {}},\n        {'name': 'TrackIR', 'type': 'long', 'nullable': True, 'metadata': {}},\n        {'name': 'Trading', 'type': 'long', 'nullable': True, 'metadata': {}},\n        {'name': 'Trading Card Game',\n         'type': 'long',\n         'nullable': True,\n         'metadata': {}},\n        {'name': 'Traditional Roguelike',\n         'type': 'long',\n         'nullable': True,\n         'metadata': {}},\n        {'name': 'Trains', 'type': 'long', 'nullable': True, 'metadata': {}},\n        {'name': 'Transhumanism',\n         'type': 'long',\n         'nullable': True,\n         'metadata': {}},\n        {'name': 'Transportation',\n         'type': 'long',\n         'nullable': True,\n         'metadata': {}},\n        {'name': 'Trivia', 'type': 'long', 'nullable': True, 'metadata': {}},\n        {'name': 'Turn-Based',\n         'type': 'long',\n         'nullable': True,\n         'metadata': {}},\n        {'name': 'Turn-Based Combat',\n         'type': 'long',\n         'nullable': True,\n         'metadata': {}},\n        {'name': 'Turn-Based Strategy',\n         'type': 'long',\n         'nullable': True,\n         'metadata': {}},\n        {'name': 'Turn-Based Tactics',\n         'type': 'long',\n         'nullable': True,\n         'metadata': {}},\n        {'name': 'Tutorial', 'type': 'long', 'nullable': True, 'metadata': {}},\n        {'name': 'Twin Stick Shooter',\n         'type': 'long',\n         'nullable': True,\n         'metadata': {}},\n        {'name': 'Typing', 'type': 'long', 'nullable': True, 'metadata': {}},\n        {'name': 'Underground',\n         'type': 'long',\n         'nullable': True,\n         'metadata': {}},\n        {'name': 'Underwater',\n         'type': 'long',\n         'nullable': True,\n         'metadata': {}},\n        {'name': 'Unforgiving',\n         'type': 'long',\n         'nullable': True,\n         'metadata': {}},\n        {'name': 'Utilities',\n         'type': 'long',\n         'nullable': True,\n         'metadata': {}},\n        {'name': 'VR', 'type': 'long', 'nullable': True, 'metadata': {}},\n        {'name': 'VR Only', 'type': 'long', 'nullable': True, 'metadata': {}},\n        {'name': 'Vampire', 'type': 'long', 'nullable': True, 'metadata': {}},\n        {'name': 'Vehicular Combat',\n         'type': 'long',\n         'nullable': True,\n         'metadata': {}},\n        {'name': 'Video Production',\n         'type': 'long',\n         'nullable': True,\n         'metadata': {}},\n        {'name': 'Vikings', 'type': 'long', 'nullable': True, 'metadata': {}},\n        {'name': 'Villain Protagonist',\n         'type': 'long',\n         'nullable': True,\n         'metadata': {}},\n        {'name': 'Violent', 'type': 'long', 'nullable': True, 'metadata': {}},\n        {'name': 'Visual Novel',\n         'type': 'long',\n         'nullable': True,\n         'metadata': {}},\n        {'name': 'Voice Control',\n         'type': 'long',\n         'nullable': True,\n         'metadata': {}},\n        {'name': 'Volleyball',\n         'type': 'long',\n         'nullable': True,\n         'metadata': {}},\n        {'name': 'Voxel', 'type': 'long', 'nullable': True, 'metadata': {}},\n        {'name': 'Walking Simulator',\n         'type': 'long',\n         'nullable': True,\n         'metadata': {}},\n        {'name': 'War', 'type': 'long', 'nullable': True, 'metadata': {}},\n        {'name': 'Wargame', 'type': 'long', 'nullable': True, 'metadata': {}},\n        {'name': 'Warhammer 40K',\n         'type': 'long',\n         'nullable': True,\n         'metadata': {}},\n        {'name': 'Web Publishing',\n         'type': 'long',\n         'nullable': True,\n         'metadata': {}},\n        {'name': 'Well-Written',\n         'type': 'long',\n         'nullable': True,\n         'metadata': {}},\n        {'name': 'Werewolves',\n         'type': 'long',\n         'nullable': True,\n         'metadata': {}},\n        {'name': 'Western', 'type': 'long', 'nullable': True, 'metadata': {}},\n        {'name': 'Wholesome',\n         'type': 'long',\n         'nullable': True,\n         'metadata': {}},\n        {'name': 'Word Game',\n         'type': 'long',\n         'nullable': True,\n         'metadata': {}},\n        {'name': 'World War I',\n         'type': 'long',\n         'nullable': True,\n         'metadata': {}},\n        {'name': 'World War II',\n         'type': 'long',\n         'nullable': True,\n         'metadata': {}},\n        {'name': 'Wrestling',\n         'type': 'long',\n         'nullable': True,\n         'metadata': {}},\n        {'name': 'Zombies', 'type': 'long', 'nullable': True, 'metadata': {}},\n        {'name': 'e-sports',\n         'type': 'long',\n         'nullable': True,\n         'metadata': {}}]},\n      'nullable': True,\n      'metadata': {}},\n     {'name': 'type', 'type': 'string', 'nullable': True, 'metadata': {}},\n     {'name': 'website', 'type': 'string', 'nullable': True, 'metadata': {}}]},\n   'nullable': True,\n   'metadata': {}},\n  {'name': 'id', 'type': 'string', 'nullable': True, 'metadata': {}}]}"
     ]
    }
   ],
   "source": [
    "# we'll work the schema in json format\n",
    "initial_df.schema.jsonValue()"
   ]
  },
  {
   "cell_type": "markdown",
   "metadata": {
    "application/vnd.databricks.v1+cell": {
     "cellMetadata": {},
     "inputWidgets": {},
     "nuid": "ef62ea87-81f6-4879-93c4-e6eebae35243",
     "showTitle": false,
     "tableResultSettingsMap": {},
     "title": ""
    }
   },
   "source": [
    "# Selection et mise en forme des données dans un DataFrame "
   ]
  },
  {
   "cell_type": "code",
   "execution_count": 0,
   "metadata": {
    "application/vnd.databricks.v1+cell": {
     "cellMetadata": {
      "byteLimit": 2048000,
      "rowLimit": 10000
     },
     "inputWidgets": {},
     "nuid": "b22d658f-49d5-40bd-aa56-151003bd18d9",
     "showTitle": false,
     "tableResultSettingsMap": {},
     "title": ""
    }
   },
   "outputs": [],
   "source": [
    "from pyspark.sql import functions as F\n",
    "from pyspark.sql.types import *\n",
    "\n",
    "# Selection des colonnes retenues\n",
    "# Mises en forme en fonction des cas :\n",
    "# - string => Double\n",
    "# - string en date\n",
    "# - Split de valeurs multiples séparées par des \",\" par des listes\n",
    "final_df = initial_df \\\n",
    "          .withColumn(\"appid\", F.col(\"data.appid\")) \\\n",
    "          .withColumn(\"categories\", F.col(\"data.categories\")) \\\n",
    "          .withColumn(\"ccu\", F.col(\"data.ccu\")) \\\n",
    "          .withColumn(\"developer\", F.col(\"data.developer\")) \\\n",
    "          .withColumn(\"discount\", F.col(\"data.discount\").cast(DoubleType())) \\\n",
    "          .withColumn(\"genres\", F.split(\"data.genre\", \", \")) \\\n",
    "          .withColumn(\"header_image\", F.col(\"data.header_image\")) \\\n",
    "          .withColumn(\"initialprice\", F.col(\"data.initialprice\").cast(DoubleType())) \\\n",
    "          .withColumn(\"languages\", F.split(\"data.languages\", \", \")) \\\n",
    "          .withColumn(\"name\", F.col(\"data.name\")) \\\n",
    "          .withColumn(\"negative\", F.col(\"data.negative\")) \\\n",
    "          .withColumn(\"owners\", F.col(\"data.owners\")) \\\n",
    "          .withColumn(\"platform_linux\", F.col(\"data.platforms.linux\")) \\\n",
    "          .withColumn(\"platform_mac\", F.col(\"data.platforms.mac\")) \\\n",
    "          .withColumn(\"platform_windows\", F.col(\"data.platforms.windows\")) \\\n",
    "          .withColumn(\"positive\", F.col(\"data.positive\")) \\\n",
    "          .withColumn(\"price\", F.col(\"data.price\").cast(DoubleType())) \\\n",
    "          .withColumn(\"publisher\", F.col(\"data.publisher\")) \\\n",
    "          .withColumn(\"release_date\", F.to_date(F.col(\"data.release_date\"), 'yyyy/MM/d')) \\\n",
    "          .withColumn(\"required_age\", F.col(\"data.required_age\").cast(IntegerType())) \\\n",
    "          .withColumn(\"type\", F.col(\"data.type\")) \\\n",
    "          .withColumn(\"website\", F.col(\"data.website\")) \\\n",
    "          .drop(\"data\")\n",
    "\n",
    "# Transformer les prix en montant en $ au lieu de cts et le \"discount\" en ratio au lieu de xx%\n",
    "final_df = final_df \\\n",
    "          .withColumn(\"discount\", final_df.discount / 100) \\\n",
    "          .withColumn(\"initialprice\", final_df.initialprice / 100) \\\n",
    "          .withColumn(\"price\", final_df.price / 100)"
   ]
  },
  {
   "cell_type": "code",
   "execution_count": 0,
   "metadata": {
    "application/vnd.databricks.v1+cell": {
     "cellMetadata": {
      "byteLimit": 2048000,
      "rowLimit": 10000
     },
     "inputWidgets": {},
     "nuid": "ec765474-8d85-4353-9815-b3443761e777",
     "showTitle": false,
     "tableResultSettingsMap": {},
     "title": ""
    }
   },
   "outputs": [
    {
     "output_type": "display_data",
     "data": {
      "text/html": [
       "<style scoped>\n",
       "  .table-result-container {\n",
       "    max-height: 300px;\n",
       "    overflow: auto;\n",
       "  }\n",
       "  table, th, td {\n",
       "    border: 1px solid black;\n",
       "    border-collapse: collapse;\n",
       "  }\n",
       "  th, td {\n",
       "    padding: 5px;\n",
       "  }\n",
       "  th {\n",
       "    text-align: left;\n",
       "  }\n",
       "</style><div class='table-result-container'><table class='table-result'><thead style='background-color: white'><tr><th>summary</th><th>id</th><th>appid</th><th>ccu</th><th>developer</th><th>discount</th><th>header_image</th><th>initialprice</th><th>name</th><th>negative</th><th>owners</th><th>positive</th><th>price</th><th>publisher</th><th>required_age</th><th>type</th><th>website</th></tr></thead><tbody><tr><td>count</td><td>55691</td><td>55691</td><td>55691</td><td>55691</td><td>55691</td><td>55691</td><td>55691</td><td>55691</td><td>55691</td><td>55691</td><td>55691</td><td>55691</td><td>55691</td><td>55688</td><td>55691</td><td>55691</td></tr><tr><td>mean</td><td>1025603.0926720655</td><td>1025603.0926720655</td><td>138.9596164550825</td><td>67392.0</td><td>0.026037779892621713</td><td>null</td><td>7.975663033519214</td><td>Infinity</td><td>241.8376937027527</td><td>null</td><td>1470.8755992889335</td><td>7.732849832104521</td><td>2001.0</td><td>0.1978882344490734</td><td>null</td><td>null</td></tr><tr><td>stddev</td><td>522784.96832834504</td><td>522784.96832834504</td><td>6002.067909130765</td><td>210681.70504552333</td><td>0.12887080174743096</td><td>null</td><td>11.047624778413402</td><td>NaN</td><td>5765.413761559615</td><td>null</td><td>30982.733479534887</td><td>10.931345827234507</td><td>1921.8937275510318</td><td>2.2962924614818236</td><td>null</td><td>null</td></tr><tr><td>min</td><td>10</td><td>10</td><td>0</td><td></td><td>0.0</td><td>https://cdn.akamai.steamstatic.com/steam/apps/10/header.jpg?t=1666823513</td><td>0.0</td><td> Fieldrunners 2</td><td>0</td><td>0 .. 20,000</td><td>0</td><td>0.0</td><td></td><td>0</td><td>game</td><td></td></tr><tr><td>max</td><td>999990</td><td>2190950</td><td>874053</td><td>＼上／</td><td>0.9</td><td>https://cdn.akamai.steamstatic.com/steam/apps/999990/header.jpg?t=1610733322</td><td>999.0</td><td>～Daydream～蝶が舞う頃に</td><td>908515</td><td>500,000 .. 1,000,000</td><td>5943345</td><td>999.0</td><td>Ｌｅｍｏｎ　Ｂａｌｍ</td><td>180</td><td>hardware</td><td>www.windybeard.com</td></tr></tbody></table></div>"
      ]
     },
     "metadata": {
      "application/vnd.databricks.v1+output": {
       "addedWidgets": {},
       "aggData": [],
       "aggError": "",
       "aggOverflow": false,
       "aggSchema": [],
       "aggSeriesLimitReached": false,
       "aggType": "",
       "arguments": {},
       "columnCustomDisplayInfos": {},
       "data": [
        [
         "count",
         "55691",
         "55691",
         "55691",
         "55691",
         "55691",
         "55691",
         "55691",
         "55691",
         "55691",
         "55691",
         "55691",
         "55691",
         "55691",
         "55688",
         "55691",
         "55691"
        ],
        [
         "mean",
         "1025603.0926720655",
         "1025603.0926720655",
         "138.9596164550825",
         "67392.0",
         "0.026037779892621713",
         null,
         "7.975663033519214",
         "Infinity",
         "241.8376937027527",
         null,
         "1470.8755992889335",
         "7.732849832104521",
         "2001.0",
         "0.1978882344490734",
         null,
         null
        ],
        [
         "stddev",
         "522784.96832834504",
         "522784.96832834504",
         "6002.067909130765",
         "210681.70504552333",
         "0.12887080174743096",
         null,
         "11.047624778413402",
         "NaN",
         "5765.413761559615",
         null,
         "30982.733479534887",
         "10.931345827234507",
         "1921.8937275510318",
         "2.2962924614818236",
         null,
         null
        ],
        [
         "min",
         "10",
         "10",
         "0",
         "",
         "0.0",
         "https://cdn.akamai.steamstatic.com/steam/apps/10/header.jpg?t=1666823513",
         "0.0",
         " Fieldrunners 2",
         "0",
         "0 .. 20,000",
         "0",
         "0.0",
         "",
         "0",
         "game",
         ""
        ],
        [
         "max",
         "999990",
         "2190950",
         "874053",
         "＼上／",
         "0.9",
         "https://cdn.akamai.steamstatic.com/steam/apps/999990/header.jpg?t=1610733322",
         "999.0",
         "～Daydream～蝶が舞う頃に",
         "908515",
         "500,000 .. 1,000,000",
         "5943345",
         "999.0",
         "Ｌｅｍｏｎ　Ｂａｌｍ",
         "180",
         "hardware",
         "www.windybeard.com"
        ]
       ],
       "datasetInfos": [],
       "dbfsResultPath": null,
       "isJsonSchema": true,
       "metadata": {},
       "overflow": false,
       "plotOptions": {
        "customPlotOptions": {},
        "displayType": "table",
        "pivotAggregation": null,
        "pivotColumns": null,
        "xColumns": null,
        "yColumns": null
       },
       "removedWidgets": [],
       "schema": [
        {
         "metadata": "{}",
         "name": "summary",
         "type": "\"string\""
        },
        {
         "metadata": "{}",
         "name": "id",
         "type": "\"string\""
        },
        {
         "metadata": "{}",
         "name": "appid",
         "type": "\"string\""
        },
        {
         "metadata": "{}",
         "name": "ccu",
         "type": "\"string\""
        },
        {
         "metadata": "{}",
         "name": "developer",
         "type": "\"string\""
        },
        {
         "metadata": "{}",
         "name": "discount",
         "type": "\"string\""
        },
        {
         "metadata": "{}",
         "name": "header_image",
         "type": "\"string\""
        },
        {
         "metadata": "{}",
         "name": "initialprice",
         "type": "\"string\""
        },
        {
         "metadata": "{}",
         "name": "name",
         "type": "\"string\""
        },
        {
         "metadata": "{}",
         "name": "negative",
         "type": "\"string\""
        },
        {
         "metadata": "{}",
         "name": "owners",
         "type": "\"string\""
        },
        {
         "metadata": "{}",
         "name": "positive",
         "type": "\"string\""
        },
        {
         "metadata": "{}",
         "name": "price",
         "type": "\"string\""
        },
        {
         "metadata": "{}",
         "name": "publisher",
         "type": "\"string\""
        },
        {
         "metadata": "{}",
         "name": "required_age",
         "type": "\"string\""
        },
        {
         "metadata": "{}",
         "name": "type",
         "type": "\"string\""
        },
        {
         "metadata": "{}",
         "name": "website",
         "type": "\"string\""
        }
       ],
       "type": "table"
      }
     },
     "output_type": "display_data"
    },
    {
     "output_type": "display_data",
     "data": {
      "text/plain": [
       "Databricks visualization. Run in Databricks to view."
      ]
     },
     "metadata": {
      "application/vnd.databricks.v1.subcommand+json": {
       "baseErrorDetails": null,
       "bindings": {},
       "collapsed": false,
       "command": "display(final_df.describe())",
       "commandTitle": "Visualization 1",
       "commandType": "auto",
       "commandVersion": 0,
       "commentThread": [],
       "commentsVisible": false,
       "contentSha256Hex": null,
       "customPlotOptions": {
        "redashChart": [
         {
          "key": "type",
          "value": "TABLE"
         },
         {
          "key": "options",
          "value": {
           "columns": [
            {
             "alignContent": "left",
             "allowHTML": false,
             "allowSearch": false,
             "booleanValues": [
              "false",
              "true"
             ],
             "displayAs": "string",
             "highlightLinks": false,
             "imageHeight": "",
             "imageTitleTemplate": "{{ @ }}",
             "imageUrlTemplate": "{{ @ }}",
             "imageWidth": "",
             "linkOpenInNewTab": true,
             "linkTextTemplate": "{{ @ }}",
             "linkTitleTemplate": "{{ @ }}",
             "linkUrlTemplate": "{{ @ }}",
             "name": "summary",
             "order": 100000,
             "preserveWhitespace": false,
             "title": "summary",
             "type": "string",
             "useMonospaceFont": false,
             "visible": true
            },
            {
             "alignContent": "left",
             "allowHTML": false,
             "allowSearch": false,
             "booleanValues": [
              "false",
              "true"
             ],
             "displayAs": "string",
             "highlightLinks": false,
             "imageHeight": "",
             "imageTitleTemplate": "{{ @ }}",
             "imageUrlTemplate": "{{ @ }}",
             "imageWidth": "",
             "linkOpenInNewTab": true,
             "linkTextTemplate": "{{ @ }}",
             "linkTitleTemplate": "{{ @ }}",
             "linkUrlTemplate": "{{ @ }}",
             "name": "id",
             "order": 100001,
             "preserveWhitespace": false,
             "title": "id",
             "type": "string",
             "useMonospaceFont": false,
             "visible": true
            },
            {
             "alignContent": "left",
             "allowHTML": false,
             "allowSearch": false,
             "booleanValues": [
              "false",
              "true"
             ],
             "displayAs": "string",
             "highlightLinks": false,
             "imageHeight": "",
             "imageTitleTemplate": "{{ @ }}",
             "imageUrlTemplate": "{{ @ }}",
             "imageWidth": "",
             "linkOpenInNewTab": true,
             "linkTextTemplate": "{{ @ }}",
             "linkTitleTemplate": "{{ @ }}",
             "linkUrlTemplate": "{{ @ }}",
             "name": "appid",
             "order": 100002,
             "preserveWhitespace": false,
             "title": "appid",
             "type": "string",
             "useMonospaceFont": false,
             "visible": true
            },
            {
             "alignContent": "left",
             "allowHTML": false,
             "allowSearch": false,
             "booleanValues": [
              "false",
              "true"
             ],
             "displayAs": "string",
             "highlightLinks": false,
             "imageHeight": "",
             "imageTitleTemplate": "{{ @ }}",
             "imageUrlTemplate": "{{ @ }}",
             "imageWidth": "",
             "linkOpenInNewTab": true,
             "linkTextTemplate": "{{ @ }}",
             "linkTitleTemplate": "{{ @ }}",
             "linkUrlTemplate": "{{ @ }}",
             "name": "ccu",
             "order": 100003,
             "preserveWhitespace": false,
             "title": "ccu",
             "type": "string",
             "useMonospaceFont": false,
             "visible": true
            },
            {
             "alignContent": "left",
             "allowHTML": false,
             "allowSearch": false,
             "booleanValues": [
              "false",
              "true"
             ],
             "displayAs": "string",
             "highlightLinks": false,
             "imageHeight": "",
             "imageTitleTemplate": "{{ @ }}",
             "imageUrlTemplate": "{{ @ }}",
             "imageWidth": "",
             "linkOpenInNewTab": true,
             "linkTextTemplate": "{{ @ }}",
             "linkTitleTemplate": "{{ @ }}",
             "linkUrlTemplate": "{{ @ }}",
             "name": "developer",
             "order": 100004,
             "preserveWhitespace": false,
             "title": "developer",
             "type": "string",
             "useMonospaceFont": false,
             "visible": true
            },
            {
             "alignContent": "left",
             "allowHTML": false,
             "allowSearch": false,
             "booleanValues": [
              "false",
              "true"
             ],
             "displayAs": "string",
             "highlightLinks": false,
             "imageHeight": "",
             "imageTitleTemplate": "{{ @ }}",
             "imageUrlTemplate": "{{ @ }}",
             "imageWidth": "",
             "linkOpenInNewTab": true,
             "linkTextTemplate": "{{ @ }}",
             "linkTitleTemplate": "{{ @ }}",
             "linkUrlTemplate": "{{ @ }}",
             "name": "discount",
             "order": 100005,
             "preserveWhitespace": false,
             "title": "discount",
             "type": "string",
             "useMonospaceFont": false,
             "visible": true
            },
            {
             "alignContent": "left",
             "allowHTML": false,
             "allowSearch": false,
             "booleanValues": [
              "false",
              "true"
             ],
             "displayAs": "string",
             "highlightLinks": false,
             "imageHeight": "",
             "imageTitleTemplate": "{{ @ }}",
             "imageUrlTemplate": "{{ @ }}",
             "imageWidth": "",
             "linkOpenInNewTab": true,
             "linkTextTemplate": "{{ @ }}",
             "linkTitleTemplate": "{{ @ }}",
             "linkUrlTemplate": "{{ @ }}",
             "name": "header_image",
             "order": 100006,
             "preserveWhitespace": false,
             "title": "header_image",
             "type": "string",
             "useMonospaceFont": false,
             "visible": true
            },
            {
             "alignContent": "left",
             "allowHTML": false,
             "allowSearch": false,
             "booleanValues": [
              "false",
              "true"
             ],
             "displayAs": "string",
             "highlightLinks": false,
             "imageHeight": "",
             "imageTitleTemplate": "{{ @ }}",
             "imageUrlTemplate": "{{ @ }}",
             "imageWidth": "",
             "linkOpenInNewTab": true,
             "linkTextTemplate": "{{ @ }}",
             "linkTitleTemplate": "{{ @ }}",
             "linkUrlTemplate": "{{ @ }}",
             "name": "initialprice",
             "order": 100007,
             "preserveWhitespace": false,
             "title": "initialprice",
             "type": "string",
             "useMonospaceFont": false,
             "visible": true
            },
            {
             "alignContent": "left",
             "allowHTML": false,
             "allowSearch": false,
             "booleanValues": [
              "false",
              "true"
             ],
             "displayAs": "string",
             "highlightLinks": false,
             "imageHeight": "",
             "imageTitleTemplate": "{{ @ }}",
             "imageUrlTemplate": "{{ @ }}",
             "imageWidth": "",
             "linkOpenInNewTab": true,
             "linkTextTemplate": "{{ @ }}",
             "linkTitleTemplate": "{{ @ }}",
             "linkUrlTemplate": "{{ @ }}",
             "name": "name",
             "order": 100008,
             "preserveWhitespace": false,
             "title": "name",
             "type": "string",
             "useMonospaceFont": false,
             "visible": true
            },
            {
             "alignContent": "left",
             "allowHTML": false,
             "allowSearch": false,
             "booleanValues": [
              "false",
              "true"
             ],
             "displayAs": "string",
             "highlightLinks": false,
             "imageHeight": "",
             "imageTitleTemplate": "{{ @ }}",
             "imageUrlTemplate": "{{ @ }}",
             "imageWidth": "",
             "linkOpenInNewTab": true,
             "linkTextTemplate": "{{ @ }}",
             "linkTitleTemplate": "{{ @ }}",
             "linkUrlTemplate": "{{ @ }}",
             "name": "negative",
             "order": 100009,
             "preserveWhitespace": false,
             "title": "negative",
             "type": "string",
             "useMonospaceFont": false,
             "visible": true
            },
            {
             "alignContent": "left",
             "allowHTML": false,
             "allowSearch": false,
             "booleanValues": [
              "false",
              "true"
             ],
             "displayAs": "string",
             "highlightLinks": false,
             "imageHeight": "",
             "imageTitleTemplate": "{{ @ }}",
             "imageUrlTemplate": "{{ @ }}",
             "imageWidth": "",
             "linkOpenInNewTab": true,
             "linkTextTemplate": "{{ @ }}",
             "linkTitleTemplate": "{{ @ }}",
             "linkUrlTemplate": "{{ @ }}",
             "name": "owners",
             "order": 100010,
             "preserveWhitespace": false,
             "title": "owners",
             "type": "string",
             "useMonospaceFont": false,
             "visible": true
            },
            {
             "alignContent": "left",
             "allowHTML": false,
             "allowSearch": false,
             "booleanValues": [
              "false",
              "true"
             ],
             "displayAs": "string",
             "highlightLinks": false,
             "imageHeight": "",
             "imageTitleTemplate": "{{ @ }}",
             "imageUrlTemplate": "{{ @ }}",
             "imageWidth": "",
             "linkOpenInNewTab": true,
             "linkTextTemplate": "{{ @ }}",
             "linkTitleTemplate": "{{ @ }}",
             "linkUrlTemplate": "{{ @ }}",
             "name": "positive",
             "order": 100011,
             "preserveWhitespace": false,
             "title": "positive",
             "type": "string",
             "useMonospaceFont": false,
             "visible": true
            },
            {
             "alignContent": "left",
             "allowHTML": false,
             "allowSearch": false,
             "booleanValues": [
              "false",
              "true"
             ],
             "displayAs": "string",
             "highlightLinks": false,
             "imageHeight": "",
             "imageTitleTemplate": "{{ @ }}",
             "imageUrlTemplate": "{{ @ }}",
             "imageWidth": "",
             "linkOpenInNewTab": true,
             "linkTextTemplate": "{{ @ }}",
             "linkTitleTemplate": "{{ @ }}",
             "linkUrlTemplate": "{{ @ }}",
             "name": "price",
             "order": 100012,
             "preserveWhitespace": false,
             "title": "price",
             "type": "string",
             "useMonospaceFont": false,
             "visible": true
            },
            {
             "alignContent": "left",
             "allowHTML": false,
             "allowSearch": false,
             "booleanValues": [
              "false",
              "true"
             ],
             "displayAs": "string",
             "highlightLinks": false,
             "imageHeight": "",
             "imageTitleTemplate": "{{ @ }}",
             "imageUrlTemplate": "{{ @ }}",
             "imageWidth": "",
             "linkOpenInNewTab": true,
             "linkTextTemplate": "{{ @ }}",
             "linkTitleTemplate": "{{ @ }}",
             "linkUrlTemplate": "{{ @ }}",
             "name": "publisher",
             "order": 100013,
             "preserveWhitespace": false,
             "title": "publisher",
             "type": "string",
             "useMonospaceFont": false,
             "visible": true
            },
            {
             "alignContent": "left",
             "allowHTML": false,
             "allowSearch": false,
             "booleanValues": [
              "false",
              "true"
             ],
             "displayAs": "string",
             "highlightLinks": false,
             "imageHeight": "",
             "imageTitleTemplate": "{{ @ }}",
             "imageUrlTemplate": "{{ @ }}",
             "imageWidth": "",
             "linkOpenInNewTab": true,
             "linkTextTemplate": "{{ @ }}",
             "linkTitleTemplate": "{{ @ }}",
             "linkUrlTemplate": "{{ @ }}",
             "name": "required_age",
             "order": 100014,
             "preserveWhitespace": false,
             "title": "required_age",
             "type": "string",
             "useMonospaceFont": false,
             "visible": true
            },
            {
             "alignContent": "left",
             "allowHTML": false,
             "allowSearch": false,
             "booleanValues": [
              "false",
              "true"
             ],
             "displayAs": "string",
             "highlightLinks": false,
             "imageHeight": "",
             "imageTitleTemplate": "{{ @ }}",
             "imageUrlTemplate": "{{ @ }}",
             "imageWidth": "",
             "linkOpenInNewTab": true,
             "linkTextTemplate": "{{ @ }}",
             "linkTitleTemplate": "{{ @ }}",
             "linkUrlTemplate": "{{ @ }}",
             "name": "type",
             "order": 100015,
             "preserveWhitespace": false,
             "title": "type",
             "type": "string",
             "useMonospaceFont": false,
             "visible": true
            },
            {
             "alignContent": "left",
             "allowHTML": false,
             "allowSearch": false,
             "booleanValues": [
              "false",
              "true"
             ],
             "displayAs": "string",
             "highlightLinks": false,
             "imageHeight": "",
             "imageTitleTemplate": "{{ @ }}",
             "imageUrlTemplate": "{{ @ }}",
             "imageWidth": "",
             "linkOpenInNewTab": true,
             "linkTextTemplate": "{{ @ }}",
             "linkTitleTemplate": "{{ @ }}",
             "linkUrlTemplate": "{{ @ }}",
             "name": "website",
             "order": 100016,
             "preserveWhitespace": false,
             "title": "website",
             "type": "string",
             "useMonospaceFont": false,
             "visible": true
            }
           ],
           "condensed": true,
           "itemsPerPage": 25,
           "paginationSize": "default",
           "version": 2,
           "withRowNumber": false
          }
         }
        ]
       },
       "datasetPreviewNameToCmdIdMap": {},
       "diffDeletes": [],
       "diffInserts": [],
       "displayType": "redashChart",
       "error": null,
       "errorDetails": null,
       "errorSummary": null,
       "errorTraceType": null,
       "finishTime": 0,
       "globalVars": {},
       "guid": "",
       "height": "auto",
       "hideCommandCode": false,
       "hideCommandResult": false,
       "iPythonMetadata": null,
       "inputWidgets": {},
       "isLockedInExamMode": false,
       "latestUser": "a user",
       "latestUserId": null,
       "listResultMetadata": null,
       "metadata": {},
       "nuid": "001d3022-9db0-4a0c-9e69-6c1744a8c645",
       "origId": 0,
       "parentHierarchy": [],
       "pivotAggregation": null,
       "pivotColumns": null,
       "position": 32.25,
       "resultDbfsErrorMessage": null,
       "resultDbfsStatus": "INLINED_IN_TREE",
       "results": null,
       "showCommandTitle": false,
       "startTime": 0,
       "state": "input",
       "streamStates": {},
       "subcommandOptions": {},
       "submitTime": 0,
       "subtype": "tableResultSubCmd.visualization",
       "tableResultIndex": 0,
       "tableResultSettingsMap": {},
       "useConsistentColors": false,
       "version": "CommandV1",
       "width": "auto",
       "workflows": [],
       "xColumns": null,
       "yColumns": null
      }
     },
     "output_type": "display_data"
    }
   ],
   "source": [
    "display(final_df.describe())"
   ]
  },
  {
   "cell_type": "markdown",
   "metadata": {
    "application/vnd.databricks.v1+cell": {
     "cellMetadata": {},
     "inputWidgets": {},
     "nuid": "9aac9d6e-c003-4497-ac44-b585d39d100b",
     "showTitle": false,
     "tableResultSettingsMap": {},
     "title": ""
    }
   },
   "source": [
    "###\tQuel éditeur a publié le plus de jeux sur Steam ?"
   ]
  },
  {
   "cell_type": "code",
   "execution_count": 0,
   "metadata": {
    "application/vnd.databricks.v1+cell": {
     "cellMetadata": {
      "byteLimit": 2048000,
      "rowLimit": 10000
     },
     "inputWidgets": {},
     "nuid": "a3d97f9d-129e-4154-a3f5-f8ac38515784",
     "showTitle": false,
     "tableResultSettingsMap": {},
     "title": ""
    }
   },
   "outputs": [
    {
     "output_type": "display_data",
     "data": {
      "text/html": [
       "<style scoped>\n",
       "  .table-result-container {\n",
       "    max-height: 300px;\n",
       "    overflow: auto;\n",
       "  }\n",
       "  table, th, td {\n",
       "    border: 1px solid black;\n",
       "    border-collapse: collapse;\n",
       "  }\n",
       "  th, td {\n",
       "    padding: 5px;\n",
       "  }\n",
       "  th {\n",
       "    text-align: left;\n",
       "  }\n",
       "</style><div class='table-result-container'><table class='table-result'><thead style='background-color: white'><tr><th>publisher</th><th>games_count</th></tr></thead><tbody><tr><td>Big Fish Games</td><td>422</td></tr><tr><td>8floor</td><td>202</td></tr><tr><td>SEGA</td><td>165</td></tr><tr><td>Strategy First</td><td>151</td></tr><tr><td>Square Enix</td><td>141</td></tr><tr><td>Choice of Games</td><td>140</td></tr><tr><td>Sekai Project</td><td>132</td></tr><tr><td>HH-Games</td><td>132</td></tr></tbody></table></div>"
      ]
     },
     "metadata": {
      "application/vnd.databricks.v1+output": {
       "addedWidgets": {},
       "aggData": [],
       "aggError": "",
       "aggOverflow": false,
       "aggSchema": [],
       "aggSeriesLimitReached": false,
       "aggType": "",
       "arguments": {},
       "columnCustomDisplayInfos": {},
       "data": [
        [
         "Big Fish Games",
         422
        ],
        [
         "8floor",
         202
        ],
        [
         "SEGA",
         165
        ],
        [
         "Strategy First",
         151
        ],
        [
         "Square Enix",
         141
        ],
        [
         "Choice of Games",
         140
        ],
        [
         "Sekai Project",
         132
        ],
        [
         "HH-Games",
         132
        ]
       ],
       "datasetInfos": [],
       "dbfsResultPath": null,
       "isJsonSchema": true,
       "metadata": {},
       "overflow": false,
       "plotOptions": {
        "customPlotOptions": {},
        "displayType": "table",
        "pivotAggregation": null,
        "pivotColumns": null,
        "xColumns": null,
        "yColumns": null
       },
       "removedWidgets": [],
       "schema": [
        {
         "metadata": "{}",
         "name": "publisher",
         "type": "\"string\""
        },
        {
         "metadata": "{}",
         "name": "games_count",
         "type": "\"long\""
        }
       ],
       "type": "table"
      }
     },
     "output_type": "display_data"
    },
    {
     "output_type": "display_data",
     "data": {
      "text/plain": [
       "Databricks visualization. Run in Databricks to view."
      ]
     },
     "metadata": {
      "application/vnd.databricks.v1.subcommand+json": {
       "baseErrorDetails": null,
       "bindings": {},
       "collapsed": false,
       "command": "%python\n__backend_agg_display_orig = display\n__backend_agg_dfs = []\ndef __backend_agg_display_new(df):\n    __backend_agg_df_modules = [\"pandas.core.frame\", \"databricks.koalas.frame\", \"pyspark.sql.dataframe\", \"pyspark.pandas.frame\", \"pyspark.sql.connect.dataframe\"]\n    if (type(df).__module__ in __backend_agg_df_modules and type(df).__name__ == 'DataFrame') or isinstance(df, list):\n        __backend_agg_dfs.append(df)\n\ndisplay = __backend_agg_display_new\n\ndef __backend_agg_user_code_fn():\n    import base64\n    exec(base64.standard_b64decode(\"ZGlzcGxheShmaW5hbF9kZi5ncm91cEJ5KCJwdWJsaXNoZXIiKS5hZ2coRi5jb3VudCgiKiIpLmFsaWFzKCJnYW1lc19jb3VudCIpKS5vcmRlckJ5KEYuZGVzYygiZ2FtZXNfY291bnQiKSkubGltaXQoOCkpCgoK\").decode())\n\ntry:\n    # run user code\n    __backend_agg_user_code_fn()\n\n    #reset display function\n    display = __backend_agg_display_orig\n\n    if len(__backend_agg_dfs) > 0:\n        # create a temp view\n        if type(__backend_agg_dfs[0]).__module__ == \"databricks.koalas.frame\":\n            # koalas dataframe\n            __backend_agg_dfs[0].to_spark().createOrReplaceTempView(\"DatabricksView49f8dcf\")\n        elif type(__backend_agg_dfs[0]).__module__ == \"pandas.core.frame\" or isinstance(__backend_agg_dfs[0], list):\n            # pandas dataframe\n            spark.createDataFrame(__backend_agg_dfs[0]).createOrReplaceTempView(\"DatabricksView49f8dcf\")\n        else:\n            __backend_agg_dfs[0].createOrReplaceTempView(\"DatabricksView49f8dcf\")\n        #run backend agg\n        display(spark.sql(\"\"\"WITH q AS (select * from DatabricksView49f8dcf) SELECT `publisher`,SUM(`games_count`) `column_ed4ce7c517` FROM q GROUP BY `publisher`\"\"\"))\n    else:\n        displayHTML(\"dataframe no longer exists. If you're using dataframe.display(), use display(dataframe) instead.\")\n\n\nfinally:\n    spark.sql(\"drop view if exists DatabricksView49f8dcf\")\n    display = __backend_agg_display_orig\n    del __backend_agg_display_new\n    del __backend_agg_display_orig\n    del __backend_agg_dfs\n    del __backend_agg_user_code_fn\n\n",
       "commandTitle": "Visualization 1",
       "commandType": "auto",
       "commandVersion": 0,
       "commentThread": [],
       "commentsVisible": false,
       "contentSha256Hex": null,
       "customPlotOptions": {
        "redashChart": [
         {
          "key": "type",
          "value": "CHART"
         },
         {
          "key": "options",
          "value": {
           "alignYAxesAtZero": true,
           "coefficient": 1,
           "columnConfigurationMap": {
            "x": {
             "column": "publisher",
             "id": "column_ed4ce7c516"
            },
            "y": [
             {
              "column": "games_count",
              "id": "column_ed4ce7c517",
              "transform": "SUM"
             }
            ]
           },
           "dateTimeFormat": "DD/MM/YYYY HH:mm",
           "direction": {
            "type": "counterclockwise"
           },
           "error_y": {
            "type": "data",
            "visible": true
           },
           "globalSeriesType": "column",
           "isAggregationOn": true,
           "legend": {
            "traceorder": "normal"
           },
           "missingValuesAsZero": true,
           "numberFormat": "0,0.[00000]",
           "percentFormat": "0[.]00%",
           "series": {
            "error_y": {
             "type": "data",
             "visible": true
            },
            "stacking": null
           },
           "seriesOptions": {
            "column_ed4ce7c517": {
             "name": "games_count",
             "yAxis": 0
            }
           },
           "showDataLabels": false,
           "sizemode": "diameter",
           "sortX": false,
           "sortY": true,
           "swappedAxes": false,
           "textFormat": "",
           "useAggregationsUi": true,
           "valuesOptions": {},
           "version": 2,
           "xAxis": {
            "labels": {
             "enabled": true
            },
            "type": "-"
           },
           "yAxis": [
            {
             "type": "-"
            },
            {
             "opposite": true,
             "type": "-"
            }
           ]
          }
         }
        ]
       },
       "datasetPreviewNameToCmdIdMap": {},
       "diffDeletes": [],
       "diffInserts": [],
       "displayType": "redashChart",
       "error": null,
       "errorDetails": null,
       "errorSummary": null,
       "errorTraceType": null,
       "finishTime": 0,
       "globalVars": {},
       "guid": "",
       "height": "auto",
       "hideCommandCode": false,
       "hideCommandResult": false,
       "iPythonMetadata": null,
       "inputWidgets": {},
       "isLockedInExamMode": false,
       "latestUser": "a user",
       "latestUserId": null,
       "listResultMetadata": null,
       "metadata": {},
       "nuid": "0104746e-5827-44ff-8e5a-b1f743370084",
       "origId": 0,
       "parentHierarchy": [],
       "pivotAggregation": null,
       "pivotColumns": null,
       "position": 33.0,
       "resultDbfsErrorMessage": null,
       "resultDbfsStatus": "INLINED_IN_TREE",
       "results": null,
       "showCommandTitle": false,
       "startTime": 0,
       "state": "input",
       "streamStates": {},
       "subcommandOptions": {
        "queryPlan": {
         "groups": [
          {
           "column": "publisher",
           "type": "column"
          }
         ],
         "selects": [
          {
           "column": "publisher",
           "type": "column"
          },
          {
           "alias": "column_ed4ce7c517",
           "args": [
            {
             "column": "games_count",
             "type": "column"
            }
           ],
           "function": "SUM",
           "type": "function"
          }
         ]
        }
       },
       "submitTime": 0,
       "subtype": "tableResultSubCmd.visualization",
       "tableResultIndex": 0,
       "tableResultSettingsMap": {},
       "useConsistentColors": false,
       "version": "CommandV1",
       "width": "auto",
       "workflows": [],
       "xColumns": null,
       "yColumns": null
      }
     },
     "output_type": "display_data"
    }
   ],
   "source": [
    "display(final_df \\\n",
    "        .groupBy(\"publisher\").agg(F.count(\"*\").alias(\"games_count\")) \\\n",
    "        .orderBy(F.desc(\"games_count\")) \\\n",
    "        .limit(8)\n",
    "        )"
   ]
  },
  {
   "cell_type": "markdown",
   "metadata": {
    "application/vnd.databricks.v1+cell": {
     "cellMetadata": {},
     "inputWidgets": {},
     "nuid": "781c1125-5ff9-45cc-bbe6-70fc7b7b4ac7",
     "showTitle": false,
     "tableResultSettingsMap": {},
     "title": ""
    }
   },
   "source": [
    "### Quels sont les jeux les mieux notés ?"
   ]
  },
  {
   "cell_type": "code",
   "execution_count": 0,
   "metadata": {
    "application/vnd.databricks.v1+cell": {
     "cellMetadata": {
      "byteLimit": 2048000,
      "rowLimit": 10000
     },
     "inputWidgets": {},
     "nuid": "8d4d5657-29f5-4190-9087-a1e7dd43d519",
     "showTitle": false,
     "tableResultSettingsMap": {},
     "title": ""
    }
   },
   "outputs": [
    {
     "output_type": "display_data",
     "data": {
      "text/html": [
       "<style scoped>\n",
       "  .table-result-container {\n",
       "    max-height: 300px;\n",
       "    overflow: auto;\n",
       "  }\n",
       "  table, th, td {\n",
       "    border: 1px solid black;\n",
       "    border-collapse: collapse;\n",
       "  }\n",
       "  th, td {\n",
       "    padding: 5px;\n",
       "  }\n",
       "  th {\n",
       "    text-align: left;\n",
       "  }\n",
       "</style><div class='table-result-container'><table class='table-result'><thead style='background-color: white'><tr><th>appid</th><th>name</th><th>positive</th></tr></thead><tbody><tr><td>730</td><td>Counter-Strike: Global Offensive</td><td>5943345</td></tr><tr><td>570</td><td>Dota 2</td><td>1534895</td></tr><tr><td>271590</td><td>Grand Theft Auto V</td><td>1229265</td></tr><tr><td>578080</td><td>PUBG: BATTLEGROUNDS</td><td>1185361</td></tr><tr><td>105600</td><td>Terraria</td><td>1014711</td></tr><tr><td>359550</td><td>Tom Clancy's Rainbow Six Siege</td><td>942910</td></tr><tr><td>4000</td><td>Garry's Mod</td><td>861240</td></tr><tr><td>440</td><td>Team Fortress 2</td><td>846407</td></tr><tr><td>252490</td><td>Rust</td><td>732513</td></tr><tr><td>550</td><td>Left 4 Dead 2</td><td>643836</td></tr></tbody></table></div>"
      ]
     },
     "metadata": {
      "application/vnd.databricks.v1+output": {
       "addedWidgets": {},
       "aggData": [],
       "aggError": "",
       "aggOverflow": false,
       "aggSchema": [],
       "aggSeriesLimitReached": false,
       "aggType": "",
       "arguments": {},
       "columnCustomDisplayInfos": {},
       "data": [
        [
         730,
         "Counter-Strike: Global Offensive",
         5943345
        ],
        [
         570,
         "Dota 2",
         1534895
        ],
        [
         271590,
         "Grand Theft Auto V",
         1229265
        ],
        [
         578080,
         "PUBG: BATTLEGROUNDS",
         1185361
        ],
        [
         105600,
         "Terraria",
         1014711
        ],
        [
         359550,
         "Tom Clancy's Rainbow Six Siege",
         942910
        ],
        [
         4000,
         "Garry's Mod",
         861240
        ],
        [
         440,
         "Team Fortress 2",
         846407
        ],
        [
         252490,
         "Rust",
         732513
        ],
        [
         550,
         "Left 4 Dead 2",
         643836
        ]
       ],
       "datasetInfos": [],
       "dbfsResultPath": null,
       "isJsonSchema": true,
       "metadata": {},
       "overflow": false,
       "plotOptions": {
        "customPlotOptions": {},
        "displayType": "table",
        "pivotAggregation": null,
        "pivotColumns": null,
        "xColumns": null,
        "yColumns": null
       },
       "removedWidgets": [],
       "schema": [
        {
         "metadata": "{}",
         "name": "appid",
         "type": "\"long\""
        },
        {
         "metadata": "{}",
         "name": "name",
         "type": "\"string\""
        },
        {
         "metadata": "{}",
         "name": "positive",
         "type": "\"long\""
        }
       ],
       "type": "table"
      }
     },
     "output_type": "display_data"
    },
    {
     "output_type": "display_data",
     "data": {
      "text/plain": [
       "Databricks visualization. Run in Databricks to view."
      ]
     },
     "metadata": {
      "application/vnd.databricks.v1.subcommand+json": {
       "baseErrorDetails": null,
       "bindings": {},
       "collapsed": false,
       "command": "%python\n__backend_agg_display_orig = display\n__backend_agg_dfs = []\ndef __backend_agg_display_new(df):\n    __backend_agg_df_modules = [\"pandas.core.frame\", \"databricks.koalas.frame\", \"pyspark.sql.dataframe\", \"pyspark.pandas.frame\", \"pyspark.sql.connect.dataframe\"]\n    if (type(df).__module__ in __backend_agg_df_modules and type(df).__name__ == 'DataFrame') or isinstance(df, list):\n        __backend_agg_dfs.append(df)\n\ndisplay = __backend_agg_display_new\n\ndef __backend_agg_user_code_fn():\n    import base64\n    exec(base64.standard_b64decode(\"ZGlzcGxheShmaW5hbF9kZi5zZWxlY3QoImFwcGlkIiwgIm5hbWUiLCAicG9zaXRpdmUiKS5vcmRlckJ5KEYuZGVzYygicG9zaXRpdmUiKSkubGltaXQoMTApKQ==\").decode())\n\ntry:\n    # run user code\n    __backend_agg_user_code_fn()\n\n    #reset display function\n    display = __backend_agg_display_orig\n\n    if len(__backend_agg_dfs) > 0:\n        # create a temp view\n        if type(__backend_agg_dfs[0]).__module__ == \"databricks.koalas.frame\":\n            # koalas dataframe\n            __backend_agg_dfs[0].to_spark().createOrReplaceTempView(\"DatabricksView266e818\")\n        elif type(__backend_agg_dfs[0]).__module__ == \"pandas.core.frame\" or isinstance(__backend_agg_dfs[0], list):\n            # pandas dataframe\n            spark.createDataFrame(__backend_agg_dfs[0]).createOrReplaceTempView(\"DatabricksView266e818\")\n        else:\n            __backend_agg_dfs[0].createOrReplaceTempView(\"DatabricksView266e818\")\n        #run backend agg\n        display(spark.sql(\"\"\"WITH q AS (select * from DatabricksView266e818) SELECT `name`,SUM(`positive`) `column_ed4ce7c531` FROM q GROUP BY `name`\"\"\"))\n    else:\n        displayHTML(\"dataframe no longer exists. If you're using dataframe.display(), use display(dataframe) instead.\")\n\n\nfinally:\n    spark.sql(\"drop view if exists DatabricksView266e818\")\n    display = __backend_agg_display_orig\n    del __backend_agg_display_new\n    del __backend_agg_display_orig\n    del __backend_agg_dfs\n    del __backend_agg_user_code_fn\n\n",
       "commandTitle": "Visualization 1",
       "commandType": "auto",
       "commandVersion": 0,
       "commentThread": [],
       "commentsVisible": false,
       "contentSha256Hex": null,
       "customPlotOptions": {
        "redashChart": [
         {
          "key": "type",
          "value": "CHART"
         },
         {
          "key": "options",
          "value": {
           "alignYAxesAtZero": true,
           "coefficient": 1,
           "columnConfigurationMap": {
            "x": {
             "column": "name",
             "id": "column_ed4ce7c529"
            },
            "y": [
             {
              "column": "positive",
              "id": "column_ed4ce7c531",
              "transform": "SUM"
             }
            ]
           },
           "dateTimeFormat": "DD/MM/YYYY HH:mm",
           "direction": {
            "type": "counterclockwise"
           },
           "error_y": {
            "type": "data",
            "visible": true
           },
           "globalSeriesType": "column",
           "isAggregationOn": true,
           "legend": {
            "traceorder": "normal"
           },
           "missingValuesAsZero": true,
           "numBins": 10,
           "numberFormat": "0,0.[00000]",
           "percentFormat": "0[.]00%",
           "series": {
            "error_y": {
             "type": "data",
             "visible": true
            },
            "stacking": null
           },
           "seriesOptions": {
            "column_ed4ce7c525": {
             "name": "positive",
             "type": "column",
             "yAxis": 0
            },
            "column_ed4ce7c531": {
             "type": "column",
             "yAxis": 0
            }
           },
           "showDataLabels": false,
           "sizemode": "diameter",
           "sortX": false,
           "sortY": true,
           "swappedAxes": false,
           "textFormat": "",
           "useAggregationsUi": true,
           "valuesOptions": {},
           "version": 2,
           "xAxis": {
            "labels": {
             "enabled": true
            },
            "title": {
             "text": "games"
            },
            "type": "-"
           },
           "yAxis": [
            {
             "type": "-"
            },
            {
             "opposite": true,
             "type": "-"
            }
           ]
          }
         }
        ]
       },
       "datasetPreviewNameToCmdIdMap": {},
       "diffDeletes": [],
       "diffInserts": [],
       "displayType": "redashChart",
       "error": null,
       "errorDetails": null,
       "errorSummary": null,
       "errorTraceType": null,
       "finishTime": 0,
       "globalVars": {},
       "guid": "",
       "height": "auto",
       "hideCommandCode": false,
       "hideCommandResult": false,
       "iPythonMetadata": null,
       "inputWidgets": {},
       "isLockedInExamMode": false,
       "latestUser": "a user",
       "latestUserId": null,
       "listResultMetadata": null,
       "metadata": {},
       "nuid": "6d91a9f2-f310-4d09-9805-a8569efefe8f",
       "origId": 0,
       "parentHierarchy": [],
       "pivotAggregation": null,
       "pivotColumns": null,
       "position": 34.0,
       "resultDbfsErrorMessage": null,
       "resultDbfsStatus": "INLINED_IN_TREE",
       "results": null,
       "showCommandTitle": false,
       "startTime": 0,
       "state": "input",
       "streamStates": {},
       "subcommandOptions": {
        "queryPlan": {
         "groups": [
          {
           "column": "name",
           "type": "column"
          }
         ],
         "selects": [
          {
           "column": "name",
           "type": "column"
          },
          {
           "alias": "column_ed4ce7c531",
           "args": [
            {
             "column": "positive",
             "type": "column"
            }
           ],
           "function": "SUM",
           "type": "function"
          }
         ]
        }
       },
       "submitTime": 0,
       "subtype": "tableResultSubCmd.visualization",
       "tableResultIndex": 0,
       "tableResultSettingsMap": {},
       "useConsistentColors": false,
       "version": "CommandV1",
       "width": "auto",
       "workflows": [],
       "xColumns": null,
       "yColumns": null
      }
     },
     "output_type": "display_data"
    }
   ],
   "source": [
    "display(final_df \\\n",
    "        .select(\"appid\", \"name\", \"positive\") \\\n",
    "        .orderBy(F.desc(\"positive\")) \\\n",
    "        .limit(10)\n",
    "        )"
   ]
  },
  {
   "cell_type": "markdown",
   "metadata": {
    "application/vnd.databricks.v1+cell": {
     "cellMetadata": {},
     "inputWidgets": {},
     "nuid": "79822230-278d-4280-9d84-3777c383d2c5",
     "showTitle": false,
     "tableResultSettingsMap": {},
     "title": ""
    }
   },
   "source": [
    "### Y a-t-il des années avec plus de sorties ?\n",
    "### Y a-t-il eu plus ou moins de sorties de jeux pendant le Covid, par exemple ?"
   ]
  },
  {
   "cell_type": "code",
   "execution_count": 0,
   "metadata": {
    "application/vnd.databricks.v1+cell": {
     "cellMetadata": {
      "byteLimit": 2048000,
      "rowLimit": 10000
     },
     "inputWidgets": {},
     "nuid": "5f58eb37-52b0-4d5e-b7c6-a25ed428ac96",
     "showTitle": false,
     "tableResultSettingsMap": {},
     "title": ""
    }
   },
   "outputs": [
    {
     "output_type": "display_data",
     "data": {
      "text/html": [
       "<style scoped>\n",
       "  .table-result-container {\n",
       "    max-height: 300px;\n",
       "    overflow: auto;\n",
       "  }\n",
       "  table, th, td {\n",
       "    border: 1px solid black;\n",
       "    border-collapse: collapse;\n",
       "  }\n",
       "  th, td {\n",
       "    padding: 5px;\n",
       "  }\n",
       "  th {\n",
       "    text-align: left;\n",
       "  }\n",
       "</style><div class='table-result-container'><table class='table-result'><thead style='background-color: white'><tr><th>release_year</th><th>games_count</th></tr></thead><tbody><tr><td>2022</td><td>7451</td></tr><tr><td>2021</td><td>8805</td></tr><tr><td>2020</td><td>8287</td></tr><tr><td>2019</td><td>6949</td></tr><tr><td>2018</td><td>7663</td></tr><tr><td>2017</td><td>6006</td></tr><tr><td>2016</td><td>4176</td></tr><tr><td>2015</td><td>2566</td></tr><tr><td>2014</td><td>1550</td></tr><tr><td>2013</td><td>469</td></tr></tbody></table></div>"
      ]
     },
     "metadata": {
      "application/vnd.databricks.v1+output": {
       "addedWidgets": {},
       "aggData": [],
       "aggError": "",
       "aggOverflow": false,
       "aggSchema": [],
       "aggSeriesLimitReached": false,
       "aggType": "",
       "arguments": {},
       "columnCustomDisplayInfos": {},
       "data": [
        [
         2022,
         7451
        ],
        [
         2021,
         8805
        ],
        [
         2020,
         8287
        ],
        [
         2019,
         6949
        ],
        [
         2018,
         7663
        ],
        [
         2017,
         6006
        ],
        [
         2016,
         4176
        ],
        [
         2015,
         2566
        ],
        [
         2014,
         1550
        ],
        [
         2013,
         469
        ]
       ],
       "datasetInfos": [],
       "dbfsResultPath": null,
       "isJsonSchema": true,
       "metadata": {},
       "overflow": false,
       "plotOptions": {
        "customPlotOptions": {},
        "displayType": "table",
        "pivotAggregation": null,
        "pivotColumns": null,
        "xColumns": null,
        "yColumns": null
       },
       "removedWidgets": [],
       "schema": [
        {
         "metadata": "{}",
         "name": "release_year",
         "type": "\"integer\""
        },
        {
         "metadata": "{}",
         "name": "games_count",
         "type": "\"long\""
        }
       ],
       "type": "table"
      }
     },
     "output_type": "display_data"
    },
    {
     "output_type": "display_data",
     "data": {
      "text/plain": [
       "Databricks visualization. Run in Databricks to view."
      ]
     },
     "metadata": {
      "application/vnd.databricks.v1.subcommand+json": {
       "baseErrorDetails": null,
       "bindings": {},
       "collapsed": false,
       "command": "%python\n__backend_agg_display_orig = display\n__backend_agg_dfs = []\ndef __backend_agg_display_new(df):\n    __backend_agg_df_modules = [\"pandas.core.frame\", \"databricks.koalas.frame\", \"pyspark.sql.dataframe\", \"pyspark.pandas.frame\", \"pyspark.sql.connect.dataframe\"]\n    if (type(df).__module__ in __backend_agg_df_modules and type(df).__name__ == 'DataFrame') or isinstance(df, list):\n        __backend_agg_dfs.append(df)\n\ndisplay = __backend_agg_display_new\n\ndef __backend_agg_user_code_fn():\n    import base64\n    exec(base64.standard_b64decode(\"ZGlzcGxheShmaW5hbF9kZi53aXRoQ29sdW1uKCJyZWxlYXNlX3llYXIiLCBGLnllYXIoInJlbGVhc2VfZGF0ZSIpKS5ncm91cEJ5KCJyZWxlYXNlX3llYXIiKS5hZ2coRi5jb3VudCgiKiIpLmFsaWFzKCJnYW1lc19jb3VudCIpKS5vcmRlckJ5KEYuZGVzYygicmVsZWFzZV95ZWFyIikpLmxpbWl0KDEwKSk=\").decode())\n\ntry:\n    # run user code\n    __backend_agg_user_code_fn()\n\n    #reset display function\n    display = __backend_agg_display_orig\n\n    if len(__backend_agg_dfs) > 0:\n        # create a temp view\n        if type(__backend_agg_dfs[0]).__module__ == \"databricks.koalas.frame\":\n            # koalas dataframe\n            __backend_agg_dfs[0].to_spark().createOrReplaceTempView(\"DatabricksViewb55b71f\")\n        elif type(__backend_agg_dfs[0]).__module__ == \"pandas.core.frame\" or isinstance(__backend_agg_dfs[0], list):\n            # pandas dataframe\n            spark.createDataFrame(__backend_agg_dfs[0]).createOrReplaceTempView(\"DatabricksViewb55b71f\")\n        else:\n            __backend_agg_dfs[0].createOrReplaceTempView(\"DatabricksViewb55b71f\")\n        #run backend agg\n        display(spark.sql(\"\"\"WITH q AS (select * from DatabricksViewb55b71f) SELECT `release_year`,SUM(`games_count`) `column_ed4ce7c537` FROM q GROUP BY `release_year`\"\"\"))\n    else:\n        displayHTML(\"dataframe no longer exists. If you're using dataframe.display(), use display(dataframe) instead.\")\n\n\nfinally:\n    spark.sql(\"drop view if exists DatabricksViewb55b71f\")\n    display = __backend_agg_display_orig\n    del __backend_agg_display_new\n    del __backend_agg_display_orig\n    del __backend_agg_dfs\n    del __backend_agg_user_code_fn\n\n",
       "commandTitle": "Visualization 1",
       "commandType": "auto",
       "commandVersion": 0,
       "commentThread": [],
       "commentsVisible": false,
       "contentSha256Hex": null,
       "customPlotOptions": {
        "redashChart": [
         {
          "key": "type",
          "value": "CHART"
         },
         {
          "key": "options",
          "value": {
           "alignYAxesAtZero": true,
           "coefficient": 1,
           "columnConfigurationMap": {
            "x": {
             "column": "release_year",
             "id": "column_ed4ce7c536"
            },
            "y": [
             {
              "column": "games_count",
              "id": "column_ed4ce7c537",
              "transform": "SUM"
             }
            ]
           },
           "dateTimeFormat": "DD/MM/YYYY HH:mm",
           "direction": {
            "type": "counterclockwise"
           },
           "error_y": {
            "type": "data",
            "visible": true
           },
           "globalSeriesType": "column",
           "isAggregationOn": true,
           "legend": {
            "traceorder": "normal"
           },
           "missingValuesAsZero": true,
           "numberFormat": "0,0.[00000]",
           "percentFormat": "0[.]00%",
           "series": {
            "error_y": {
             "type": "data",
             "visible": true
            },
            "stacking": null
           },
           "seriesOptions": {
            "column_ed4ce7c537": {
             "name": "games_count",
             "type": "column",
             "yAxis": 0
            }
           },
           "showDataLabels": false,
           "sizemode": "diameter",
           "sortX": true,
           "sortY": true,
           "swappedAxes": false,
           "textFormat": "",
           "useAggregationsUi": true,
           "valuesOptions": {},
           "version": 2,
           "xAxis": {
            "labels": {
             "enabled": true
            },
            "type": "-"
           },
           "yAxis": [
            {
             "type": "-"
            },
            {
             "opposite": true,
             "type": "-"
            }
           ]
          }
         }
        ]
       },
       "datasetPreviewNameToCmdIdMap": {},
       "diffDeletes": [],
       "diffInserts": [],
       "displayType": "redashChart",
       "error": null,
       "errorDetails": null,
       "errorSummary": null,
       "errorTraceType": null,
       "finishTime": 0,
       "globalVars": {},
       "guid": "",
       "height": "auto",
       "hideCommandCode": false,
       "hideCommandResult": false,
       "iPythonMetadata": null,
       "inputWidgets": {},
       "isLockedInExamMode": false,
       "latestUser": "a user",
       "latestUserId": null,
       "listResultMetadata": null,
       "metadata": {},
       "nuid": "71e5f8c9-4194-4219-a65f-87544537c8cf",
       "origId": 0,
       "parentHierarchy": [],
       "pivotAggregation": null,
       "pivotColumns": null,
       "position": 35.0,
       "resultDbfsErrorMessage": null,
       "resultDbfsStatus": "INLINED_IN_TREE",
       "results": null,
       "showCommandTitle": false,
       "startTime": 0,
       "state": "input",
       "streamStates": {},
       "subcommandOptions": {
        "queryPlan": {
         "groups": [
          {
           "column": "release_year",
           "type": "column"
          }
         ],
         "selects": [
          {
           "column": "release_year",
           "type": "column"
          },
          {
           "alias": "column_ed4ce7c537",
           "args": [
            {
             "column": "games_count",
             "type": "column"
            }
           ],
           "function": "SUM",
           "type": "function"
          }
         ]
        }
       },
       "submitTime": 0,
       "subtype": "tableResultSubCmd.visualization",
       "tableResultIndex": 0,
       "tableResultSettingsMap": {},
       "useConsistentColors": false,
       "version": "CommandV1",
       "width": "auto",
       "workflows": [],
       "xColumns": null,
       "yColumns": null
      }
     },
     "output_type": "display_data"
    }
   ],
   "source": [
    "display(final_df \\\n",
    "        .withColumn(\"release_year\", F.year(\"release_date\")) \\\n",
    "        .groupBy(\"release_year\").agg(F.count(\"*\").alias(\"games_count\")) \\\n",
    "        .orderBy(F.desc(\"release_year\")) \\\n",
    "        .limit(10)\n",
    "        )"
   ]
  },
  {
   "cell_type": "markdown",
   "metadata": {
    "application/vnd.databricks.v1+cell": {
     "cellMetadata": {},
     "inputWidgets": {},
     "nuid": "48ec73d3-10d4-4392-88b4-a961b8a8935e",
     "showTitle": false,
     "tableResultSettingsMap": {},
     "title": ""
    }
   },
   "source": [
    "###\tComment les prix sont-ils distribués ?\n",
    "### Y a-t-il beaucoup de jeux à prix réduit ?"
   ]
  },
  {
   "cell_type": "code",
   "execution_count": 0,
   "metadata": {
    "application/vnd.databricks.v1+cell": {
     "cellMetadata": {
      "byteLimit": 2048000,
      "rowLimit": 10000
     },
     "inputWidgets": {},
     "nuid": "0792a70e-95b3-46e4-86a4-0ad6968c37ef",
     "showTitle": false,
     "tableResultSettingsMap": {},
     "title": ""
    }
   },
   "outputs": [
    {
     "output_type": "stream",
     "name": "stdout",
     "output_type": "stream",
     "text": [
      "Out[22]: 55691"
     ]
    }
   ],
   "source": [
    "final_df.filter(final_df.price >= 0).count()\n",
    "# filter les jeux à plus de 100 (au nombre de 37 / 55000)\n",
    "# pour afficher la répartition du nombre de jeux par tranche de prix sur un graphique lisible"
   ]
  },
  {
   "cell_type": "code",
   "execution_count": 0,
   "metadata": {
    "application/vnd.databricks.v1+cell": {
     "cellMetadata": {
      "byteLimit": 2048000,
      "rowLimit": 10000
     },
     "inputWidgets": {},
     "nuid": "2422a699-8f4f-4d05-8531-fb7200e6c8ea",
     "showTitle": false,
     "tableResultSettingsMap": {},
     "title": ""
    }
   },
   "outputs": [
    {
     "output_type": "display_data",
     "data": {
      "text/html": [
       "<style scoped>\n",
       "  .table-result-container {\n",
       "    max-height: 300px;\n",
       "    overflow: auto;\n",
       "  }\n",
       "  table, th, td {\n",
       "    border: 1px solid black;\n",
       "    border-collapse: collapse;\n",
       "  }\n",
       "  th, td {\n",
       "    padding: 5px;\n",
       "  }\n",
       "  th {\n",
       "    text-align: left;\n",
       "  }\n",
       "</style><div class='table-result-container'><table class='table-result'><thead style='background-color: white'><tr><th>cat_price</th><th>games_count</th></tr></thead><tbody><tr><td>a - 0$</td><td>7780</td></tr><tr><td>b - moins 10$</td><td>35928</td></tr><tr><td>c - 10 à 20$</td><td>9022</td></tr><tr><td>d - 20 à 50$</td><td>2633</td></tr><tr><td>e - 50 à 100$</td><td>291</td></tr><tr><td>f - 100$ et plus</td><td>37</td></tr></tbody></table></div>"
      ]
     },
     "metadata": {
      "application/vnd.databricks.v1+output": {
       "addedWidgets": {},
       "aggData": [],
       "aggError": "",
       "aggOverflow": false,
       "aggSchema": [],
       "aggSeriesLimitReached": false,
       "aggType": "",
       "arguments": {},
       "columnCustomDisplayInfos": {},
       "data": [
        [
         "a - 0$",
         7780
        ],
        [
         "b - moins 10$",
         35928
        ],
        [
         "c - 10 à 20$",
         9022
        ],
        [
         "d - 20 à 50$",
         2633
        ],
        [
         "e - 50 à 100$",
         291
        ],
        [
         "f - 100$ et plus",
         37
        ]
       ],
       "datasetInfos": [],
       "dbfsResultPath": null,
       "isJsonSchema": true,
       "metadata": {},
       "overflow": false,
       "plotOptions": {
        "customPlotOptions": {},
        "displayType": "table",
        "pivotAggregation": null,
        "pivotColumns": null,
        "xColumns": null,
        "yColumns": null
       },
       "removedWidgets": [],
       "schema": [
        {
         "metadata": "{}",
         "name": "cat_price",
         "type": "\"string\""
        },
        {
         "metadata": "{}",
         "name": "games_count",
         "type": "\"long\""
        }
       ],
       "type": "table"
      }
     },
     "output_type": "display_data"
    },
    {
     "output_type": "display_data",
     "data": {
      "text/plain": [
       "Databricks visualization. Run in Databricks to view."
      ]
     },
     "metadata": {
      "application/vnd.databricks.v1.subcommand+json": {
       "baseErrorDetails": null,
       "bindings": {},
       "collapsed": false,
       "command": "%python\n__backend_agg_display_orig = display\n__backend_agg_dfs = []\ndef __backend_agg_display_new(df):\n    __backend_agg_df_modules = [\"pandas.core.frame\", \"databricks.koalas.frame\", \"pyspark.sql.dataframe\", \"pyspark.pandas.frame\", \"pyspark.sql.connect.dataframe\"]\n    if (type(df).__module__ in __backend_agg_df_modules and type(df).__name__ == 'DataFrame') or isinstance(df, list):\n        __backend_agg_dfs.append(df)\n\ndisplay = __backend_agg_display_new\n\ndef __backend_agg_user_code_fn():\n    import base64\n    exec(base64.standard_b64decode(\"CmZpbmFsX2RmLmZpbHRlcihmaW5hbF9kZi5wcmljZSA8IDEwMCkKCmRpc3BsYXkoZmluYWxfZGYuZmlsdGVyKGZpbmFsX2RmLnByaWNlIDwgMTAwKS5zZWxlY3QoInByaWNlIikub3JkZXJCeShGLmRlc2MoInByaWNlIikpKQoKIyBWaXN1YWxpc2F0aW9uIHN1ciB1biBncmFwaGlxdWUgZGUgdHlwZSAiSGlzdG9ncmFtbWUi\").decode())\n\ntry:\n    # run user code\n    __backend_agg_user_code_fn()\n\n    #reset display function\n    display = __backend_agg_display_orig\n\n    if len(__backend_agg_dfs) > 0:\n        # create a temp view\n        if type(__backend_agg_dfs[0]).__module__ == \"databricks.koalas.frame\":\n            # koalas dataframe\n            __backend_agg_dfs[0].to_spark().createOrReplaceTempView(\"DatabricksView3023d81\")\n        elif type(__backend_agg_dfs[0]).__module__ == \"pandas.core.frame\" or isinstance(__backend_agg_dfs[0], list):\n            # pandas dataframe\n            spark.createDataFrame(__backend_agg_dfs[0]).createOrReplaceTempView(\"DatabricksView3023d81\")\n        else:\n            __backend_agg_dfs[0].createOrReplaceTempView(\"DatabricksView3023d81\")\n        #run backend agg\n        display(spark.sql(\"\"\"WITH q AS (select * from DatabricksView3023d81) ,min_max AS (SELECT `price`,(SELECT MAX(`price`) FROM q) `target_column_max`,(SELECT MIN(`price`) FROM q) `target_column_min` FROM q) ,histogram_meta AS (SELECT `price`,`target_column_min` `min_value`,IF(`target_column_max` = `target_column_min`,`target_column_max` + 1,`target_column_max`) `max_value`,(`target_column_max` - `target_column_min`) / 10 `step` FROM min_max) SELECT IF(ISNULL(`price`),NULL,LEAST(WIDTH_BUCKET(`price`,`min_value`,`max_value`,10),10)) `price_BIN`,FIRST(`min_value` + ((IF(ISNULL(`price`),NULL,LEAST(WIDTH_BUCKET(`price`,`min_value`,`max_value`,10),10)) - 1) * `step`)) `price_BIN_LOWER_BOUND`,FIRST(`step`) `price_BIN_STEP`,COUNT(`price`) `COUNT` FROM histogram_meta GROUP BY `price_BIN`\"\"\"))\n    else:\n        displayHTML(\"dataframe no longer exists. If you're using dataframe.display(), use display(dataframe) instead.\")\n\n\nfinally:\n    spark.sql(\"drop view if exists DatabricksView3023d81\")\n    display = __backend_agg_display_orig\n    del __backend_agg_display_new\n    del __backend_agg_display_orig\n    del __backend_agg_dfs\n    del __backend_agg_user_code_fn\n\n",
       "commandTitle": "Visualization 1",
       "commandType": "auto",
       "commandVersion": 0,
       "commentThread": [],
       "commentsVisible": false,
       "contentSha256Hex": null,
       "customPlotOptions": {
        "redashChart": [
         {
          "key": "type",
          "value": "CHART"
         },
         {
          "key": "options",
          "value": {
           "alignYAxesAtZero": true,
           "coefficient": 1,
           "columnConfigurationMap": {
            "x": {
             "column": "cat_price",
             "id": "column_f2b477a477"
            },
            "y": [
             {
              "column": "games_count",
              "id": "column_f2b477a479",
              "transform": "SUM"
             }
            ]
           },
           "dateTimeFormat": "DD/MM/YYYY HH:mm",
           "direction": {
            "type": "counterclockwise"
           },
           "error_y": {
            "type": "data",
            "visible": true
           },
           "globalSeriesType": "column",
           "isAggregationOn": true,
           "legend": {
            "traceorder": "normal"
           },
           "missingValuesAsZero": true,
           "numBins": 7,
           "numberFormat": "0,0.[00000]",
           "percentFormat": "0[.]00%",
           "series": {
            "error_y": {
             "type": "data",
             "visible": true
            },
            "stacking": null
           },
           "seriesOptions": {
            "column_f2b477a455": {
             "type": "column",
             "yAxis": 0
            },
            "column_f2b477a464": {
             "name": "",
             "type": "column",
             "yAxis": 0
            },
            "column_f2b477a479": {
             "type": "column",
             "yAxis": 0
            }
           },
           "showDataLabels": false,
           "sizemode": "diameter",
           "sortX": true,
           "sortY": true,
           "swappedAxes": false,
           "textFormat": "",
           "useAggregationsUi": true,
           "valuesOptions": {},
           "version": 2,
           "xAxis": {
            "labels": {
             "enabled": true
            },
            "type": "-"
           },
           "yAxis": [
            {
             "type": "-"
            },
            {
             "opposite": true,
             "type": "-"
            }
           ]
          }
         }
        ]
       },
       "datasetPreviewNameToCmdIdMap": {},
       "diffDeletes": [],
       "diffInserts": [],
       "displayType": "redashChart",
       "error": null,
       "errorDetails": null,
       "errorSummary": null,
       "errorTraceType": null,
       "finishTime": 0,
       "globalVars": {},
       "guid": "",
       "height": "auto",
       "hideCommandCode": false,
       "hideCommandResult": false,
       "iPythonMetadata": null,
       "inputWidgets": {},
       "isLockedInExamMode": false,
       "latestUser": "a user",
       "latestUserId": null,
       "listResultMetadata": null,
       "metadata": {
        "byteLimit": 2048000,
        "rowLimit": 10000
       },
       "nuid": "b87cc3a8-a3d8-44c4-af39-d3c200ee442b",
       "origId": 0,
       "parentHierarchy": [],
       "pivotAggregation": null,
       "pivotColumns": null,
       "position": 36.0,
       "resultDbfsErrorMessage": null,
       "resultDbfsStatus": "INLINED_IN_TREE",
       "results": null,
       "showCommandTitle": false,
       "startTime": 0,
       "state": "input",
       "streamStates": {},
       "subcommandOptions": {
        "queryPlan": {
         "groups": [
          {
           "column": "cat_price",
           "type": "column"
          }
         ],
         "selects": [
          {
           "column": "cat_price",
           "type": "column"
          },
          {
           "alias": "column_f2b477a479",
           "args": [
            {
             "column": "games_count",
             "type": "column"
            }
           ],
           "function": "SUM",
           "type": "function"
          }
         ]
        }
       },
       "submitTime": 0,
       "subtype": "tableResultSubCmd.visualization",
       "tableResultIndex": 0,
       "tableResultSettingsMap": {},
       "useConsistentColors": false,
       "version": "CommandV1",
       "width": "auto",
       "workflows": [],
       "xColumns": null,
       "yColumns": null
      }
     },
     "output_type": "display_data"
    }
   ],
   "source": [
    "\n",
    "# display(final_df \\\n",
    "#        .select(\"price\") \\\n",
    "#        .filter(final_df.price < 100) \\\n",
    "#        .orderBy(F.desc(\"price\"))\n",
    "#        )    \n",
    "\n",
    "display(final_df \\\n",
    "        .withColumn(\"cat_price\",\n",
    "        F.when(F.col(\"price\") == 0, \"a - 0$\")\n",
    "        .when((F.col(\"price\") > 0) & (F.col(\"price\") < 10), \"b - moins 10$\")\n",
    "        .when((F.col(\"price\") >= 10) & (F.col(\"price\") < 20), \"c - 10 à 20$\")\n",
    "        .when((F.col(\"price\") >= 20) & (F.col(\"price\") < 50), \"d - 20 à 50$\")\n",
    "        .when((F.col(\"price\") >= 50) & (F.col(\"price\") < 100), \"e - 50 à 100$\")\n",
    "        .when((F.col(\"price\") >= 100), \"f - 100$ et plus\")\n",
    "        .otherwise(\"x - nc\")) \\\n",
    "        .groupBy(\"cat_price\").agg(F.count(\"*\").alias(\"games_count\")) \\\n",
    "        .orderBy(\"cat_price\") \\\n",
    "        )\n",
    "\n",
    "\n",
    "# Visualisation sur un graphique de type \"Histogramme\""
   ]
  },
  {
   "cell_type": "markdown",
   "metadata": {
    "application/vnd.databricks.v1+cell": {
     "cellMetadata": {},
     "inputWidgets": {},
     "nuid": "dd19a9ab-76c1-4c1b-a255-3e8f84622ac4",
     "showTitle": false,
     "tableResultSettingsMap": {},
     "title": ""
    }
   },
   "source": [
    "### Quelles sont les langues les plus représentées ?"
   ]
  },
  {
   "cell_type": "code",
   "execution_count": 0,
   "metadata": {
    "application/vnd.databricks.v1+cell": {
     "cellMetadata": {
      "byteLimit": 2048000,
      "rowLimit": 10000
     },
     "inputWidgets": {},
     "nuid": "649149b8-0625-46c6-875b-cd4e89000f34",
     "showTitle": false,
     "tableResultSettingsMap": {},
     "title": ""
    }
   },
   "outputs": [
    {
     "output_type": "display_data",
     "data": {
      "text/html": [
       "<style scoped>\n",
       "  .table-result-container {\n",
       "    max-height: 300px;\n",
       "    overflow: auto;\n",
       "  }\n",
       "  table, th, td {\n",
       "    border: 1px solid black;\n",
       "    border-collapse: collapse;\n",
       "  }\n",
       "  th, td {\n",
       "    padding: 5px;\n",
       "  }\n",
       "  th {\n",
       "    text-align: left;\n",
       "  }\n",
       "</style><div class='table-result-container'><table class='table-result'><thead style='background-color: white'><tr><th>language</th><th>games_count</th></tr></thead><tbody><tr><td>English</td><td>55116</td></tr><tr><td>German</td><td>14019</td></tr><tr><td>French</td><td>13426</td></tr><tr><td>Russian</td><td>12922</td></tr><tr><td>Simplified Chinese</td><td>12782</td></tr><tr><td>Spanish - Spain</td><td>12233</td></tr><tr><td>Japanese</td><td>10368</td></tr><tr><td>Italian</td><td>9304</td></tr><tr><td>Portuguese - Brazil</td><td>6750</td></tr><tr><td>Korean</td><td>6599</td></tr></tbody></table></div>"
      ]
     },
     "metadata": {
      "application/vnd.databricks.v1+output": {
       "addedWidgets": {},
       "aggData": [],
       "aggError": "",
       "aggOverflow": false,
       "aggSchema": [],
       "aggSeriesLimitReached": false,
       "aggType": "",
       "arguments": {},
       "columnCustomDisplayInfos": {},
       "data": [
        [
         "English",
         55116
        ],
        [
         "German",
         14019
        ],
        [
         "French",
         13426
        ],
        [
         "Russian",
         12922
        ],
        [
         "Simplified Chinese",
         12782
        ],
        [
         "Spanish - Spain",
         12233
        ],
        [
         "Japanese",
         10368
        ],
        [
         "Italian",
         9304
        ],
        [
         "Portuguese - Brazil",
         6750
        ],
        [
         "Korean",
         6599
        ]
       ],
       "datasetInfos": [],
       "dbfsResultPath": null,
       "isJsonSchema": true,
       "metadata": {},
       "overflow": false,
       "plotOptions": {
        "customPlotOptions": {},
        "displayType": "table",
        "pivotAggregation": null,
        "pivotColumns": null,
        "xColumns": null,
        "yColumns": null
       },
       "removedWidgets": [],
       "schema": [
        {
         "metadata": "{}",
         "name": "language",
         "type": "\"string\""
        },
        {
         "metadata": "{}",
         "name": "games_count",
         "type": "\"long\""
        }
       ],
       "type": "table"
      }
     },
     "output_type": "display_data"
    },
    {
     "output_type": "display_data",
     "data": {
      "text/plain": [
       "Databricks visualization. Run in Databricks to view."
      ]
     },
     "metadata": {
      "application/vnd.databricks.v1.subcommand+json": {
       "baseErrorDetails": null,
       "bindings": {},
       "collapsed": false,
       "command": "%python\n__backend_agg_display_orig = display\n__backend_agg_dfs = []\ndef __backend_agg_display_new(df):\n    __backend_agg_df_modules = [\"pandas.core.frame\", \"databricks.koalas.frame\", \"pyspark.sql.dataframe\", \"pyspark.pandas.frame\", \"pyspark.sql.connect.dataframe\"]\n    if (type(df).__module__ in __backend_agg_df_modules and type(df).__name__ == 'DataFrame') or isinstance(df, list):\n        __backend_agg_dfs.append(df)\n\ndisplay = __backend_agg_display_new\n\ndef __backend_agg_user_code_fn():\n    import base64\n    exec(base64.standard_b64decode(\"IyBpbCB5IGEgcGx1c2lldXJzIGxhbmd1ZXMgcGFyIGpldXgKIyBuw6ljZXNzaXTDqSBkZSBjcsOpYXRpb24gZCd1biBub3V2ZWF1IGRhdGFmcmFtZSBhdmVjIHVuIGV4cGxvZGUgZGUgbGEgZG9ubsOpZSBsYW5ndWUKbGFuZ3VlX2RmID0gZmluYWxfZGYud2l0aENvbHVtbigibGFuZ3VhZ2UiLCBGLmV4cGxvZGUoImxhbmd1YWdlcyIpKQpkaXNwbGF5KGxhbmd1ZV9kZi5ncm91cEJ5KCJsYW5ndWFnZSIpLmFnZyhGLmNvdW50KCIqIikuYWxpYXMoImdhbWVzX2NvdW50IikpLm9yZGVyQnkoRi5kZXNjKCJnYW1lc19jb3VudCIpKS5saW1pdCgxMCkp\").decode())\n\ntry:\n    # run user code\n    __backend_agg_user_code_fn()\n\n    #reset display function\n    display = __backend_agg_display_orig\n\n    if len(__backend_agg_dfs) > 0:\n        # create a temp view\n        if type(__backend_agg_dfs[0]).__module__ == \"databricks.koalas.frame\":\n            # koalas dataframe\n            __backend_agg_dfs[0].to_spark().createOrReplaceTempView(\"DatabricksViewfd36c49\")\n        elif type(__backend_agg_dfs[0]).__module__ == \"pandas.core.frame\" or isinstance(__backend_agg_dfs[0], list):\n            # pandas dataframe\n            spark.createDataFrame(__backend_agg_dfs[0]).createOrReplaceTempView(\"DatabricksViewfd36c49\")\n        else:\n            __backend_agg_dfs[0].createOrReplaceTempView(\"DatabricksViewfd36c49\")\n        #run backend agg\n        display(spark.sql(\"\"\"WITH q AS (select * from DatabricksViewfd36c49) SELECT `language`,SUM(`games_count`) `column_c6e7b0672` FROM q GROUP BY `language`\"\"\"))\n    else:\n        displayHTML(\"dataframe no longer exists. If you're using dataframe.display(), use display(dataframe) instead.\")\n\n\nfinally:\n    spark.sql(\"drop view if exists DatabricksViewfd36c49\")\n    display = __backend_agg_display_orig\n    del __backend_agg_display_new\n    del __backend_agg_display_orig\n    del __backend_agg_dfs\n    del __backend_agg_user_code_fn\n\n",
       "commandTitle": "Visualization 1",
       "commandType": "auto",
       "commandVersion": 0,
       "commentThread": [],
       "commentsVisible": false,
       "contentSha256Hex": null,
       "customPlotOptions": {
        "redashChart": [
         {
          "key": "type",
          "value": "CHART"
         },
         {
          "key": "options",
          "value": {
           "alignYAxesAtZero": true,
           "coefficient": 1,
           "columnConfigurationMap": {
            "x": {
             "column": "language",
             "id": "column_c6e7b0671"
            },
            "y": [
             {
              "column": "games_count",
              "id": "column_c6e7b0672",
              "transform": "SUM"
             }
            ]
           },
           "dateTimeFormat": "DD/MM/YYYY HH:mm",
           "direction": {
            "type": "counterclockwise"
           },
           "error_y": {
            "type": "data",
            "visible": true
           },
           "globalSeriesType": "column",
           "isAggregationOn": true,
           "legend": {
            "traceorder": "normal"
           },
           "missingValuesAsZero": true,
           "numberFormat": "0,0.[00000]",
           "percentFormat": "0[.]00%",
           "series": {
            "error_y": {
             "type": "data",
             "visible": true
            },
            "stacking": null
           },
           "seriesOptions": {
            "column_c6e7b0672": {
             "name": "games_count",
             "yAxis": 0
            }
           },
           "showDataLabels": false,
           "sizemode": "diameter",
           "sortX": false,
           "sortY": true,
           "swappedAxes": false,
           "textFormat": "",
           "useAggregationsUi": true,
           "valuesOptions": {},
           "version": 2,
           "xAxis": {
            "labels": {
             "enabled": true
            },
            "type": "-"
           },
           "yAxis": [
            {
             "type": "-"
            },
            {
             "opposite": true,
             "type": "-"
            }
           ]
          }
         }
        ]
       },
       "datasetPreviewNameToCmdIdMap": {},
       "diffDeletes": [],
       "diffInserts": [],
       "displayType": "redashChart",
       "error": null,
       "errorDetails": null,
       "errorSummary": null,
       "errorTraceType": null,
       "finishTime": 0,
       "globalVars": {},
       "guid": "",
       "height": "auto",
       "hideCommandCode": false,
       "hideCommandResult": false,
       "iPythonMetadata": null,
       "inputWidgets": {},
       "isLockedInExamMode": false,
       "latestUser": "a user",
       "latestUserId": null,
       "listResultMetadata": null,
       "metadata": {},
       "nuid": "b34efd57-7064-4f5c-ad4b-07f12bcb2fad",
       "origId": 0,
       "parentHierarchy": [],
       "pivotAggregation": null,
       "pivotColumns": null,
       "position": 38.0,
       "resultDbfsErrorMessage": null,
       "resultDbfsStatus": "INLINED_IN_TREE",
       "results": null,
       "showCommandTitle": false,
       "startTime": 0,
       "state": "input",
       "streamStates": {},
       "subcommandOptions": {
        "queryPlan": {
         "groups": [
          {
           "column": "language",
           "type": "column"
          }
         ],
         "selects": [
          {
           "column": "language",
           "type": "column"
          },
          {
           "alias": "column_c6e7b0672",
           "args": [
            {
             "column": "games_count",
             "type": "column"
            }
           ],
           "function": "SUM",
           "type": "function"
          }
         ]
        }
       },
       "submitTime": 0,
       "subtype": "tableResultSubCmd.visualization",
       "tableResultIndex": 0,
       "tableResultSettingsMap": {},
       "useConsistentColors": false,
       "version": "CommandV1",
       "width": "auto",
       "workflows": [],
       "xColumns": null,
       "yColumns": null
      }
     },
     "output_type": "display_data"
    }
   ],
   "source": [
    "# il y a plusieurs langues par jeux\n",
    "# nécessité de création d'un nouveau dataframe avec un explode de la donnée langue\n",
    "\n",
    "display(final_df \\\n",
    "        .withColumn(\"language\", F.explode(\"languages\")) \\\n",
    "        .groupBy(\"language\").agg(F.count(\"*\").alias(\"games_count\")) \\\n",
    "        .orderBy(F.desc(\"games_count\")) \\\n",
    "        .limit(10)\n",
    "        )"
   ]
  },
  {
   "cell_type": "markdown",
   "metadata": {
    "application/vnd.databricks.v1+cell": {
     "cellMetadata": {},
     "inputWidgets": {},
     "nuid": "63a6fd42-2c38-4c4a-8a9c-3179526393fb",
     "showTitle": false,
     "tableResultSettingsMap": {},
     "title": ""
    }
   },
   "source": [
    "### Y a-t-il beaucoup de jeux interdits aux enfants de moins de 16/18 ans ?"
   ]
  },
  {
   "cell_type": "code",
   "execution_count": 0,
   "metadata": {
    "application/vnd.databricks.v1+cell": {
     "cellMetadata": {
      "byteLimit": 2048000,
      "rowLimit": 10000
     },
     "inputWidgets": {},
     "nuid": "048a775f-2f6d-42fd-a7bc-a35a65b327f7",
     "showTitle": false,
     "tableResultSettingsMap": {},
     "title": ""
    }
   },
   "outputs": [
    {
     "output_type": "display_data",
     "data": {
      "text/html": [
       "<style scoped>\n",
       "  .table-result-container {\n",
       "    max-height: 300px;\n",
       "    overflow: auto;\n",
       "  }\n",
       "  table, th, td {\n",
       "    border: 1px solid black;\n",
       "    border-collapse: collapse;\n",
       "  }\n",
       "  th, td {\n",
       "    padding: 5px;\n",
       "  }\n",
       "  th {\n",
       "    text-align: left;\n",
       "  }\n",
       "</style><div class='table-result-container'><table class='table-result'><thead style='background-color: white'><tr><th>mois16</th><th>games_count</th></tr></thead><tbody><tr><td>null</td><td>3</td></tr><tr><td>false</td><td>55383</td></tr><tr><td>true</td><td>305</td></tr></tbody></table></div>"
      ]
     },
     "metadata": {
      "application/vnd.databricks.v1+output": {
       "addedWidgets": {},
       "aggData": [],
       "aggError": "",
       "aggOverflow": false,
       "aggSchema": [],
       "aggSeriesLimitReached": false,
       "aggType": "",
       "arguments": {},
       "columnCustomDisplayInfos": {},
       "data": [
        [
         null,
         3
        ],
        [
         false,
         55383
        ],
        [
         true,
         305
        ]
       ],
       "datasetInfos": [],
       "dbfsResultPath": null,
       "isJsonSchema": true,
       "metadata": {},
       "overflow": false,
       "plotOptions": {
        "customPlotOptions": {},
        "displayType": "table",
        "pivotAggregation": null,
        "pivotColumns": null,
        "xColumns": null,
        "yColumns": null
       },
       "removedWidgets": [],
       "schema": [
        {
         "metadata": "{}",
         "name": "mois16",
         "type": "\"boolean\""
        },
        {
         "metadata": "{}",
         "name": "games_count",
         "type": "\"long\""
        }
       ],
       "type": "table"
      }
     },
     "output_type": "display_data"
    },
    {
     "output_type": "display_data",
     "data": {
      "text/plain": [
       "Databricks visualization. Run in Databricks to view."
      ]
     },
     "metadata": {
      "application/vnd.databricks.v1.subcommand+json": {
       "baseErrorDetails": null,
       "bindings": {},
       "collapsed": false,
       "command": "%python\n__backend_agg_display_orig = display\n__backend_agg_dfs = []\ndef __backend_agg_display_new(df):\n    __backend_agg_df_modules = [\"pandas.core.frame\", \"databricks.koalas.frame\", \"pyspark.sql.dataframe\", \"pyspark.pandas.frame\", \"pyspark.sql.connect.dataframe\"]\n    if (type(df).__module__ in __backend_agg_df_modules and type(df).__name__ == 'DataFrame') or isinstance(df, list):\n        __backend_agg_dfs.append(df)\n\ndisplay = __backend_agg_display_new\n\ndef __backend_agg_user_code_fn():\n    import base64\n    exec(base64.standard_b64decode(\"ZGlzcGxheShmaW5hbF9kZiBcCiAgICAgICAgLndpdGhDb2x1bW4oIm1vaXMxNiIsIGZpbmFsX2RmLnJlcXVpcmVkX2FnZSA+PSAxNikgXAogICAgICAgIC5ncm91cEJ5KCJtb2lzMTYiKS5hZ2coRi5jb3VudCgiKiIpLmFsaWFzKCJnYW1lc19jb3VudCIpKSBcCiAgICAgICAgLm9yZGVyQnkoIm1vaXMxNiIpIFwKICAgICAgICAubGltaXQoMTAwKQogICAgICAgICkKCiMgQSBmaW5hbGlzZXIgLSBDYWRyZXIgbGEgcXVlc3Rpb24gMTYvMTggYW5z\").decode())\n\ntry:\n    # run user code\n    __backend_agg_user_code_fn()\n\n    #reset display function\n    display = __backend_agg_display_orig\n\n    if len(__backend_agg_dfs) > 0:\n        # create a temp view\n        if type(__backend_agg_dfs[0]).__module__ == \"databricks.koalas.frame\":\n            # koalas dataframe\n            __backend_agg_dfs[0].to_spark().createOrReplaceTempView(\"DatabricksViewea43009\")\n        elif type(__backend_agg_dfs[0]).__module__ == \"pandas.core.frame\" or isinstance(__backend_agg_dfs[0], list):\n            # pandas dataframe\n            spark.createDataFrame(__backend_agg_dfs[0]).createOrReplaceTempView(\"DatabricksViewea43009\")\n        else:\n            __backend_agg_dfs[0].createOrReplaceTempView(\"DatabricksViewea43009\")\n        #run backend agg\n        display(spark.sql(\"\"\"WITH q AS (select * from DatabricksViewea43009) SELECT `mois16`,SUM(`games_count`) `column_30f5c4f9125` FROM q GROUP BY `mois16`\"\"\"))\n    else:\n        displayHTML(\"dataframe no longer exists. If you're using dataframe.display(), use display(dataframe) instead.\")\n\n\nfinally:\n    spark.sql(\"drop view if exists DatabricksViewea43009\")\n    display = __backend_agg_display_orig\n    del __backend_agg_display_new\n    del __backend_agg_display_orig\n    del __backend_agg_dfs\n    del __backend_agg_user_code_fn\n\n",
       "commandTitle": "Visualization 1",
       "commandType": "auto",
       "commandVersion": 0,
       "commentThread": [],
       "commentsVisible": false,
       "contentSha256Hex": null,
       "customPlotOptions": {
        "redashChart": [
         {
          "key": "type",
          "value": "CHART"
         },
         {
          "key": "options",
          "value": {
           "alignYAxesAtZero": true,
           "coefficient": 1,
           "columnConfigurationMap": {
            "x": {
             "column": "mois16",
             "id": "column_30f5c4f9124"
            },
            "y": [
             {
              "column": "games_count",
              "id": "column_30f5c4f9125",
              "transform": "SUM"
             }
            ]
           },
           "dateTimeFormat": "DD/MM/YYYY HH:mm",
           "direction": {
            "type": "counterclockwise"
           },
           "error_y": {
            "type": "data",
            "visible": true
           },
           "globalSeriesType": "column",
           "isAggregationOn": true,
           "legend": {
            "traceorder": "normal"
           },
           "missingValuesAsZero": false,
           "numberFormat": "0,0.[00000]",
           "percentFormat": "0[.]00%",
           "series": {
            "error_y": {
             "type": "data",
             "visible": true
            },
            "percentValues": false,
            "stacking": null
           },
           "seriesOptions": {
            "column_30f5c4f9125": {
             "name": "games_count",
             "type": "column",
             "yAxis": 0
            }
           },
           "showDataLabels": true,
           "sizemode": "diameter",
           "sortX": true,
           "sortY": true,
           "swappedAxes": false,
           "textFormat": "",
           "useAggregationsUi": true,
           "valuesOptions": {
            "false": {
             "color": "#8CFFB4"
            },
            "true": {
             "color": "#E92828"
            }
           },
           "version": 2,
           "xAxis": {
            "labels": {
             "enabled": true
            },
            "type": "-"
           },
           "yAxis": [
            {
             "type": "-"
            },
            {
             "opposite": true,
             "type": "-"
            }
           ]
          }
         }
        ]
       },
       "datasetPreviewNameToCmdIdMap": {},
       "diffDeletes": [],
       "diffInserts": [],
       "displayType": "redashChart",
       "error": null,
       "errorDetails": null,
       "errorSummary": null,
       "errorTraceType": null,
       "finishTime": 0,
       "globalVars": {},
       "guid": "",
       "height": "auto",
       "hideCommandCode": false,
       "hideCommandResult": false,
       "iPythonMetadata": null,
       "inputWidgets": {},
       "isLockedInExamMode": false,
       "latestUser": "a user",
       "latestUserId": null,
       "listResultMetadata": null,
       "metadata": {},
       "nuid": "c697e5bc-2fc6-4b82-9c08-284508ae83fe",
       "origId": 0,
       "parentHierarchy": [],
       "pivotAggregation": null,
       "pivotColumns": null,
       "position": 39.0,
       "resultDbfsErrorMessage": null,
       "resultDbfsStatus": "INLINED_IN_TREE",
       "results": null,
       "showCommandTitle": false,
       "startTime": 0,
       "state": "input",
       "streamStates": {},
       "subcommandOptions": {
        "queryPlan": {
         "groups": [
          {
           "column": "mois16",
           "type": "column"
          }
         ],
         "selects": [
          {
           "column": "mois16",
           "type": "column"
          },
          {
           "alias": "column_30f5c4f9125",
           "args": [
            {
             "column": "games_count",
             "type": "column"
            }
           ],
           "function": "SUM",
           "type": "function"
          }
         ]
        }
       },
       "submitTime": 0,
       "subtype": "tableResultSubCmd.visualization",
       "tableResultIndex": 0,
       "tableResultSettingsMap": {},
       "useConsistentColors": false,
       "version": "CommandV1",
       "width": "auto",
       "workflows": [],
       "xColumns": null,
       "yColumns": null
      }
     },
     "output_type": "display_data"
    }
   ],
   "source": [
    "display(final_df \\\n",
    "        .withColumn(\"mois16\", final_df.required_age >= 16) \\\n",
    "        .groupBy(\"mois16\").agg(F.count(\"*\").alias(\"games_count\")) \\\n",
    "        .orderBy(\"mois16\") \\\n",
    "        )\n",
    "\n",
    "# A finaliser - Cadrer la question 16/18 ans"
   ]
  },
  {
   "cell_type": "markdown",
   "metadata": {
    "application/vnd.databricks.v1+cell": {
     "cellMetadata": {},
     "inputWidgets": {},
     "nuid": "d0c411ee-5a42-45b1-840f-f58186a25b3c",
     "showTitle": false,
     "tableResultSettingsMap": {},
     "title": ""
    }
   },
   "source": [
    "### Quels sont les genres les plus représentés ?"
   ]
  },
  {
   "cell_type": "code",
   "execution_count": 0,
   "metadata": {
    "application/vnd.databricks.v1+cell": {
     "cellMetadata": {
      "byteLimit": 2048000,
      "rowLimit": 10000
     },
     "inputWidgets": {},
     "nuid": "14bf144f-6ed9-4753-bcb9-1f125efc4b46",
     "showTitle": false,
     "tableResultSettingsMap": {},
     "title": ""
    }
   },
   "outputs": [
    {
     "output_type": "display_data",
     "data": {
      "text/html": [
       "<style scoped>\n",
       "  .table-result-container {\n",
       "    max-height: 300px;\n",
       "    overflow: auto;\n",
       "  }\n",
       "  table, th, td {\n",
       "    border: 1px solid black;\n",
       "    border-collapse: collapse;\n",
       "  }\n",
       "  th, td {\n",
       "    padding: 5px;\n",
       "  }\n",
       "  th {\n",
       "    text-align: left;\n",
       "  }\n",
       "</style><div class='table-result-container'><table class='table-result'><thead style='background-color: white'><tr><th>genre</th><th>games_count</th></tr></thead><tbody><tr><td>Indie</td><td>39681</td></tr><tr><td>Action</td><td>23759</td></tr><tr><td>Casual</td><td>22086</td></tr><tr><td>Adventure</td><td>21431</td></tr><tr><td>Strategy</td><td>10895</td></tr><tr><td>Simulation</td><td>10836</td></tr><tr><td>RPG</td><td>9534</td></tr><tr><td>Early Access</td><td>6145</td></tr><tr><td>Free to Play</td><td>3393</td></tr><tr><td>Sports</td><td>2666</td></tr></tbody></table></div>"
      ]
     },
     "metadata": {
      "application/vnd.databricks.v1+output": {
       "addedWidgets": {},
       "aggData": [],
       "aggError": "",
       "aggOverflow": false,
       "aggSchema": [],
       "aggSeriesLimitReached": false,
       "aggType": "",
       "arguments": {},
       "columnCustomDisplayInfos": {},
       "data": [
        [
         "Indie",
         39681
        ],
        [
         "Action",
         23759
        ],
        [
         "Casual",
         22086
        ],
        [
         "Adventure",
         21431
        ],
        [
         "Strategy",
         10895
        ],
        [
         "Simulation",
         10836
        ],
        [
         "RPG",
         9534
        ],
        [
         "Early Access",
         6145
        ],
        [
         "Free to Play",
         3393
        ],
        [
         "Sports",
         2666
        ]
       ],
       "datasetInfos": [],
       "dbfsResultPath": null,
       "isJsonSchema": true,
       "metadata": {},
       "overflow": false,
       "plotOptions": {
        "customPlotOptions": {},
        "displayType": "table",
        "pivotAggregation": null,
        "pivotColumns": null,
        "xColumns": null,
        "yColumns": null
       },
       "removedWidgets": [],
       "schema": [
        {
         "metadata": "{}",
         "name": "genre",
         "type": "\"string\""
        },
        {
         "metadata": "{}",
         "name": "games_count",
         "type": "\"long\""
        }
       ],
       "type": "table"
      }
     },
     "output_type": "display_data"
    },
    {
     "output_type": "display_data",
     "data": {
      "text/plain": [
       "Databricks visualization. Run in Databricks to view."
      ]
     },
     "metadata": {
      "application/vnd.databricks.v1.subcommand+json": {
       "baseErrorDetails": null,
       "bindings": {},
       "collapsed": false,
       "command": "%python\n__backend_agg_display_orig = display\n__backend_agg_dfs = []\ndef __backend_agg_display_new(df):\n    __backend_agg_df_modules = [\"pandas.core.frame\", \"databricks.koalas.frame\", \"pyspark.sql.dataframe\", \"pyspark.pandas.frame\", \"pyspark.sql.connect.dataframe\"]\n    if (type(df).__module__ in __backend_agg_df_modules and type(df).__name__ == 'DataFrame') or isinstance(df, list):\n        __backend_agg_dfs.append(df)\n\ndisplay = __backend_agg_display_new\n\ndef __backend_agg_user_code_fn():\n    import base64\n    exec(base64.standard_b64decode(\"IyBVbiBqZXUgcGV1eCBmYWlyZSByw6lmw6lyZW5jZSDDoCBwbHVzaWV1cnMgZ2VucmUKIyBuw6ljZXNzaXTDqSBkZSBjcsOpYXRpb24gZCd1biBub3V2ZWF1IGRhdGFmcmFtZSBhdmVjIHVuIGV4cGxvZGUgZGUgbGEgZG9ubsOpZSBnZW5yZQoKZGlzcGxheShmaW5hbF9kZiBcCiAgICAgICAgLndpdGhDb2x1bW4oImdlbnJlIiwgRi5leHBsb2RlKCJnZW5yZXMiKSkgXAogICAgICAgIC5ncm91cEJ5KCJnZW5yZSIpLmFnZyhGLmNvdW50KCIqIikuYWxpYXMoImdhbWVzX2NvdW50IikpIFwKICAgICAgICAub3JkZXJCeShGLmRlc2MoImdhbWVzX2NvdW50IikpIFwKICAgICAgICAubGltaXQoMTApCiAgICAgICAgKQ==\").decode())\n\ntry:\n    # run user code\n    __backend_agg_user_code_fn()\n\n    #reset display function\n    display = __backend_agg_display_orig\n\n    if len(__backend_agg_dfs) > 0:\n        # create a temp view\n        if type(__backend_agg_dfs[0]).__module__ == \"databricks.koalas.frame\":\n            # koalas dataframe\n            __backend_agg_dfs[0].to_spark().createOrReplaceTempView(\"DatabricksView82e0d09\")\n        elif type(__backend_agg_dfs[0]).__module__ == \"pandas.core.frame\" or isinstance(__backend_agg_dfs[0], list):\n            # pandas dataframe\n            spark.createDataFrame(__backend_agg_dfs[0]).createOrReplaceTempView(\"DatabricksView82e0d09\")\n        else:\n            __backend_agg_dfs[0].createOrReplaceTempView(\"DatabricksView82e0d09\")\n        #run backend agg\n        display(spark.sql(\"\"\"WITH q AS (select * from DatabricksView82e0d09) SELECT `genre`,SUM(`games_count`) `column_c6e7b0679` FROM q GROUP BY `genre`\"\"\"))\n    else:\n        displayHTML(\"dataframe no longer exists. If you're using dataframe.display(), use display(dataframe) instead.\")\n\n\nfinally:\n    spark.sql(\"drop view if exists DatabricksView82e0d09\")\n    display = __backend_agg_display_orig\n    del __backend_agg_display_new\n    del __backend_agg_display_orig\n    del __backend_agg_dfs\n    del __backend_agg_user_code_fn\n\n",
       "commandTitle": "Visualization 1",
       "commandType": "auto",
       "commandVersion": 0,
       "commentThread": [],
       "commentsVisible": false,
       "contentSha256Hex": null,
       "customPlotOptions": {
        "redashChart": [
         {
          "key": "type",
          "value": "CHART"
         },
         {
          "key": "options",
          "value": {
           "alignYAxesAtZero": true,
           "coefficient": 1,
           "columnConfigurationMap": {
            "x": {
             "column": "genre",
             "id": "column_c6e7b0678"
            },
            "y": [
             {
              "column": "games_count",
              "id": "column_c6e7b0679",
              "transform": "SUM"
             }
            ]
           },
           "dateTimeFormat": "DD/MM/YYYY HH:mm",
           "direction": {
            "type": "counterclockwise"
           },
           "error_y": {
            "type": "data",
            "visible": true
           },
           "globalSeriesType": "column",
           "isAggregationOn": true,
           "legend": {
            "traceorder": "normal"
           },
           "missingValuesAsZero": true,
           "numberFormat": "0,0.[00000]",
           "percentFormat": "0[.]00%",
           "series": {
            "error_y": {
             "type": "data",
             "visible": true
            },
            "stacking": null
           },
           "seriesOptions": {
            "column_c6e7b0679": {
             "name": "games_count",
             "yAxis": 0
            }
           },
           "showDataLabels": false,
           "sizemode": "diameter",
           "sortX": false,
           "sortY": true,
           "swappedAxes": false,
           "textFormat": "",
           "useAggregationsUi": true,
           "valuesOptions": {},
           "version": 2,
           "xAxis": {
            "labels": {
             "enabled": true
            },
            "type": "-"
           },
           "yAxis": [
            {
             "type": "-"
            },
            {
             "opposite": true,
             "type": "-"
            }
           ]
          }
         }
        ]
       },
       "datasetPreviewNameToCmdIdMap": {},
       "diffDeletes": [],
       "diffInserts": [],
       "displayType": "redashChart",
       "error": null,
       "errorDetails": null,
       "errorSummary": null,
       "errorTraceType": null,
       "finishTime": 0,
       "globalVars": {},
       "guid": "",
       "height": "auto",
       "hideCommandCode": false,
       "hideCommandResult": false,
       "iPythonMetadata": null,
       "inputWidgets": {},
       "isLockedInExamMode": false,
       "latestUser": "a user",
       "latestUserId": null,
       "listResultMetadata": null,
       "metadata": {},
       "nuid": "958f513f-b5aa-46d6-95bb-442ed6e1c479",
       "origId": 0,
       "parentHierarchy": [],
       "pivotAggregation": null,
       "pivotColumns": null,
       "position": 41.0,
       "resultDbfsErrorMessage": null,
       "resultDbfsStatus": "INLINED_IN_TREE",
       "results": null,
       "showCommandTitle": false,
       "startTime": 0,
       "state": "input",
       "streamStates": {},
       "subcommandOptions": {
        "queryPlan": {
         "groups": [
          {
           "column": "genre",
           "type": "column"
          }
         ],
         "selects": [
          {
           "column": "genre",
           "type": "column"
          },
          {
           "alias": "column_c6e7b0679",
           "args": [
            {
             "column": "games_count",
             "type": "column"
            }
           ],
           "function": "SUM",
           "type": "function"
          }
         ]
        }
       },
       "submitTime": 0,
       "subtype": "tableResultSubCmd.visualization",
       "tableResultIndex": 0,
       "tableResultSettingsMap": {},
       "useConsistentColors": false,
       "version": "CommandV1",
       "width": "auto",
       "workflows": [],
       "xColumns": null,
       "yColumns": null
      }
     },
     "output_type": "display_data"
    }
   ],
   "source": [
    "# Un jeu peux faire référence à plusieurs genre\n",
    "# nécessité de création d'un nouveau dataframe avec un explode de la donnée genre\n",
    "\n",
    "display(final_df \\\n",
    "        .withColumn(\"genre\", F.explode(\"genres\")) \\\n",
    "        .groupBy(\"genre\").agg(F.count(\"*\").alias(\"games_count\")) \\\n",
    "        .orderBy(F.desc(\"games_count\")) \\\n",
    "        .limit(10)\n",
    "        )"
   ]
  },
  {
   "cell_type": "markdown",
   "metadata": {
    "application/vnd.databricks.v1+cell": {
     "cellMetadata": {},
     "inputWidgets": {},
     "nuid": "2c6d39c7-0038-4fd4-8d07-5ed0c06ee3be",
     "showTitle": false,
     "tableResultSettingsMap": {},
     "title": ""
    }
   },
   "source": [
    "### •\tY a-t-il des genres qui ont un meilleur ratio d'examen positif/négatif ?"
   ]
  },
  {
   "cell_type": "code",
   "execution_count": 0,
   "metadata": {
    "application/vnd.databricks.v1+cell": {
     "cellMetadata": {
      "byteLimit": 2048000,
      "rowLimit": 10000
     },
     "inputWidgets": {},
     "nuid": "4e5e0c98-0c88-46b5-8952-a7c8adb5dc83",
     "showTitle": false,
     "tableResultSettingsMap": {},
     "title": ""
    }
   },
   "outputs": [
    {
     "output_type": "display_data",
     "data": {
      "text/html": [
       "<style scoped>\n",
       "  .table-result-container {\n",
       "    max-height: 300px;\n",
       "    overflow: auto;\n",
       "  }\n",
       "  table, th, td {\n",
       "    border: 1px solid black;\n",
       "    border-collapse: collapse;\n",
       "  }\n",
       "  th, td {\n",
       "    padding: 5px;\n",
       "  }\n",
       "  th {\n",
       "    text-align: left;\n",
       "  }\n",
       "</style><div class='table-result-container'><table class='table-result'><thead style='background-color: white'><tr><th>genre</th><th>ratio_positive_negative</th></tr></thead><tbody><tr><td>Photo Editing</td><td>42.03353946889778</td></tr><tr><td>Animation & Modeling</td><td>26.17327220369809</td></tr><tr><td>Design & Illustration</td><td>24.958603325063873</td></tr><tr><td>Utilities</td><td>16.99503482518447</td></tr><tr><td>Game Development</td><td>8.38759926695174</td></tr><tr><td>Indie</td><td>7.67017877344188</td></tr><tr><td>Audio Production</td><td>7.331141281289775</td></tr></tbody></table></div>"
      ]
     },
     "metadata": {
      "application/vnd.databricks.v1+output": {
       "addedWidgets": {},
       "aggData": [],
       "aggError": "",
       "aggOverflow": false,
       "aggSchema": [],
       "aggSeriesLimitReached": false,
       "aggType": "",
       "arguments": {},
       "columnCustomDisplayInfos": {},
       "data": [
        [
         "Photo Editing",
         42.03353946889778
        ],
        [
         "Animation & Modeling",
         26.17327220369809
        ],
        [
         "Design & Illustration",
         24.958603325063873
        ],
        [
         "Utilities",
         16.99503482518447
        ],
        [
         "Game Development",
         8.38759926695174
        ],
        [
         "Indie",
         7.67017877344188
        ],
        [
         "Audio Production",
         7.331141281289775
        ]
       ],
       "datasetInfos": [],
       "dbfsResultPath": null,
       "isJsonSchema": true,
       "metadata": {},
       "overflow": false,
       "plotOptions": {
        "customPlotOptions": {},
        "displayType": "table",
        "pivotAggregation": null,
        "pivotColumns": null,
        "xColumns": null,
        "yColumns": null
       },
       "removedWidgets": [],
       "schema": [
        {
         "metadata": "{}",
         "name": "genre",
         "type": "\"string\""
        },
        {
         "metadata": "{}",
         "name": "ratio_positive_negative",
         "type": "\"double\""
        }
       ],
       "type": "table"
      }
     },
     "output_type": "display_data"
    },
    {
     "output_type": "display_data",
     "data": {
      "text/plain": [
       "Databricks visualization. Run in Databricks to view."
      ]
     },
     "metadata": {
      "application/vnd.databricks.v1.subcommand+json": {
       "baseErrorDetails": null,
       "bindings": {},
       "collapsed": false,
       "command": "%python\n__backend_agg_display_orig = display\n__backend_agg_dfs = []\ndef __backend_agg_display_new(df):\n    __backend_agg_df_modules = [\"pandas.core.frame\", \"databricks.koalas.frame\", \"pyspark.sql.dataframe\", \"pyspark.pandas.frame\", \"pyspark.sql.connect.dataframe\"]\n    if (type(df).__module__ in __backend_agg_df_modules and type(df).__name__ == 'DataFrame') or isinstance(df, list):\n        __backend_agg_dfs.append(df)\n\ndisplay = __backend_agg_display_new\n\ndef __backend_agg_user_code_fn():\n    import base64\n    exec(base64.standard_b64decode(\"IyBVbiBqZXUgcGV1eCBmYWlyZSByw6lmw6lyZW5jZSDDoCBwbHVzaWV1cnMgZ2VucmUKIyBuw6ljZXNzaXTDqSBkZSBjcsOpYXRpb24gZCd1biBub3V2ZWF1IGRhdGFmcmFtZSBhdmVjIHVuIGV4cGxvZGUgZGUgbGEgZG9ubsOpZSBnZW5yZQoKZGlzcGxheShmaW5hbF9kZiBcCiAgICAgICAgLndpdGhDb2x1bW4oImdlbnJlIiwgRi5leHBsb2RlKCJnZW5yZXMiKSkgXAogICAgICAgIC5ncm91cEJ5KCJnZW5yZSIpLmFnZygoRi5zdW0oInBvc2l0aXZlIikvRi5zdW0oIm5lZ2F0aXZlIikpLmFsaWFzKCJyYXRpb19wb3NpdGl2ZV9uZWdhdGl2ZSIpKSBcCiAgICAgICAgLm9yZGVyQnkoRi5kZXNjKCJyYXRpb19wb3NpdGl2ZV9uZWdhdGl2ZSIpKSBcCiAgICAgICAgLmxpbWl0KDcpCiAgICAgICAgKQ==\").decode())\n\ntry:\n    # run user code\n    __backend_agg_user_code_fn()\n\n    #reset display function\n    display = __backend_agg_display_orig\n\n    if len(__backend_agg_dfs) > 0:\n        # create a temp view\n        if type(__backend_agg_dfs[0]).__module__ == \"databricks.koalas.frame\":\n            # koalas dataframe\n            __backend_agg_dfs[0].to_spark().createOrReplaceTempView(\"DatabricksViewcaac671\")\n        elif type(__backend_agg_dfs[0]).__module__ == \"pandas.core.frame\" or isinstance(__backend_agg_dfs[0], list):\n            # pandas dataframe\n            spark.createDataFrame(__backend_agg_dfs[0]).createOrReplaceTempView(\"DatabricksViewcaac671\")\n        else:\n            __backend_agg_dfs[0].createOrReplaceTempView(\"DatabricksViewcaac671\")\n        #run backend agg\n        display(spark.sql(\"\"\"WITH q AS (select * from DatabricksViewcaac671) SELECT `genre`,SUM(`ratio_positive_negative`) `column_c6e7b06712` FROM q GROUP BY `genre`\"\"\"))\n    else:\n        displayHTML(\"dataframe no longer exists. If you're using dataframe.display(), use display(dataframe) instead.\")\n\n\nfinally:\n    spark.sql(\"drop view if exists DatabricksViewcaac671\")\n    display = __backend_agg_display_orig\n    del __backend_agg_display_new\n    del __backend_agg_display_orig\n    del __backend_agg_dfs\n    del __backend_agg_user_code_fn\n\n",
       "commandTitle": "Visualization 1",
       "commandType": "auto",
       "commandVersion": 0,
       "commentThread": [],
       "commentsVisible": false,
       "contentSha256Hex": null,
       "customPlotOptions": {
        "redashChart": [
         {
          "key": "type",
          "value": "CHART"
         },
         {
          "key": "options",
          "value": {
           "alignYAxesAtZero": true,
           "coefficient": 1,
           "columnConfigurationMap": {
            "x": {
             "column": "genre",
             "id": "column_c6e7b06711"
            },
            "y": [
             {
              "column": "ratio_positive_negative",
              "id": "column_c6e7b06712",
              "transform": "SUM"
             }
            ]
           },
           "dateTimeFormat": "DD/MM/YYYY HH:mm",
           "direction": {
            "type": "counterclockwise"
           },
           "error_y": {
            "type": "data",
            "visible": true
           },
           "globalSeriesType": "column",
           "isAggregationOn": true,
           "legend": {
            "traceorder": "normal"
           },
           "missingValuesAsZero": true,
           "numberFormat": "0,0.[00000]",
           "percentFormat": "0[.]00%",
           "series": {
            "error_y": {
             "type": "data",
             "visible": true
            },
            "stacking": null
           },
           "seriesOptions": {
            "column_c6e7b06712": {
             "name": "ratio_positive_negative",
             "yAxis": 0
            }
           },
           "showDataLabels": false,
           "sizemode": "diameter",
           "sortX": false,
           "sortY": true,
           "swappedAxes": false,
           "textFormat": "",
           "useAggregationsUi": true,
           "valuesOptions": {},
           "version": 2,
           "xAxis": {
            "labels": {
             "enabled": true
            },
            "type": "-"
           },
           "yAxis": [
            {
             "type": "-"
            },
            {
             "opposite": true,
             "type": "-"
            }
           ]
          }
         }
        ]
       },
       "datasetPreviewNameToCmdIdMap": {},
       "diffDeletes": [],
       "diffInserts": [],
       "displayType": "redashChart",
       "error": null,
       "errorDetails": null,
       "errorSummary": null,
       "errorTraceType": null,
       "finishTime": 0,
       "globalVars": {},
       "guid": "",
       "height": "auto",
       "hideCommandCode": false,
       "hideCommandResult": false,
       "iPythonMetadata": null,
       "inputWidgets": {},
       "isLockedInExamMode": false,
       "latestUser": "a user",
       "latestUserId": null,
       "listResultMetadata": null,
       "metadata": {},
       "nuid": "d66cebc1-aaee-4076-8155-67443a3d2a51",
       "origId": 0,
       "parentHierarchy": [],
       "pivotAggregation": null,
       "pivotColumns": null,
       "position": 43.0,
       "resultDbfsErrorMessage": null,
       "resultDbfsStatus": "INLINED_IN_TREE",
       "results": null,
       "showCommandTitle": false,
       "startTime": 0,
       "state": "input",
       "streamStates": {},
       "subcommandOptions": {
        "queryPlan": {
         "groups": [
          {
           "column": "genre",
           "type": "column"
          }
         ],
         "selects": [
          {
           "column": "genre",
           "type": "column"
          },
          {
           "alias": "column_c6e7b06712",
           "args": [
            {
             "column": "ratio_positive_negative",
             "type": "column"
            }
           ],
           "function": "SUM",
           "type": "function"
          }
         ]
        }
       },
       "submitTime": 0,
       "subtype": "tableResultSubCmd.visualization",
       "tableResultIndex": 0,
       "tableResultSettingsMap": {},
       "useConsistentColors": false,
       "version": "CommandV1",
       "width": "auto",
       "workflows": [],
       "xColumns": null,
       "yColumns": null
      }
     },
     "output_type": "display_data"
    }
   ],
   "source": [
    "# Un jeu peux faire référence à plusieurs genre\n",
    "# nécessité de création d'un nouveau dataframe avec un explode de la donnée genre\n",
    "\n",
    "display(final_df \\\n",
    "        .withColumn(\"genre\", F.explode(\"genres\")) \\\n",
    "        .groupBy(\"genre\").agg((F.sum(\"positive\")/F.sum(\"negative\")).alias(\"ratio_positive_negative\")) \\\n",
    "        .orderBy(F.desc(\"ratio_positive_negative\")) \\\n",
    "        .limit(7)\n",
    ")"
   ]
  },
  {
   "cell_type": "markdown",
   "metadata": {
    "application/vnd.databricks.v1+cell": {
     "cellMetadata": {},
     "inputWidgets": {},
     "nuid": "1f9a3239-6eaf-4802-b21d-ce215d45742f",
     "showTitle": false,
     "tableResultSettingsMap": {},
     "title": ""
    }
   },
   "source": [
    "### Certains éditeurs ont-ils des genres préférés ?"
   ]
  },
  {
   "cell_type": "code",
   "execution_count": 0,
   "metadata": {
    "application/vnd.databricks.v1+cell": {
     "cellMetadata": {
      "byteLimit": 2048000,
      "rowLimit": 10000
     },
     "inputWidgets": {},
     "nuid": "510305c3-1f0d-4762-95b3-886576ba4407",
     "showTitle": false,
     "tableResultSettingsMap": {},
     "title": ""
    }
   },
   "outputs": [
    {
     "output_type": "display_data",
     "data": {
      "text/html": [
       "<style scoped>\n",
       "  .table-result-container {\n",
       "    max-height: 300px;\n",
       "    overflow: auto;\n",
       "  }\n",
       "  table, th, td {\n",
       "    border: 1px solid black;\n",
       "    border-collapse: collapse;\n",
       "  }\n",
       "  th, td {\n",
       "    padding: 5px;\n",
       "  }\n",
       "  th {\n",
       "    text-align: left;\n",
       "  }\n",
       "</style><div class='table-result-container'><table class='table-result'><thead style='background-color: white'><tr><th>publisher</th><th>genre</th><th>genre_total</th><th>total</th><th>ratio</th></tr></thead><tbody><tr><td>8floor</td><td>Casual</td><td>202</td><td>202</td><td>1.0</td></tr><tr><td>HH-Games</td><td>Casual</td><td>132</td><td>132</td><td>1.0</td></tr><tr><td>Hosted Games</td><td>RPG</td><td>79</td><td>79</td><td>1.0</td></tr><tr><td>Hosted Games</td><td>Indie</td><td>79</td><td>79</td><td>1.0</td></tr><tr><td>Boogygames Studios</td><td>Indie</td><td>78</td><td>78</td><td>1.0</td></tr><tr><td>Tero Lunkka</td><td>Indie</td><td>68</td><td>68</td><td>1.0</td></tr><tr><td>RewindApp</td><td>Indie</td><td>59</td><td>59</td><td>1.0</td></tr><tr><td>Ripknot Systems</td><td>Casual</td><td>55</td><td>55</td><td>1.0</td></tr><tr><td>Hede</td><td>Action</td><td>54</td><td>54</td><td>1.0</td></tr><tr><td>Hede</td><td>Indie</td><td>54</td><td>54</td><td>1.0</td></tr><tr><td>Ghost_RUS Games</td><td>Indie</td><td>50</td><td>50</td><td>1.0</td></tr><tr><td>HexWar Games</td><td>Strategy</td><td>42</td><td>42</td><td>1.0</td></tr><tr><td>8Floor</td><td>Casual</td><td>41</td><td>41</td><td>1.0</td></tr><tr><td>Anamik Majumdar</td><td>Indie</td><td>40</td><td>40</td><td>1.0</td></tr><tr><td>GameHouse</td><td>Casual</td><td>35</td><td>35</td><td>1.0</td></tr><tr><td>Luci Entertainment</td><td>Indie</td><td>35</td><td>35</td><td>1.0</td></tr><tr><td>For Kids</td><td>Indie</td><td>32</td><td>32</td><td>1.0</td></tr><tr><td>For Kids</td><td>Casual</td><td>32</td><td>32</td><td>1.0</td></tr><tr><td>Humongous Entertainment, Nightdive Studios</td><td>Casual</td><td>32</td><td>32</td><td>1.0</td></tr><tr><td>ANPA.US</td><td>Indie</td><td>32</td><td>32</td><td>1.0</td></tr></tbody></table></div>"
      ]
     },
     "metadata": {
      "application/vnd.databricks.v1+output": {
       "addedWidgets": {},
       "aggData": [],
       "aggError": "",
       "aggOverflow": false,
       "aggSchema": [],
       "aggSeriesLimitReached": false,
       "aggType": "",
       "arguments": {},
       "columnCustomDisplayInfos": {},
       "data": [
        [
         "8floor",
         "Casual",
         202,
         202,
         1.0
        ],
        [
         "HH-Games",
         "Casual",
         132,
         132,
         1.0
        ],
        [
         "Hosted Games",
         "RPG",
         79,
         79,
         1.0
        ],
        [
         "Hosted Games",
         "Indie",
         79,
         79,
         1.0
        ],
        [
         "Boogygames Studios",
         "Indie",
         78,
         78,
         1.0
        ],
        [
         "Tero Lunkka",
         "Indie",
         68,
         68,
         1.0
        ],
        [
         "RewindApp",
         "Indie",
         59,
         59,
         1.0
        ],
        [
         "Ripknot Systems",
         "Casual",
         55,
         55,
         1.0
        ],
        [
         "Hede",
         "Action",
         54,
         54,
         1.0
        ],
        [
         "Hede",
         "Indie",
         54,
         54,
         1.0
        ],
        [
         "Ghost_RUS Games",
         "Indie",
         50,
         50,
         1.0
        ],
        [
         "HexWar Games",
         "Strategy",
         42,
         42,
         1.0
        ],
        [
         "8Floor",
         "Casual",
         41,
         41,
         1.0
        ],
        [
         "Anamik Majumdar",
         "Indie",
         40,
         40,
         1.0
        ],
        [
         "GameHouse",
         "Casual",
         35,
         35,
         1.0
        ],
        [
         "Luci Entertainment",
         "Indie",
         35,
         35,
         1.0
        ],
        [
         "For Kids",
         "Indie",
         32,
         32,
         1.0
        ],
        [
         "For Kids",
         "Casual",
         32,
         32,
         1.0
        ],
        [
         "Humongous Entertainment, Nightdive Studios",
         "Casual",
         32,
         32,
         1.0
        ],
        [
         "ANPA.US",
         "Indie",
         32,
         32,
         1.0
        ]
       ],
       "datasetInfos": [],
       "dbfsResultPath": null,
       "isJsonSchema": true,
       "metadata": {},
       "overflow": false,
       "plotOptions": {
        "customPlotOptions": {},
        "displayType": "table",
        "pivotAggregation": null,
        "pivotColumns": null,
        "xColumns": null,
        "yColumns": null
       },
       "removedWidgets": [],
       "schema": [
        {
         "metadata": "{}",
         "name": "publisher",
         "type": "\"string\""
        },
        {
         "metadata": "{}",
         "name": "genre",
         "type": "\"string\""
        },
        {
         "metadata": "{}",
         "name": "genre_total",
         "type": "\"long\""
        },
        {
         "metadata": "{}",
         "name": "total",
         "type": "\"long\""
        },
        {
         "metadata": "{}",
         "name": "ratio",
         "type": "\"double\""
        }
       ],
       "type": "table"
      }
     },
     "output_type": "display_data"
    },
    {
     "output_type": "display_data",
     "data": {
      "text/plain": [
       "Databricks visualization. Run in Databricks to view."
      ]
     },
     "metadata": {
      "application/vnd.databricks.v1.subcommand+json": {
       "baseErrorDetails": null,
       "bindings": {},
       "collapsed": false,
       "command": "# Un jeu peux faire référence à plusieurs genre\n# nécessité de création d'un nouveau dataframe avec un explode de la donnée genre\n\ndf1 = final_df \\\n     .withColumn(\"genre\", F.explode(\"genres\")) \\\n     .groupBy(\"publisher\", \"genre\").agg(F.count(\"*\").alias(\"genre_total\")) \\\n     .withColumnRenamed(\"publisher\", \"publisher_exp\")\n\ndf2 = final_df \\\n     .groupBy(\"publisher\").agg(F.count(\"*\").alias(\"total\"))\n\n# Limiter les éditeurs (50 jeux minimun)\n# éviter des editeurs avec des genres préférés avec peu de jeux\ndf2 = df2.filter(df2.total > 15)\n\ndf_join = df1.join(df2, df1['publisher_exp'] == df2['publisher'], \"inner\") \\\n          .withColumn(\"ratio\", F.col(\"genre_total\")/F.col(\"total\")) \\\n          .orderBy(F.desc(\"ratio\"), F.desc(\"genre_total\"))\n\ndisplay(df_join.limit(20).select([\"publisher\", \"genre\", \"genre_total\", \"total\", \"ratio\"]).toPandas())\n",
       "commandTitle": "Visualization 1",
       "commandType": "auto",
       "commandVersion": 0,
       "commentThread": [],
       "commentsVisible": false,
       "contentSha256Hex": null,
       "customPlotOptions": {
        "redashChart": [
         {
          "key": "type",
          "value": "TABLE"
         },
         {
          "key": "options",
          "value": {
           "columns": [
            {
             "alignContent": "left",
             "allowHTML": false,
             "allowSearch": false,
             "booleanValues": [
              "false",
              "true"
             ],
             "displayAs": "string",
             "highlightLinks": false,
             "imageHeight": "",
             "imageTitleTemplate": "{{ @ }}",
             "imageUrlTemplate": "{{ @ }}",
             "imageWidth": "",
             "linkOpenInNewTab": true,
             "linkTextTemplate": "{{ @ }}",
             "linkTitleTemplate": "{{ @ }}",
             "linkUrlTemplate": "{{ @ }}",
             "name": "publisher",
             "order": 100000,
             "preserveWhitespace": false,
             "title": "publisher",
             "type": "string",
             "useMonospaceFont": false,
             "visible": true
            },
            {
             "alignContent": "left",
             "allowHTML": false,
             "allowSearch": false,
             "booleanValues": [
              "false",
              "true"
             ],
             "displayAs": "string",
             "highlightLinks": false,
             "imageHeight": "",
             "imageTitleTemplate": "{{ @ }}",
             "imageUrlTemplate": "{{ @ }}",
             "imageWidth": "",
             "linkOpenInNewTab": true,
             "linkTextTemplate": "{{ @ }}",
             "linkTitleTemplate": "{{ @ }}",
             "linkUrlTemplate": "{{ @ }}",
             "name": "genre",
             "order": 100001,
             "preserveWhitespace": false,
             "title": "genre",
             "type": "string",
             "useMonospaceFont": false,
             "visible": true
            },
            {
             "alignContent": "right",
             "allowHTML": false,
             "allowSearch": false,
             "booleanValues": [
              "false",
              "true"
             ],
             "displayAs": "number",
             "highlightLinks": false,
             "imageHeight": "",
             "imageTitleTemplate": "{{ @ }}",
             "imageUrlTemplate": "{{ @ }}",
             "imageWidth": "",
             "linkOpenInNewTab": true,
             "linkTextTemplate": "{{ @ }}",
             "linkTitleTemplate": "{{ @ }}",
             "linkUrlTemplate": "{{ @ }}",
             "name": "genre_total",
             "numberFormat": "0",
             "order": 100002,
             "preserveWhitespace": false,
             "title": "genre_total",
             "type": "integer",
             "useMonospaceFont": false,
             "visible": true
            },
            {
             "alignContent": "right",
             "allowHTML": false,
             "allowSearch": false,
             "booleanValues": [
              "false",
              "true"
             ],
             "displayAs": "number",
             "highlightLinks": false,
             "imageHeight": "",
             "imageTitleTemplate": "{{ @ }}",
             "imageUrlTemplate": "{{ @ }}",
             "imageWidth": "",
             "linkOpenInNewTab": true,
             "linkTextTemplate": "{{ @ }}",
             "linkTitleTemplate": "{{ @ }}",
             "linkUrlTemplate": "{{ @ }}",
             "name": "total",
             "numberFormat": "0",
             "order": 100003,
             "preserveWhitespace": false,
             "title": "total",
             "type": "integer",
             "useMonospaceFont": false,
             "visible": true
            },
            {
             "alignContent": "right",
             "allowHTML": false,
             "allowSearch": false,
             "booleanValues": [
              "false",
              "true"
             ],
             "displayAs": "number",
             "highlightLinks": false,
             "imageHeight": "",
             "imageTitleTemplate": "{{ @ }}",
             "imageUrlTemplate": "{{ @ }}",
             "imageWidth": "",
             "linkOpenInNewTab": true,
             "linkTextTemplate": "{{ @ }}",
             "linkTitleTemplate": "{{ @ }}",
             "linkUrlTemplate": "{{ @ }}",
             "name": "ratio",
             "numberFormat": "0.00",
             "order": 100004,
             "preserveWhitespace": false,
             "title": "ratio",
             "type": "float",
             "useMonospaceFont": false,
             "visible": true
            }
           ],
           "condensed": true,
           "itemsPerPage": 25,
           "paginationSize": "default",
           "version": 2,
           "withRowNumber": false
          }
         }
        ]
       },
       "datasetPreviewNameToCmdIdMap": {},
       "diffDeletes": [],
       "diffInserts": [],
       "displayType": "redashChart",
       "error": null,
       "errorDetails": null,
       "errorSummary": null,
       "errorTraceType": null,
       "finishTime": 0,
       "globalVars": {},
       "guid": "",
       "height": "auto",
       "hideCommandCode": false,
       "hideCommandResult": false,
       "iPythonMetadata": null,
       "inputWidgets": {},
       "isLockedInExamMode": false,
       "latestUser": "a user",
       "latestUserId": null,
       "listResultMetadata": null,
       "metadata": {},
       "nuid": "53a92c58-aaab-4cfc-8300-2373e9a893e8",
       "origId": 0,
       "parentHierarchy": [],
       "pivotAggregation": null,
       "pivotColumns": null,
       "position": 45.0,
       "resultDbfsErrorMessage": null,
       "resultDbfsStatus": "INLINED_IN_TREE",
       "results": null,
       "showCommandTitle": false,
       "startTime": 0,
       "state": "input",
       "streamStates": {},
       "subcommandOptions": {},
       "submitTime": 0,
       "subtype": "tableResultSubCmd.visualization",
       "tableResultIndex": 0,
       "tableResultSettingsMap": {},
       "useConsistentColors": false,
       "version": "CommandV1",
       "width": "auto",
       "workflows": [],
       "xColumns": null,
       "yColumns": null
      }
     },
     "output_type": "display_data"
    }
   ],
   "source": [
    "# Un jeu peux faire référence à plusieurs genre\n",
    "# nécessité de création d'un nouveau dataframe avec un explode de la donnée genre\n",
    "\n",
    "df1 = final_df \\\n",
    "     .withColumn(\"genre\", F.explode(\"genres\")) \\\n",
    "     .groupBy(\"publisher\", \"genre\").agg(F.count(\"*\").alias(\"genre_total\")) \\\n",
    "     .withColumnRenamed(\"publisher\", \"publisher_exp\")\n",
    "\n",
    "df2 = final_df \\\n",
    "     .groupBy(\"publisher\").agg(F.count(\"*\").alias(\"total\"))\n",
    "\n",
    "# Limiter les éditeurs (50 jeux minimun)\n",
    "# éviter des editeurs avec des genres préférés avec peu de jeux\n",
    "df2 = df2.filter(df2.total > 15)\n",
    "\n",
    "df_join = df1.join(df2, df1['publisher_exp'] == df2['publisher'], \"inner\") \\\n",
    "          .withColumn(\"ratio\", F.col(\"genre_total\")/F.col(\"total\")) \\\n",
    "          .orderBy(F.desc(\"ratio\"), F.desc(\"genre_total\"))\n",
    "\n",
    "display(df_join.limit(20).select([\"publisher\", \"genre\", \"genre_total\", \"total\", \"ratio\"]).toPandas())\n"
   ]
  },
  {
   "cell_type": "markdown",
   "metadata": {
    "application/vnd.databricks.v1+cell": {
     "cellMetadata": {},
     "inputWidgets": {},
     "nuid": "0603b9ef-73b4-480a-825e-3f76d55c21f1",
     "showTitle": false,
     "tableResultSettingsMap": {},
     "title": ""
    }
   },
   "source": [
    "### Quels sont les genres les plus lucratifs ?"
   ]
  },
  {
   "cell_type": "code",
   "execution_count": 0,
   "metadata": {
    "application/vnd.databricks.v1+cell": {
     "cellMetadata": {},
     "inputWidgets": {},
     "nuid": "7bbfd8a4-89d4-4885-abb1-d92efe586899",
     "showTitle": false,
     "tableResultSettingsMap": {},
     "title": ""
    }
   },
   "outputs": [],
   "source": [
    "# A cadrer - le cas échéant - pas sur qu'il y a les infos pour répondre à la question"
   ]
  },
  {
   "cell_type": "markdown",
   "metadata": {
    "application/vnd.databricks.v1+cell": {
     "cellMetadata": {},
     "inputWidgets": {},
     "nuid": "2c017eb9-2db5-493c-8d04-5ef129553378",
     "showTitle": false,
     "tableResultSettingsMap": {},
     "title": ""
    }
   },
   "source": [
    "### •\tLa plupart des jeux sont-ils disponibles sur Windows/Mac/Linux ?"
   ]
  },
  {
   "cell_type": "code",
   "execution_count": 0,
   "metadata": {
    "application/vnd.databricks.v1+cell": {
     "cellMetadata": {
      "byteLimit": 2048000,
      "rowLimit": 10000
     },
     "inputWidgets": {},
     "nuid": "e2cb0154-b76f-4d7e-ac36-b0afb704e8ca",
     "showTitle": false,
     "tableResultSettingsMap": {},
     "title": ""
    }
   },
   "outputs": [
    {
     "output_type": "display_data",
     "data": {
      "text/html": [
       "<style scoped>\n",
       "  .table-result-container {\n",
       "    max-height: 300px;\n",
       "    overflow: auto;\n",
       "  }\n",
       "  table, th, td {\n",
       "    border: 1px solid black;\n",
       "    border-collapse: collapse;\n",
       "  }\n",
       "  th, td {\n",
       "    padding: 5px;\n",
       "  }\n",
       "  th {\n",
       "    text-align: left;\n",
       "  }\n",
       "</style><div class='table-result-container'><table class='table-result'><thead style='background-color: white'><tr><th>platform_windows</th><th>platform_mac</th><th>platform_linux</th><th>total</th></tr></thead><tbody><tr><td>true</td><td>true</td><td>true</td><td>6807</td></tr><tr><td>true</td><td>true</td><td>false</td><td>5951</td></tr><tr><td>true</td><td>false</td><td>true</td><td>1647</td></tr><tr><td>true</td><td>false</td><td>false</td><td>41271</td></tr><tr><td>false</td><td>true</td><td>true</td><td>1</td></tr><tr><td>false</td><td>true</td><td>false</td><td>11</td></tr><tr><td>false</td><td>false</td><td>true</td><td>3</td></tr></tbody></table></div>"
      ]
     },
     "metadata": {
      "application/vnd.databricks.v1+output": {
       "addedWidgets": {},
       "aggData": [],
       "aggError": "",
       "aggOverflow": false,
       "aggSchema": [],
       "aggSeriesLimitReached": false,
       "aggType": "",
       "arguments": {},
       "columnCustomDisplayInfos": {},
       "data": [
        [
         true,
         true,
         true,
         6807
        ],
        [
         true,
         true,
         false,
         5951
        ],
        [
         true,
         false,
         true,
         1647
        ],
        [
         true,
         false,
         false,
         41271
        ],
        [
         false,
         true,
         true,
         1
        ],
        [
         false,
         true,
         false,
         11
        ],
        [
         false,
         false,
         true,
         3
        ]
       ],
       "datasetInfos": [],
       "dbfsResultPath": null,
       "isJsonSchema": true,
       "metadata": {},
       "overflow": false,
       "plotOptions": {
        "customPlotOptions": {},
        "displayType": "table",
        "pivotAggregation": null,
        "pivotColumns": null,
        "xColumns": null,
        "yColumns": null
       },
       "removedWidgets": [],
       "schema": [
        {
         "metadata": "{}",
         "name": "platform_windows",
         "type": "\"boolean\""
        },
        {
         "metadata": "{}",
         "name": "platform_mac",
         "type": "\"boolean\""
        },
        {
         "metadata": "{}",
         "name": "platform_linux",
         "type": "\"boolean\""
        },
        {
         "metadata": "{}",
         "name": "total",
         "type": "\"long\""
        }
       ],
       "type": "table"
      }
     },
     "output_type": "display_data"
    },
    {
     "output_type": "display_data",
     "data": {
      "text/plain": [
       "Databricks visualization. Run in Databricks to view."
      ]
     },
     "metadata": {
      "application/vnd.databricks.v1.subcommand+json": {
       "baseErrorDetails": null,
       "bindings": {},
       "collapsed": false,
       "command": "display(final_df \\\n        .groupBy(\"platform_windows\", \"platform_mac\", \"platform_linux\").agg(F.count(\"*\").alias(\"total\")) \\\n        .orderBy(F.desc(\"platform_windows\"), F.desc(\"platform_mac\"), F.desc(\"platform_linux\"))\n       )      ",
       "commandTitle": "Visualization 1",
       "commandType": "auto",
       "commandVersion": 0,
       "commentThread": [],
       "commentsVisible": false,
       "contentSha256Hex": null,
       "customPlotOptions": {
        "redashChart": [
         {
          "key": "type",
          "value": "TABLE"
         },
         {
          "key": "options",
          "value": {
           "columns": [
            {
             "alignContent": "right",
             "allowHTML": false,
             "allowSearch": false,
             "booleanValues": [
              "false",
              "true"
             ],
             "displayAs": "boolean",
             "highlightLinks": false,
             "imageHeight": "",
             "imageTitleTemplate": "{{ @ }}",
             "imageUrlTemplate": "{{ @ }}",
             "imageWidth": "",
             "linkOpenInNewTab": true,
             "linkTextTemplate": "{{ @ }}",
             "linkTitleTemplate": "{{ @ }}",
             "linkUrlTemplate": "{{ @ }}",
             "name": "platform_windows",
             "order": 100000,
             "preserveWhitespace": false,
             "title": "platform_windows",
             "type": "boolean",
             "useMonospaceFont": false,
             "visible": true
            },
            {
             "alignContent": "right",
             "allowHTML": false,
             "allowSearch": false,
             "booleanValues": [
              "false",
              "true"
             ],
             "displayAs": "boolean",
             "highlightLinks": false,
             "imageHeight": "",
             "imageTitleTemplate": "{{ @ }}",
             "imageUrlTemplate": "{{ @ }}",
             "imageWidth": "",
             "linkOpenInNewTab": true,
             "linkTextTemplate": "{{ @ }}",
             "linkTitleTemplate": "{{ @ }}",
             "linkUrlTemplate": "{{ @ }}",
             "name": "platform_mac",
             "order": 100001,
             "preserveWhitespace": false,
             "title": "platform_mac",
             "type": "boolean",
             "useMonospaceFont": false,
             "visible": true
            },
            {
             "alignContent": "right",
             "allowHTML": false,
             "allowSearch": false,
             "booleanValues": [
              "false",
              "true"
             ],
             "displayAs": "boolean",
             "highlightLinks": false,
             "imageHeight": "",
             "imageTitleTemplate": "{{ @ }}",
             "imageUrlTemplate": "{{ @ }}",
             "imageWidth": "",
             "linkOpenInNewTab": true,
             "linkTextTemplate": "{{ @ }}",
             "linkTitleTemplate": "{{ @ }}",
             "linkUrlTemplate": "{{ @ }}",
             "name": "platform_linux",
             "order": 100002,
             "preserveWhitespace": false,
             "title": "platform_linux",
             "type": "boolean",
             "useMonospaceFont": false,
             "visible": true
            },
            {
             "alignContent": "right",
             "allowHTML": false,
             "allowSearch": false,
             "booleanValues": [
              "false",
              "true"
             ],
             "displayAs": "number",
             "highlightLinks": false,
             "imageHeight": "",
             "imageTitleTemplate": "{{ @ }}",
             "imageUrlTemplate": "{{ @ }}",
             "imageWidth": "",
             "linkOpenInNewTab": true,
             "linkTextTemplate": "{{ @ }}",
             "linkTitleTemplate": "{{ @ }}",
             "linkUrlTemplate": "{{ @ }}",
             "name": "total",
             "numberFormat": "0",
             "order": 100003,
             "preserveWhitespace": false,
             "title": "total",
             "type": "integer",
             "useMonospaceFont": false,
             "visible": true
            }
           ],
           "condensed": true,
           "itemsPerPage": 25,
           "paginationSize": "default",
           "version": 2,
           "withRowNumber": false
          }
         }
        ]
       },
       "datasetPreviewNameToCmdIdMap": {},
       "diffDeletes": [],
       "diffInserts": [],
       "displayType": "redashChart",
       "error": null,
       "errorDetails": null,
       "errorSummary": null,
       "errorTraceType": null,
       "finishTime": 0,
       "globalVars": {},
       "guid": "",
       "height": "auto",
       "hideCommandCode": false,
       "hideCommandResult": false,
       "iPythonMetadata": null,
       "inputWidgets": {},
       "isLockedInExamMode": false,
       "latestUser": "a user",
       "latestUserId": null,
       "listResultMetadata": null,
       "metadata": {},
       "nuid": "6e4b5630-34f9-4d0d-9fbd-cf7f659f9ca4",
       "origId": 0,
       "parentHierarchy": [],
       "pivotAggregation": null,
       "pivotColumns": null,
       "position": 48.0,
       "resultDbfsErrorMessage": null,
       "resultDbfsStatus": "INLINED_IN_TREE",
       "results": null,
       "showCommandTitle": false,
       "startTime": 0,
       "state": "input",
       "streamStates": {},
       "subcommandOptions": {},
       "submitTime": 0,
       "subtype": "tableResultSubCmd.visualization",
       "tableResultIndex": 0,
       "tableResultSettingsMap": {},
       "useConsistentColors": false,
       "version": "CommandV1",
       "width": "auto",
       "workflows": [],
       "xColumns": null,
       "yColumns": null
      }
     },
     "output_type": "display_data"
    }
   ],
   "source": [
    "display(final_df \\\n",
    "        .groupBy(\"platform_windows\", \"platform_mac\", \"platform_linux\").agg(F.count(\"*\").alias(\"total\")) \\\n",
    "        .orderBy(F.desc(\"platform_windows\"), F.desc(\"platform_mac\"), F.desc(\"platform_linux\"))\n",
    "       )      "
   ]
  },
  {
   "cell_type": "code",
   "execution_count": 0,
   "metadata": {
    "application/vnd.databricks.v1+cell": {
     "cellMetadata": {},
     "inputWidgets": {},
     "nuid": "b94c5079-c491-4087-9fe2-6db4cc927ae3",
     "showTitle": false,
     "tableResultSettingsMap": {},
     "title": ""
    }
   },
   "outputs": [],
   "source": []
  }
 ],
 "metadata": {
  "application/vnd.databricks.v1+notebook": {
   "computePreferences": null,
   "dashboards": [],
   "environmentMetadata": null,
   "language": "python",
   "notebookMetadata": {
    "pythonIndentUnit": 2
   },
   "notebookName": "Steam",
   "widgets": {}
  },
  "kernelspec": {
   "display_name": "Python 3",
   "language": "python",
   "name": "python3"
  },
  "language_info": {
   "codemirror_mode": {
    "name": "ipython",
    "version": 3
   },
   "file_extension": ".py",
   "mimetype": "text/x-python",
   "name": "python",
   "nbconvert_exporter": "python",
   "pygments_lexer": "ipython3",
   "version": "3.8.5"
  },
  "name": "03-Tidying-up-Part-2",
  "notebookId": 283981489604843
 },
 "nbformat": 4,
 "nbformat_minor": 0
}
