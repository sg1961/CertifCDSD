{
 "cells": [
  {
   "cell_type": "markdown",
   "metadata": {},
   "source": [
    "# Projet Kayak\n",
    "# Module d'enregistrement des données brutes (villes, localisations et hotels) sur AWS : S3\n"
   ]
  },
  {
   "cell_type": "code",
   "execution_count": 2,
   "metadata": {},
   "outputs": [],
   "source": [
    "import pandas as pd \n",
    "import boto3\n",
    "import kayak_secret as s"
   ]
  },
  {
   "cell_type": "markdown",
   "metadata": {},
   "source": [
    "## Stockage des données brutes sur S3"
   ]
  },
  {
   "cell_type": "code",
   "execution_count": null,
   "metadata": {},
   "outputs": [
    {
     "data": {
      "text/plain": [
       "s3.Object(bucket_name='seddik-jedha-projetkayak-bk', key='booking_hotels.csv')"
      ]
     },
     "execution_count": 10,
     "metadata": {},
     "output_type": "execute_result"
    }
   ],
   "source": [
    "dfl = pd.read_csv(\"./data/df_cities_geoloc_save.csv\")\n",
    "dfw = pd.read_csv(\"./data/df_weather_save.csv\")\n",
    "dfh = pd.read_json(\"./data/df_booking_hotels_save.json\")\n",
    "\n",
    "session = boto3.Session(\n",
    "  aws_access_key_id = s.aws_access_id,\n",
    "  aws_secret_access_key = s.aws_secret_access\n",
    ")\n",
    "\n",
    "s3 = session.resource(\"s3\") \n",
    "bucket = s3.create_bucket(Bucket=\"seddik-jedha-projetkayak-bk\")\n",
    "\n",
    "bucket.put_object(Key=\"cities_geoloc.csv\", Body=dfl.to_csv())\n",
    "bucket.put_object(Key=\"weather.csv\", Body=dfw.to_csv())\n",
    "bucket.put_object(Key=\"booking_hotels.csv\", Body=dfh.to_csv())"
   ]
  }
 ],
 "metadata": {
  "kernelspec": {
   "display_name": "base",
   "language": "python",
   "name": "python3"
  },
  "language_info": {
   "codemirror_mode": {
    "name": "ipython",
    "version": 3
   },
   "file_extension": ".py",
   "mimetype": "text/x-python",
   "name": "python",
   "nbconvert_exporter": "python",
   "pygments_lexer": "ipython3",
   "version": "3.11.5"
  }
 },
 "nbformat": 4,
 "nbformat_minor": 2
}
