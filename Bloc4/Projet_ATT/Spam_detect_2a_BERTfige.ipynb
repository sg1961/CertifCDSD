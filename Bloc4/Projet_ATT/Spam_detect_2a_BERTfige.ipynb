{
 "cells": [
  {
   "cell_type": "markdown",
   "metadata": {
    "id": "WM30CmxduAgE"
   },
   "source": [
    "# Projet : ATT spam detector\n",
    "# Modèle 2a : Transfert Leraning - Modèle BERT figé"
   ]
  },
  {
   "cell_type": "code",
   "execution_count": null,
   "metadata": {
    "id": "rQklPQ0NiGwW"
   },
   "outputs": [],
   "source": [
    "import tensorflow as tf\n",
    "import numpy as np\n",
    "import pandas as pd\n",
    "from tensorflow import keras\n",
    "import keras_nlp\n",
    "from sklearn.model_selection import train_test_split\n",
    "\n",
    "import matplotlib.pyplot as plt"
   ]
  },
  {
   "cell_type": "code",
   "execution_count": null,
   "metadata": {
    "colab": {
     "base_uri": "https://localhost:8080/",
     "height": 221
    },
    "executionInfo": {
     "elapsed": 73,
     "status": "ok",
     "timestamp": 1740696569883,
     "user": {
      "displayName": "Seddik Ghoumari",
      "userId": "14657520186002990347"
     },
     "user_tz": -60
    },
    "id": "oEyodXepirye",
    "outputId": "0e4e220c-57a1-43f8-efec-64ee756d932f"
   },
   "outputs": [
    {
     "name": "stdout",
     "output_type": "stream",
     "text": [
      "(5572, 5)\n"
     ]
    },
    {
     "data": {
      "application/vnd.google.colaboratory.intrinsic+json": {
       "repr_error": "Out of range float values are not JSON compliant: nan",
       "type": "dataframe"
      },
      "text/html": [
       "\n",
       "  <div id=\"df-c7214aff-2b27-4dda-bf5d-00c0b4542046\" class=\"colab-df-container\">\n",
       "    <div>\n",
       "<style scoped>\n",
       "    .dataframe tbody tr th:only-of-type {\n",
       "        vertical-align: middle;\n",
       "    }\n",
       "\n",
       "    .dataframe tbody tr th {\n",
       "        vertical-align: top;\n",
       "    }\n",
       "\n",
       "    .dataframe thead th {\n",
       "        text-align: right;\n",
       "    }\n",
       "</style>\n",
       "<table border=\"1\" class=\"dataframe\">\n",
       "  <thead>\n",
       "    <tr style=\"text-align: right;\">\n",
       "      <th></th>\n",
       "      <th>v1</th>\n",
       "      <th>v2</th>\n",
       "      <th>Unnamed: 2</th>\n",
       "      <th>Unnamed: 3</th>\n",
       "      <th>Unnamed: 4</th>\n",
       "    </tr>\n",
       "  </thead>\n",
       "  <tbody>\n",
       "    <tr>\n",
       "      <th>0</th>\n",
       "      <td>ham</td>\n",
       "      <td>Go until jurong point, crazy.. Available only ...</td>\n",
       "      <td>NaN</td>\n",
       "      <td>NaN</td>\n",
       "      <td>NaN</td>\n",
       "    </tr>\n",
       "    <tr>\n",
       "      <th>1</th>\n",
       "      <td>ham</td>\n",
       "      <td>Ok lar... Joking wif u oni...</td>\n",
       "      <td>NaN</td>\n",
       "      <td>NaN</td>\n",
       "      <td>NaN</td>\n",
       "    </tr>\n",
       "    <tr>\n",
       "      <th>2</th>\n",
       "      <td>spam</td>\n",
       "      <td>Free entry in 2 a wkly comp to win FA Cup fina...</td>\n",
       "      <td>NaN</td>\n",
       "      <td>NaN</td>\n",
       "      <td>NaN</td>\n",
       "    </tr>\n",
       "    <tr>\n",
       "      <th>3</th>\n",
       "      <td>ham</td>\n",
       "      <td>U dun say so early hor... U c already then say...</td>\n",
       "      <td>NaN</td>\n",
       "      <td>NaN</td>\n",
       "      <td>NaN</td>\n",
       "    </tr>\n",
       "    <tr>\n",
       "      <th>4</th>\n",
       "      <td>ham</td>\n",
       "      <td>Nah I don't think he goes to usf, he lives aro...</td>\n",
       "      <td>NaN</td>\n",
       "      <td>NaN</td>\n",
       "      <td>NaN</td>\n",
       "    </tr>\n",
       "  </tbody>\n",
       "</table>\n",
       "</div>\n",
       "    <div class=\"colab-df-buttons\">\n",
       "\n",
       "  <div class=\"colab-df-container\">\n",
       "    <button class=\"colab-df-convert\" onclick=\"convertToInteractive('df-c7214aff-2b27-4dda-bf5d-00c0b4542046')\"\n",
       "            title=\"Convert this dataframe to an interactive table.\"\n",
       "            style=\"display:none;\">\n",
       "\n",
       "  <svg xmlns=\"http://www.w3.org/2000/svg\" height=\"24px\" viewBox=\"0 -960 960 960\">\n",
       "    <path d=\"M120-120v-720h720v720H120Zm60-500h600v-160H180v160Zm220 220h160v-160H400v160Zm0 220h160v-160H400v160ZM180-400h160v-160H180v160Zm440 0h160v-160H620v160ZM180-180h160v-160H180v160Zm440 0h160v-160H620v160Z\"/>\n",
       "  </svg>\n",
       "    </button>\n",
       "\n",
       "  <style>\n",
       "    .colab-df-container {\n",
       "      display:flex;\n",
       "      gap: 12px;\n",
       "    }\n",
       "\n",
       "    .colab-df-convert {\n",
       "      background-color: #E8F0FE;\n",
       "      border: none;\n",
       "      border-radius: 50%;\n",
       "      cursor: pointer;\n",
       "      display: none;\n",
       "      fill: #1967D2;\n",
       "      height: 32px;\n",
       "      padding: 0 0 0 0;\n",
       "      width: 32px;\n",
       "    }\n",
       "\n",
       "    .colab-df-convert:hover {\n",
       "      background-color: #E2EBFA;\n",
       "      box-shadow: 0px 1px 2px rgba(60, 64, 67, 0.3), 0px 1px 3px 1px rgba(60, 64, 67, 0.15);\n",
       "      fill: #174EA6;\n",
       "    }\n",
       "\n",
       "    .colab-df-buttons div {\n",
       "      margin-bottom: 4px;\n",
       "    }\n",
       "\n",
       "    [theme=dark] .colab-df-convert {\n",
       "      background-color: #3B4455;\n",
       "      fill: #D2E3FC;\n",
       "    }\n",
       "\n",
       "    [theme=dark] .colab-df-convert:hover {\n",
       "      background-color: #434B5C;\n",
       "      box-shadow: 0px 1px 3px 1px rgba(0, 0, 0, 0.15);\n",
       "      filter: drop-shadow(0px 1px 2px rgba(0, 0, 0, 0.3));\n",
       "      fill: #FFFFFF;\n",
       "    }\n",
       "  </style>\n",
       "\n",
       "    <script>\n",
       "      const buttonEl =\n",
       "        document.querySelector('#df-c7214aff-2b27-4dda-bf5d-00c0b4542046 button.colab-df-convert');\n",
       "      buttonEl.style.display =\n",
       "        google.colab.kernel.accessAllowed ? 'block' : 'none';\n",
       "\n",
       "      async function convertToInteractive(key) {\n",
       "        const element = document.querySelector('#df-c7214aff-2b27-4dda-bf5d-00c0b4542046');\n",
       "        const dataTable =\n",
       "          await google.colab.kernel.invokeFunction('convertToInteractive',\n",
       "                                                    [key], {});\n",
       "        if (!dataTable) return;\n",
       "\n",
       "        const docLinkHtml = 'Like what you see? Visit the ' +\n",
       "          '<a target=\"_blank\" href=https://colab.research.google.com/notebooks/data_table.ipynb>data table notebook</a>'\n",
       "          + ' to learn more about interactive tables.';\n",
       "        element.innerHTML = '';\n",
       "        dataTable['output_type'] = 'display_data';\n",
       "        await google.colab.output.renderOutput(dataTable, element);\n",
       "        const docLink = document.createElement('div');\n",
       "        docLink.innerHTML = docLinkHtml;\n",
       "        element.appendChild(docLink);\n",
       "      }\n",
       "    </script>\n",
       "  </div>\n",
       "\n",
       "\n",
       "<div id=\"df-88ca2c4f-c9f1-4d06-9850-a612de5527a2\">\n",
       "  <button class=\"colab-df-quickchart\" onclick=\"quickchart('df-88ca2c4f-c9f1-4d06-9850-a612de5527a2')\"\n",
       "            title=\"Suggest charts\"\n",
       "            style=\"display:none;\">\n",
       "\n",
       "<svg xmlns=\"http://www.w3.org/2000/svg\" height=\"24px\"viewBox=\"0 0 24 24\"\n",
       "     width=\"24px\">\n",
       "    <g>\n",
       "        <path d=\"M19 3H5c-1.1 0-2 .9-2 2v14c0 1.1.9 2 2 2h14c1.1 0 2-.9 2-2V5c0-1.1-.9-2-2-2zM9 17H7v-7h2v7zm4 0h-2V7h2v10zm4 0h-2v-4h2v4z\"/>\n",
       "    </g>\n",
       "</svg>\n",
       "  </button>\n",
       "\n",
       "<style>\n",
       "  .colab-df-quickchart {\n",
       "      --bg-color: #E8F0FE;\n",
       "      --fill-color: #1967D2;\n",
       "      --hover-bg-color: #E2EBFA;\n",
       "      --hover-fill-color: #174EA6;\n",
       "      --disabled-fill-color: #AAA;\n",
       "      --disabled-bg-color: #DDD;\n",
       "  }\n",
       "\n",
       "  [theme=dark] .colab-df-quickchart {\n",
       "      --bg-color: #3B4455;\n",
       "      --fill-color: #D2E3FC;\n",
       "      --hover-bg-color: #434B5C;\n",
       "      --hover-fill-color: #FFFFFF;\n",
       "      --disabled-bg-color: #3B4455;\n",
       "      --disabled-fill-color: #666;\n",
       "  }\n",
       "\n",
       "  .colab-df-quickchart {\n",
       "    background-color: var(--bg-color);\n",
       "    border: none;\n",
       "    border-radius: 50%;\n",
       "    cursor: pointer;\n",
       "    display: none;\n",
       "    fill: var(--fill-color);\n",
       "    height: 32px;\n",
       "    padding: 0;\n",
       "    width: 32px;\n",
       "  }\n",
       "\n",
       "  .colab-df-quickchart:hover {\n",
       "    background-color: var(--hover-bg-color);\n",
       "    box-shadow: 0 1px 2px rgba(60, 64, 67, 0.3), 0 1px 3px 1px rgba(60, 64, 67, 0.15);\n",
       "    fill: var(--button-hover-fill-color);\n",
       "  }\n",
       "\n",
       "  .colab-df-quickchart-complete:disabled,\n",
       "  .colab-df-quickchart-complete:disabled:hover {\n",
       "    background-color: var(--disabled-bg-color);\n",
       "    fill: var(--disabled-fill-color);\n",
       "    box-shadow: none;\n",
       "  }\n",
       "\n",
       "  .colab-df-spinner {\n",
       "    border: 2px solid var(--fill-color);\n",
       "    border-color: transparent;\n",
       "    border-bottom-color: var(--fill-color);\n",
       "    animation:\n",
       "      spin 1s steps(1) infinite;\n",
       "  }\n",
       "\n",
       "  @keyframes spin {\n",
       "    0% {\n",
       "      border-color: transparent;\n",
       "      border-bottom-color: var(--fill-color);\n",
       "      border-left-color: var(--fill-color);\n",
       "    }\n",
       "    20% {\n",
       "      border-color: transparent;\n",
       "      border-left-color: var(--fill-color);\n",
       "      border-top-color: var(--fill-color);\n",
       "    }\n",
       "    30% {\n",
       "      border-color: transparent;\n",
       "      border-left-color: var(--fill-color);\n",
       "      border-top-color: var(--fill-color);\n",
       "      border-right-color: var(--fill-color);\n",
       "    }\n",
       "    40% {\n",
       "      border-color: transparent;\n",
       "      border-right-color: var(--fill-color);\n",
       "      border-top-color: var(--fill-color);\n",
       "    }\n",
       "    60% {\n",
       "      border-color: transparent;\n",
       "      border-right-color: var(--fill-color);\n",
       "    }\n",
       "    80% {\n",
       "      border-color: transparent;\n",
       "      border-right-color: var(--fill-color);\n",
       "      border-bottom-color: var(--fill-color);\n",
       "    }\n",
       "    90% {\n",
       "      border-color: transparent;\n",
       "      border-bottom-color: var(--fill-color);\n",
       "    }\n",
       "  }\n",
       "</style>\n",
       "\n",
       "  <script>\n",
       "    async function quickchart(key) {\n",
       "      const quickchartButtonEl =\n",
       "        document.querySelector('#' + key + ' button');\n",
       "      quickchartButtonEl.disabled = true;  // To prevent multiple clicks.\n",
       "      quickchartButtonEl.classList.add('colab-df-spinner');\n",
       "      try {\n",
       "        const charts = await google.colab.kernel.invokeFunction(\n",
       "            'suggestCharts', [key], {});\n",
       "      } catch (error) {\n",
       "        console.error('Error during call to suggestCharts:', error);\n",
       "      }\n",
       "      quickchartButtonEl.classList.remove('colab-df-spinner');\n",
       "      quickchartButtonEl.classList.add('colab-df-quickchart-complete');\n",
       "    }\n",
       "    (() => {\n",
       "      let quickchartButtonEl =\n",
       "        document.querySelector('#df-88ca2c4f-c9f1-4d06-9850-a612de5527a2 button');\n",
       "      quickchartButtonEl.style.display =\n",
       "        google.colab.kernel.accessAllowed ? 'block' : 'none';\n",
       "    })();\n",
       "  </script>\n",
       "</div>\n",
       "\n",
       "    </div>\n",
       "  </div>\n"
      ],
      "text/plain": [
       "     v1                                                 v2 Unnamed: 2  \\\n",
       "0   ham  Go until jurong point, crazy.. Available only ...        NaN   \n",
       "1   ham                      Ok lar... Joking wif u oni...        NaN   \n",
       "2  spam  Free entry in 2 a wkly comp to win FA Cup fina...        NaN   \n",
       "3   ham  U dun say so early hor... U c already then say...        NaN   \n",
       "4   ham  Nah I don't think he goes to usf, he lives aro...        NaN   \n",
       "\n",
       "  Unnamed: 3 Unnamed: 4  \n",
       "0        NaN        NaN  \n",
       "1        NaN        NaN  \n",
       "2        NaN        NaN  \n",
       "3        NaN        NaN  \n",
       "4        NaN        NaN  "
      ]
     },
     "metadata": {},
     "output_type": "display_data"
    }
   ],
   "source": [
    "df = pd.read_csv(\"./data/spam.csv\", encoding=\"cp1252\")\n",
    "\n",
    "print(df.shape)\n",
    "display(df.head())"
   ]
  },
  {
   "cell_type": "code",
   "execution_count": null,
   "metadata": {
    "colab": {
     "base_uri": "https://localhost:8080/",
     "height": 221
    },
    "executionInfo": {
     "elapsed": 49,
     "status": "ok",
     "timestamp": 1740696572394,
     "user": {
      "displayName": "Seddik Ghoumari",
      "userId": "14657520186002990347"
     },
     "user_tz": -60
    },
    "id": "XagKjd0Piz2z",
    "outputId": "1e3430fd-8bbf-464f-b874-6264cd022eb5"
   },
   "outputs": [
    {
     "name": "stdout",
     "output_type": "stream",
     "text": [
      "(5169, 2)\n"
     ]
    },
    {
     "data": {
      "application/vnd.google.colaboratory.intrinsic+json": {
       "summary": "{\n  \"name\": \"display(df\",\n  \"rows\": 5,\n  \"fields\": [\n    {\n      \"column\": \"sms_class\",\n      \"properties\": {\n        \"dtype\": \"number\",\n        \"std\": 0,\n        \"min\": 0,\n        \"max\": 1,\n        \"num_unique_values\": 2,\n        \"samples\": [\n          1,\n          0\n        ],\n        \"semantic_type\": \"\",\n        \"description\": \"\"\n      }\n    },\n    {\n      \"column\": \"sms_brut\",\n      \"properties\": {\n        \"dtype\": \"string\",\n        \"num_unique_values\": 5,\n        \"samples\": [\n          \"Ok lar... Joking wif u oni...\",\n          \"Nah I don't think he goes to usf, he lives around here though\"\n        ],\n        \"semantic_type\": \"\",\n        \"description\": \"\"\n      }\n    }\n  ]\n}",
       "type": "dataframe"
      },
      "text/html": [
       "\n",
       "  <div id=\"df-b6cb724a-a2eb-4436-9aab-e69d7885653c\" class=\"colab-df-container\">\n",
       "    <div>\n",
       "<style scoped>\n",
       "    .dataframe tbody tr th:only-of-type {\n",
       "        vertical-align: middle;\n",
       "    }\n",
       "\n",
       "    .dataframe tbody tr th {\n",
       "        vertical-align: top;\n",
       "    }\n",
       "\n",
       "    .dataframe thead th {\n",
       "        text-align: right;\n",
       "    }\n",
       "</style>\n",
       "<table border=\"1\" class=\"dataframe\">\n",
       "  <thead>\n",
       "    <tr style=\"text-align: right;\">\n",
       "      <th></th>\n",
       "      <th>sms_class</th>\n",
       "      <th>sms_brut</th>\n",
       "    </tr>\n",
       "  </thead>\n",
       "  <tbody>\n",
       "    <tr>\n",
       "      <th>0</th>\n",
       "      <td>0</td>\n",
       "      <td>Go until jurong point, crazy.. Available only ...</td>\n",
       "    </tr>\n",
       "    <tr>\n",
       "      <th>1</th>\n",
       "      <td>0</td>\n",
       "      <td>Ok lar... Joking wif u oni...</td>\n",
       "    </tr>\n",
       "    <tr>\n",
       "      <th>2</th>\n",
       "      <td>1</td>\n",
       "      <td>Free entry in 2 a wkly comp to win FA Cup fina...</td>\n",
       "    </tr>\n",
       "    <tr>\n",
       "      <th>3</th>\n",
       "      <td>0</td>\n",
       "      <td>U dun say so early hor... U c already then say...</td>\n",
       "    </tr>\n",
       "    <tr>\n",
       "      <th>4</th>\n",
       "      <td>0</td>\n",
       "      <td>Nah I don't think he goes to usf, he lives aro...</td>\n",
       "    </tr>\n",
       "  </tbody>\n",
       "</table>\n",
       "</div>\n",
       "    <div class=\"colab-df-buttons\">\n",
       "\n",
       "  <div class=\"colab-df-container\">\n",
       "    <button class=\"colab-df-convert\" onclick=\"convertToInteractive('df-b6cb724a-a2eb-4436-9aab-e69d7885653c')\"\n",
       "            title=\"Convert this dataframe to an interactive table.\"\n",
       "            style=\"display:none;\">\n",
       "\n",
       "  <svg xmlns=\"http://www.w3.org/2000/svg\" height=\"24px\" viewBox=\"0 -960 960 960\">\n",
       "    <path d=\"M120-120v-720h720v720H120Zm60-500h600v-160H180v160Zm220 220h160v-160H400v160Zm0 220h160v-160H400v160ZM180-400h160v-160H180v160Zm440 0h160v-160H620v160ZM180-180h160v-160H180v160Zm440 0h160v-160H620v160Z\"/>\n",
       "  </svg>\n",
       "    </button>\n",
       "\n",
       "  <style>\n",
       "    .colab-df-container {\n",
       "      display:flex;\n",
       "      gap: 12px;\n",
       "    }\n",
       "\n",
       "    .colab-df-convert {\n",
       "      background-color: #E8F0FE;\n",
       "      border: none;\n",
       "      border-radius: 50%;\n",
       "      cursor: pointer;\n",
       "      display: none;\n",
       "      fill: #1967D2;\n",
       "      height: 32px;\n",
       "      padding: 0 0 0 0;\n",
       "      width: 32px;\n",
       "    }\n",
       "\n",
       "    .colab-df-convert:hover {\n",
       "      background-color: #E2EBFA;\n",
       "      box-shadow: 0px 1px 2px rgba(60, 64, 67, 0.3), 0px 1px 3px 1px rgba(60, 64, 67, 0.15);\n",
       "      fill: #174EA6;\n",
       "    }\n",
       "\n",
       "    .colab-df-buttons div {\n",
       "      margin-bottom: 4px;\n",
       "    }\n",
       "\n",
       "    [theme=dark] .colab-df-convert {\n",
       "      background-color: #3B4455;\n",
       "      fill: #D2E3FC;\n",
       "    }\n",
       "\n",
       "    [theme=dark] .colab-df-convert:hover {\n",
       "      background-color: #434B5C;\n",
       "      box-shadow: 0px 1px 3px 1px rgba(0, 0, 0, 0.15);\n",
       "      filter: drop-shadow(0px 1px 2px rgba(0, 0, 0, 0.3));\n",
       "      fill: #FFFFFF;\n",
       "    }\n",
       "  </style>\n",
       "\n",
       "    <script>\n",
       "      const buttonEl =\n",
       "        document.querySelector('#df-b6cb724a-a2eb-4436-9aab-e69d7885653c button.colab-df-convert');\n",
       "      buttonEl.style.display =\n",
       "        google.colab.kernel.accessAllowed ? 'block' : 'none';\n",
       "\n",
       "      async function convertToInteractive(key) {\n",
       "        const element = document.querySelector('#df-b6cb724a-a2eb-4436-9aab-e69d7885653c');\n",
       "        const dataTable =\n",
       "          await google.colab.kernel.invokeFunction('convertToInteractive',\n",
       "                                                    [key], {});\n",
       "        if (!dataTable) return;\n",
       "\n",
       "        const docLinkHtml = 'Like what you see? Visit the ' +\n",
       "          '<a target=\"_blank\" href=https://colab.research.google.com/notebooks/data_table.ipynb>data table notebook</a>'\n",
       "          + ' to learn more about interactive tables.';\n",
       "        element.innerHTML = '';\n",
       "        dataTable['output_type'] = 'display_data';\n",
       "        await google.colab.output.renderOutput(dataTable, element);\n",
       "        const docLink = document.createElement('div');\n",
       "        docLink.innerHTML = docLinkHtml;\n",
       "        element.appendChild(docLink);\n",
       "      }\n",
       "    </script>\n",
       "  </div>\n",
       "\n",
       "\n",
       "<div id=\"df-d714eb63-043f-44bc-8a2c-655c7dca6871\">\n",
       "  <button class=\"colab-df-quickchart\" onclick=\"quickchart('df-d714eb63-043f-44bc-8a2c-655c7dca6871')\"\n",
       "            title=\"Suggest charts\"\n",
       "            style=\"display:none;\">\n",
       "\n",
       "<svg xmlns=\"http://www.w3.org/2000/svg\" height=\"24px\"viewBox=\"0 0 24 24\"\n",
       "     width=\"24px\">\n",
       "    <g>\n",
       "        <path d=\"M19 3H5c-1.1 0-2 .9-2 2v14c0 1.1.9 2 2 2h14c1.1 0 2-.9 2-2V5c0-1.1-.9-2-2-2zM9 17H7v-7h2v7zm4 0h-2V7h2v10zm4 0h-2v-4h2v4z\"/>\n",
       "    </g>\n",
       "</svg>\n",
       "  </button>\n",
       "\n",
       "<style>\n",
       "  .colab-df-quickchart {\n",
       "      --bg-color: #E8F0FE;\n",
       "      --fill-color: #1967D2;\n",
       "      --hover-bg-color: #E2EBFA;\n",
       "      --hover-fill-color: #174EA6;\n",
       "      --disabled-fill-color: #AAA;\n",
       "      --disabled-bg-color: #DDD;\n",
       "  }\n",
       "\n",
       "  [theme=dark] .colab-df-quickchart {\n",
       "      --bg-color: #3B4455;\n",
       "      --fill-color: #D2E3FC;\n",
       "      --hover-bg-color: #434B5C;\n",
       "      --hover-fill-color: #FFFFFF;\n",
       "      --disabled-bg-color: #3B4455;\n",
       "      --disabled-fill-color: #666;\n",
       "  }\n",
       "\n",
       "  .colab-df-quickchart {\n",
       "    background-color: var(--bg-color);\n",
       "    border: none;\n",
       "    border-radius: 50%;\n",
       "    cursor: pointer;\n",
       "    display: none;\n",
       "    fill: var(--fill-color);\n",
       "    height: 32px;\n",
       "    padding: 0;\n",
       "    width: 32px;\n",
       "  }\n",
       "\n",
       "  .colab-df-quickchart:hover {\n",
       "    background-color: var(--hover-bg-color);\n",
       "    box-shadow: 0 1px 2px rgba(60, 64, 67, 0.3), 0 1px 3px 1px rgba(60, 64, 67, 0.15);\n",
       "    fill: var(--button-hover-fill-color);\n",
       "  }\n",
       "\n",
       "  .colab-df-quickchart-complete:disabled,\n",
       "  .colab-df-quickchart-complete:disabled:hover {\n",
       "    background-color: var(--disabled-bg-color);\n",
       "    fill: var(--disabled-fill-color);\n",
       "    box-shadow: none;\n",
       "  }\n",
       "\n",
       "  .colab-df-spinner {\n",
       "    border: 2px solid var(--fill-color);\n",
       "    border-color: transparent;\n",
       "    border-bottom-color: var(--fill-color);\n",
       "    animation:\n",
       "      spin 1s steps(1) infinite;\n",
       "  }\n",
       "\n",
       "  @keyframes spin {\n",
       "    0% {\n",
       "      border-color: transparent;\n",
       "      border-bottom-color: var(--fill-color);\n",
       "      border-left-color: var(--fill-color);\n",
       "    }\n",
       "    20% {\n",
       "      border-color: transparent;\n",
       "      border-left-color: var(--fill-color);\n",
       "      border-top-color: var(--fill-color);\n",
       "    }\n",
       "    30% {\n",
       "      border-color: transparent;\n",
       "      border-left-color: var(--fill-color);\n",
       "      border-top-color: var(--fill-color);\n",
       "      border-right-color: var(--fill-color);\n",
       "    }\n",
       "    40% {\n",
       "      border-color: transparent;\n",
       "      border-right-color: var(--fill-color);\n",
       "      border-top-color: var(--fill-color);\n",
       "    }\n",
       "    60% {\n",
       "      border-color: transparent;\n",
       "      border-right-color: var(--fill-color);\n",
       "    }\n",
       "    80% {\n",
       "      border-color: transparent;\n",
       "      border-right-color: var(--fill-color);\n",
       "      border-bottom-color: var(--fill-color);\n",
       "    }\n",
       "    90% {\n",
       "      border-color: transparent;\n",
       "      border-bottom-color: var(--fill-color);\n",
       "    }\n",
       "  }\n",
       "</style>\n",
       "\n",
       "  <script>\n",
       "    async function quickchart(key) {\n",
       "      const quickchartButtonEl =\n",
       "        document.querySelector('#' + key + ' button');\n",
       "      quickchartButtonEl.disabled = true;  // To prevent multiple clicks.\n",
       "      quickchartButtonEl.classList.add('colab-df-spinner');\n",
       "      try {\n",
       "        const charts = await google.colab.kernel.invokeFunction(\n",
       "            'suggestCharts', [key], {});\n",
       "      } catch (error) {\n",
       "        console.error('Error during call to suggestCharts:', error);\n",
       "      }\n",
       "      quickchartButtonEl.classList.remove('colab-df-spinner');\n",
       "      quickchartButtonEl.classList.add('colab-df-quickchart-complete');\n",
       "    }\n",
       "    (() => {\n",
       "      let quickchartButtonEl =\n",
       "        document.querySelector('#df-d714eb63-043f-44bc-8a2c-655c7dca6871 button');\n",
       "      quickchartButtonEl.style.display =\n",
       "        google.colab.kernel.accessAllowed ? 'block' : 'none';\n",
       "    })();\n",
       "  </script>\n",
       "</div>\n",
       "\n",
       "    </div>\n",
       "  </div>\n"
      ],
      "text/plain": [
       "   sms_class                                           sms_brut\n",
       "0          0  Go until jurong point, crazy.. Available only ...\n",
       "1          0                      Ok lar... Joking wif u oni...\n",
       "2          1  Free entry in 2 a wkly comp to win FA Cup fina...\n",
       "3          0  U dun say so early hor... U c already then say...\n",
       "4          0  Nah I don't think he goes to usf, he lives aro..."
      ]
     },
     "metadata": {},
     "output_type": "display_data"
    }
   ],
   "source": [
    "df.drop(columns=\"Unnamed: 2\", inplace=True)\n",
    "df.drop(columns=\"Unnamed: 3\", inplace=True)\n",
    "df.drop(columns=\"Unnamed: 4\", inplace=True)\n",
    "\n",
    "df.drop_duplicates(inplace=True)\n",
    "\n",
    "df.rename(columns={\"v1\": \"sms_class\"}, inplace=True)\n",
    "df.rename(columns={\"v2\": \"sms_brut\"}, inplace=True)\n",
    "\n",
    "df[\"sms_class\"] = df[\"sms_class\"].map({\"ham\":0,\"spam\":1})\n",
    "\n",
    "print(df.shape)\n",
    "display(df.head())"
   ]
  },
  {
   "cell_type": "code",
   "execution_count": null,
   "metadata": {
    "id": "9PMm1p8oiKjP"
   },
   "outputs": [],
   "source": [
    "X = df['sms_brut']\n",
    "y = df['sms_class']\n",
    "X_train, X_test , y_train, y_test = train_test_split(X, y , stratify = df[\"sms_class\"], random_state = 42)"
   ]
  },
  {
   "cell_type": "code",
   "execution_count": null,
   "metadata": {
    "id": "YWdFU8R2jL5K"
   },
   "outputs": [],
   "source": [
    "y_train = tf.keras.utils.to_categorical(y_train, num_classes=2)\n",
    "y_test = tf.keras.utils.to_categorical(y_test, num_classes=2)"
   ]
  },
  {
   "cell_type": "code",
   "execution_count": null,
   "metadata": {
    "colab": {
     "base_uri": "https://localhost:8080/"
    },
    "executionInfo": {
     "elapsed": 11632,
     "status": "ok",
     "timestamp": 1740696594712,
     "user": {
      "displayName": "Seddik Ghoumari",
      "userId": "14657520186002990347"
     },
     "user_tz": -60
    },
    "id": "7R90qRlHkGob",
    "outputId": "d90219ab-f2b4-43b8-f637-a5d730a283c6"
   },
   "outputs": [
    {
     "name": "stdout",
     "output_type": "stream",
     "text": [
      "Downloading from https://www.kaggle.com/api/v1/models/keras/bert/keras/bert_tiny_en_uncased_sst2/4/download/config.json...\n"
     ]
    },
    {
     "name": "stderr",
     "output_type": "stream",
     "text": [
      "100%|██████████| 454/454 [00:00<00:00, 455kB/s]\n"
     ]
    },
    {
     "name": "stdout",
     "output_type": "stream",
     "text": [
      "Downloading from https://www.kaggle.com/api/v1/models/keras/bert/keras/bert_tiny_en_uncased_sst2/4/download/task.json...\n"
     ]
    },
    {
     "name": "stderr",
     "output_type": "stream",
     "text": [
      "100%|██████████| 2.04k/2.04k [00:00<00:00, 878kB/s]\n"
     ]
    },
    {
     "name": "stdout",
     "output_type": "stream",
     "text": [
      "Downloading from https://www.kaggle.com/api/v1/models/keras/bert/keras/bert_tiny_en_uncased_sst2/4/download/assets/tokenizer/vocabulary.txt...\n"
     ]
    },
    {
     "name": "stderr",
     "output_type": "stream",
     "text": [
      "100%|██████████| 226k/226k [00:00<00:00, 46.1MB/s]\n"
     ]
    },
    {
     "name": "stdout",
     "output_type": "stream",
     "text": [
      "Downloading from https://www.kaggle.com/api/v1/models/keras/bert/keras/bert_tiny_en_uncased_sst2/4/download/task.weights.h5...\n"
     ]
    },
    {
     "name": "stderr",
     "output_type": "stream",
     "text": [
      "100%|██████████| 50.3M/50.3M [00:00<00:00, 115MB/s]\n"
     ]
    },
    {
     "name": "stdout",
     "output_type": "stream",
     "text": [
      "Downloading from https://www.kaggle.com/api/v1/models/keras/bert/keras/bert_tiny_en_uncased_sst2/4/download/model.weights.h5...\n"
     ]
    },
    {
     "name": "stderr",
     "output_type": "stream",
     "text": [
      "100%|██████████| 16.8M/16.8M [00:00<00:00, 103MB/s] \n"
     ]
    }
   ],
   "source": [
    "model_name = \"bert_tiny_en_uncased_sst2\"\n",
    "# Pretrained classifier.\n",
    "classifier = keras_nlp.models.BertClassifier.from_preset(\n",
    "    model_name,\n",
    "    num_classes=2,\n",
    "    load_weights = True,\n",
    "    activation='sigmoid'\n",
    ")"
   ]
  },
  {
   "cell_type": "code",
   "execution_count": null,
   "metadata": {
    "id": "ZD2gqn2YkTH2"
   },
   "outputs": [],
   "source": [
    "classifier.compile(\n",
    "    loss=keras.losses.BinaryCrossentropy(),\n",
    "    optimizer=keras.optimizers.Adam(),\n",
    "    jit_compile=True,\n",
    "     metrics=[tf.keras.metrics.Recall(name=\"recall\"), tf.keras.metrics.Precision(name=\"precision\"), \"accuracy\"],\n",
    ")\n",
    "# rendre les dernière couche de BERT entrainable (True)\n",
    "# Figer les dernières couches (False)\n",
    "classifier.backbone.trainable = False"
   ]
  },
  {
   "cell_type": "code",
   "execution_count": 9,
   "metadata": {
    "colab": {
     "base_uri": "https://localhost:8080/"
    },
    "executionInfo": {
     "elapsed": 884470,
     "status": "ok",
     "timestamp": 1740705914359,
     "user": {
      "displayName": "Seddik Ghoumari",
      "userId": "14657520186002990347"
     },
     "user_tz": -60
    },
    "id": "sF4OF1Q6lSFQ",
    "outputId": "168b4f2d-59e6-451d-9d88-095247607247"
   },
   "outputs": [
    {
     "name": "stdout",
     "output_type": "stream",
     "text": [
      "Epoch 1/50\n",
      "\u001b[1m122/122\u001b[0m \u001b[32m━━━━━━━━━━━━━━━━━━━━\u001b[0m\u001b[37m\u001b[0m \u001b[1m189s\u001b[0m 1s/step - accuracy: 0.8402 - loss: 0.4633 - precision: 0.8361 - recall: 0.7846 - val_accuracy: 0.8693 - val_loss: 0.3422 - val_precision: 0.8691 - val_recall: 0.8677\n",
      "Epoch 2/50\n",
      "\u001b[1m122/122\u001b[0m \u001b[32m━━━━━━━━━━━━━━━━━━━━\u001b[0m\u001b[37m\u001b[0m \u001b[1m172s\u001b[0m 1s/step - accuracy: 0.8694 - loss: 0.3194 - precision: 0.8691 - recall: 0.8693 - val_accuracy: 0.8832 - val_loss: 0.2924 - val_precision: 0.8822 - val_recall: 0.8863\n",
      "Epoch 3/50\n",
      "\u001b[1m122/122\u001b[0m \u001b[32m━━━━━━━━━━━━━━━━━━━━\u001b[0m\u001b[37m\u001b[0m \u001b[1m170s\u001b[0m 1s/step - accuracy: 0.8846 - loss: 0.2769 - precision: 0.8862 - recall: 0.8873 - val_accuracy: 0.8979 - val_loss: 0.2617 - val_precision: 0.8975 - val_recall: 0.9002\n",
      "Epoch 4/50\n",
      "\u001b[1m122/122\u001b[0m \u001b[32m━━━━━━━━━━━━━━━━━━━━\u001b[0m\u001b[37m\u001b[0m \u001b[1m178s\u001b[0m 1s/step - accuracy: 0.9046 - loss: 0.2555 - precision: 0.9011 - recall: 0.9058 - val_accuracy: 0.9111 - val_loss: 0.2420 - val_precision: 0.9085 - val_recall: 0.9142\n",
      "Epoch 5/50\n",
      "\u001b[1m122/122\u001b[0m \u001b[32m━━━━━━━━━━━━━━━━━━━━\u001b[0m\u001b[37m\u001b[0m \u001b[1m166s\u001b[0m 1s/step - accuracy: 0.9118 - loss: 0.2412 - precision: 0.9112 - recall: 0.9130 - val_accuracy: 0.9126 - val_loss: 0.2288 - val_precision: 0.9113 - val_recall: 0.9142\n",
      "Epoch 6/50\n",
      "\u001b[1m122/122\u001b[0m \u001b[32m━━━━━━━━━━━━━━━━━━━━\u001b[0m\u001b[37m\u001b[0m \u001b[1m208s\u001b[0m 1s/step - accuracy: 0.9248 - loss: 0.2197 - precision: 0.9246 - recall: 0.9249 - val_accuracy: 0.9219 - val_loss: 0.2168 - val_precision: 0.9204 - val_recall: 0.9211\n",
      "Epoch 7/50\n",
      "\u001b[1m122/122\u001b[0m \u001b[32m━━━━━━━━━━━━━━━━━━━━\u001b[0m\u001b[37m\u001b[0m \u001b[1m165s\u001b[0m 1s/step - accuracy: 0.9291 - loss: 0.2113 - precision: 0.9289 - recall: 0.9283 - val_accuracy: 0.9234 - val_loss: 0.2084 - val_precision: 0.9241 - val_recall: 0.9227\n",
      "Epoch 8/50\n",
      "\u001b[1m122/122\u001b[0m \u001b[32m━━━━━━━━━━━━━━━━━━━━\u001b[0m\u001b[37m\u001b[0m \u001b[1m179s\u001b[0m 1s/step - accuracy: 0.9224 - loss: 0.2153 - precision: 0.9202 - recall: 0.9256 - val_accuracy: 0.9281 - val_loss: 0.2011 - val_precision: 0.9281 - val_recall: 0.9281\n",
      "Epoch 9/50\n",
      "\u001b[1m122/122\u001b[0m \u001b[32m━━━━━━━━━━━━━━━━━━━━\u001b[0m\u001b[37m\u001b[0m \u001b[1m175s\u001b[0m 1s/step - accuracy: 0.9268 - loss: 0.2060 - precision: 0.9279 - recall: 0.9282 - val_accuracy: 0.9304 - val_loss: 0.1959 - val_precision: 0.9297 - val_recall: 0.9312\n",
      "Epoch 10/50\n",
      "\u001b[1m122/122\u001b[0m \u001b[32m━━━━━━━━━━━━━━━━━━━━\u001b[0m\u001b[37m\u001b[0m \u001b[1m206s\u001b[0m 1s/step - accuracy: 0.9289 - loss: 0.2043 - precision: 0.9284 - recall: 0.9296 - val_accuracy: 0.9350 - val_loss: 0.1909 - val_precision: 0.9336 - val_recall: 0.9350\n",
      "Epoch 11/50\n",
      "\u001b[1m122/122\u001b[0m \u001b[32m━━━━━━━━━━━━━━━━━━━━\u001b[0m\u001b[37m\u001b[0m \u001b[1m180s\u001b[0m 1s/step - accuracy: 0.9298 - loss: 0.1983 - precision: 0.9300 - recall: 0.9304 - val_accuracy: 0.9335 - val_loss: 0.1873 - val_precision: 0.9327 - val_recall: 0.9327\n",
      "Epoch 12/50\n",
      "\u001b[1m122/122\u001b[0m \u001b[32m━━━━━━━━━━━━━━━━━━━━\u001b[0m\u001b[37m\u001b[0m \u001b[1m206s\u001b[0m 2s/step - accuracy: 0.9328 - loss: 0.1938 - precision: 0.9330 - recall: 0.9304 - val_accuracy: 0.9366 - val_loss: 0.1830 - val_precision: 0.9365 - val_recall: 0.9358\n",
      "Epoch 13/50\n",
      "\u001b[1m122/122\u001b[0m \u001b[32m━━━━━━━━━━━━━━━━━━━━\u001b[0m\u001b[37m\u001b[0m \u001b[1m168s\u001b[0m 1s/step - accuracy: 0.9277 - loss: 0.1935 - precision: 0.9269 - recall: 0.9300 - val_accuracy: 0.9381 - val_loss: 0.1788 - val_precision: 0.9373 - val_recall: 0.9366\n",
      "Epoch 14/50\n",
      "\u001b[1m122/122\u001b[0m \u001b[32m━━━━━━━━━━━━━━━━━━━━\u001b[0m\u001b[37m\u001b[0m \u001b[1m180s\u001b[0m 1s/step - accuracy: 0.9385 - loss: 0.1894 - precision: 0.9374 - recall: 0.9387 - val_accuracy: 0.9381 - val_loss: 0.1758 - val_precision: 0.9374 - val_recall: 0.9381\n",
      "Epoch 15/50\n",
      "\u001b[1m122/122\u001b[0m \u001b[32m━━━━━━━━━━━━━━━━━━━━\u001b[0m\u001b[37m\u001b[0m \u001b[1m168s\u001b[0m 1s/step - accuracy: 0.9396 - loss: 0.1913 - precision: 0.9394 - recall: 0.9397 - val_accuracy: 0.9404 - val_loss: 0.1716 - val_precision: 0.9397 - val_recall: 0.9404\n",
      "Epoch 16/50\n",
      "\u001b[1m122/122\u001b[0m \u001b[32m━━━━━━━━━━━━━━━━━━━━\u001b[0m\u001b[37m\u001b[0m \u001b[1m179s\u001b[0m 1s/step - accuracy: 0.9337 - loss: 0.1845 - precision: 0.9348 - recall: 0.9340 - val_accuracy: 0.9366 - val_loss: 0.1710 - val_precision: 0.9366 - val_recall: 0.9366\n",
      "Epoch 17/50\n",
      "\u001b[1m122/122\u001b[0m \u001b[32m━━━━━━━━━━━━━━━━━━━━\u001b[0m\u001b[37m\u001b[0m \u001b[1m201s\u001b[0m 1s/step - accuracy: 0.9312 - loss: 0.1845 - precision: 0.9309 - recall: 0.9303 - val_accuracy: 0.9389 - val_loss: 0.1674 - val_precision: 0.9375 - val_recall: 0.9389\n",
      "Epoch 18/50\n",
      "\u001b[1m122/122\u001b[0m \u001b[32m━━━━━━━━━━━━━━━━━━━━\u001b[0m\u001b[37m\u001b[0m \u001b[1m190s\u001b[0m 1s/step - accuracy: 0.9376 - loss: 0.1829 - precision: 0.9372 - recall: 0.9371 - val_accuracy: 0.9374 - val_loss: 0.1665 - val_precision: 0.9374 - val_recall: 0.9381\n",
      "Epoch 19/50\n",
      "\u001b[1m122/122\u001b[0m \u001b[32m━━━━━━━━━━━━━━━━━━━━\u001b[0m\u001b[37m\u001b[0m \u001b[1m203s\u001b[0m 1s/step - accuracy: 0.9394 - loss: 0.1859 - precision: 0.9397 - recall: 0.9395 - val_accuracy: 0.9404 - val_loss: 0.1634 - val_precision: 0.9404 - val_recall: 0.9404\n",
      "Epoch 20/50\n",
      "\u001b[1m122/122\u001b[0m \u001b[32m━━━━━━━━━━━━━━━━━━━━\u001b[0m\u001b[37m\u001b[0m \u001b[1m214s\u001b[0m 1s/step - accuracy: 0.9407 - loss: 0.1731 - precision: 0.9405 - recall: 0.9408 - val_accuracy: 0.9397 - val_loss: 0.1622 - val_precision: 0.9390 - val_recall: 0.9412\n",
      "Epoch 21/50\n",
      "\u001b[1m122/122\u001b[0m \u001b[32m━━━━━━━━━━━━━━━━━━━━\u001b[0m\u001b[37m\u001b[0m \u001b[1m191s\u001b[0m 1s/step - accuracy: 0.9412 - loss: 0.1738 - precision: 0.9403 - recall: 0.9420 - val_accuracy: 0.9381 - val_loss: 0.1625 - val_precision: 0.9381 - val_recall: 0.9381\n",
      "Epoch 22/50\n",
      "\u001b[1m122/122\u001b[0m \u001b[32m━━━━━━━━━━━━━━━━━━━━\u001b[0m\u001b[37m\u001b[0m \u001b[1m203s\u001b[0m 1s/step - accuracy: 0.9406 - loss: 0.1777 - precision: 0.9400 - recall: 0.9404 - val_accuracy: 0.9412 - val_loss: 0.1581 - val_precision: 0.9413 - val_recall: 0.9420\n",
      "Epoch 23/50\n",
      "\u001b[1m122/122\u001b[0m \u001b[32m━━━━━━━━━━━━━━━━━━━━\u001b[0m\u001b[37m\u001b[0m \u001b[1m169s\u001b[0m 1s/step - accuracy: 0.9399 - loss: 0.1769 - precision: 0.9394 - recall: 0.9394 - val_accuracy: 0.9412 - val_loss: 0.1568 - val_precision: 0.9413 - val_recall: 0.9420\n",
      "Epoch 24/50\n",
      "\u001b[1m122/122\u001b[0m \u001b[32m━━━━━━━━━━━━━━━━━━━━\u001b[0m\u001b[37m\u001b[0m \u001b[1m180s\u001b[0m 1s/step - accuracy: 0.9360 - loss: 0.1818 - precision: 0.9357 - recall: 0.9358 - val_accuracy: 0.9412 - val_loss: 0.1556 - val_precision: 0.9413 - val_recall: 0.9420\n",
      "Epoch 25/50\n",
      "\u001b[1m122/122\u001b[0m \u001b[32m━━━━━━━━━━━━━━━━━━━━\u001b[0m\u001b[37m\u001b[0m \u001b[1m205s\u001b[0m 1s/step - accuracy: 0.9398 - loss: 0.1775 - precision: 0.9394 - recall: 0.9396 - val_accuracy: 0.9435 - val_loss: 0.1536 - val_precision: 0.9428 - val_recall: 0.9428\n",
      "Epoch 26/50\n",
      "\u001b[1m122/122\u001b[0m \u001b[32m━━━━━━━━━━━━━━━━━━━━\u001b[0m\u001b[37m\u001b[0m \u001b[1m169s\u001b[0m 1s/step - accuracy: 0.9338 - loss: 0.1794 - precision: 0.9336 - recall: 0.9343 - val_accuracy: 0.9443 - val_loss: 0.1526 - val_precision: 0.9436 - val_recall: 0.9443\n",
      "Epoch 27/50\n",
      "\u001b[1m122/122\u001b[0m \u001b[32m━━━━━━━━━━━━━━━━━━━━\u001b[0m\u001b[37m\u001b[0m \u001b[1m167s\u001b[0m 1s/step - accuracy: 0.9433 - loss: 0.1683 - precision: 0.9437 - recall: 0.9433 - val_accuracy: 0.9428 - val_loss: 0.1517 - val_precision: 0.9435 - val_recall: 0.9428\n",
      "Epoch 28/50\n",
      "\u001b[1m122/122\u001b[0m \u001b[32m━━━━━━━━━━━━━━━━━━━━\u001b[0m\u001b[37m\u001b[0m \u001b[1m214s\u001b[0m 1s/step - accuracy: 0.9358 - loss: 0.1782 - precision: 0.9356 - recall: 0.9362 - val_accuracy: 0.9435 - val_loss: 0.1509 - val_precision: 0.9435 - val_recall: 0.9435\n",
      "Epoch 29/50\n",
      "\u001b[1m122/122\u001b[0m \u001b[32m━━━━━━━━━━━━━━━━━━━━\u001b[0m\u001b[37m\u001b[0m \u001b[1m202s\u001b[0m 1s/step - accuracy: 0.9355 - loss: 0.1725 - precision: 0.9361 - recall: 0.9361 - val_accuracy: 0.9443 - val_loss: 0.1504 - val_precision: 0.9443 - val_recall: 0.9443\n",
      "Epoch 30/50\n",
      "\u001b[1m122/122\u001b[0m \u001b[32m━━━━━━━━━━━━━━━━━━━━\u001b[0m\u001b[37m\u001b[0m \u001b[1m189s\u001b[0m 1s/step - accuracy: 0.9398 - loss: 0.1713 - precision: 0.9392 - recall: 0.9393 - val_accuracy: 0.9451 - val_loss: 0.1485 - val_precision: 0.9452 - val_recall: 0.9466\n",
      "Epoch 31/50\n",
      "\u001b[1m122/122\u001b[0m \u001b[32m━━━━━━━━━━━━━━━━━━━━\u001b[0m\u001b[37m\u001b[0m \u001b[1m212s\u001b[0m 1s/step - accuracy: 0.9428 - loss: 0.1699 - precision: 0.9427 - recall: 0.9428 - val_accuracy: 0.9459 - val_loss: 0.1477 - val_precision: 0.9459 - val_recall: 0.9459\n",
      "Epoch 32/50\n",
      "\u001b[1m122/122\u001b[0m \u001b[32m━━━━━━━━━━━━━━━━━━━━\u001b[0m\u001b[37m\u001b[0m \u001b[1m192s\u001b[0m 1s/step - accuracy: 0.9374 - loss: 0.1741 - precision: 0.9373 - recall: 0.9368 - val_accuracy: 0.9428 - val_loss: 0.1476 - val_precision: 0.9428 - val_recall: 0.9428\n",
      "Epoch 33/50\n",
      "\u001b[1m122/122\u001b[0m \u001b[32m━━━━━━━━━━━━━━━━━━━━\u001b[0m\u001b[37m\u001b[0m \u001b[1m178s\u001b[0m 1s/step - accuracy: 0.9397 - loss: 0.1699 - precision: 0.9392 - recall: 0.9393 - val_accuracy: 0.9443 - val_loss: 0.1472 - val_precision: 0.9443 - val_recall: 0.9443\n",
      "Epoch 34/50\n",
      "\u001b[1m122/122\u001b[0m \u001b[32m━━━━━━━━━━━━━━━━━━━━\u001b[0m\u001b[37m\u001b[0m \u001b[1m202s\u001b[0m 1s/step - accuracy: 0.9360 - loss: 0.1724 - precision: 0.9357 - recall: 0.9362 - val_accuracy: 0.9466 - val_loss: 0.1456 - val_precision: 0.9445 - val_recall: 0.9474\n",
      "Epoch 35/50\n",
      "\u001b[1m122/122\u001b[0m \u001b[32m━━━━━━━━━━━━━━━━━━━━\u001b[0m\u001b[37m\u001b[0m \u001b[1m180s\u001b[0m 1s/step - accuracy: 0.9427 - loss: 0.1779 - precision: 0.9430 - recall: 0.9427 - val_accuracy: 0.9474 - val_loss: 0.1448 - val_precision: 0.9467 - val_recall: 0.9474\n",
      "Epoch 36/50\n",
      "\u001b[1m122/122\u001b[0m \u001b[32m━━━━━━━━━━━━━━━━━━━━\u001b[0m\u001b[37m\u001b[0m \u001b[1m201s\u001b[0m 1s/step - accuracy: 0.9356 - loss: 0.1728 - precision: 0.9355 - recall: 0.9353 - val_accuracy: 0.9435 - val_loss: 0.1448 - val_precision: 0.9435 - val_recall: 0.9435\n",
      "Epoch 37/50\n",
      "\u001b[1m122/122\u001b[0m \u001b[32m━━━━━━━━━━━━━━━━━━━━\u001b[0m\u001b[37m\u001b[0m \u001b[1m189s\u001b[0m 1s/step - accuracy: 0.9391 - loss: 0.1759 - precision: 0.9391 - recall: 0.9401 - val_accuracy: 0.9466 - val_loss: 0.1434 - val_precision: 0.9467 - val_recall: 0.9474\n",
      "Epoch 38/50\n",
      "\u001b[1m122/122\u001b[0m \u001b[32m━━━━━━━━━━━━━━━━━━━━\u001b[0m\u001b[37m\u001b[0m \u001b[1m178s\u001b[0m 1s/step - accuracy: 0.9433 - loss: 0.1655 - precision: 0.9431 - recall: 0.9434 - val_accuracy: 0.9451 - val_loss: 0.1437 - val_precision: 0.9451 - val_recall: 0.9451\n",
      "Epoch 39/50\n",
      "\u001b[1m122/122\u001b[0m \u001b[32m━━━━━━━━━━━━━━━━━━━━\u001b[0m\u001b[37m\u001b[0m \u001b[1m191s\u001b[0m 1s/step - accuracy: 0.9438 - loss: 0.1576 - precision: 0.9438 - recall: 0.9433 - val_accuracy: 0.9459 - val_loss: 0.1429 - val_precision: 0.9459 - val_recall: 0.9466\n",
      "Epoch 40/50\n",
      "\u001b[1m122/122\u001b[0m \u001b[32m━━━━━━━━━━━━━━━━━━━━\u001b[0m\u001b[37m\u001b[0m \u001b[1m201s\u001b[0m 1s/step - accuracy: 0.9441 - loss: 0.1629 - precision: 0.9442 - recall: 0.9446 - val_accuracy: 0.9459 - val_loss: 0.1429 - val_precision: 0.9459 - val_recall: 0.9466\n",
      "Epoch 41/50\n",
      "\u001b[1m122/122\u001b[0m \u001b[32m━━━━━━━━━━━━━━━━━━━━\u001b[0m\u001b[37m\u001b[0m \u001b[1m177s\u001b[0m 1s/step - accuracy: 0.9430 - loss: 0.1657 - precision: 0.9436 - recall: 0.9445 - val_accuracy: 0.9466 - val_loss: 0.1427 - val_precision: 0.9459 - val_recall: 0.9466\n",
      "Epoch 42/50\n",
      "\u001b[1m122/122\u001b[0m \u001b[32m━━━━━━━━━━━━━━━━━━━━\u001b[0m\u001b[37m\u001b[0m \u001b[1m191s\u001b[0m 1s/step - accuracy: 0.9410 - loss: 0.1709 - precision: 0.9413 - recall: 0.9409 - val_accuracy: 0.9482 - val_loss: 0.1415 - val_precision: 0.9481 - val_recall: 0.9474\n",
      "Epoch 43/50\n",
      "\u001b[1m122/122\u001b[0m \u001b[32m━━━━━━━━━━━━━━━━━━━━\u001b[0m\u001b[37m\u001b[0m \u001b[1m165s\u001b[0m 1s/step - accuracy: 0.9406 - loss: 0.1699 - precision: 0.9406 - recall: 0.9410 - val_accuracy: 0.9482 - val_loss: 0.1413 - val_precision: 0.9482 - val_recall: 0.9482\n",
      "Epoch 44/50\n",
      "\u001b[1m122/122\u001b[0m \u001b[32m━━━━━━━━━━━━━━━━━━━━\u001b[0m\u001b[37m\u001b[0m \u001b[1m178s\u001b[0m 1s/step - accuracy: 0.9470 - loss: 0.1638 - precision: 0.9468 - recall: 0.9470 - val_accuracy: 0.9474 - val_loss: 0.1392 - val_precision: 0.9474 - val_recall: 0.9474\n",
      "Epoch 45/50\n",
      "\u001b[1m122/122\u001b[0m \u001b[32m━━━━━━━━━━━━━━━━━━━━\u001b[0m\u001b[37m\u001b[0m \u001b[1m166s\u001b[0m 1s/step - accuracy: 0.9440 - loss: 0.1650 - precision: 0.9437 - recall: 0.9450 - val_accuracy: 0.9474 - val_loss: 0.1395 - val_precision: 0.9474 - val_recall: 0.9474\n",
      "Epoch 46/50\n",
      "\u001b[1m122/122\u001b[0m \u001b[32m━━━━━━━━━━━━━━━━━━━━\u001b[0m\u001b[37m\u001b[0m \u001b[1m166s\u001b[0m 1s/step - accuracy: 0.9410 - loss: 0.1727 - precision: 0.9417 - recall: 0.9414 - val_accuracy: 0.9474 - val_loss: 0.1405 - val_precision: 0.9474 - val_recall: 0.9482\n",
      "Epoch 47/50\n",
      "\u001b[1m122/122\u001b[0m \u001b[32m━━━━━━━━━━━━━━━━━━━━\u001b[0m\u001b[37m\u001b[0m \u001b[1m166s\u001b[0m 1s/step - accuracy: 0.9441 - loss: 0.1657 - precision: 0.9442 - recall: 0.9442 - val_accuracy: 0.9505 - val_loss: 0.1393 - val_precision: 0.9505 - val_recall: 0.9505\n",
      "Epoch 48/50\n",
      "\u001b[1m122/122\u001b[0m \u001b[32m━━━━━━━━━━━━━━━━━━━━\u001b[0m\u001b[37m\u001b[0m \u001b[1m215s\u001b[0m 1s/step - accuracy: 0.9377 - loss: 0.1669 - precision: 0.9383 - recall: 0.9371 - val_accuracy: 0.9482 - val_loss: 0.1376 - val_precision: 0.9482 - val_recall: 0.9482\n",
      "Epoch 49/50\n",
      "\u001b[1m122/122\u001b[0m \u001b[32m━━━━━━━━━━━━━━━━━━━━\u001b[0m\u001b[37m\u001b[0m \u001b[1m202s\u001b[0m 1s/step - accuracy: 0.9417 - loss: 0.1690 - precision: 0.9419 - recall: 0.9415 - val_accuracy: 0.9497 - val_loss: 0.1384 - val_precision: 0.9497 - val_recall: 0.9497\n",
      "Epoch 50/50\n",
      "\u001b[1m122/122\u001b[0m \u001b[32m━━━━━━━━━━━━━━━━━━━━\u001b[0m\u001b[37m\u001b[0m \u001b[1m167s\u001b[0m 1s/step - accuracy: 0.9374 - loss: 0.1718 - precision: 0.9378 - recall: 0.9381 - val_accuracy: 0.9497 - val_loss: 0.1382 - val_precision: 0.9497 - val_recall: 0.9497\n"
     ]
    }
   ],
   "source": [
    "history = classifier.fit(x=X_train, y=y_train, epochs = 50, validation_data=(X_test,y_test), batch_size=32)"
   ]
  },
  {
   "cell_type": "code",
   "execution_count": 10,
   "metadata": {
    "colab": {
     "base_uri": "https://localhost:8080/"
    },
    "executionInfo": {
     "elapsed": 33055,
     "status": "ok",
     "timestamp": 1740705990133,
     "user": {
      "displayName": "Seddik Ghoumari",
      "userId": "14657520186002990347"
     },
     "user_tz": -60
    },
    "id": "j7SbDGHwlbrO",
    "outputId": "5761ea9f-0302-430d-d214-0b3544499543"
   },
   "outputs": [
    {
     "name": "stdout",
     "output_type": "stream",
     "text": [
      "\u001b[1m41/41\u001b[0m \u001b[32m━━━━━━━━━━━━━━━━━━━━\u001b[0m\u001b[37m\u001b[0m \u001b[1m32s\u001b[0m 752ms/step - accuracy: 0.9403 - loss: 0.1465 - precision: 0.9403 - recall: 0.9403\n"
     ]
    },
    {
     "data": {
      "text/plain": [
       "[0.13822481036186218, 0.949729323387146, 0.949729323387146, 0.949729323387146]"
      ]
     },
     "execution_count": 10,
     "metadata": {},
     "output_type": "execute_result"
    }
   ],
   "source": [
    "classifier.evaluate(X_test, y_test,batch_size=32)"
   ]
  },
  {
   "cell_type": "code",
   "execution_count": 11,
   "metadata": {
    "colab": {
     "base_uri": "https://localhost:8080/",
     "height": 472
    },
    "executionInfo": {
     "elapsed": 963,
     "status": "ok",
     "timestamp": 1740705999008,
     "user": {
      "displayName": "Seddik Ghoumari",
      "userId": "14657520186002990347"
     },
     "user_tz": -60
    },
    "id": "-wLjR23hU2Mm",
    "outputId": "7b273283-5dec-478b-c927-b0a76b6b624c"
   },
   "outputs": [
    {
     "data": {
      "image/png": "[encoded data removed]",
      "text/plain": [
       "<Figure size 640x480 with 1 Axes>"
      ]
     },
     "metadata": {},
     "output_type": "display_data"
    }
   ],
   "source": [
    "plt.plot(history.history[\"loss\"], color=\"b\", label=\"Train Loss\")\n",
    "plt.plot(history.history[\"val_loss\"], color=\"r\", label=\"Val Loss\")\n",
    "plt.ylabel(\"Values\")\n",
    "plt.xlabel(\"Epochs\")\n",
    "plt.title(\"Model de base : Loss\")\n",
    "plt.legend()\n",
    "plt.ylim(0,1)\n",
    "plt.show()"
   ]
  },
  {
   "cell_type": "code",
   "execution_count": 12,
   "metadata": {
    "colab": {
     "base_uri": "https://localhost:8080/",
     "height": 472
    },
    "executionInfo": {
     "elapsed": 411,
     "status": "ok",
     "timestamp": 1740706002654,
     "user": {
      "displayName": "Seddik Ghoumari",
      "userId": "14657520186002990347"
     },
     "user_tz": -60
    },
    "id": "1CxgdBfsX_jr",
    "outputId": "9f1b8dc0-fddf-4e07-a6e6-0fc4c61313e5"
   },
   "outputs": [
    {
     "data": {
      "image/png": "[encoded data removed]",
      "text/plain": [
       "<Figure size 640x480 with 1 Axes>"
      ]
     },
     "metadata": {},
     "output_type": "display_data"
    }
   ],
   "source": [
    "plt.plot(history.history[\"accuracy\"], color=\"b\", label=\"Train Accuracy\")\n",
    "plt.plot(history.history[\"val_accuracy\"], color=\"r\", label=\"Val Accuracy\")\n",
    "plt.ylabel(\"Values\")\n",
    "plt.xlabel(\"Epochs\")\n",
    "plt.title(\"Modèle de base : Accuracy\")\n",
    "plt.legend()\n",
    "plt.ylim(0,1)\n",
    "plt.show()"
   ]
  },
  {
   "cell_type": "code",
   "execution_count": 13,
   "metadata": {
    "colab": {
     "base_uri": "https://localhost:8080/",
     "height": 472
    },
    "executionInfo": {
     "elapsed": 434,
     "status": "ok",
     "timestamp": 1740706005867,
     "user": {
      "displayName": "Seddik Ghoumari",
      "userId": "14657520186002990347"
     },
     "user_tz": -60
    },
    "id": "X52hXvnKlsUm",
    "outputId": "f5ba1168-78ae-4885-cedc-a70048f524df"
   },
   "outputs": [
    {
     "data": {
      "image/png": "[encoded data removed]",
      "text/plain": [
       "<Figure size 640x480 with 1 Axes>"
      ]
     },
     "metadata": {},
     "output_type": "display_data"
    }
   ],
   "source": [
    "plt.plot(history.history[\"precision\"], color=\"b\", label=\"Train Precision\")\n",
    "plt.plot(history.history[\"val_precision\"], color=\"r\", label=\"Val Precision\")\n",
    "plt.ylabel(\"Values\")\n",
    "plt.xlabel(\"Epochs\")\n",
    "plt.title(\"Modèle de base : Précision\")\n",
    "plt.legend()\n",
    "plt.ylim(0,1)\n",
    "plt.show()"
   ]
  },
  {
   "cell_type": "code",
   "execution_count": 14,
   "metadata": {
    "colab": {
     "base_uri": "https://localhost:8080/",
     "height": 472
    },
    "executionInfo": {
     "elapsed": 253,
     "status": "ok",
     "timestamp": 1740706008932,
     "user": {
      "displayName": "Seddik Ghoumari",
      "userId": "14657520186002990347"
     },
     "user_tz": -60
    },
    "id": "3bBoDBfRlsIY",
    "outputId": "d2ad3969-1356-47c4-f128-5fc1cb6b285c"
   },
   "outputs": [
    {
     "data": {
      "image/png": "[encoded data removed]",
      "text/plain": [
       "<Figure size 640x480 with 1 Axes>"
      ]
     },
     "metadata": {},
     "output_type": "display_data"
    }
   ],
   "source": [
    "plt.plot(history.history[\"recall\"], color=\"b\", label=\"Train Recall\")\n",
    "plt.plot(history.history[\"val_recall\"], color=\"r\", label=\"Val Recall\")\n",
    "plt.ylabel(\"Values\")\n",
    "plt.xlabel(\"Epochs\")\n",
    "plt.title(\"Modèle de base: Recall\")\n",
    "plt.legend()\n",
    "plt.ylim(0,1)\n",
    "plt.show()"
   ]
  },
  {
   "cell_type": "code",
   "execution_count": 15,
   "metadata": {
    "colab": {
     "base_uri": "https://localhost:8080/",
     "height": 472
    },
    "executionInfo": {
     "elapsed": 388,
     "status": "ok",
     "timestamp": 1740706012965,
     "user": {
      "displayName": "Seddik Ghoumari",
      "userId": "14657520186002990347"
     },
     "user_tz": -60
    },
    "id": "HzqDc_pKlr1m",
    "outputId": "68c9b12c-5e65-4ac3-ded2-6b343f1d379c"
   },
   "outputs": [
    {
     "data": {
      "image/png": "[encoded data removed]",
      "text/plain": [
       "<Figure size 640x480 with 1 Axes>"
      ]
     },
     "metadata": {},
     "output_type": "display_data"
    }
   ],
   "source": [
    "recall = history.history[\"recall\"]\n",
    "precision = history.history[\"precision\"]\n",
    "\n",
    "f1 = pd.DataFrame()\n",
    "f1[\"f1\"] =  2*np.array(recall)*np.array(precision)/(np.array(recall)+np.array(precision)+tf.keras.backend.epsilon())\n",
    "\n",
    "val_recall = history.history[\"val_recall\"]\n",
    "val_precision = history.history[\"val_precision\"]\n",
    "\n",
    "val_f1 = pd.DataFrame()\n",
    "val_f1[\"val_f1\"] =  2*np.array(val_recall)*np.array(val_precision)/(np.array(val_recall)+np.array(val_precision)+0.00000001)\n",
    "\n",
    "plt.plot(f1[\"f1\"], color=\"b\", label=\"Train f1\")\n",
    "plt.plot(val_f1[\"val_f1\"], color=\"r\", label=\"Val f1\")\n",
    "plt.ylabel(\"Values\")\n",
    "plt.xlabel(\"Epochs\")\n",
    "plt.title(\"Modèle de base: f1\")\n",
    "plt.legend()\n",
    "plt.ylim(0,1)\n",
    "plt.show()"
   ]
  },
  {
   "cell_type": "markdown",
   "metadata": {
    "id": "U4Vw3772mAzs"
   },
   "source": [
    "### Synthèse résultat modele"
   ]
  },
  {
   "cell_type": "code",
   "execution_count": 16,
   "metadata": {
    "colab": {
     "base_uri": "https://localhost:8080/"
    },
    "executionInfo": {
     "elapsed": 9,
     "status": "ok",
     "timestamp": 1740706016052,
     "user": {
      "displayName": "Seddik Ghoumari",
      "userId": "14657520186002990347"
     },
     "user_tz": -60
    },
    "id": "0_S2fM1Ql8kZ",
    "outputId": "79d3d493-dd16-45fc-9887-28f87890cc16"
   },
   "outputs": [
    {
     "name": "stdout",
     "output_type": "stream",
     "text": [
      "**Train :\n",
      "Loss : 0.17071786522865295\n",
      "Accuracy : 0.9373065233230591\n",
      "precision : 0.937564492225647\n",
      "Recall : 0.937564492225647\n",
      "f1 : 0.9375644422256496\n",
      "\n",
      "**Test :\n",
      "Loss : 0.13822481036186218\n",
      "Accuracy : 0.949729323387146\n",
      "precision : 0.949729323387146\n",
      "Recall : 0.949729323387146\n",
      "f1 : 0.949729318387146\n"
     ]
    }
   ],
   "source": [
    "print(\"**Train :\")\n",
    "print(\"Loss :\", list(history.history[\"loss\"])[-1])\n",
    "print(\"Accuracy :\", list(history.history[\"accuracy\"])[-1])\n",
    "print(\"precision :\", list(history.history[\"precision\"])[-1])\n",
    "print(\"Recall :\", list(history.history[\"recall\"])[-1])\n",
    "print(\"f1 :\", list(f1[\"f1\"])[-1])\n",
    "print()\n",
    "print(\"**Test :\")\n",
    "print(\"Loss :\", list(history.history[\"val_loss\"])[-1])\n",
    "print(\"Accuracy :\", list(history.history[\"val_accuracy\"])[-1])\n",
    "print(\"precision :\", list(history.history[\"val_precision\"])[-1])\n",
    "print(\"Recall :\", list(history.history[\"val_recall\"])[-1])\n",
    "print(\"f1 :\", list(val_f1[\"val_f1\"])[-1])"
   ]
  },
  {
   "cell_type": "code",
   "execution_count": 18,
   "metadata": {
    "colab": {
     "base_uri": "https://localhost:8080/"
    },
    "executionInfo": {
     "elapsed": 57,
     "status": "ok",
     "timestamp": 1740710762947,
     "user": {
      "displayName": "Seddik Ghoumari",
      "userId": "14657520186002990347"
     },
     "user_tz": -60
    },
    "id": "0TeKajUGceRY",
    "outputId": "76366b63-5be8-4992-e3e6-0c423832509a"
   },
   "outputs": [
    {
     "data": {
      "text/plain": [
       "{'accuracy': [0.8524251580238342,\n",
       "  0.8712590336799622,\n",
       "  0.8880289196968079,\n",
       "  0.9037667512893677,\n",
       "  0.9117646813392639,\n",
       "  0.9192466735839844,\n",
       "  0.9272446036338806,\n",
       "  0.9218266010284424,\n",
       "  0.9238905906677246,\n",
       "  0.9280185699462891,\n",
       "  0.9277606010437012,\n",
       "  0.9303405284881592,\n",
       "  0.9308565258979797,\n",
       "  0.9334365129470825,\n",
       "  0.9352425336837769,\n",
       "  0.9360164999961853,\n",
       "  0.9311145544052124,\n",
       "  0.9349845051765442,\n",
       "  0.9352425336837769,\n",
       "  0.9370484948158264,\n",
       "  0.9401444792747498,\n",
       "  0.9383385181427002,\n",
       "  0.9401444792747498,\n",
       "  0.9344685077667236,\n",
       "  0.9401444792747498,\n",
       "  0.9334365129470825,\n",
       "  0.9391124844551086,\n",
       "  0.9378225207328796,\n",
       "  0.9383385181427002,\n",
       "  0.9347265362739563,\n",
       "  0.9355005025863647,\n",
       "  0.9357585310935974,\n",
       "  0.9334365129470825,\n",
       "  0.936274528503418,\n",
       "  0.9385964870452881,\n",
       "  0.9373065233230591,\n",
       "  0.9393705129623413,\n",
       "  0.9411764740943909,\n",
       "  0.9416924715042114,\n",
       "  0.9429824352264404,\n",
       "  0.9391124844551086,\n",
       "  0.9401444792747498,\n",
       "  0.9406604766845703,\n",
       "  0.9432404637336731,\n",
       "  0.9409184455871582,\n",
       "  0.9378225207328796,\n",
       "  0.9416924715042114,\n",
       "  0.9355005025863647,\n",
       "  0.9414344429969788,\n",
       "  0.9373065233230591],\n",
       " 'loss': [0.3970429599285126,\n",
       "  0.31244876980781555,\n",
       "  0.2706124484539032,\n",
       "  0.2524787187576294,\n",
       "  0.23631072044372559,\n",
       "  0.2222086489200592,\n",
       "  0.21139569580554962,\n",
       "  0.2136259824037552,\n",
       "  0.20852501690387726,\n",
       "  0.2047787606716156,\n",
       "  0.19802141189575195,\n",
       "  0.19318290054798126,\n",
       "  0.18720947206020355,\n",
       "  0.18966683745384216,\n",
       "  0.1897643357515335,\n",
       "  0.18007083237171173,\n",
       "  0.18303461372852325,\n",
       "  0.17932365834712982,\n",
       "  0.1842770278453827,\n",
       "  0.17335526645183563,\n",
       "  0.1764403134584427,\n",
       "  0.17944036424160004,\n",
       "  0.175206258893013,\n",
       "  0.18273672461509705,\n",
       "  0.17333246767520905,\n",
       "  0.174777552485466,\n",
       "  0.17080996930599213,\n",
       "  0.17154811322689056,\n",
       "  0.1676829308271408,\n",
       "  0.17289996147155762,\n",
       "  0.17623640596866608,\n",
       "  0.17289313673973083,\n",
       "  0.17609088122844696,\n",
       "  0.1711004376411438,\n",
       "  0.17023630440235138,\n",
       "  0.16926373541355133,\n",
       "  0.16815200448036194,\n",
       "  0.16984574496746063,\n",
       "  0.16102156043052673,\n",
       "  0.16120858490467072,\n",
       "  0.16806557774543762,\n",
       "  0.1709544062614441,\n",
       "  0.16583053767681122,\n",
       "  0.16503101587295532,\n",
       "  0.1649707704782486,\n",
       "  0.17215394973754883,\n",
       "  0.16438059508800507,\n",
       "  0.1691276729106903,\n",
       "  0.16283154487609863,\n",
       "  0.17071786522865295],\n",
       " 'precision': [0.8529797792434692,\n",
       "  0.870909571647644,\n",
       "  0.8878600597381592,\n",
       "  0.901002824306488,\n",
       "  0.9105628132820129,\n",
       "  0.9193298816680908,\n",
       "  0.9267286062240601,\n",
       "  0.9205451011657715,\n",
       "  0.923750638961792,\n",
       "  0.9272820949554443,\n",
       "  0.9282580614089966,\n",
       "  0.9300283789634705,\n",
       "  0.9302265644073486,\n",
       "  0.9332129955291748,\n",
       "  0.9345192313194275,\n",
       "  0.9369997382164001,\n",
       "  0.9310789704322815,\n",
       "  0.9346759915351868,\n",
       "  0.9355005025863647,\n",
       "  0.9367905259132385,\n",
       "  0.9389647245407104,\n",
       "  0.9378225207328796,\n",
       "  0.9399020075798035,\n",
       "  0.9342105388641357,\n",
       "  0.9396440386772156,\n",
       "  0.9331957697868347,\n",
       "  0.9391124844551086,\n",
       "  0.9375805854797363,\n",
       "  0.9385806322097778,\n",
       "  0.934934139251709,\n",
       "  0.9355005025863647,\n",
       "  0.9359834790229797,\n",
       "  0.9331613183021545,\n",
       "  0.9353092908859253,\n",
       "  0.9388229250907898,\n",
       "  0.9375161528587341,\n",
       "  0.9391595721244812,\n",
       "  0.9412068128585815,\n",
       "  0.9416773915290833,\n",
       "  0.9429971575737,\n",
       "  0.9391438961029053,\n",
       "  0.9401290416717529,\n",
       "  0.9404485821723938,\n",
       "  0.9429971575737,\n",
       "  0.9414495825767517,\n",
       "  0.9383385181427002,\n",
       "  0.9419205188751221,\n",
       "  0.9354672431945801,\n",
       "  0.9414042234420776,\n",
       "  0.937564492225647],\n",
       " 'recall': [0.8382353186607361,\n",
       "  0.8720329999923706,\n",
       "  0.8906088471412659,\n",
       "  0.9040247797966003,\n",
       "  0.9140866994857788,\n",
       "  0.9202786087989807,\n",
       "  0.9267286062240601,\n",
       "  0.9236326217651367,\n",
       "  0.9251806139945984,\n",
       "  0.9277606010437012,\n",
       "  0.9280185699462891,\n",
       "  0.9293085932731628,\n",
       "  0.9321465492248535,\n",
       "  0.9336945414543152,\n",
       "  0.9352425336837769,\n",
       "  0.936274528503418,\n",
       "  0.9305985569953918,\n",
       "  0.9339525103569031,\n",
       "  0.9355005025863647,\n",
       "  0.9367905259132385,\n",
       "  0.9406604766845703,\n",
       "  0.9378225207328796,\n",
       "  0.9401444792747498,\n",
       "  0.9342105388641357,\n",
       "  0.9398865103721619,\n",
       "  0.9334365129470825,\n",
       "  0.9391124844551086,\n",
       "  0.9378225207328796,\n",
       "  0.9383385181427002,\n",
       "  0.9342105388641357,\n",
       "  0.9355005025863647,\n",
       "  0.9355005025863647,\n",
       "  0.932920515537262,\n",
       "  0.936274528503418,\n",
       "  0.9383385181427002,\n",
       "  0.9367905259132385,\n",
       "  0.9398865103721619,\n",
       "  0.9416924715042114,\n",
       "  0.9414344429969788,\n",
       "  0.9432404637336731,\n",
       "  0.9396284818649292,\n",
       "  0.9398865103721619,\n",
       "  0.9411764740943909,\n",
       "  0.9432404637336731,\n",
       "  0.9416924715042114,\n",
       "  0.9383385181427002,\n",
       "  0.9414344429969788,\n",
       "  0.9349845051765442,\n",
       "  0.9409184455871582,\n",
       "  0.937564492225647],\n",
       " 'val_accuracy': [0.8692961931228638,\n",
       "  0.8832173347473145,\n",
       "  0.8979118466377258,\n",
       "  0.911059558391571,\n",
       "  0.9126063585281372,\n",
       "  0.9218870997428894,\n",
       "  0.9234338998794556,\n",
       "  0.9280742406845093,\n",
       "  0.9303944110870361,\n",
       "  0.9350348114967346,\n",
       "  0.9334880113601685,\n",
       "  0.9365816116333008,\n",
       "  0.9381284117698669,\n",
       "  0.9381284117698669,\n",
       "  0.9404485821723938,\n",
       "  0.9365816116333008,\n",
       "  0.9389017820358276,\n",
       "  0.9373549818992615,\n",
       "  0.9404485821723938,\n",
       "  0.9396751523017883,\n",
       "  0.9381284117698669,\n",
       "  0.9412219524383545,\n",
       "  0.9412219524383545,\n",
       "  0.9412219524383545,\n",
       "  0.9435421228408813,\n",
       "  0.9443155527114868,\n",
       "  0.9427687525749207,\n",
       "  0.9435421228408813,\n",
       "  0.9443155527114868,\n",
       "  0.9450889229774475,\n",
       "  0.945862352848053,\n",
       "  0.9427687525749207,\n",
       "  0.9443155527114868,\n",
       "  0.9466357231140137,\n",
       "  0.9474091529846191,\n",
       "  0.9435421228408813,\n",
       "  0.9466357231140137,\n",
       "  0.9450889229774475,\n",
       "  0.945862352848053,\n",
       "  0.945862352848053,\n",
       "  0.9466357231140137,\n",
       "  0.9481825232505798,\n",
       "  0.9481825232505798,\n",
       "  0.9474091529846191,\n",
       "  0.9474091529846191,\n",
       "  0.9474091529846191,\n",
       "  0.9505026936531067,\n",
       "  0.9481825232505798,\n",
       "  0.949729323387146,\n",
       "  0.949729323387146],\n",
       " 'val_loss': [0.34219247102737427,\n",
       "  0.292411744594574,\n",
       "  0.2617167532444,\n",
       "  0.2420298308134079,\n",
       "  0.22880007326602936,\n",
       "  0.21676956117153168,\n",
       "  0.20843009650707245,\n",
       "  0.2011014223098755,\n",
       "  0.19588719308376312,\n",
       "  0.1909397691488266,\n",
       "  0.18733111023902893,\n",
       "  0.18304675817489624,\n",
       "  0.1788419932126999,\n",
       "  0.1757693588733673,\n",
       "  0.1716025322675705,\n",
       "  0.17104515433311462,\n",
       "  0.16736751794815063,\n",
       "  0.16647440195083618,\n",
       "  0.16343732178211212,\n",
       "  0.16220754384994507,\n",
       "  0.1624811589717865,\n",
       "  0.158090740442276,\n",
       "  0.15676763653755188,\n",
       "  0.15555380284786224,\n",
       "  0.15357963740825653,\n",
       "  0.15258388221263885,\n",
       "  0.1517466902732849,\n",
       "  0.15088677406311035,\n",
       "  0.15037645399570465,\n",
       "  0.14850644767284393,\n",
       "  0.14773882925510406,\n",
       "  0.14756834506988525,\n",
       "  0.14718130230903625,\n",
       "  0.1456439048051834,\n",
       "  0.1448485106229782,\n",
       "  0.14484712481498718,\n",
       "  0.14343661069869995,\n",
       "  0.1437457650899887,\n",
       "  0.1429155319929123,\n",
       "  0.14288897812366486,\n",
       "  0.1426902860403061,\n",
       "  0.14151440560817719,\n",
       "  0.14127767086029053,\n",
       "  0.13920336961746216,\n",
       "  0.13946586847305298,\n",
       "  0.14047709107398987,\n",
       "  0.13927708566188812,\n",
       "  0.13763228058815002,\n",
       "  0.13842764496803284,\n",
       "  0.13822481036186218],\n",
       " 'val_precision': [0.8690937161445618,\n",
       "  0.8822171092033386,\n",
       "  0.8974556922912598,\n",
       "  0.908531904220581,\n",
       "  0.9113338589668274,\n",
       "  0.9204018712043762,\n",
       "  0.9240898489952087,\n",
       "  0.9280742406845093,\n",
       "  0.929729700088501,\n",
       "  0.9335907101631165,\n",
       "  0.9327146410942078,\n",
       "  0.9365324974060059,\n",
       "  0.9373065233230591,\n",
       "  0.9374033808708191,\n",
       "  0.9397217631340027,\n",
       "  0.9365816116333008,\n",
       "  0.9374517202377319,\n",
       "  0.9374033808708191,\n",
       "  0.9404485821723938,\n",
       "  0.9390432238578796,\n",
       "  0.9381284117698669,\n",
       "  0.9412673711776733,\n",
       "  0.9412673711776733,\n",
       "  0.9412673711776733,\n",
       "  0.9427687525749207,\n",
       "  0.9435857534408569,\n",
       "  0.943498432636261,\n",
       "  0.9435421228408813,\n",
       "  0.9443155527114868,\n",
       "  0.9451737403869629,\n",
       "  0.945862352848053,\n",
       "  0.9427687525749207,\n",
       "  0.9443155527114868,\n",
       "  0.9444872736930847,\n",
       "  0.9466769695281982,\n",
       "  0.9435421228408813,\n",
       "  0.9466769695281982,\n",
       "  0.9450889229774475,\n",
       "  0.9459041953086853,\n",
       "  0.9459041953086853,\n",
       "  0.9459041953086853,\n",
       "  0.948142409324646,\n",
       "  0.9481825232505798,\n",
       "  0.9474091529846191,\n",
       "  0.9474091529846191,\n",
       "  0.9474497437477112,\n",
       "  0.9505026936531067,\n",
       "  0.9481825232505798,\n",
       "  0.949729323387146,\n",
       "  0.949729323387146],\n",
       " 'val_recall': [0.8677493929862976,\n",
       "  0.886310875415802,\n",
       "  0.9002320170402527,\n",
       "  0.9141531586647034,\n",
       "  0.9141531586647034,\n",
       "  0.9211136698722839,\n",
       "  0.9226604700088501,\n",
       "  0.9280742406845093,\n",
       "  0.9311678409576416,\n",
       "  0.9350348114967346,\n",
       "  0.9327146410942078,\n",
       "  0.9358081817626953,\n",
       "  0.9365816116333008,\n",
       "  0.9381284117698669,\n",
       "  0.9404485821723938,\n",
       "  0.9365816116333008,\n",
       "  0.9389017820358276,\n",
       "  0.9381284117698669,\n",
       "  0.9404485821723938,\n",
       "  0.9412219524383545,\n",
       "  0.9381284117698669,\n",
       "  0.94199538230896,\n",
       "  0.94199538230896,\n",
       "  0.94199538230896,\n",
       "  0.9427687525749207,\n",
       "  0.9443155527114868,\n",
       "  0.9427687525749207,\n",
       "  0.9435421228408813,\n",
       "  0.9443155527114868,\n",
       "  0.9466357231140137,\n",
       "  0.945862352848053,\n",
       "  0.9427687525749207,\n",
       "  0.9443155527114868,\n",
       "  0.9474091529846191,\n",
       "  0.9474091529846191,\n",
       "  0.9435421228408813,\n",
       "  0.9474091529846191,\n",
       "  0.9450889229774475,\n",
       "  0.9466357231140137,\n",
       "  0.9466357231140137,\n",
       "  0.9466357231140137,\n",
       "  0.9474091529846191,\n",
       "  0.9481825232505798,\n",
       "  0.9474091529846191,\n",
       "  0.9474091529846191,\n",
       "  0.9481825232505798,\n",
       "  0.9505026936531067,\n",
       "  0.9481825232505798,\n",
       "  0.949729323387146,\n",
       "  0.949729323387146]}"
      ]
     },
     "execution_count": 18,
     "metadata": {},
     "output_type": "execute_result"
    }
   ],
   "source": [
    "history.history"
   ]
  },
  {
   "cell_type": "code",
   "execution_count": 17,
   "metadata": {
    "colab": {
     "base_uri": "https://localhost:8080/",
     "height": 465
    },
    "executionInfo": {
     "elapsed": 33,
     "status": "ok",
     "timestamp": 1740706019351,
     "user": {
      "displayName": "Seddik Ghoumari",
      "userId": "14657520186002990347"
     },
     "user_tz": -60
    },
    "id": "WjGOiSZCZYFi",
    "outputId": "a51fe741-a609-46e5-d361-f4f975deb26f"
   },
   "outputs": [
    {
     "data": {
      "text/html": [
       "<pre style=\"white-space:pre;overflow-x:auto;line-height:normal;font-family:Menlo,'DejaVu Sans Mono',consolas,'Courier New',monospace\"><span style=\"font-weight: bold\">Preprocessor: \"bert_preprocessor_2\"</span>\n",
       "</pre>\n"
      ],
      "text/plain": [
       "\u001b[1mPreprocessor: \"bert_preprocessor_2\"\u001b[0m\n"
      ]
     },
     "metadata": {},
     "output_type": "display_data"
    },
    {
     "data": {
      "text/html": [
       "<pre style=\"white-space:pre;overflow-x:auto;line-height:normal;font-family:Menlo,'DejaVu Sans Mono',consolas,'Courier New',monospace\">┏━━━━━━━━━━━━━━━━━━━━━━━━━━━━━━━━━━━━━━━━━━━━━━━━━━━━━━━━━━━━━━━┳━━━━━━━━━━━━━━━━━━━━━━━━━━━━━━━━━━━━━━━━━━┓\n",
       "┃<span style=\"font-weight: bold\"> Layer (type)                                                  </span>┃<span style=\"font-weight: bold\">                                   Config </span>┃\n",
       "┡━━━━━━━━━━━━━━━━━━━━━━━━━━━━━━━━━━━━━━━━━━━━━━━━━━━━━━━━━━━━━━━╇━━━━━━━━━━━━━━━━━━━━━━━━━━━━━━━━━━━━━━━━━━┩\n",
       "│ bert_tokenizer (<span style=\"color: #0087ff; text-decoration-color: #0087ff\">BertTokenizer</span>)                                │                       Vocab size: <span style=\"color: #00af00; text-decoration-color: #00af00\">30,522</span> │\n",
       "└───────────────────────────────────────────────────────────────┴──────────────────────────────────────────┘\n",
       "</pre>\n"
      ],
      "text/plain": [
       "┏━━━━━━━━━━━━━━━━━━━━━━━━━━━━━━━━━━━━━━━━━━━━━━━━━━━━━━━━━━━━━━━┳━━━━━━━━━━━━━━━━━━━━━━━━━━━━━━━━━━━━━━━━━━┓\n",
       "┃\u001b[1m \u001b[0m\u001b[1mLayer (type)                                                 \u001b[0m\u001b[1m \u001b[0m┃\u001b[1m \u001b[0m\u001b[1m                                  Config\u001b[0m\u001b[1m \u001b[0m┃\n",
       "┡━━━━━━━━━━━━━━━━━━━━━━━━━━━━━━━━━━━━━━━━━━━━━━━━━━━━━━━━━━━━━━━╇━━━━━━━━━━━━━━━━━━━━━━━━━━━━━━━━━━━━━━━━━━┩\n",
       "│ bert_tokenizer (\u001b[38;5;33mBertTokenizer\u001b[0m)                                │                       Vocab size: \u001b[38;5;34m30,522\u001b[0m │\n",
       "└───────────────────────────────────────────────────────────────┴──────────────────────────────────────────┘\n"
      ]
     },
     "metadata": {},
     "output_type": "display_data"
    },
    {
     "data": {
      "text/html": [
       "<pre style=\"white-space:pre;overflow-x:auto;line-height:normal;font-family:Menlo,'DejaVu Sans Mono',consolas,'Courier New',monospace\"><span style=\"font-weight: bold\">Model: \"bert_classifier_2\"</span>\n",
       "</pre>\n"
      ],
      "text/plain": [
       "\u001b[1mModel: \"bert_classifier_2\"\u001b[0m\n"
      ]
     },
     "metadata": {},
     "output_type": "display_data"
    },
    {
     "data": {
      "text/html": [
       "<pre style=\"white-space:pre;overflow-x:auto;line-height:normal;font-family:Menlo,'DejaVu Sans Mono',consolas,'Courier New',monospace\">┏━━━━━━━━━━━━━━━━━━━━━━━━━━━━━━━┳━━━━━━━━━━━━━━━━━━━━━━━━━━━┳━━━━━━━━━━━━━━━━━┳━━━━━━━━━━━━━━━━━━━━━━━━━━━━┓\n",
       "┃<span style=\"font-weight: bold\"> Layer (type)                  </span>┃<span style=\"font-weight: bold\"> Output Shape              </span>┃<span style=\"font-weight: bold\">         Param # </span>┃<span style=\"font-weight: bold\"> Connected to               </span>┃\n",
       "┡━━━━━━━━━━━━━━━━━━━━━━━━━━━━━━━╇━━━━━━━━━━━━━━━━━━━━━━━━━━━╇━━━━━━━━━━━━━━━━━╇━━━━━━━━━━━━━━━━━━━━━━━━━━━━┩\n",
       "│ padding_mask (<span style=\"color: #0087ff; text-decoration-color: #0087ff\">InputLayer</span>)     │ (<span style=\"color: #00d7ff; text-decoration-color: #00d7ff\">None</span>, <span style=\"color: #00d7ff; text-decoration-color: #00d7ff\">None</span>)              │               <span style=\"color: #00af00; text-decoration-color: #00af00\">0</span> │ -                          │\n",
       "├───────────────────────────────┼───────────────────────────┼─────────────────┼────────────────────────────┤\n",
       "│ segment_ids (<span style=\"color: #0087ff; text-decoration-color: #0087ff\">InputLayer</span>)      │ (<span style=\"color: #00d7ff; text-decoration-color: #00d7ff\">None</span>, <span style=\"color: #00d7ff; text-decoration-color: #00d7ff\">None</span>)              │               <span style=\"color: #00af00; text-decoration-color: #00af00\">0</span> │ -                          │\n",
       "├───────────────────────────────┼───────────────────────────┼─────────────────┼────────────────────────────┤\n",
       "│ token_ids (<span style=\"color: #0087ff; text-decoration-color: #0087ff\">InputLayer</span>)        │ (<span style=\"color: #00d7ff; text-decoration-color: #00d7ff\">None</span>, <span style=\"color: #00d7ff; text-decoration-color: #00d7ff\">None</span>)              │               <span style=\"color: #00af00; text-decoration-color: #00af00\">0</span> │ -                          │\n",
       "├───────────────────────────────┼───────────────────────────┼─────────────────┼────────────────────────────┤\n",
       "│ bert_backbone (<span style=\"color: #0087ff; text-decoration-color: #0087ff\">BertBackbone</span>)  │ [(<span style=\"color: #00d7ff; text-decoration-color: #00d7ff\">None</span>, <span style=\"color: #00af00; text-decoration-color: #00af00\">128</span>), (<span style=\"color: #00d7ff; text-decoration-color: #00d7ff\">None</span>,      │       <span style=\"color: #00af00; text-decoration-color: #00af00\">4,385,920</span> │ padding_mask[<span style=\"color: #00af00; text-decoration-color: #00af00\">0</span>][<span style=\"color: #00af00; text-decoration-color: #00af00\">0</span>],        │\n",
       "│                               │ <span style=\"color: #00d7ff; text-decoration-color: #00d7ff\">None</span>, <span style=\"color: #00af00; text-decoration-color: #00af00\">128</span>)]               │                 │ segment_ids[<span style=\"color: #00af00; text-decoration-color: #00af00\">0</span>][<span style=\"color: #00af00; text-decoration-color: #00af00\">0</span>],         │\n",
       "│                               │                           │                 │ token_ids[<span style=\"color: #00af00; text-decoration-color: #00af00\">0</span>][<span style=\"color: #00af00; text-decoration-color: #00af00\">0</span>]            │\n",
       "├───────────────────────────────┼───────────────────────────┼─────────────────┼────────────────────────────┤\n",
       "│ classifier_dropout (<span style=\"color: #0087ff; text-decoration-color: #0087ff\">Dropout</span>)  │ (<span style=\"color: #00d7ff; text-decoration-color: #00d7ff\">None</span>, <span style=\"color: #00af00; text-decoration-color: #00af00\">128</span>)               │               <span style=\"color: #00af00; text-decoration-color: #00af00\">0</span> │ bert_backbone[<span style=\"color: #00af00; text-decoration-color: #00af00\">0</span>][<span style=\"color: #00af00; text-decoration-color: #00af00\">0</span>]        │\n",
       "├───────────────────────────────┼───────────────────────────┼─────────────────┼────────────────────────────┤\n",
       "│ logits (<span style=\"color: #0087ff; text-decoration-color: #0087ff\">Dense</span>)                │ (<span style=\"color: #00d7ff; text-decoration-color: #00d7ff\">None</span>, <span style=\"color: #00af00; text-decoration-color: #00af00\">2</span>)                 │             <span style=\"color: #00af00; text-decoration-color: #00af00\">258</span> │ classifier_dropout[<span style=\"color: #00af00; text-decoration-color: #00af00\">0</span>][<span style=\"color: #00af00; text-decoration-color: #00af00\">0</span>]   │\n",
       "└───────────────────────────────┴───────────────────────────┴─────────────────┴────────────────────────────┘\n",
       "</pre>\n"
      ],
      "text/plain": [
       "┏━━━━━━━━━━━━━━━━━━━━━━━━━━━━━━━┳━━━━━━━━━━━━━━━━━━━━━━━━━━━┳━━━━━━━━━━━━━━━━━┳━━━━━━━━━━━━━━━━━━━━━━━━━━━━┓\n",
       "┃\u001b[1m \u001b[0m\u001b[1mLayer (type)                 \u001b[0m\u001b[1m \u001b[0m┃\u001b[1m \u001b[0m\u001b[1mOutput Shape             \u001b[0m\u001b[1m \u001b[0m┃\u001b[1m \u001b[0m\u001b[1m        Param #\u001b[0m\u001b[1m \u001b[0m┃\u001b[1m \u001b[0m\u001b[1mConnected to              \u001b[0m\u001b[1m \u001b[0m┃\n",
       "┡━━━━━━━━━━━━━━━━━━━━━━━━━━━━━━━╇━━━━━━━━━━━━━━━━━━━━━━━━━━━╇━━━━━━━━━━━━━━━━━╇━━━━━━━━━━━━━━━━━━━━━━━━━━━━┩\n",
       "│ padding_mask (\u001b[38;5;33mInputLayer\u001b[0m)     │ (\u001b[38;5;45mNone\u001b[0m, \u001b[38;5;45mNone\u001b[0m)              │               \u001b[38;5;34m0\u001b[0m │ -                          │\n",
       "├───────────────────────────────┼───────────────────────────┼─────────────────┼────────────────────────────┤\n",
       "│ segment_ids (\u001b[38;5;33mInputLayer\u001b[0m)      │ (\u001b[38;5;45mNone\u001b[0m, \u001b[38;5;45mNone\u001b[0m)              │               \u001b[38;5;34m0\u001b[0m │ -                          │\n",
       "├───────────────────────────────┼───────────────────────────┼─────────────────┼────────────────────────────┤\n",
       "│ token_ids (\u001b[38;5;33mInputLayer\u001b[0m)        │ (\u001b[38;5;45mNone\u001b[0m, \u001b[38;5;45mNone\u001b[0m)              │               \u001b[38;5;34m0\u001b[0m │ -                          │\n",
       "├───────────────────────────────┼───────────────────────────┼─────────────────┼────────────────────────────┤\n",
       "│ bert_backbone (\u001b[38;5;33mBertBackbone\u001b[0m)  │ [(\u001b[38;5;45mNone\u001b[0m, \u001b[38;5;34m128\u001b[0m), (\u001b[38;5;45mNone\u001b[0m,      │       \u001b[38;5;34m4,385,920\u001b[0m │ padding_mask[\u001b[38;5;34m0\u001b[0m][\u001b[38;5;34m0\u001b[0m],        │\n",
       "│                               │ \u001b[38;5;45mNone\u001b[0m, \u001b[38;5;34m128\u001b[0m)]               │                 │ segment_ids[\u001b[38;5;34m0\u001b[0m][\u001b[38;5;34m0\u001b[0m],         │\n",
       "│                               │                           │                 │ token_ids[\u001b[38;5;34m0\u001b[0m][\u001b[38;5;34m0\u001b[0m]            │\n",
       "├───────────────────────────────┼───────────────────────────┼─────────────────┼────────────────────────────┤\n",
       "│ classifier_dropout (\u001b[38;5;33mDropout\u001b[0m)  │ (\u001b[38;5;45mNone\u001b[0m, \u001b[38;5;34m128\u001b[0m)               │               \u001b[38;5;34m0\u001b[0m │ bert_backbone[\u001b[38;5;34m0\u001b[0m][\u001b[38;5;34m0\u001b[0m]        │\n",
       "├───────────────────────────────┼───────────────────────────┼─────────────────┼────────────────────────────┤\n",
       "│ logits (\u001b[38;5;33mDense\u001b[0m)                │ (\u001b[38;5;45mNone\u001b[0m, \u001b[38;5;34m2\u001b[0m)                 │             \u001b[38;5;34m258\u001b[0m │ classifier_dropout[\u001b[38;5;34m0\u001b[0m][\u001b[38;5;34m0\u001b[0m]   │\n",
       "└───────────────────────────────┴───────────────────────────┴─────────────────┴────────────────────────────┘\n"
      ]
     },
     "metadata": {},
     "output_type": "display_data"
    },
    {
     "data": {
      "text/html": [
       "<pre style=\"white-space:pre;overflow-x:auto;line-height:normal;font-family:Menlo,'DejaVu Sans Mono',consolas,'Courier New',monospace\"><span style=\"font-weight: bold\"> Total params: </span><span style=\"color: #00af00; text-decoration-color: #00af00\">4,386,696</span> (16.73 MB)\n",
       "</pre>\n"
      ],
      "text/plain": [
       "\u001b[1m Total params: \u001b[0m\u001b[38;5;34m4,386,696\u001b[0m (16.73 MB)\n"
      ]
     },
     "metadata": {},
     "output_type": "display_data"
    },
    {
     "data": {
      "text/html": [
       "<pre style=\"white-space:pre;overflow-x:auto;line-height:normal;font-family:Menlo,'DejaVu Sans Mono',consolas,'Courier New',monospace\"><span style=\"font-weight: bold\"> Trainable params: </span><span style=\"color: #00af00; text-decoration-color: #00af00\">258</span> (1.01 KB)\n",
       "</pre>\n"
      ],
      "text/plain": [
       "\u001b[1m Trainable params: \u001b[0m\u001b[38;5;34m258\u001b[0m (1.01 KB)\n"
      ]
     },
     "metadata": {},
     "output_type": "display_data"
    },
    {
     "data": {
      "text/html": [
       "<pre style=\"white-space:pre;overflow-x:auto;line-height:normal;font-family:Menlo,'DejaVu Sans Mono',consolas,'Courier New',monospace\"><span style=\"font-weight: bold\"> Non-trainable params: </span><span style=\"color: #00af00; text-decoration-color: #00af00\">4,385,920</span> (16.73 MB)\n",
       "</pre>\n"
      ],
      "text/plain": [
       "\u001b[1m Non-trainable params: \u001b[0m\u001b[38;5;34m4,385,920\u001b[0m (16.73 MB)\n"
      ]
     },
     "metadata": {},
     "output_type": "display_data"
    },
    {
     "data": {
      "text/html": [
       "<pre style=\"white-space:pre;overflow-x:auto;line-height:normal;font-family:Menlo,'DejaVu Sans Mono',consolas,'Courier New',monospace\"><span style=\"font-weight: bold\"> Optimizer params: </span><span style=\"color: #00af00; text-decoration-color: #00af00\">518</span> (2.03 KB)\n",
       "</pre>\n"
      ],
      "text/plain": [
       "\u001b[1m Optimizer params: \u001b[0m\u001b[38;5;34m518\u001b[0m (2.03 KB)\n"
      ]
     },
     "metadata": {},
     "output_type": "display_data"
    }
   ],
   "source": [
    "classifier.summary()"
   ]
  }
 ],
 "metadata": {
  "colab": {
   "authorship_tag": "ABX9TyO/0GjUjc5nkV3/NGDv2jHJ",
   "provenance": [
    {
     "file_id": "1RRFBrl0om21NFe2LGqLHd7DYpID4mjf8",
     "timestamp": 1740696143758
    }
   ]
  },
  "kernelspec": {
   "display_name": "Python 3",
   "name": "python3"
  },
  "language_info": {
   "name": "python"
  }
 },
 "nbformat": 4,
 "nbformat_minor": 0
}
