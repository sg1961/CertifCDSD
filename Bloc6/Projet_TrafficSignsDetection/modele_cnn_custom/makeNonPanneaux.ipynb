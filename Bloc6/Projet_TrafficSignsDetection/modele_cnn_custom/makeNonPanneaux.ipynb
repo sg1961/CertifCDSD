{
 "cells": [
  {
   "cell_type": "code",
   "execution_count": null,
   "id": "ddd9fcbe-e4cc-4ab3-87cb-f5a980b952a1",
   "metadata": {},
   "outputs": [],
   "source": [
    "# Module de génération d'images de \"non paneeaux\" pour le modele 1 (classification panneau ou non panneau\")\n",
    "\n",
    "import cv2\n",
    "import random\n",
    "import os\n",
    "\n",
    "\n",
    "panneau_shape = (64, 64)\n",
    "rep_non_panneaux = \"non_panneaux\"\n",
    "\n",
    "video = \"video/video01.mp4\"\n",
    "# extraction d'image d'une video d'extérieur aléatoire\n",
    "\n",
    "cap = cv2.VideoCapture(video)\n",
    "\n",
    "no_image = 0\n",
    "nombre_images = 100000\n",
    "\n",
    "nombre_images_par_frame = int(nombre_images / cap.get(cv2.CAP_PROP_FRAME_COUNT)) + 1\n",
    "\n",
    "while no_image < nombre_images :\n",
    "    resp, frame = cap.read()\n",
    "    if resp is False :\n",
    "        quit()\n",
    "    h, w, c = frame.shape\n",
    "\n",
    "    for _ in range(nombre_images_par_frame):\n",
    "        x = random.randint(0, w - panneau_shape[1])\n",
    "        y = random.randint(0, h - panneau_shape[0])\n",
    "        image = frame[y:y + panneau_shape[0], x:x + panneau_shape[1]]        \n",
    "        cv2.imwrite(rep_non_panneaux + \"/{:d}.png\".format(no_image), image)\n",
    "        no_image += 1"
   ]
  },
  {
   "cell_type": "code",
   "execution_count": null,
   "id": "25b4ea28-db81-4308-a528-719941548fb7",
   "metadata": {},
   "outputs": [],
   "source": []
  }
 ],
 "metadata": {
  "kernelspec": {
   "display_name": "Python 3 (ipykernel)",
   "language": "python",
   "name": "python3"
  },
  "language_info": {
   "codemirror_mode": {
    "name": "ipython",
    "version": 3
   },
   "file_extension": ".py",
   "mimetype": "text/x-python",
   "name": "python",
   "nbconvert_exporter": "python",
   "pygments_lexer": "ipython3",
   "version": "3.9.18"
  }
 },
 "nbformat": 4,
 "nbformat_minor": 5
}
